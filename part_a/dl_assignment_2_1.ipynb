{
  "metadata": {
    "colab": {
      "provenance": [],
      "gpuType": "T4",
      "include_colab_link": true
    },
    "kernelspec": {
      "name": "python3",
      "display_name": "Python 3",
      "language": "python"
    },
    "language_info": {
      "name": "python",
      "version": "3.10.13",
      "mimetype": "text/x-python",
      "codemirror_mode": {
        "name": "ipython",
        "version": 3
      },
      "pygments_lexer": "ipython3",
      "nbconvert_exporter": "python",
      "file_extension": ".py"
    },
    "accelerator": "GPU",
    "widgets": {
      "application/vnd.jupyter.widget-state+json": {
        "5301caf729fd49a7a5b11f77106bf48e": {
          "model_module": "@jupyter-widgets/controls",
          "model_name": "VBoxModel",
          "model_module_version": "1.5.0",
          "state": {
            "_dom_classes": [],
            "_model_module": "@jupyter-widgets/controls",
            "_model_module_version": "1.5.0",
            "_model_name": "VBoxModel",
            "_view_count": null,
            "_view_module": "@jupyter-widgets/controls",
            "_view_module_version": "1.5.0",
            "_view_name": "VBoxView",
            "box_style": "",
            "children": [
              "IPY_MODEL_1736613663834cac8c71ba4673741c7d",
              "IPY_MODEL_72d69903ede844af8ff60e9b297115ab"
            ],
            "layout": "IPY_MODEL_23f5b96ed7f64a8998517bc664d2365d"
          }
        },
        "1736613663834cac8c71ba4673741c7d": {
          "model_module": "@jupyter-widgets/controls",
          "model_name": "LabelModel",
          "model_module_version": "1.5.0",
          "state": {
            "_dom_classes": [],
            "_model_module": "@jupyter-widgets/controls",
            "_model_module_version": "1.5.0",
            "_model_name": "LabelModel",
            "_view_count": null,
            "_view_module": "@jupyter-widgets/controls",
            "_view_module_version": "1.5.0",
            "_view_name": "LabelView",
            "description": "",
            "description_tooltip": null,
            "layout": "IPY_MODEL_2961536000be4e12aae595d7738297bb",
            "placeholder": "​",
            "style": "IPY_MODEL_c0c43c1b473a4f408d72be8259642c7a",
            "value": "0.010 MB of 0.010 MB uploaded\r"
          }
        },
        "72d69903ede844af8ff60e9b297115ab": {
          "model_module": "@jupyter-widgets/controls",
          "model_name": "FloatProgressModel",
          "model_module_version": "1.5.0",
          "state": {
            "_dom_classes": [],
            "_model_module": "@jupyter-widgets/controls",
            "_model_module_version": "1.5.0",
            "_model_name": "FloatProgressModel",
            "_view_count": null,
            "_view_module": "@jupyter-widgets/controls",
            "_view_module_version": "1.5.0",
            "_view_name": "ProgressView",
            "bar_style": "",
            "description": "",
            "description_tooltip": null,
            "layout": "IPY_MODEL_777985e576a24767a368b71564de04dc",
            "max": 1,
            "min": 0,
            "orientation": "horizontal",
            "style": "IPY_MODEL_66e6b93452ff46d28bdb4877fce65cd5",
            "value": 1
          }
        },
        "23f5b96ed7f64a8998517bc664d2365d": {
          "model_module": "@jupyter-widgets/base",
          "model_name": "LayoutModel",
          "model_module_version": "1.2.0",
          "state": {
            "_model_module": "@jupyter-widgets/base",
            "_model_module_version": "1.2.0",
            "_model_name": "LayoutModel",
            "_view_count": null,
            "_view_module": "@jupyter-widgets/base",
            "_view_module_version": "1.2.0",
            "_view_name": "LayoutView",
            "align_content": null,
            "align_items": null,
            "align_self": null,
            "border": null,
            "bottom": null,
            "display": null,
            "flex": null,
            "flex_flow": null,
            "grid_area": null,
            "grid_auto_columns": null,
            "grid_auto_flow": null,
            "grid_auto_rows": null,
            "grid_column": null,
            "grid_gap": null,
            "grid_row": null,
            "grid_template_areas": null,
            "grid_template_columns": null,
            "grid_template_rows": null,
            "height": null,
            "justify_content": null,
            "justify_items": null,
            "left": null,
            "margin": null,
            "max_height": null,
            "max_width": null,
            "min_height": null,
            "min_width": null,
            "object_fit": null,
            "object_position": null,
            "order": null,
            "overflow": null,
            "overflow_x": null,
            "overflow_y": null,
            "padding": null,
            "right": null,
            "top": null,
            "visibility": null,
            "width": null
          }
        },
        "2961536000be4e12aae595d7738297bb": {
          "model_module": "@jupyter-widgets/base",
          "model_name": "LayoutModel",
          "model_module_version": "1.2.0",
          "state": {
            "_model_module": "@jupyter-widgets/base",
            "_model_module_version": "1.2.0",
            "_model_name": "LayoutModel",
            "_view_count": null,
            "_view_module": "@jupyter-widgets/base",
            "_view_module_version": "1.2.0",
            "_view_name": "LayoutView",
            "align_content": null,
            "align_items": null,
            "align_self": null,
            "border": null,
            "bottom": null,
            "display": null,
            "flex": null,
            "flex_flow": null,
            "grid_area": null,
            "grid_auto_columns": null,
            "grid_auto_flow": null,
            "grid_auto_rows": null,
            "grid_column": null,
            "grid_gap": null,
            "grid_row": null,
            "grid_template_areas": null,
            "grid_template_columns": null,
            "grid_template_rows": null,
            "height": null,
            "justify_content": null,
            "justify_items": null,
            "left": null,
            "margin": null,
            "max_height": null,
            "max_width": null,
            "min_height": null,
            "min_width": null,
            "object_fit": null,
            "object_position": null,
            "order": null,
            "overflow": null,
            "overflow_x": null,
            "overflow_y": null,
            "padding": null,
            "right": null,
            "top": null,
            "visibility": null,
            "width": null
          }
        },
        "c0c43c1b473a4f408d72be8259642c7a": {
          "model_module": "@jupyter-widgets/controls",
          "model_name": "DescriptionStyleModel",
          "model_module_version": "1.5.0",
          "state": {
            "_model_module": "@jupyter-widgets/controls",
            "_model_module_version": "1.5.0",
            "_model_name": "DescriptionStyleModel",
            "_view_count": null,
            "_view_module": "@jupyter-widgets/base",
            "_view_module_version": "1.2.0",
            "_view_name": "StyleView",
            "description_width": ""
          }
        },
        "777985e576a24767a368b71564de04dc": {
          "model_module": "@jupyter-widgets/base",
          "model_name": "LayoutModel",
          "model_module_version": "1.2.0",
          "state": {
            "_model_module": "@jupyter-widgets/base",
            "_model_module_version": "1.2.0",
            "_model_name": "LayoutModel",
            "_view_count": null,
            "_view_module": "@jupyter-widgets/base",
            "_view_module_version": "1.2.0",
            "_view_name": "LayoutView",
            "align_content": null,
            "align_items": null,
            "align_self": null,
            "border": null,
            "bottom": null,
            "display": null,
            "flex": null,
            "flex_flow": null,
            "grid_area": null,
            "grid_auto_columns": null,
            "grid_auto_flow": null,
            "grid_auto_rows": null,
            "grid_column": null,
            "grid_gap": null,
            "grid_row": null,
            "grid_template_areas": null,
            "grid_template_columns": null,
            "grid_template_rows": null,
            "height": null,
            "justify_content": null,
            "justify_items": null,
            "left": null,
            "margin": null,
            "max_height": null,
            "max_width": null,
            "min_height": null,
            "min_width": null,
            "object_fit": null,
            "object_position": null,
            "order": null,
            "overflow": null,
            "overflow_x": null,
            "overflow_y": null,
            "padding": null,
            "right": null,
            "top": null,
            "visibility": null,
            "width": null
          }
        },
        "66e6b93452ff46d28bdb4877fce65cd5": {
          "model_module": "@jupyter-widgets/controls",
          "model_name": "ProgressStyleModel",
          "model_module_version": "1.5.0",
          "state": {
            "_model_module": "@jupyter-widgets/controls",
            "_model_module_version": "1.5.0",
            "_model_name": "ProgressStyleModel",
            "_view_count": null,
            "_view_module": "@jupyter-widgets/base",
            "_view_module_version": "1.2.0",
            "_view_name": "StyleView",
            "bar_color": null,
            "description_width": ""
          }
        }
      }
    },
    "kaggle": {
      "accelerator": "none",
      "dataSources": [],
      "dockerImageVersionId": 30673,
      "isInternetEnabled": true,
      "language": "python",
      "sourceType": "notebook",
      "isGpuEnabled": false
    }
  },
  "nbformat_minor": 0,
  "nbformat": 4,
  "cells": [
    {
      "cell_type": "markdown",
      "metadata": {
        "id": "view-in-github",
        "colab_type": "text"
      },
      "source": [
        "<a href=\"https://colab.research.google.com/github/cs23m066/Assignment_2/blob/main/dl_assignment_2.ipynb\" target=\"_parent\"><img src=\"https://colab.research.google.com/assets/colab-badge.svg\" alt=\"Open In Colab\"/></a>"
      ]
    },
    {
      "cell_type": "code",
      "source": [
        "import torch\n",
        "from torchvision.datasets import ImageFolder\n",
        "import torchvision.transforms as transforms\n",
        "from torch.utils.data import Subset, DataLoader\n",
        "import torchvision\n",
        "import torch.nn as nn\n",
        "import torch.nn.functional as F\n",
        "from torch import optim\n",
        "from tqdm import tqdm\n",
        "from torch.utils.data import DataLoader\n",
        "from torchvision import datasets"
      ],
      "metadata": {
        "id": "3jThqkXDJIQ0",
        "execution": {
          "iopub.status.busy": "2024-04-04T06:44:23.668017Z",
          "iopub.execute_input": "2024-04-04T06:44:23.668681Z",
          "iopub.status.idle": "2024-04-04T06:44:27.136153Z",
          "shell.execute_reply.started": "2024-04-04T06:44:23.668645Z",
          "shell.execute_reply": "2024-04-04T06:44:27.135153Z"
        },
        "trusted": true
      },
      "execution_count": null,
      "outputs": []
    },
    {
      "cell_type": "code",
      "source": [
        "import math"
      ],
      "metadata": {
        "execution": {
          "iopub.status.busy": "2024-04-04T06:44:32.812388Z",
          "iopub.execute_input": "2024-04-04T06:44:32.812765Z",
          "iopub.status.idle": "2024-04-04T06:44:32.817493Z",
          "shell.execute_reply.started": "2024-04-04T06:44:32.812735Z",
          "shell.execute_reply": "2024-04-04T06:44:32.816364Z"
        },
        "trusted": true,
        "id": "v7rfONuIVZE2"
      },
      "execution_count": null,
      "outputs": []
    },
    {
      "cell_type": "code",
      "source": [
        "# !wget https://storage.googleapis.com/wandb_datasets/nature_12K.zip -O nature_12K.zip\n",
        "# !unzip -q nature_12K.zip"
      ],
      "metadata": {
        "trusted": true,
        "id": "fdzfqLrAVZE2"
      },
      "execution_count": null,
      "outputs": []
    },
    {
      "cell_type": "code",
      "source": [
        "# !rm nature_12K.zip"
      ],
      "metadata": {
        "trusted": true,
        "id": "qOzZyaRdVZE2"
      },
      "execution_count": null,
      "outputs": []
    },
    {
      "cell_type": "code",
      "source": [
        "!pip install wandb\n",
        "import wandb\n",
        "from wandb.keras import WandbCallback\n",
        "import socket\n",
        "socket.setdefaulttimeout(30)\n",
        "wandb.login()\n",
        "wandb.init(project ='DL_assignment_2')"
      ],
      "metadata": {
        "colab": {
          "base_uri": "https://localhost:8080/",
          "height": 812
        },
        "id": "NCprfCfLdHvK",
        "outputId": "26c8415f-1f62-4e2b-b17d-69c417371e57",
        "execution": {
          "iopub.status.busy": "2024-04-04T06:44:39.728866Z",
          "iopub.execute_input": "2024-04-04T06:44:39.729730Z",
          "iopub.status.idle": "2024-04-04T06:45:28.762724Z",
          "shell.execute_reply.started": "2024-04-04T06:44:39.729692Z",
          "shell.execute_reply": "2024-04-04T06:45:28.761687Z"
        },
        "trusted": true
      },
      "execution_count": null,
      "outputs": [
        {
          "name": "stdout",
          "text": "Requirement already satisfied: wandb in /opt/conda/lib/python3.10/site-packages (0.16.4)\nRequirement already satisfied: Click!=8.0.0,>=7.1 in /opt/conda/lib/python3.10/site-packages (from wandb) (8.1.7)\nRequirement already satisfied: GitPython!=3.1.29,>=1.0.0 in /opt/conda/lib/python3.10/site-packages (from wandb) (3.1.41)\nRequirement already satisfied: requests<3,>=2.0.0 in /opt/conda/lib/python3.10/site-packages (from wandb) (2.31.0)\nRequirement already satisfied: psutil>=5.0.0 in /opt/conda/lib/python3.10/site-packages (from wandb) (5.9.3)\nRequirement already satisfied: sentry-sdk>=1.0.0 in /opt/conda/lib/python3.10/site-packages (from wandb) (1.42.0)\nRequirement already satisfied: docker-pycreds>=0.4.0 in /opt/conda/lib/python3.10/site-packages (from wandb) (0.4.0)\nRequirement already satisfied: PyYAML in /opt/conda/lib/python3.10/site-packages (from wandb) (6.0.1)\nRequirement already satisfied: setproctitle in /opt/conda/lib/python3.10/site-packages (from wandb) (1.3.3)\nRequirement already satisfied: setuptools in /opt/conda/lib/python3.10/site-packages (from wandb) (69.0.3)\nRequirement already satisfied: appdirs>=1.4.3 in /opt/conda/lib/python3.10/site-packages (from wandb) (1.4.4)\nRequirement already satisfied: protobuf!=4.21.0,<5,>=3.19.0 in /opt/conda/lib/python3.10/site-packages (from wandb) (3.20.3)\nRequirement already satisfied: six>=1.4.0 in /opt/conda/lib/python3.10/site-packages (from docker-pycreds>=0.4.0->wandb) (1.16.0)\nRequirement already satisfied: gitdb<5,>=4.0.1 in /opt/conda/lib/python3.10/site-packages (from GitPython!=3.1.29,>=1.0.0->wandb) (4.0.11)\nRequirement already satisfied: charset-normalizer<4,>=2 in /opt/conda/lib/python3.10/site-packages (from requests<3,>=2.0.0->wandb) (3.3.2)\nRequirement already satisfied: idna<4,>=2.5 in /opt/conda/lib/python3.10/site-packages (from requests<3,>=2.0.0->wandb) (3.6)\nRequirement already satisfied: urllib3<3,>=1.21.1 in /opt/conda/lib/python3.10/site-packages (from requests<3,>=2.0.0->wandb) (1.26.18)\nRequirement already satisfied: certifi>=2017.4.17 in /opt/conda/lib/python3.10/site-packages (from requests<3,>=2.0.0->wandb) (2024.2.2)\nRequirement already satisfied: smmap<6,>=3.0.1 in /opt/conda/lib/python3.10/site-packages (from gitdb<5,>=4.0.1->GitPython!=3.1.29,>=1.0.0->wandb) (5.0.1)\n",
          "output_type": "stream"
        },
        {
          "name": "stderr",
          "text": "2024-04-04 06:44:53.087230: E external/local_xla/xla/stream_executor/cuda/cuda_dnn.cc:9261] Unable to register cuDNN factory: Attempting to register factory for plugin cuDNN when one has already been registered\n2024-04-04 06:44:53.087291: E external/local_xla/xla/stream_executor/cuda/cuda_fft.cc:607] Unable to register cuFFT factory: Attempting to register factory for plugin cuFFT when one has already been registered\n2024-04-04 06:44:53.088994: E external/local_xla/xla/stream_executor/cuda/cuda_blas.cc:1515] Unable to register cuBLAS factory: Attempting to register factory for plugin cuBLAS when one has already been registered\n\u001b[34m\u001b[1mwandb\u001b[0m: Currently logged in as: \u001b[33mcs23m066\u001b[0m (\u001b[33mdlassignment\u001b[0m). Use \u001b[1m`wandb login --relogin`\u001b[0m to force relogin\n",
          "output_type": "stream"
        },
        {
          "output_type": "display_data",
          "data": {
            "text/plain": "<IPython.core.display.HTML object>",
            "text/html": "wandb version 0.16.6 is available!  To upgrade, please run:\n $ pip install wandb --upgrade"
          },
          "metadata": {}
        },
        {
          "output_type": "display_data",
          "data": {
            "text/plain": "<IPython.core.display.HTML object>",
            "text/html": "Tracking run with wandb version 0.16.4"
          },
          "metadata": {}
        },
        {
          "output_type": "display_data",
          "data": {
            "text/plain": "<IPython.core.display.HTML object>",
            "text/html": "Run data is saved locally in <code>/kaggle/working/wandb/run-20240404_064457-nv9a8oor</code>"
          },
          "metadata": {}
        },
        {
          "output_type": "display_data",
          "data": {
            "text/plain": "<IPython.core.display.HTML object>",
            "text/html": "Syncing run <strong><a href='https://wandb.ai/dlassignment/DL_assignment_2/runs/nv9a8oor' target=\"_blank\">neat-dawn-46</a></strong> to <a href='https://wandb.ai/dlassignment/DL_assignment_2' target=\"_blank\">Weights & Biases</a> (<a href='https://wandb.me/run' target=\"_blank\">docs</a>)<br/>"
          },
          "metadata": {}
        },
        {
          "output_type": "display_data",
          "data": {
            "text/plain": "<IPython.core.display.HTML object>",
            "text/html": " View project at <a href='https://wandb.ai/dlassignment/DL_assignment_2' target=\"_blank\">https://wandb.ai/dlassignment/DL_assignment_2</a>"
          },
          "metadata": {}
        },
        {
          "output_type": "display_data",
          "data": {
            "text/plain": "<IPython.core.display.HTML object>",
            "text/html": " View run at <a href='https://wandb.ai/dlassignment/DL_assignment_2/runs/nv9a8oor' target=\"_blank\">https://wandb.ai/dlassignment/DL_assignment_2/runs/nv9a8oor</a>"
          },
          "metadata": {}
        },
        {
          "execution_count": 5,
          "output_type": "execute_result",
          "data": {
            "text/html": "<button onClick=\"this.nextSibling.style.display='block';this.style.display='none';\">Display W&B run</button><iframe src='https://wandb.ai/dlassignment/DL_assignment_2/runs/nv9a8oor?jupyter=true' style='border:none;width:100%;height:420px;display:none;'></iframe>",
            "text/plain": "<wandb.sdk.wandb_run.Run at 0x79f8f6705e10>"
          },
          "metadata": {}
        }
      ]
    },
    {
      "cell_type": "code",
      "source": [],
      "metadata": {
        "id": "GV3X1SOxVZE3"
      },
      "execution_count": null,
      "outputs": []
    },
    {
      "cell_type": "code",
      "source": [
        "class CNN(nn.Module):\n",
        "    def __init__(self, in_channels=3, num_classes=10,numFilterss=32,sizeFilter=3,neurons=128,activFun='sigmoid',dropOut=0.0,batchNorm='no',org=0):\n",
        "        super(CNN, self).__init__()\n",
        "        self.activFunName = activFun\n",
        "        self.batchNorm = batchNorm\n",
        "        if(org ==  0):\n",
        "            numFilters = [numFilterss,numFilterss,numFilterss,numFilterss,numFilterss]\n",
        "        else:\n",
        "            numFilters = [numFilterss,numFilterss*2,numFilterss*4,numFilterss*8,numFilterss*16]\n",
        "        width = 0.0\n",
        "        hight = 0.0\n",
        "        self.conv1 = nn.Conv2d(in_channels=in_channels,out_channels=numFilters[0],kernel_size=sizeFilter, stride=1)\n",
        "        width = (256 - sizeFilter)+1\n",
        "        hight = (256 - sizeFilter)+1\n",
        "        self.bn1 = nn.BatchNorm2d(numFilters[0])\n",
        "        self.pool1 = nn.MaxPool2d(kernel_size=sizeFilter, stride=2)\n",
        "        width = math.floor((width - sizeFilter)/2) + 1\n",
        "        hight = math.floor((hight -sizeFilter)/2) + 1\n",
        "\n",
        "        #print(width,hight)\n",
        "        self.conv2 = nn.Conv2d( in_channels=numFilters[0], out_channels=numFilters[1], kernel_size=sizeFilter,stride=1)\n",
        "        width = ((width - sizeFilter))+1\n",
        "        hight = ((hight-sizeFilter))+1\n",
        "        self.bn2 = nn.BatchNorm2d(numFilters[1])\n",
        "        self.pool2 = nn.MaxPool2d(kernel_size=sizeFilter,stride=2)\n",
        "        width = math.floor((width - sizeFilter)/2) + 1\n",
        "        hight = math.floor((hight -sizeFilter)/2) + 1\n",
        "\n",
        "        #print(width,hight)\n",
        "        self.conv3 = nn.Conv2d( in_channels=numFilters[1], out_channels=numFilters[2], kernel_size=sizeFilter,stride=1)\n",
        "        width = ((width - sizeFilter))+1\n",
        "        hight = ((hight-sizeFilter))+1\n",
        "        self.bn3 = nn.BatchNorm2d(numFilters[2])\n",
        "        self.pool3 = nn.MaxPool2d(kernel_size=sizeFilter,stride=2)\n",
        "        width = math.floor((width - sizeFilter)/2) + 1\n",
        "        hight = math.floor((hight -sizeFilter)/2) + 1\n",
        "\n",
        "        #print(width,hight)\n",
        "        self.conv4 = nn.Conv2d( in_channels=numFilters[2], out_channels=numFilters[3], kernel_size=sizeFilter,stride=1)\n",
        "        width = ((width - sizeFilter))+1\n",
        "        hight = ((hight-sizeFilter))+1\n",
        "        self.bn4 = nn.BatchNorm2d(numFilters[3])\n",
        "        self.pool4 = nn.MaxPool2d(kernel_size=sizeFilter,stride=1)\n",
        "        width = (width - sizeFilter)+ 1\n",
        "        hight = (hight -sizeFilter) + 1\n",
        "\n",
        "        #print(width,hight)\n",
        "        self.conv5 = nn.Conv2d( in_channels=numFilters[3], out_channels=numFilters[4], kernel_size=sizeFilter,stride=1)\n",
        "        width = ((width - sizeFilter))+1\n",
        "        hight = ((hight-sizeFilter))+1\n",
        "        self.bn5 = nn.BatchNorm2d(numFilters[4])\n",
        "        self.pool5 = nn.MaxPool2d(kernel_size=sizeFilter,stride=1)\n",
        "        width = ((width - sizeFilter)) + 1\n",
        "        hight = ((hight -sizeFilter)) + 1\n",
        "\n",
        "        #print(width,hight)\n",
        "        self.dropout = nn.Dropout(p=dropOut)\n",
        "        self.fc1 = nn.Linear(numFilters[4] * width*hight, neurons)\n",
        "        self.bn6 = nn.BatchNorm1d(neurons)\n",
        "        self.fc2 = nn.Linear(neurons,10)\n",
        "\n",
        "    def forward(self, x):\n",
        "        if(self.activFunName == 'relu'):\n",
        "            activation_fn = F.relu\n",
        "        elif(self.activFunName == 'gelu'):\n",
        "            activation_fn = F.gelu\n",
        "        elif(self.activFunName == 'silu'):\n",
        "            activation_fn = F.silu\n",
        "        else:\n",
        "            activation_fn = F.mish\n",
        "\n",
        "        if(self.batchNorm == 'yes'):\n",
        "            x = activation_fn(self.bn1(self.conv1(x)))\n",
        "        else:\n",
        "            x = activation_fn(self.conv1(x))\n",
        "        x = self.pool1(x)\n",
        "\n",
        "        if(self.batchNorm == 'yes'):\n",
        "            x = activation_fn(self.bn2(self.conv2(x)))\n",
        "        else:\n",
        "            x = activation_fn(self.conv2(x))\n",
        "        x = self.pool2(x)\n",
        "\n",
        "        if(self.batchNorm == 'yes'):\n",
        "            x = activation_fn(self.bn3(self.conv3(x)))\n",
        "        else:\n",
        "            x = activation_fn(self.conv3(x))\n",
        "        x = self.pool3(x)\n",
        "\n",
        "        if(self.batchNorm == 'yes'):\n",
        "            x = activation_fn(self.bn4(self.conv4(x)))\n",
        "        else:\n",
        "            x = activation_fn(self.conv4(x))\n",
        "        x = self.pool4(x)\n",
        "\n",
        "        if(self.batchNorm == 'yes'):\n",
        "            x = activation_fn(self.bn5(self.conv5(x)))\n",
        "        else:\n",
        "            x = activation_fn(self.conv5(x))\n",
        "        x = self.pool5(x)\n",
        "\n",
        "        x = x.reshape(x.shape[0], -1)\n",
        "        if(self.batchNorm == 'yes'):\n",
        "            x = activation_fn(self.bn6(self.fc1(x)))\n",
        "        else:\n",
        "            x = activation_fn(self.fc1(x))\n",
        "        x = self.dropout(x)\n",
        "        x = self.fc2(x)\n",
        "        return x"
      ],
      "metadata": {
        "id": "FsGQWkx6JNw4",
        "execution": {
          "iopub.status.busy": "2024-04-04T06:45:28.805838Z",
          "iopub.execute_input": "2024-04-04T06:45:28.806233Z",
          "iopub.status.idle": "2024-04-04T06:45:28.844395Z",
          "shell.execute_reply.started": "2024-04-04T06:45:28.806197Z",
          "shell.execute_reply": "2024-04-04T06:45:28.843422Z"
        },
        "trusted": true
      },
      "execution_count": null,
      "outputs": []
    },
    {
      "cell_type": "code",
      "source": [
        "device = torch.device(\"cuda\" if torch.cuda.is_available() else \"cpu\")"
      ],
      "metadata": {
        "id": "rkRs5JZogjZc",
        "execution": {
          "iopub.status.busy": "2024-04-04T06:45:28.847052Z",
          "iopub.execute_input": "2024-04-04T06:45:28.847498Z",
          "iopub.status.idle": "2024-04-04T06:45:28.908045Z",
          "shell.execute_reply.started": "2024-04-04T06:45:28.847462Z",
          "shell.execute_reply": "2024-04-04T06:45:28.906699Z"
        },
        "trusted": true
      },
      "execution_count": null,
      "outputs": []
    },
    {
      "cell_type": "code",
      "source": [
        "transform = transforms.Compose([\n",
        "    transforms.Resize((256,256)),\n",
        "    transforms.ToTensor(),\n",
        "    transforms.Normalize((0.5,),(0.5,))])\n",
        "\n",
        "train_dataset = datasets.ImageFolder(root='inaturalist_12K/train',transform=transform)\n",
        "train_dataset,val_dataset = torch.utils.data.random_split(train_dataset,[8000,1999])\n",
        "\n",
        "transform2 = transforms.Compose([\n",
        "    transforms.RandomHorizontalFlip(),  # Randomly flip the image horizontally\n",
        "    transforms.RandomRotation(10),      # Randomly rotate the image by a maximum of 10 degrees\n",
        "    transforms.ColorJitter(brightness=0.2, contrast=0.2, saturation=0.2, hue=0.1),  # Adjust brightness, contrast, saturation, and hue\n",
        "    transforms.RandomResizedCrop(256),  # Randomly crop and resize the image to 256x256\n",
        "    transforms.ToTensor(),              # Convert the image to a PyTorch tensor\n",
        "    transforms.Normalize((0.5,),(0.5,))  # Normalize the image\n",
        "])\n",
        "\n",
        "train_dataset2 = datasets.ImageFolder(root='inaturalist_12K/train',transform=transform2)\n",
        "train_dataset_aug,val_dataset_aug = torch.utils.data.random_split(train_dataset2,[8000,1999])\n",
        "\n",
        "def dataFun(aug,batchSize):\n",
        "    if(aug == 'no'):\n",
        "        train_loader = torch.utils.data.DataLoader(train_dataset,batch_size =batchSize,shuffle = True,num_workers=2,pin_memory=True)\n",
        "        val_loader = torch.utils.data.DataLoader(val_dataset,batch_size =batchSize,shuffle = True,num_workers=2,pin_memory=True)\n",
        "        return train_loader,val_loader\n",
        "    else:\n",
        "        train_loader_aug = torch.utils.data.DataLoader(train_dataset_aug,batch_size =batchSize,shuffle = True,num_workers=4,pin_memory=True)\n",
        "        val_loader_aug = torch.utils.data.DataLoader(val_dataset_aug,batch_size =batchSize,shuffle = True,num_workers=4,pin_memory=True)\n",
        "        return train_loader_aug,val_loader_aug"
      ],
      "metadata": {
        "execution": {
          "iopub.status.busy": "2024-04-04T06:45:29.023293Z",
          "iopub.execute_input": "2024-04-04T06:45:29.023570Z",
          "iopub.status.idle": "2024-04-04T06:45:29.133878Z",
          "shell.execute_reply.started": "2024-04-04T06:45:29.023546Z",
          "shell.execute_reply": "2024-04-04T06:45:29.132990Z"
        },
        "trusted": true,
        "id": "Lp0ARSEeVZE5"
      },
      "execution_count": null,
      "outputs": []
    },
    {
      "cell_type": "code",
      "source": [
        "def train_fun(neurons,numFilters,sizeFilter,activFun,optimizerName,batchSize,dropOut,num_epochs,learning_rate,batchNorm,aug,org):\n",
        "\n",
        "    train_loader,val_loader = dataFun(aug,batchSize)\n",
        "\n",
        "    in_channels = 3\n",
        "    num_classes = 10\n",
        "\n",
        "    model = CNN(in_channels, num_classes,numFilters,sizeFilter,neurons,activFun,dropOut,batchNorm,org).to(device)\n",
        "\n",
        "    if(optimizerName == 'sgd'):\n",
        "        optimizer = optim.SGD(model.parameters(), lr=learning_rate)\n",
        "    elif(optimizerName == 'adam'):\n",
        "        optimizer = optim.Adam(model.parameters(), lr=learning_rate)\n",
        "    else:\n",
        "        optimizer = optim.NAdam(model.parameters(), lr=learning_rate)\n",
        "\n",
        "    criterion = nn.CrossEntropyLoss()\n",
        "\n",
        "    for epoch in range(num_epochs):\n",
        "        for batch_idx, (data, targets) in enumerate(tqdm(train_loader)):\n",
        "            # Get data to cuda if possible\n",
        "            data = data.to(device=device)\n",
        "            targets = targets.to(device=device)\n",
        "            # forward\n",
        "            scores = model(data)\n",
        "            loss = criterion(scores,targets)\n",
        "            # backward\n",
        "            optimizer.zero_grad()\n",
        "            loss.backward()\n",
        "            # gradient descent or adam step\n",
        "            optimizer.step() #updates the parameters\n",
        "        train_accuracy,train_loss = check_accuracy(train_loader, model,criterion,batchSize)\n",
        "        validation_accuracy,validation_loss = check_accuracy(val_loader, model,criterion,batchSize)\n",
        "        print(f\"train_accuracy:{train_accuracy:.4f},train_loss:{train_loss:.4f}\")\n",
        "        print(f\"validation_accuracy:{validation_accuracy:.4f},validation_loss:{validation_loss:.4f}\")\n",
        "        wandb.log({'train_accuracy':train_accuracy})\n",
        "        wandb.log({'train_loss':train_loss})\n",
        "        wandb.log({'val_accuracy':validation_accuracy})\n",
        "        wandb.log({'val_loss':validation_loss})\n",
        "\n",
        "    #wandb.log({'train_accuracy':train_accuracy})\n"
      ],
      "metadata": {
        "id": "lcPp2kI_JXoJ",
        "execution": {
          "iopub.status.busy": "2024-04-04T06:45:29.134856Z",
          "iopub.execute_input": "2024-04-04T06:45:29.135155Z",
          "iopub.status.idle": "2024-04-04T06:45:29.147191Z",
          "shell.execute_reply.started": "2024-04-04T06:45:29.135122Z",
          "shell.execute_reply": "2024-04-04T06:45:29.145838Z"
        },
        "trusted": true
      },
      "execution_count": null,
      "outputs": []
    },
    {
      "cell_type": "code",
      "source": [
        "def check_accuracy(loader,model,criterion,batchSize):\n",
        "    num_correct = 0\n",
        "    num_loss = 0\n",
        "    total = 0\n",
        "    num_samples = 0\n",
        "    total_loss = 0.0\n",
        "    model.eval()\n",
        "    with torch.no_grad():\n",
        "        for x, y in loader:\n",
        "            x = x.to(device=device)\n",
        "            y = y.to(device=device)\n",
        "            scores = model(x)\n",
        "            loss = criterion(scores, y)\n",
        "            total_loss += loss.item()*batchSize\n",
        "            _, predictions = scores.max(1)\n",
        "            num_correct += (predictions == y).sum().item()\n",
        "            num_samples += predictions.size(0)\n",
        "    model.train()\n",
        "    return (num_correct / num_samples)*100 , total_loss"
      ],
      "metadata": {
        "id": "ZYuVL_f2RKY7",
        "execution": {
          "iopub.status.busy": "2024-04-04T06:45:29.148669Z",
          "iopub.execute_input": "2024-04-04T06:45:29.148996Z",
          "iopub.status.idle": "2024-04-04T06:45:29.162365Z",
          "shell.execute_reply.started": "2024-04-04T06:45:29.148965Z",
          "shell.execute_reply": "2024-04-04T06:45:29.161391Z"
        },
        "trusted": true
      },
      "execution_count": null,
      "outputs": []
    },
    {
      "cell_type": "code",
      "source": [
        "# neurons = 128\n",
        "# numFilters = 32\n",
        "# sizeFilter = 3\n",
        "# activFun = 'relu'\n",
        "# optimizer = 'adam'\n",
        "# batchSize=32\n",
        "# dropOut = 0\n",
        "# num_epochs = 5\n",
        "# learning_rate = 1e-3\n",
        "# batchNorm = 'yes'\n",
        "# aug='yes'\n",
        "# org = 1\n",
        "# train_fun(neurons,numFilters,sizeFilter,activFun,optimizer,batchSize,dropOut,num_epochs,learning_rate,batchNorm,aug,org)"
      ],
      "metadata": {
        "id": "z6pHMzFjSJWt",
        "trusted": true
      },
      "execution_count": null,
      "outputs": []
    },
    {
      "cell_type": "code",
      "source": [],
      "metadata": {
        "id": "LOqTmoyPVZE7"
      },
      "execution_count": null,
      "outputs": []
    },
    {
      "cell_type": "code",
      "source": [
        "def main_fun():\n",
        "    wandb.init(project ='DL_assignment_2')\n",
        "    params = wandb.config\n",
        "    with wandb.init(project = 'DL_assignment_2', name='neurons'+str(params.neurons)+'optimizer'+params.optimizer+'activFun'+params.activFun) as run:\n",
        "        train_fun(params.neurons,params.numFilters,params.sizeFilter, params.activFun,params.optimizer,params.batchSize,params.dropOut,params.num_epochs,params.learning_rate,params.batchNorm,params.aug,params.org)\n",
        "\n",
        "sweep_params = {\n",
        "    'method' : 'bayes',\n",
        "    'name'   : 'Shriram',\n",
        "    'metric' : {\n",
        "        'goal' : 'maximize',\n",
        "        'name' : 'val_accuracy',\n",
        "    },\n",
        "    'parameters' : {\n",
        "        'neurons':{'values':[128,256]},\n",
        "        'numFilters':{'values':[32,64]},\n",
        "        'sizeFilter':{'values' : [3,5]},\n",
        "        'activFun' :{'values':['relu','gelu','silu','mish']},\n",
        "        'optimizer' :{'values':['adam','nadam']},\n",
        "        'batchSize' : {'values':[32,64]},\n",
        "        'dropOut' :{'values':[0,0.2,0.4]},\n",
        "        'num_epochs':{'values':[5,10]},\n",
        "        'learning_rate' :{'values':[1e-3,1e-4]},\n",
        "        'batchNorm' :{'values' : ['yes','no']},\n",
        "        'aug' : {'values':['no']},\n",
        "        'org' : {'values':[0,1]}\n",
        "    }\n",
        "}\n",
        "sweepId = wandb.sweep(sweep_params,project = 'DL_assignment_2')\n",
        "wandb.agent(sweepId,function =main_fun,count = 10)\n",
        "wandb.finish()"
      ],
      "metadata": {
        "id": "YzBw7Y4RDjyp",
        "colab": {
          "base_uri": "https://localhost:8080/",
          "height": 890,
          "referenced_widgets": [
            "5301caf729fd49a7a5b11f77106bf48e",
            "1736613663834cac8c71ba4673741c7d",
            "72d69903ede844af8ff60e9b297115ab",
            "23f5b96ed7f64a8998517bc664d2365d",
            "2961536000be4e12aae595d7738297bb",
            "c0c43c1b473a4f408d72be8259642c7a",
            "777985e576a24767a368b71564de04dc",
            "66e6b93452ff46d28bdb4877fce65cd5",
            "",
            "348be5c38eb4437f829f1a50cfbfd61d"
          ]
        },
        "outputId": "b485c85e-f6e1-4dd3-821a-069227678a34",
        "execution": {
          "iopub.status.busy": "2024-04-04T06:45:29.163485Z",
          "iopub.execute_input": "2024-04-04T06:45:29.163800Z",
          "iopub.status.idle": "2024-04-04T08:54:57.520371Z",
          "shell.execute_reply.started": "2024-04-04T06:45:29.163770Z",
          "shell.execute_reply": "2024-04-04T08:54:57.519024Z"
        },
        "trusted": true
      },
      "execution_count": null,
      "outputs": [
        {
          "name": "stderr",
          "text": "\u001b[34m\u001b[1mwandb\u001b[0m: \u001b[33mWARNING\u001b[0m Calling wandb.login() after wandb.init() has no effect.\n",
          "output_type": "stream"
        },
        {
          "name": "stdout",
          "text": "Create sweep with ID: 0ou49no7\nSweep URL: https://wandb.ai/dlassignment/DL_assignment_2/sweeps/0ou49no7\n",
          "output_type": "stream"
        },
        {
          "name": "stderr",
          "text": "\u001b[34m\u001b[1mwandb\u001b[0m: Agent Starting Run: ysjclo1r with config:\n\u001b[34m\u001b[1mwandb\u001b[0m: \tactivFun: mish\n\u001b[34m\u001b[1mwandb\u001b[0m: \taug: no\n\u001b[34m\u001b[1mwandb\u001b[0m: \tbatchNorm: no\n\u001b[34m\u001b[1mwandb\u001b[0m: \tbatchSize: 64\n\u001b[34m\u001b[1mwandb\u001b[0m: \tdropOut: 0\n\u001b[34m\u001b[1mwandb\u001b[0m: \tlearning_rate: 0.001\n\u001b[34m\u001b[1mwandb\u001b[0m: \tneurons: 128\n\u001b[34m\u001b[1mwandb\u001b[0m: \tnumFilters: 32\n\u001b[34m\u001b[1mwandb\u001b[0m: \tnum_epochs: 5\n\u001b[34m\u001b[1mwandb\u001b[0m: \toptimizer: adam\n\u001b[34m\u001b[1mwandb\u001b[0m: \torg: 1\n\u001b[34m\u001b[1mwandb\u001b[0m: \tsizeFilter: 5\n",
          "output_type": "stream"
        },
        {
          "name": "stdout",
          "text": "VBox(children=(Label(value='0.000 MB of 0.000 MB uploaded\\r'), FloatProgress(value=1.0, max=1.0)))\n<IPython.core.display.HTML object>\n<IPython.core.display.HTML object>\n",
          "output_type": "stream"
        },
        {
          "name": "stderr",
          "text": "\u001b[34m\u001b[1mwandb\u001b[0m: \u001b[33mWARNING\u001b[0m Ignored wandb.init() arg project when running a sweep.\n",
          "output_type": "stream"
        },
        {
          "output_type": "display_data",
          "data": {
            "text/plain": "<IPython.core.display.HTML object>",
            "text/html": "wandb version 0.16.6 is available!  To upgrade, please run:\n $ pip install wandb --upgrade"
          },
          "metadata": {}
        },
        {
          "output_type": "display_data",
          "data": {
            "text/plain": "<IPython.core.display.HTML object>",
            "text/html": "Tracking run with wandb version 0.16.4"
          },
          "metadata": {}
        },
        {
          "output_type": "display_data",
          "data": {
            "text/plain": "<IPython.core.display.HTML object>",
            "text/html": "Run data is saved locally in <code>/kaggle/working/wandb/run-20240404_064556-ysjclo1r</code>"
          },
          "metadata": {}
        },
        {
          "output_type": "display_data",
          "data": {
            "text/plain": "<IPython.core.display.HTML object>",
            "text/html": "Syncing run <strong><a href='https://wandb.ai/dlassignment/DL_assignment_2/runs/ysjclo1r' target=\"_blank\">dauntless-sweep-1</a></strong> to <a href='https://wandb.ai/dlassignment/DL_assignment_2' target=\"_blank\">Weights & Biases</a> (<a href='https://wandb.me/run' target=\"_blank\">docs</a>)<br/>Sweep page: <a href='https://wandb.ai/dlassignment/DL_assignment_2/sweeps/0ou49no7' target=\"_blank\">https://wandb.ai/dlassignment/DL_assignment_2/sweeps/0ou49no7</a>"
          },
          "metadata": {}
        },
        {
          "output_type": "display_data",
          "data": {
            "text/plain": "<IPython.core.display.HTML object>",
            "text/html": " View project at <a href='https://wandb.ai/dlassignment/DL_assignment_2' target=\"_blank\">https://wandb.ai/dlassignment/DL_assignment_2</a>"
          },
          "metadata": {}
        },
        {
          "output_type": "display_data",
          "data": {
            "text/plain": "<IPython.core.display.HTML object>",
            "text/html": " View sweep at <a href='https://wandb.ai/dlassignment/DL_assignment_2/sweeps/0ou49no7' target=\"_blank\">https://wandb.ai/dlassignment/DL_assignment_2/sweeps/0ou49no7</a>"
          },
          "metadata": {}
        },
        {
          "output_type": "display_data",
          "data": {
            "text/plain": "<IPython.core.display.HTML object>",
            "text/html": " View run at <a href='https://wandb.ai/dlassignment/DL_assignment_2/runs/ysjclo1r' target=\"_blank\">https://wandb.ai/dlassignment/DL_assignment_2/runs/ysjclo1r</a>"
          },
          "metadata": {}
        },
        {
          "name": "stderr",
          "text": "\u001b[34m\u001b[1mwandb\u001b[0m: \u001b[33mWARNING\u001b[0m Ignored wandb.init() arg project when running a sweep.\n",
          "output_type": "stream"
        },
        {
          "output_type": "display_data",
          "data": {
            "text/plain": "<IPython.core.display.HTML object>",
            "text/html": "Finishing last run (ID:ysjclo1r) before initializing another..."
          },
          "metadata": {}
        },
        {
          "output_type": "display_data",
          "data": {
            "text/plain": "VBox(children=(Label(value='0.000 MB of 0.000 MB uploaded\\r'), FloatProgress(value=1.0, max=1.0)))",
            "application/vnd.jupyter.widget-view+json": {
              "version_major": 2,
              "version_minor": 0,
              "model_id": ""
            }
          },
          "metadata": {}
        },
        {
          "output_type": "display_data",
          "data": {
            "text/plain": "<IPython.core.display.HTML object>",
            "text/html": " View run <strong style=\"color:#cdcd00\">dauntless-sweep-1</strong> at: <a href='https://wandb.ai/dlassignment/DL_assignment_2/runs/ysjclo1r' target=\"_blank\">https://wandb.ai/dlassignment/DL_assignment_2/runs/ysjclo1r</a><br/>Synced 6 W&B file(s), 0 media file(s), 0 artifact file(s) and 0 other file(s)"
          },
          "metadata": {}
        },
        {
          "output_type": "display_data",
          "data": {
            "text/plain": "<IPython.core.display.HTML object>",
            "text/html": "Find logs at: <code>./wandb/run-20240404_064556-ysjclo1r/logs</code>"
          },
          "metadata": {}
        },
        {
          "output_type": "display_data",
          "data": {
            "text/plain": "<IPython.core.display.HTML object>",
            "text/html": "Successfully finished last run (ID:ysjclo1r). Initializing new run:<br/>"
          },
          "metadata": {}
        },
        {
          "output_type": "display_data",
          "data": {
            "text/plain": "<IPython.core.display.HTML object>",
            "text/html": "wandb version 0.16.6 is available!  To upgrade, please run:\n $ pip install wandb --upgrade"
          },
          "metadata": {}
        },
        {
          "output_type": "display_data",
          "data": {
            "text/plain": "<IPython.core.display.HTML object>",
            "text/html": "Tracking run with wandb version 0.16.4"
          },
          "metadata": {}
        },
        {
          "output_type": "display_data",
          "data": {
            "text/plain": "<IPython.core.display.HTML object>",
            "text/html": "Run data is saved locally in <code>/kaggle/working/wandb/run-20240404_064628-ysjclo1r</code>"
          },
          "metadata": {}
        },
        {
          "output_type": "display_data",
          "data": {
            "text/plain": "<IPython.core.display.HTML object>",
            "text/html": "Syncing run <strong><a href='https://wandb.ai/dlassignment/DL_assignment_2/runs/ysjclo1r' target=\"_blank\">neurons128optimizeradamactivFunmish</a></strong> to <a href='https://wandb.ai/dlassignment/DL_assignment_2' target=\"_blank\">Weights & Biases</a> (<a href='https://wandb.me/run' target=\"_blank\">docs</a>)<br/>Sweep page: <a href='https://wandb.ai/dlassignment/DL_assignment_2/sweeps/0ou49no7' target=\"_blank\">https://wandb.ai/dlassignment/DL_assignment_2/sweeps/0ou49no7</a>"
          },
          "metadata": {}
        },
        {
          "output_type": "display_data",
          "data": {
            "text/plain": "<IPython.core.display.HTML object>",
            "text/html": " View project at <a href='https://wandb.ai/dlassignment/DL_assignment_2' target=\"_blank\">https://wandb.ai/dlassignment/DL_assignment_2</a>"
          },
          "metadata": {}
        },
        {
          "output_type": "display_data",
          "data": {
            "text/plain": "<IPython.core.display.HTML object>",
            "text/html": " View sweep at <a href='https://wandb.ai/dlassignment/DL_assignment_2/sweeps/0ou49no7' target=\"_blank\">https://wandb.ai/dlassignment/DL_assignment_2/sweeps/0ou49no7</a>"
          },
          "metadata": {}
        },
        {
          "output_type": "display_data",
          "data": {
            "text/plain": "<IPython.core.display.HTML object>",
            "text/html": " View run at <a href='https://wandb.ai/dlassignment/DL_assignment_2/runs/ysjclo1r' target=\"_blank\">https://wandb.ai/dlassignment/DL_assignment_2/runs/ysjclo1r</a>"
          },
          "metadata": {}
        },
        {
          "name": "stderr",
          "text": "100%|██████████| 125/125 [00:54<00:00,  2.29it/s]\n",
          "output_type": "stream"
        },
        {
          "name": "stdout",
          "text": "train_accuracy:21.5125,train_loss:17151.9257\nvalidation_accuracy:20.4102,validation_loss:4390.0438\n",
          "output_type": "stream"
        },
        {
          "name": "stderr",
          "text": "100%|██████████| 125/125 [00:49<00:00,  2.55it/s]\n",
          "output_type": "stream"
        },
        {
          "name": "stdout",
          "text": "train_accuracy:25.4750,train_loss:16708.6522\nvalidation_accuracy:25.6128,validation_loss:4291.8413\n",
          "output_type": "stream"
        },
        {
          "name": "stderr",
          "text": "100%|██████████| 125/125 [00:49<00:00,  2.55it/s]\n",
          "output_type": "stream"
        },
        {
          "name": "stdout",
          "text": "train_accuracy:23.5375,train_loss:16653.3552\nvalidation_accuracy:23.2116,validation_loss:4259.6404\n",
          "output_type": "stream"
        },
        {
          "name": "stderr",
          "text": "100%|██████████| 125/125 [00:49<00:00,  2.55it/s]\n",
          "output_type": "stream"
        },
        {
          "name": "stdout",
          "text": "train_accuracy:24.0750,train_loss:16422.1474\nvalidation_accuracy:22.8614,validation_loss:4222.7611\n",
          "output_type": "stream"
        },
        {
          "name": "stderr",
          "text": "100%|██████████| 125/125 [00:48<00:00,  2.56it/s]\n",
          "output_type": "stream"
        },
        {
          "name": "stdout",
          "text": "train_accuracy:28.9625,train_loss:15758.4414\nvalidation_accuracy:27.8139,validation_loss:4055.8731\n",
          "output_type": "stream"
        },
        {
          "output_type": "display_data",
          "data": {
            "text/plain": "VBox(children=(Label(value='0.001 MB of 0.001 MB uploaded\\r'), FloatProgress(value=1.0, max=1.0)))",
            "application/vnd.jupyter.widget-view+json": {
              "version_major": 2,
              "version_minor": 0,
              "model_id": ""
            }
          },
          "metadata": {}
        },
        {
          "output_type": "display_data",
          "data": {
            "text/plain": "<IPython.core.display.HTML object>",
            "text/html": "<style>\n    table.wandb td:nth-child(1) { padding: 0 10px; text-align: left ; width: auto;} td:nth-child(2) {text-align: left ; width: 100%}\n    .wandb-row { display: flex; flex-direction: row; flex-wrap: wrap; justify-content: flex-start; width: 100% }\n    .wandb-col { display: flex; flex-direction: column; flex-basis: 100%; flex: 1; padding: 10px; }\n    </style>\n<div class=\"wandb-row\"><div class=\"wandb-col\"><h3>Run history:</h3><br/><table class=\"wandb\"><tr><td>train_accuracy</td><td>▁▅▃▃█</td></tr><tr><td>train_loss</td><td>█▆▅▄▁</td></tr><tr><td>val_accuracy</td><td>▁▆▄▃█</td></tr><tr><td>val_loss</td><td>█▆▅▄▁</td></tr></table><br/></div><div class=\"wandb-col\"><h3>Run summary:</h3><br/><table class=\"wandb\"><tr><td>train_accuracy</td><td>28.9625</td></tr><tr><td>train_loss</td><td>15758.4414</td></tr><tr><td>val_accuracy</td><td>27.81391</td></tr><tr><td>val_loss</td><td>4055.87315</td></tr></table><br/></div></div>"
          },
          "metadata": {}
        },
        {
          "output_type": "display_data",
          "data": {
            "text/plain": "<IPython.core.display.HTML object>",
            "text/html": " View run <strong style=\"color:#cdcd00\">neurons128optimizeradamactivFunmish</strong> at: <a href='https://wandb.ai/dlassignment/DL_assignment_2/runs/ysjclo1r' target=\"_blank\">https://wandb.ai/dlassignment/DL_assignment_2/runs/ysjclo1r</a><br/>Synced 6 W&B file(s), 0 media file(s), 0 artifact file(s) and 0 other file(s)"
          },
          "metadata": {}
        },
        {
          "output_type": "display_data",
          "data": {
            "text/plain": "<IPython.core.display.HTML object>",
            "text/html": "Find logs at: <code>./wandb/run-20240404_064628-ysjclo1r/logs</code>"
          },
          "metadata": {}
        },
        {
          "name": "stderr",
          "text": "\u001b[34m\u001b[1mwandb\u001b[0m: Agent Starting Run: qgb74ize with config:\n\u001b[34m\u001b[1mwandb\u001b[0m: \tactivFun: silu\n\u001b[34m\u001b[1mwandb\u001b[0m: \taug: no\n\u001b[34m\u001b[1mwandb\u001b[0m: \tbatchNorm: yes\n\u001b[34m\u001b[1mwandb\u001b[0m: \tbatchSize: 64\n\u001b[34m\u001b[1mwandb\u001b[0m: \tdropOut: 0\n\u001b[34m\u001b[1mwandb\u001b[0m: \tlearning_rate: 0.001\n\u001b[34m\u001b[1mwandb\u001b[0m: \tneurons: 256\n\u001b[34m\u001b[1mwandb\u001b[0m: \tnumFilters: 32\n\u001b[34m\u001b[1mwandb\u001b[0m: \tnum_epochs: 5\n\u001b[34m\u001b[1mwandb\u001b[0m: \toptimizer: nadam\n\u001b[34m\u001b[1mwandb\u001b[0m: \torg: 1\n\u001b[34m\u001b[1mwandb\u001b[0m: \tsizeFilter: 3\n\u001b[34m\u001b[1mwandb\u001b[0m: \u001b[33mWARNING\u001b[0m Ignored wandb.init() arg project when running a sweep.\n",
          "output_type": "stream"
        },
        {
          "output_type": "display_data",
          "data": {
            "text/plain": "<IPython.core.display.HTML object>",
            "text/html": "wandb version 0.16.6 is available!  To upgrade, please run:\n $ pip install wandb --upgrade"
          },
          "metadata": {}
        },
        {
          "output_type": "display_data",
          "data": {
            "text/plain": "<IPython.core.display.HTML object>",
            "text/html": "Tracking run with wandb version 0.16.4"
          },
          "metadata": {}
        },
        {
          "output_type": "display_data",
          "data": {
            "text/plain": "<IPython.core.display.HTML object>",
            "text/html": "Run data is saved locally in <code>/kaggle/working/wandb/run-20240404_065650-qgb74ize</code>"
          },
          "metadata": {}
        },
        {
          "output_type": "display_data",
          "data": {
            "text/plain": "<IPython.core.display.HTML object>",
            "text/html": "Syncing run <strong><a href='https://wandb.ai/dlassignment/DL_assignment_2/runs/qgb74ize' target=\"_blank\">bright-sweep-2</a></strong> to <a href='https://wandb.ai/dlassignment/DL_assignment_2' target=\"_blank\">Weights & Biases</a> (<a href='https://wandb.me/run' target=\"_blank\">docs</a>)<br/>Sweep page: <a href='https://wandb.ai/dlassignment/DL_assignment_2/sweeps/0ou49no7' target=\"_blank\">https://wandb.ai/dlassignment/DL_assignment_2/sweeps/0ou49no7</a>"
          },
          "metadata": {}
        },
        {
          "output_type": "display_data",
          "data": {
            "text/plain": "<IPython.core.display.HTML object>",
            "text/html": " View project at <a href='https://wandb.ai/dlassignment/DL_assignment_2' target=\"_blank\">https://wandb.ai/dlassignment/DL_assignment_2</a>"
          },
          "metadata": {}
        },
        {
          "output_type": "display_data",
          "data": {
            "text/plain": "<IPython.core.display.HTML object>",
            "text/html": " View sweep at <a href='https://wandb.ai/dlassignment/DL_assignment_2/sweeps/0ou49no7' target=\"_blank\">https://wandb.ai/dlassignment/DL_assignment_2/sweeps/0ou49no7</a>"
          },
          "metadata": {}
        },
        {
          "output_type": "display_data",
          "data": {
            "text/plain": "<IPython.core.display.HTML object>",
            "text/html": " View run at <a href='https://wandb.ai/dlassignment/DL_assignment_2/runs/qgb74ize' target=\"_blank\">https://wandb.ai/dlassignment/DL_assignment_2/runs/qgb74ize</a>"
          },
          "metadata": {}
        },
        {
          "name": "stderr",
          "text": "\u001b[34m\u001b[1mwandb\u001b[0m: \u001b[33mWARNING\u001b[0m Ignored wandb.init() arg project when running a sweep.\n",
          "output_type": "stream"
        },
        {
          "output_type": "display_data",
          "data": {
            "text/plain": "<IPython.core.display.HTML object>",
            "text/html": "Finishing last run (ID:qgb74ize) before initializing another..."
          },
          "metadata": {}
        },
        {
          "output_type": "display_data",
          "data": {
            "text/plain": "VBox(children=(Label(value='0.000 MB of 0.000 MB uploaded\\r'), FloatProgress(value=1.0, max=1.0)))",
            "application/vnd.jupyter.widget-view+json": {
              "version_major": 2,
              "version_minor": 0,
              "model_id": ""
            }
          },
          "metadata": {}
        },
        {
          "output_type": "display_data",
          "data": {
            "text/plain": "<IPython.core.display.HTML object>",
            "text/html": " View run <strong style=\"color:#cdcd00\">bright-sweep-2</strong> at: <a href='https://wandb.ai/dlassignment/DL_assignment_2/runs/qgb74ize' target=\"_blank\">https://wandb.ai/dlassignment/DL_assignment_2/runs/qgb74ize</a><br/>Synced 6 W&B file(s), 0 media file(s), 0 artifact file(s) and 0 other file(s)"
          },
          "metadata": {}
        },
        {
          "output_type": "display_data",
          "data": {
            "text/plain": "<IPython.core.display.HTML object>",
            "text/html": "Find logs at: <code>./wandb/run-20240404_065650-qgb74ize/logs</code>"
          },
          "metadata": {}
        },
        {
          "output_type": "display_data",
          "data": {
            "text/plain": "<IPython.core.display.HTML object>",
            "text/html": "Successfully finished last run (ID:qgb74ize). Initializing new run:<br/>"
          },
          "metadata": {}
        },
        {
          "output_type": "display_data",
          "data": {
            "text/plain": "<IPython.core.display.HTML object>",
            "text/html": "wandb version 0.16.6 is available!  To upgrade, please run:\n $ pip install wandb --upgrade"
          },
          "metadata": {}
        },
        {
          "output_type": "display_data",
          "data": {
            "text/plain": "<IPython.core.display.HTML object>",
            "text/html": "Tracking run with wandb version 0.16.4"
          },
          "metadata": {}
        },
        {
          "output_type": "display_data",
          "data": {
            "text/plain": "<IPython.core.display.HTML object>",
            "text/html": "Run data is saved locally in <code>/kaggle/working/wandb/run-20240404_065721-qgb74ize</code>"
          },
          "metadata": {}
        },
        {
          "output_type": "display_data",
          "data": {
            "text/plain": "<IPython.core.display.HTML object>",
            "text/html": "Syncing run <strong><a href='https://wandb.ai/dlassignment/DL_assignment_2/runs/qgb74ize' target=\"_blank\">neurons256optimizernadamactivFunsilu</a></strong> to <a href='https://wandb.ai/dlassignment/DL_assignment_2' target=\"_blank\">Weights & Biases</a> (<a href='https://wandb.me/run' target=\"_blank\">docs</a>)<br/>Sweep page: <a href='https://wandb.ai/dlassignment/DL_assignment_2/sweeps/0ou49no7' target=\"_blank\">https://wandb.ai/dlassignment/DL_assignment_2/sweeps/0ou49no7</a>"
          },
          "metadata": {}
        },
        {
          "output_type": "display_data",
          "data": {
            "text/plain": "<IPython.core.display.HTML object>",
            "text/html": " View project at <a href='https://wandb.ai/dlassignment/DL_assignment_2' target=\"_blank\">https://wandb.ai/dlassignment/DL_assignment_2</a>"
          },
          "metadata": {}
        },
        {
          "output_type": "display_data",
          "data": {
            "text/plain": "<IPython.core.display.HTML object>",
            "text/html": " View sweep at <a href='https://wandb.ai/dlassignment/DL_assignment_2/sweeps/0ou49no7' target=\"_blank\">https://wandb.ai/dlassignment/DL_assignment_2/sweeps/0ou49no7</a>"
          },
          "metadata": {}
        },
        {
          "output_type": "display_data",
          "data": {
            "text/plain": "<IPython.core.display.HTML object>",
            "text/html": " View run at <a href='https://wandb.ai/dlassignment/DL_assignment_2/runs/qgb74ize' target=\"_blank\">https://wandb.ai/dlassignment/DL_assignment_2/runs/qgb74ize</a>"
          },
          "metadata": {}
        },
        {
          "name": "stderr",
          "text": "100%|██████████| 125/125 [00:55<00:00,  2.26it/s]\n",
          "output_type": "stream"
        },
        {
          "name": "stdout",
          "text": "train_accuracy:29.8750,train_loss:16131.4860\nvalidation_accuracy:28.3642,validation_loss:4342.9138\n",
          "output_type": "stream"
        },
        {
          "name": "stderr",
          "text": "100%|██████████| 125/125 [00:47<00:00,  2.66it/s]\n",
          "output_type": "stream"
        },
        {
          "name": "stdout",
          "text": "train_accuracy:40.6125,train_loss:13532.3107\nvalidation_accuracy:36.3682,validation_loss:3655.8632\n",
          "output_type": "stream"
        },
        {
          "name": "stderr",
          "text": "100%|██████████| 125/125 [00:49<00:00,  2.52it/s]\n",
          "output_type": "stream"
        },
        {
          "name": "stdout",
          "text": "train_accuracy:43.7500,train_loss:12915.1097\nvalidation_accuracy:36.5683,validation_loss:3720.7092\n",
          "output_type": "stream"
        },
        {
          "name": "stderr",
          "text": "100%|██████████| 125/125 [00:49<00:00,  2.52it/s]\n",
          "output_type": "stream"
        },
        {
          "name": "stdout",
          "text": "train_accuracy:37.7750,train_loss:15230.9791\nvalidation_accuracy:32.9165,validation_loss:4410.6824\n",
          "output_type": "stream"
        },
        {
          "name": "stderr",
          "text": "100%|██████████| 125/125 [00:50<00:00,  2.50it/s]\n",
          "output_type": "stream"
        },
        {
          "name": "stdout",
          "text": "train_accuracy:50.6625,train_loss:11420.3320\nvalidation_accuracy:40.2701,validation_loss:3747.2773\n",
          "output_type": "stream"
        },
        {
          "output_type": "display_data",
          "data": {
            "text/plain": "VBox(children=(Label(value='0.001 MB of 0.001 MB uploaded\\r'), FloatProgress(value=1.0, max=1.0)))",
            "application/vnd.jupyter.widget-view+json": {
              "version_major": 2,
              "version_minor": 0,
              "model_id": ""
            }
          },
          "metadata": {}
        },
        {
          "output_type": "display_data",
          "data": {
            "text/plain": "<IPython.core.display.HTML object>",
            "text/html": "<style>\n    table.wandb td:nth-child(1) { padding: 0 10px; text-align: left ; width: auto;} td:nth-child(2) {text-align: left ; width: 100%}\n    .wandb-row { display: flex; flex-direction: row; flex-wrap: wrap; justify-content: flex-start; width: 100% }\n    .wandb-col { display: flex; flex-direction: column; flex-basis: 100%; flex: 1; padding: 10px; }\n    </style>\n<div class=\"wandb-row\"><div class=\"wandb-col\"><h3>Run history:</h3><br/><table class=\"wandb\"><tr><td>train_accuracy</td><td>▁▅▆▄█</td></tr><tr><td>train_loss</td><td>█▄▃▇▁</td></tr><tr><td>val_accuracy</td><td>▁▆▆▄█</td></tr><tr><td>val_loss</td><td>▇▁▂█▂</td></tr></table><br/></div><div class=\"wandb-col\"><h3>Run summary:</h3><br/><table class=\"wandb\"><tr><td>train_accuracy</td><td>50.6625</td></tr><tr><td>train_loss</td><td>11420.33199</td></tr><tr><td>val_accuracy</td><td>40.27014</td></tr><tr><td>val_loss</td><td>3747.27728</td></tr></table><br/></div></div>"
          },
          "metadata": {}
        },
        {
          "output_type": "display_data",
          "data": {
            "text/plain": "<IPython.core.display.HTML object>",
            "text/html": " View run <strong style=\"color:#cdcd00\">neurons256optimizernadamactivFunsilu</strong> at: <a href='https://wandb.ai/dlassignment/DL_assignment_2/runs/qgb74ize' target=\"_blank\">https://wandb.ai/dlassignment/DL_assignment_2/runs/qgb74ize</a><br/>Synced 6 W&B file(s), 0 media file(s), 0 artifact file(s) and 0 other file(s)"
          },
          "metadata": {}
        },
        {
          "output_type": "display_data",
          "data": {
            "text/plain": "<IPython.core.display.HTML object>",
            "text/html": "Find logs at: <code>./wandb/run-20240404_065721-qgb74ize/logs</code>"
          },
          "metadata": {}
        },
        {
          "name": "stderr",
          "text": "\u001b[34m\u001b[1mwandb\u001b[0m: Agent Starting Run: slf85qan with config:\n\u001b[34m\u001b[1mwandb\u001b[0m: \tactivFun: mish\n\u001b[34m\u001b[1mwandb\u001b[0m: \taug: no\n\u001b[34m\u001b[1mwandb\u001b[0m: \tbatchNorm: no\n\u001b[34m\u001b[1mwandb\u001b[0m: \tbatchSize: 64\n\u001b[34m\u001b[1mwandb\u001b[0m: \tdropOut: 0\n\u001b[34m\u001b[1mwandb\u001b[0m: \tlearning_rate: 0.001\n\u001b[34m\u001b[1mwandb\u001b[0m: \tneurons: 128\n\u001b[34m\u001b[1mwandb\u001b[0m: \tnumFilters: 32\n\u001b[34m\u001b[1mwandb\u001b[0m: \tnum_epochs: 10\n\u001b[34m\u001b[1mwandb\u001b[0m: \toptimizer: adam\n\u001b[34m\u001b[1mwandb\u001b[0m: \torg: 1\n\u001b[34m\u001b[1mwandb\u001b[0m: \tsizeFilter: 3\n\u001b[34m\u001b[1mwandb\u001b[0m: \u001b[33mWARNING\u001b[0m Ignored wandb.init() arg project when running a sweep.\n",
          "output_type": "stream"
        },
        {
          "output_type": "display_data",
          "data": {
            "text/plain": "<IPython.core.display.HTML object>",
            "text/html": "wandb version 0.16.6 is available!  To upgrade, please run:\n $ pip install wandb --upgrade"
          },
          "metadata": {}
        },
        {
          "output_type": "display_data",
          "data": {
            "text/plain": "<IPython.core.display.HTML object>",
            "text/html": "Tracking run with wandb version 0.16.4"
          },
          "metadata": {}
        },
        {
          "output_type": "display_data",
          "data": {
            "text/plain": "<IPython.core.display.HTML object>",
            "text/html": "Run data is saved locally in <code>/kaggle/working/wandb/run-20240404_070742-slf85qan</code>"
          },
          "metadata": {}
        },
        {
          "output_type": "display_data",
          "data": {
            "text/plain": "<IPython.core.display.HTML object>",
            "text/html": "Syncing run <strong><a href='https://wandb.ai/dlassignment/DL_assignment_2/runs/slf85qan' target=\"_blank\">wise-sweep-3</a></strong> to <a href='https://wandb.ai/dlassignment/DL_assignment_2' target=\"_blank\">Weights & Biases</a> (<a href='https://wandb.me/run' target=\"_blank\">docs</a>)<br/>Sweep page: <a href='https://wandb.ai/dlassignment/DL_assignment_2/sweeps/0ou49no7' target=\"_blank\">https://wandb.ai/dlassignment/DL_assignment_2/sweeps/0ou49no7</a>"
          },
          "metadata": {}
        },
        {
          "output_type": "display_data",
          "data": {
            "text/plain": "<IPython.core.display.HTML object>",
            "text/html": " View project at <a href='https://wandb.ai/dlassignment/DL_assignment_2' target=\"_blank\">https://wandb.ai/dlassignment/DL_assignment_2</a>"
          },
          "metadata": {}
        },
        {
          "output_type": "display_data",
          "data": {
            "text/plain": "<IPython.core.display.HTML object>",
            "text/html": " View sweep at <a href='https://wandb.ai/dlassignment/DL_assignment_2/sweeps/0ou49no7' target=\"_blank\">https://wandb.ai/dlassignment/DL_assignment_2/sweeps/0ou49no7</a>"
          },
          "metadata": {}
        },
        {
          "output_type": "display_data",
          "data": {
            "text/plain": "<IPython.core.display.HTML object>",
            "text/html": " View run at <a href='https://wandb.ai/dlassignment/DL_assignment_2/runs/slf85qan' target=\"_blank\">https://wandb.ai/dlassignment/DL_assignment_2/runs/slf85qan</a>"
          },
          "metadata": {}
        },
        {
          "name": "stderr",
          "text": "\u001b[34m\u001b[1mwandb\u001b[0m: \u001b[33mWARNING\u001b[0m Ignored wandb.init() arg project when running a sweep.\n",
          "output_type": "stream"
        },
        {
          "output_type": "display_data",
          "data": {
            "text/plain": "<IPython.core.display.HTML object>",
            "text/html": "Finishing last run (ID:slf85qan) before initializing another..."
          },
          "metadata": {}
        },
        {
          "output_type": "display_data",
          "data": {
            "text/plain": "VBox(children=(Label(value='0.000 MB of 0.000 MB uploaded\\r'), FloatProgress(value=1.0, max=1.0)))",
            "application/vnd.jupyter.widget-view+json": {
              "version_major": 2,
              "version_minor": 0,
              "model_id": ""
            }
          },
          "metadata": {}
        },
        {
          "output_type": "display_data",
          "data": {
            "text/plain": "<IPython.core.display.HTML object>",
            "text/html": " View run <strong style=\"color:#cdcd00\">wise-sweep-3</strong> at: <a href='https://wandb.ai/dlassignment/DL_assignment_2/runs/slf85qan' target=\"_blank\">https://wandb.ai/dlassignment/DL_assignment_2/runs/slf85qan</a><br/>Synced 6 W&B file(s), 0 media file(s), 0 artifact file(s) and 0 other file(s)"
          },
          "metadata": {}
        },
        {
          "output_type": "display_data",
          "data": {
            "text/plain": "<IPython.core.display.HTML object>",
            "text/html": "Find logs at: <code>./wandb/run-20240404_070742-slf85qan/logs</code>"
          },
          "metadata": {}
        },
        {
          "output_type": "display_data",
          "data": {
            "text/plain": "<IPython.core.display.HTML object>",
            "text/html": "Successfully finished last run (ID:slf85qan). Initializing new run:<br/>"
          },
          "metadata": {}
        },
        {
          "output_type": "display_data",
          "data": {
            "text/plain": "<IPython.core.display.HTML object>",
            "text/html": "wandb version 0.16.6 is available!  To upgrade, please run:\n $ pip install wandb --upgrade"
          },
          "metadata": {}
        },
        {
          "output_type": "display_data",
          "data": {
            "text/plain": "<IPython.core.display.HTML object>",
            "text/html": "Tracking run with wandb version 0.16.4"
          },
          "metadata": {}
        },
        {
          "output_type": "display_data",
          "data": {
            "text/plain": "<IPython.core.display.HTML object>",
            "text/html": "Run data is saved locally in <code>/kaggle/working/wandb/run-20240404_070813-slf85qan</code>"
          },
          "metadata": {}
        },
        {
          "output_type": "display_data",
          "data": {
            "text/plain": "<IPython.core.display.HTML object>",
            "text/html": "Syncing run <strong><a href='https://wandb.ai/dlassignment/DL_assignment_2/runs/slf85qan' target=\"_blank\">neurons128optimizeradamactivFunmish</a></strong> to <a href='https://wandb.ai/dlassignment/DL_assignment_2' target=\"_blank\">Weights & Biases</a> (<a href='https://wandb.me/run' target=\"_blank\">docs</a>)<br/>Sweep page: <a href='https://wandb.ai/dlassignment/DL_assignment_2/sweeps/0ou49no7' target=\"_blank\">https://wandb.ai/dlassignment/DL_assignment_2/sweeps/0ou49no7</a>"
          },
          "metadata": {}
        },
        {
          "output_type": "display_data",
          "data": {
            "text/plain": "<IPython.core.display.HTML object>",
            "text/html": " View project at <a href='https://wandb.ai/dlassignment/DL_assignment_2' target=\"_blank\">https://wandb.ai/dlassignment/DL_assignment_2</a>"
          },
          "metadata": {}
        },
        {
          "output_type": "display_data",
          "data": {
            "text/plain": "<IPython.core.display.HTML object>",
            "text/html": " View sweep at <a href='https://wandb.ai/dlassignment/DL_assignment_2/sweeps/0ou49no7' target=\"_blank\">https://wandb.ai/dlassignment/DL_assignment_2/sweeps/0ou49no7</a>"
          },
          "metadata": {}
        },
        {
          "output_type": "display_data",
          "data": {
            "text/plain": "<IPython.core.display.HTML object>",
            "text/html": " View run at <a href='https://wandb.ai/dlassignment/DL_assignment_2/runs/slf85qan' target=\"_blank\">https://wandb.ai/dlassignment/DL_assignment_2/runs/slf85qan</a>"
          },
          "metadata": {}
        },
        {
          "name": "stderr",
          "text": "100%|██████████| 125/125 [00:55<00:00,  2.25it/s]\n",
          "output_type": "stream"
        },
        {
          "name": "stdout",
          "text": "train_accuracy:16.3000,train_loss:17859.8977\nvalidation_accuracy:17.1086,validation_loss:4548.4066\n",
          "output_type": "stream"
        },
        {
          "name": "stderr",
          "text": "100%|██████████| 125/125 [00:48<00:00,  2.57it/s]\n",
          "output_type": "stream"
        },
        {
          "name": "stdout",
          "text": "train_accuracy:19.4250,train_loss:17271.5246\nvalidation_accuracy:19.7099,validation_loss:4378.3884\n",
          "output_type": "stream"
        },
        {
          "name": "stderr",
          "text": "100%|██████████| 125/125 [00:47<00:00,  2.65it/s]\n",
          "output_type": "stream"
        },
        {
          "name": "stdout",
          "text": "train_accuracy:21.8125,train_loss:16839.5643\nvalidation_accuracy:21.7609,validation_loss:4295.5486\n",
          "output_type": "stream"
        },
        {
          "name": "stderr",
          "text": "100%|██████████| 125/125 [00:48<00:00,  2.59it/s]\n",
          "output_type": "stream"
        },
        {
          "name": "stdout",
          "text": "train_accuracy:10.2000,train_loss:18397.2909\nvalidation_accuracy:9.8049,validation_loss:4711.4633\n",
          "output_type": "stream"
        },
        {
          "name": "stderr",
          "text": "100%|██████████| 125/125 [00:47<00:00,  2.64it/s]\n",
          "output_type": "stream"
        },
        {
          "name": "stdout",
          "text": "train_accuracy:10.0625,train_loss:18423.3401\nvalidation_accuracy:9.7549,validation_loss:4718.7619\n",
          "output_type": "stream"
        },
        {
          "name": "stderr",
          "text": "100%|██████████| 125/125 [00:48<00:00,  2.60it/s]\n",
          "output_type": "stream"
        },
        {
          "name": "stdout",
          "text": "train_accuracy:10.0625,train_loss:18421.6356\nvalidation_accuracy:9.7549,validation_loss:4717.9250\n",
          "output_type": "stream"
        },
        {
          "name": "stderr",
          "text": "100%|██████████| 125/125 [00:47<00:00,  2.65it/s]\n",
          "output_type": "stream"
        },
        {
          "name": "stdout",
          "text": "train_accuracy:10.0625,train_loss:18420.7089\nvalidation_accuracy:9.7549,validation_loss:4717.7455\n",
          "output_type": "stream"
        },
        {
          "name": "stderr",
          "text": "100%|██████████| 125/125 [00:48<00:00,  2.60it/s]\n",
          "output_type": "stream"
        },
        {
          "name": "stdout",
          "text": "train_accuracy:10.0625,train_loss:18420.2407\nvalidation_accuracy:9.7549,validation_loss:4717.4114\n",
          "output_type": "stream"
        },
        {
          "name": "stderr",
          "text": "100%|██████████| 125/125 [00:50<00:00,  2.49it/s]\n",
          "output_type": "stream"
        },
        {
          "name": "stdout",
          "text": "train_accuracy:10.0625,train_loss:18420.0248\nvalidation_accuracy:9.7549,validation_loss:4718.0292\n",
          "output_type": "stream"
        },
        {
          "name": "stderr",
          "text": "100%|██████████| 125/125 [00:49<00:00,  2.51it/s]\n",
          "output_type": "stream"
        },
        {
          "name": "stdout",
          "text": "train_accuracy:10.1625,train_loss:18419.8042\nvalidation_accuracy:9.3547,validation_loss:4718.0056\n",
          "output_type": "stream"
        },
        {
          "output_type": "display_data",
          "data": {
            "text/plain": "VBox(children=(Label(value='0.001 MB of 0.001 MB uploaded\\r'), FloatProgress(value=1.0, max=1.0)))",
            "application/vnd.jupyter.widget-view+json": {
              "version_major": 2,
              "version_minor": 0,
              "model_id": ""
            }
          },
          "metadata": {}
        },
        {
          "output_type": "display_data",
          "data": {
            "text/plain": "<IPython.core.display.HTML object>",
            "text/html": "<style>\n    table.wandb td:nth-child(1) { padding: 0 10px; text-align: left ; width: auto;} td:nth-child(2) {text-align: left ; width: 100%}\n    .wandb-row { display: flex; flex-direction: row; flex-wrap: wrap; justify-content: flex-start; width: 100% }\n    .wandb-col { display: flex; flex-direction: column; flex-basis: 100%; flex: 1; padding: 10px; }\n    </style>\n<div class=\"wandb-row\"><div class=\"wandb-col\"><h3>Run history:</h3><br/><table class=\"wandb\"><tr><td>train_accuracy</td><td>▅▇█▁▁▁▁▁▁▁</td></tr><tr><td>train_loss</td><td>▆▃▁███████</td></tr><tr><td>val_accuracy</td><td>▅▇█▁▁▁▁▁▁▁</td></tr><tr><td>val_loss</td><td>▅▂▁███████</td></tr></table><br/></div><div class=\"wandb-col\"><h3>Run summary:</h3><br/><table class=\"wandb\"><tr><td>train_accuracy</td><td>10.1625</td></tr><tr><td>train_loss</td><td>18419.80424</td></tr><tr><td>val_accuracy</td><td>9.35468</td></tr><tr><td>val_loss</td><td>4718.00558</td></tr></table><br/></div></div>"
          },
          "metadata": {}
        },
        {
          "output_type": "display_data",
          "data": {
            "text/plain": "<IPython.core.display.HTML object>",
            "text/html": " View run <strong style=\"color:#cdcd00\">neurons128optimizeradamactivFunmish</strong> at: <a href='https://wandb.ai/dlassignment/DL_assignment_2/runs/slf85qan' target=\"_blank\">https://wandb.ai/dlassignment/DL_assignment_2/runs/slf85qan</a><br/>Synced 6 W&B file(s), 0 media file(s), 0 artifact file(s) and 0 other file(s)"
          },
          "metadata": {}
        },
        {
          "output_type": "display_data",
          "data": {
            "text/plain": "<IPython.core.display.HTML object>",
            "text/html": "Find logs at: <code>./wandb/run-20240404_070813-slf85qan/logs</code>"
          },
          "metadata": {}
        },
        {
          "name": "stderr",
          "text": "\u001b[34m\u001b[1mwandb\u001b[0m: Agent Starting Run: fdegxkvx with config:\n\u001b[34m\u001b[1mwandb\u001b[0m: \tactivFun: relu\n\u001b[34m\u001b[1mwandb\u001b[0m: \taug: no\n\u001b[34m\u001b[1mwandb\u001b[0m: \tbatchNorm: yes\n\u001b[34m\u001b[1mwandb\u001b[0m: \tbatchSize: 32\n\u001b[34m\u001b[1mwandb\u001b[0m: \tdropOut: 0.2\n\u001b[34m\u001b[1mwandb\u001b[0m: \tlearning_rate: 0.0001\n\u001b[34m\u001b[1mwandb\u001b[0m: \tneurons: 256\n\u001b[34m\u001b[1mwandb\u001b[0m: \tnumFilters: 64\n\u001b[34m\u001b[1mwandb\u001b[0m: \tnum_epochs: 5\n\u001b[34m\u001b[1mwandb\u001b[0m: \toptimizer: adam\n\u001b[34m\u001b[1mwandb\u001b[0m: \torg: 0\n\u001b[34m\u001b[1mwandb\u001b[0m: \tsizeFilter: 5\n\u001b[34m\u001b[1mwandb\u001b[0m: \u001b[33mWARNING\u001b[0m Ignored wandb.init() arg project when running a sweep.\n",
          "output_type": "stream"
        },
        {
          "output_type": "display_data",
          "data": {
            "text/plain": "<IPython.core.display.HTML object>",
            "text/html": "wandb version 0.16.6 is available!  To upgrade, please run:\n $ pip install wandb --upgrade"
          },
          "metadata": {}
        },
        {
          "output_type": "display_data",
          "data": {
            "text/plain": "<IPython.core.display.HTML object>",
            "text/html": "Tracking run with wandb version 0.16.4"
          },
          "metadata": {}
        },
        {
          "output_type": "display_data",
          "data": {
            "text/plain": "<IPython.core.display.HTML object>",
            "text/html": "Run data is saved locally in <code>/kaggle/working/wandb/run-20240404_072741-fdegxkvx</code>"
          },
          "metadata": {}
        },
        {
          "output_type": "display_data",
          "data": {
            "text/plain": "<IPython.core.display.HTML object>",
            "text/html": "Syncing run <strong><a href='https://wandb.ai/dlassignment/DL_assignment_2/runs/fdegxkvx' target=\"_blank\">fragrant-sweep-4</a></strong> to <a href='https://wandb.ai/dlassignment/DL_assignment_2' target=\"_blank\">Weights & Biases</a> (<a href='https://wandb.me/run' target=\"_blank\">docs</a>)<br/>Sweep page: <a href='https://wandb.ai/dlassignment/DL_assignment_2/sweeps/0ou49no7' target=\"_blank\">https://wandb.ai/dlassignment/DL_assignment_2/sweeps/0ou49no7</a>"
          },
          "metadata": {}
        },
        {
          "output_type": "display_data",
          "data": {
            "text/plain": "<IPython.core.display.HTML object>",
            "text/html": " View project at <a href='https://wandb.ai/dlassignment/DL_assignment_2' target=\"_blank\">https://wandb.ai/dlassignment/DL_assignment_2</a>"
          },
          "metadata": {}
        },
        {
          "output_type": "display_data",
          "data": {
            "text/plain": "<IPython.core.display.HTML object>",
            "text/html": " View sweep at <a href='https://wandb.ai/dlassignment/DL_assignment_2/sweeps/0ou49no7' target=\"_blank\">https://wandb.ai/dlassignment/DL_assignment_2/sweeps/0ou49no7</a>"
          },
          "metadata": {}
        },
        {
          "output_type": "display_data",
          "data": {
            "text/plain": "<IPython.core.display.HTML object>",
            "text/html": " View run at <a href='https://wandb.ai/dlassignment/DL_assignment_2/runs/fdegxkvx' target=\"_blank\">https://wandb.ai/dlassignment/DL_assignment_2/runs/fdegxkvx</a>"
          },
          "metadata": {}
        },
        {
          "name": "stderr",
          "text": "\u001b[34m\u001b[1mwandb\u001b[0m: \u001b[33mWARNING\u001b[0m Ignored wandb.init() arg project when running a sweep.\n",
          "output_type": "stream"
        },
        {
          "output_type": "display_data",
          "data": {
            "text/plain": "<IPython.core.display.HTML object>",
            "text/html": "Finishing last run (ID:fdegxkvx) before initializing another..."
          },
          "metadata": {}
        },
        {
          "output_type": "display_data",
          "data": {
            "text/plain": "VBox(children=(Label(value='0.000 MB of 0.000 MB uploaded\\r'), FloatProgress(value=1.0, max=1.0)))",
            "application/vnd.jupyter.widget-view+json": {
              "version_major": 2,
              "version_minor": 0,
              "model_id": ""
            }
          },
          "metadata": {}
        },
        {
          "output_type": "display_data",
          "data": {
            "text/plain": "<IPython.core.display.HTML object>",
            "text/html": " View run <strong style=\"color:#cdcd00\">fragrant-sweep-4</strong> at: <a href='https://wandb.ai/dlassignment/DL_assignment_2/runs/fdegxkvx' target=\"_blank\">https://wandb.ai/dlassignment/DL_assignment_2/runs/fdegxkvx</a><br/>Synced 6 W&B file(s), 0 media file(s), 0 artifact file(s) and 0 other file(s)"
          },
          "metadata": {}
        },
        {
          "output_type": "display_data",
          "data": {
            "text/plain": "<IPython.core.display.HTML object>",
            "text/html": "Find logs at: <code>./wandb/run-20240404_072741-fdegxkvx/logs</code>"
          },
          "metadata": {}
        },
        {
          "output_type": "display_data",
          "data": {
            "text/plain": "<IPython.core.display.HTML object>",
            "text/html": "Successfully finished last run (ID:fdegxkvx). Initializing new run:<br/>"
          },
          "metadata": {}
        },
        {
          "output_type": "display_data",
          "data": {
            "text/plain": "<IPython.core.display.HTML object>",
            "text/html": "wandb version 0.16.6 is available!  To upgrade, please run:\n $ pip install wandb --upgrade"
          },
          "metadata": {}
        },
        {
          "output_type": "display_data",
          "data": {
            "text/plain": "<IPython.core.display.HTML object>",
            "text/html": "Tracking run with wandb version 0.16.4"
          },
          "metadata": {}
        },
        {
          "output_type": "display_data",
          "data": {
            "text/plain": "<IPython.core.display.HTML object>",
            "text/html": "Run data is saved locally in <code>/kaggle/working/wandb/run-20240404_072813-fdegxkvx</code>"
          },
          "metadata": {}
        },
        {
          "output_type": "display_data",
          "data": {
            "text/plain": "<IPython.core.display.HTML object>",
            "text/html": "Syncing run <strong><a href='https://wandb.ai/dlassignment/DL_assignment_2/runs/fdegxkvx' target=\"_blank\">neurons256optimizeradamactivFunrelu</a></strong> to <a href='https://wandb.ai/dlassignment/DL_assignment_2' target=\"_blank\">Weights & Biases</a> (<a href='https://wandb.me/run' target=\"_blank\">docs</a>)<br/>Sweep page: <a href='https://wandb.ai/dlassignment/DL_assignment_2/sweeps/0ou49no7' target=\"_blank\">https://wandb.ai/dlassignment/DL_assignment_2/sweeps/0ou49no7</a>"
          },
          "metadata": {}
        },
        {
          "output_type": "display_data",
          "data": {
            "text/plain": "<IPython.core.display.HTML object>",
            "text/html": " View project at <a href='https://wandb.ai/dlassignment/DL_assignment_2' target=\"_blank\">https://wandb.ai/dlassignment/DL_assignment_2</a>"
          },
          "metadata": {}
        },
        {
          "output_type": "display_data",
          "data": {
            "text/plain": "<IPython.core.display.HTML object>",
            "text/html": " View sweep at <a href='https://wandb.ai/dlassignment/DL_assignment_2/sweeps/0ou49no7' target=\"_blank\">https://wandb.ai/dlassignment/DL_assignment_2/sweeps/0ou49no7</a>"
          },
          "metadata": {}
        },
        {
          "output_type": "display_data",
          "data": {
            "text/plain": "<IPython.core.display.HTML object>",
            "text/html": " View run at <a href='https://wandb.ai/dlassignment/DL_assignment_2/runs/fdegxkvx' target=\"_blank\">https://wandb.ai/dlassignment/DL_assignment_2/runs/fdegxkvx</a>"
          },
          "metadata": {}
        },
        {
          "name": "stderr",
          "text": "100%|██████████| 250/250 [00:56<00:00,  4.45it/s]\n",
          "output_type": "stream"
        },
        {
          "name": "stdout",
          "text": "train_accuracy:33.9000,train_loss:15099.4092\nvalidation_accuracy:32.9665,validation_loss:3931.0523\n",
          "output_type": "stream"
        },
        {
          "name": "stderr",
          "text": "100%|██████████| 250/250 [00:48<00:00,  5.17it/s]\n",
          "output_type": "stream"
        },
        {
          "name": "stdout",
          "text": "train_accuracy:36.7375,train_loss:14460.2009\nvalidation_accuracy:34.9675,validation_loss:3834.1634\n",
          "output_type": "stream"
        },
        {
          "name": "stderr",
          "text": "100%|██████████| 250/250 [00:49<00:00,  5.01it/s]\n",
          "output_type": "stream"
        },
        {
          "name": "stdout",
          "text": "train_accuracy:38.5625,train_loss:13895.7518\nvalidation_accuracy:35.1176,validation_loss:3747.7762\n",
          "output_type": "stream"
        },
        {
          "name": "stderr",
          "text": "100%|██████████| 250/250 [00:50<00:00,  4.97it/s]\n",
          "output_type": "stream"
        },
        {
          "name": "stdout",
          "text": "train_accuracy:44.6875,train_loss:12942.8676\nvalidation_accuracy:37.5688,validation_loss:3596.5272\n",
          "output_type": "stream"
        },
        {
          "name": "stderr",
          "text": "100%|██████████| 250/250 [00:48<00:00,  5.14it/s]\n",
          "output_type": "stream"
        },
        {
          "name": "stdout",
          "text": "train_accuracy:43.4500,train_loss:12936.4235\nvalidation_accuracy:38.1691,validation_loss:3630.2759\n",
          "output_type": "stream"
        },
        {
          "output_type": "display_data",
          "data": {
            "text/plain": "VBox(children=(Label(value='0.001 MB of 0.001 MB uploaded\\r'), FloatProgress(value=1.0, max=1.0)))",
            "application/vnd.jupyter.widget-view+json": {
              "version_major": 2,
              "version_minor": 0,
              "model_id": ""
            }
          },
          "metadata": {}
        },
        {
          "output_type": "display_data",
          "data": {
            "text/plain": "<IPython.core.display.HTML object>",
            "text/html": "<style>\n    table.wandb td:nth-child(1) { padding: 0 10px; text-align: left ; width: auto;} td:nth-child(2) {text-align: left ; width: 100%}\n    .wandb-row { display: flex; flex-direction: row; flex-wrap: wrap; justify-content: flex-start; width: 100% }\n    .wandb-col { display: flex; flex-direction: column; flex-basis: 100%; flex: 1; padding: 10px; }\n    </style>\n<div class=\"wandb-row\"><div class=\"wandb-col\"><h3>Run history:</h3><br/><table class=\"wandb\"><tr><td>train_accuracy</td><td>▁▃▄█▇</td></tr><tr><td>train_loss</td><td>█▆▄▁▁</td></tr><tr><td>val_accuracy</td><td>▁▄▄▇█</td></tr><tr><td>val_loss</td><td>█▆▄▁▂</td></tr></table><br/></div><div class=\"wandb-col\"><h3>Run summary:</h3><br/><table class=\"wandb\"><tr><td>train_accuracy</td><td>43.45</td></tr><tr><td>train_loss</td><td>12936.42355</td></tr><tr><td>val_accuracy</td><td>38.16908</td></tr><tr><td>val_loss</td><td>3630.27593</td></tr></table><br/></div></div>"
          },
          "metadata": {}
        },
        {
          "output_type": "display_data",
          "data": {
            "text/plain": "<IPython.core.display.HTML object>",
            "text/html": " View run <strong style=\"color:#cdcd00\">neurons256optimizeradamactivFunrelu</strong> at: <a href='https://wandb.ai/dlassignment/DL_assignment_2/runs/fdegxkvx' target=\"_blank\">https://wandb.ai/dlassignment/DL_assignment_2/runs/fdegxkvx</a><br/>Synced 6 W&B file(s), 0 media file(s), 0 artifact file(s) and 0 other file(s)"
          },
          "metadata": {}
        },
        {
          "output_type": "display_data",
          "data": {
            "text/plain": "<IPython.core.display.HTML object>",
            "text/html": "Find logs at: <code>./wandb/run-20240404_072813-fdegxkvx/logs</code>"
          },
          "metadata": {}
        },
        {
          "name": "stderr",
          "text": "\u001b[34m\u001b[1mwandb\u001b[0m: Agent Starting Run: 2jpwp2lz with config:\n\u001b[34m\u001b[1mwandb\u001b[0m: \tactivFun: mish\n\u001b[34m\u001b[1mwandb\u001b[0m: \taug: no\n\u001b[34m\u001b[1mwandb\u001b[0m: \tbatchNorm: no\n\u001b[34m\u001b[1mwandb\u001b[0m: \tbatchSize: 64\n\u001b[34m\u001b[1mwandb\u001b[0m: \tdropOut: 0.4\n\u001b[34m\u001b[1mwandb\u001b[0m: \tlearning_rate: 0.0001\n\u001b[34m\u001b[1mwandb\u001b[0m: \tneurons: 256\n\u001b[34m\u001b[1mwandb\u001b[0m: \tnumFilters: 32\n\u001b[34m\u001b[1mwandb\u001b[0m: \tnum_epochs: 5\n\u001b[34m\u001b[1mwandb\u001b[0m: \toptimizer: nadam\n\u001b[34m\u001b[1mwandb\u001b[0m: \torg: 1\n\u001b[34m\u001b[1mwandb\u001b[0m: \tsizeFilter: 5\n\u001b[34m\u001b[1mwandb\u001b[0m: \u001b[33mWARNING\u001b[0m Ignored wandb.init() arg project when running a sweep.\n",
          "output_type": "stream"
        },
        {
          "output_type": "display_data",
          "data": {
            "text/plain": "<IPython.core.display.HTML object>",
            "text/html": "wandb version 0.16.6 is available!  To upgrade, please run:\n $ pip install wandb --upgrade"
          },
          "metadata": {}
        },
        {
          "output_type": "display_data",
          "data": {
            "text/plain": "<IPython.core.display.HTML object>",
            "text/html": "Tracking run with wandb version 0.16.4"
          },
          "metadata": {}
        },
        {
          "output_type": "display_data",
          "data": {
            "text/plain": "<IPython.core.display.HTML object>",
            "text/html": "Run data is saved locally in <code>/kaggle/working/wandb/run-20240404_073841-2jpwp2lz</code>"
          },
          "metadata": {}
        },
        {
          "output_type": "display_data",
          "data": {
            "text/plain": "<IPython.core.display.HTML object>",
            "text/html": "Syncing run <strong><a href='https://wandb.ai/dlassignment/DL_assignment_2/runs/2jpwp2lz' target=\"_blank\">gallant-sweep-5</a></strong> to <a href='https://wandb.ai/dlassignment/DL_assignment_2' target=\"_blank\">Weights & Biases</a> (<a href='https://wandb.me/run' target=\"_blank\">docs</a>)<br/>Sweep page: <a href='https://wandb.ai/dlassignment/DL_assignment_2/sweeps/0ou49no7' target=\"_blank\">https://wandb.ai/dlassignment/DL_assignment_2/sweeps/0ou49no7</a>"
          },
          "metadata": {}
        },
        {
          "output_type": "display_data",
          "data": {
            "text/plain": "<IPython.core.display.HTML object>",
            "text/html": " View project at <a href='https://wandb.ai/dlassignment/DL_assignment_2' target=\"_blank\">https://wandb.ai/dlassignment/DL_assignment_2</a>"
          },
          "metadata": {}
        },
        {
          "output_type": "display_data",
          "data": {
            "text/plain": "<IPython.core.display.HTML object>",
            "text/html": " View sweep at <a href='https://wandb.ai/dlassignment/DL_assignment_2/sweeps/0ou49no7' target=\"_blank\">https://wandb.ai/dlassignment/DL_assignment_2/sweeps/0ou49no7</a>"
          },
          "metadata": {}
        },
        {
          "output_type": "display_data",
          "data": {
            "text/plain": "<IPython.core.display.HTML object>",
            "text/html": " View run at <a href='https://wandb.ai/dlassignment/DL_assignment_2/runs/2jpwp2lz' target=\"_blank\">https://wandb.ai/dlassignment/DL_assignment_2/runs/2jpwp2lz</a>"
          },
          "metadata": {}
        },
        {
          "name": "stderr",
          "text": "\u001b[34m\u001b[1mwandb\u001b[0m: \u001b[33mWARNING\u001b[0m Ignored wandb.init() arg project when running a sweep.\n",
          "output_type": "stream"
        },
        {
          "output_type": "display_data",
          "data": {
            "text/plain": "<IPython.core.display.HTML object>",
            "text/html": "Finishing last run (ID:2jpwp2lz) before initializing another..."
          },
          "metadata": {}
        },
        {
          "output_type": "display_data",
          "data": {
            "text/plain": "VBox(children=(Label(value='0.000 MB of 0.000 MB uploaded\\r'), FloatProgress(value=1.0, max=1.0)))",
            "application/vnd.jupyter.widget-view+json": {
              "version_major": 2,
              "version_minor": 0,
              "model_id": ""
            }
          },
          "metadata": {}
        },
        {
          "output_type": "display_data",
          "data": {
            "text/plain": "<IPython.core.display.HTML object>",
            "text/html": " View run <strong style=\"color:#cdcd00\">gallant-sweep-5</strong> at: <a href='https://wandb.ai/dlassignment/DL_assignment_2/runs/2jpwp2lz' target=\"_blank\">https://wandb.ai/dlassignment/DL_assignment_2/runs/2jpwp2lz</a><br/>Synced 6 W&B file(s), 0 media file(s), 0 artifact file(s) and 0 other file(s)"
          },
          "metadata": {}
        },
        {
          "output_type": "display_data",
          "data": {
            "text/plain": "<IPython.core.display.HTML object>",
            "text/html": "Find logs at: <code>./wandb/run-20240404_073841-2jpwp2lz/logs</code>"
          },
          "metadata": {}
        },
        {
          "output_type": "display_data",
          "data": {
            "text/plain": "<IPython.core.display.HTML object>",
            "text/html": "Successfully finished last run (ID:2jpwp2lz). Initializing new run:<br/>"
          },
          "metadata": {}
        },
        {
          "output_type": "display_data",
          "data": {
            "text/plain": "<IPython.core.display.HTML object>",
            "text/html": "wandb version 0.16.6 is available!  To upgrade, please run:\n $ pip install wandb --upgrade"
          },
          "metadata": {}
        },
        {
          "output_type": "display_data",
          "data": {
            "text/plain": "<IPython.core.display.HTML object>",
            "text/html": "Tracking run with wandb version 0.16.4"
          },
          "metadata": {}
        },
        {
          "output_type": "display_data",
          "data": {
            "text/plain": "<IPython.core.display.HTML object>",
            "text/html": "Run data is saved locally in <code>/kaggle/working/wandb/run-20240404_073912-2jpwp2lz</code>"
          },
          "metadata": {}
        },
        {
          "output_type": "display_data",
          "data": {
            "text/plain": "<IPython.core.display.HTML object>",
            "text/html": "Syncing run <strong><a href='https://wandb.ai/dlassignment/DL_assignment_2/runs/2jpwp2lz' target=\"_blank\">neurons256optimizernadamactivFunmish</a></strong> to <a href='https://wandb.ai/dlassignment/DL_assignment_2' target=\"_blank\">Weights & Biases</a> (<a href='https://wandb.me/run' target=\"_blank\">docs</a>)<br/>Sweep page: <a href='https://wandb.ai/dlassignment/DL_assignment_2/sweeps/0ou49no7' target=\"_blank\">https://wandb.ai/dlassignment/DL_assignment_2/sweeps/0ou49no7</a>"
          },
          "metadata": {}
        },
        {
          "output_type": "display_data",
          "data": {
            "text/plain": "<IPython.core.display.HTML object>",
            "text/html": " View project at <a href='https://wandb.ai/dlassignment/DL_assignment_2' target=\"_blank\">https://wandb.ai/dlassignment/DL_assignment_2</a>"
          },
          "metadata": {}
        },
        {
          "output_type": "display_data",
          "data": {
            "text/plain": "<IPython.core.display.HTML object>",
            "text/html": " View sweep at <a href='https://wandb.ai/dlassignment/DL_assignment_2/sweeps/0ou49no7' target=\"_blank\">https://wandb.ai/dlassignment/DL_assignment_2/sweeps/0ou49no7</a>"
          },
          "metadata": {}
        },
        {
          "output_type": "display_data",
          "data": {
            "text/plain": "<IPython.core.display.HTML object>",
            "text/html": " View run at <a href='https://wandb.ai/dlassignment/DL_assignment_2/runs/2jpwp2lz' target=\"_blank\">https://wandb.ai/dlassignment/DL_assignment_2/runs/2jpwp2lz</a>"
          },
          "metadata": {}
        },
        {
          "name": "stderr",
          "text": "100%|██████████| 125/125 [00:56<00:00,  2.22it/s]\n",
          "output_type": "stream"
        },
        {
          "name": "stdout",
          "text": "train_accuracy:27.5750,train_loss:16330.8320\nvalidation_accuracy:26.0130,validation_loss:4184.4113\n",
          "output_type": "stream"
        },
        {
          "name": "stderr",
          "text": "100%|██████████| 125/125 [00:49<00:00,  2.52it/s]\n",
          "output_type": "stream"
        },
        {
          "name": "stdout",
          "text": "train_accuracy:31.3250,train_loss:15454.2870\nvalidation_accuracy:29.2646,validation_loss:3994.0834\n",
          "output_type": "stream"
        },
        {
          "name": "stderr",
          "text": "100%|██████████| 125/125 [00:47<00:00,  2.63it/s]\n",
          "output_type": "stream"
        },
        {
          "name": "stdout",
          "text": "train_accuracy:34.0375,train_loss:15038.2724\nvalidation_accuracy:31.2156,validation_loss:3987.3763\n",
          "output_type": "stream"
        },
        {
          "name": "stderr",
          "text": "100%|██████████| 125/125 [00:48<00:00,  2.56it/s]\n",
          "output_type": "stream"
        },
        {
          "name": "stdout",
          "text": "train_accuracy:35.4500,train_loss:14620.9722\nvalidation_accuracy:31.0155,validation_loss:3883.0594\n",
          "output_type": "stream"
        },
        {
          "name": "stderr",
          "text": "100%|██████████| 125/125 [00:49<00:00,  2.55it/s]\n",
          "output_type": "stream"
        },
        {
          "name": "stdout",
          "text": "train_accuracy:40.2625,train_loss:13977.8367\nvalidation_accuracy:37.4187,validation_loss:3729.1387\n",
          "output_type": "stream"
        },
        {
          "output_type": "display_data",
          "data": {
            "text/plain": "VBox(children=(Label(value='0.001 MB of 0.001 MB uploaded\\r'), FloatProgress(value=1.0, max=1.0)))",
            "application/vnd.jupyter.widget-view+json": {
              "version_major": 2,
              "version_minor": 0,
              "model_id": ""
            }
          },
          "metadata": {}
        },
        {
          "output_type": "display_data",
          "data": {
            "text/plain": "<IPython.core.display.HTML object>",
            "text/html": "<style>\n    table.wandb td:nth-child(1) { padding: 0 10px; text-align: left ; width: auto;} td:nth-child(2) {text-align: left ; width: 100%}\n    .wandb-row { display: flex; flex-direction: row; flex-wrap: wrap; justify-content: flex-start; width: 100% }\n    .wandb-col { display: flex; flex-direction: column; flex-basis: 100%; flex: 1; padding: 10px; }\n    </style>\n<div class=\"wandb-row\"><div class=\"wandb-col\"><h3>Run history:</h3><br/><table class=\"wandb\"><tr><td>train_accuracy</td><td>▁▃▅▅█</td></tr><tr><td>train_loss</td><td>█▅▄▃▁</td></tr><tr><td>val_accuracy</td><td>▁▃▄▄█</td></tr><tr><td>val_loss</td><td>█▅▅▃▁</td></tr></table><br/></div><div class=\"wandb-col\"><h3>Run summary:</h3><br/><table class=\"wandb\"><tr><td>train_accuracy</td><td>40.2625</td></tr><tr><td>train_loss</td><td>13977.83672</td></tr><tr><td>val_accuracy</td><td>37.41871</td></tr><tr><td>val_loss</td><td>3729.13875</td></tr></table><br/></div></div>"
          },
          "metadata": {}
        },
        {
          "output_type": "display_data",
          "data": {
            "text/plain": "<IPython.core.display.HTML object>",
            "text/html": " View run <strong style=\"color:#cdcd00\">neurons256optimizernadamactivFunmish</strong> at: <a href='https://wandb.ai/dlassignment/DL_assignment_2/runs/2jpwp2lz' target=\"_blank\">https://wandb.ai/dlassignment/DL_assignment_2/runs/2jpwp2lz</a><br/>Synced 6 W&B file(s), 0 media file(s), 0 artifact file(s) and 0 other file(s)"
          },
          "metadata": {}
        },
        {
          "output_type": "display_data",
          "data": {
            "text/plain": "<IPython.core.display.HTML object>",
            "text/html": "Find logs at: <code>./wandb/run-20240404_073912-2jpwp2lz/logs</code>"
          },
          "metadata": {}
        },
        {
          "name": "stderr",
          "text": "\u001b[34m\u001b[1mwandb\u001b[0m: Agent Starting Run: lopf2dtv with config:\n\u001b[34m\u001b[1mwandb\u001b[0m: \tactivFun: mish\n\u001b[34m\u001b[1mwandb\u001b[0m: \taug: no\n\u001b[34m\u001b[1mwandb\u001b[0m: \tbatchNorm: no\n\u001b[34m\u001b[1mwandb\u001b[0m: \tbatchSize: 64\n\u001b[34m\u001b[1mwandb\u001b[0m: \tdropOut: 0.2\n\u001b[34m\u001b[1mwandb\u001b[0m: \tlearning_rate: 0.001\n\u001b[34m\u001b[1mwandb\u001b[0m: \tneurons: 256\n\u001b[34m\u001b[1mwandb\u001b[0m: \tnumFilters: 32\n\u001b[34m\u001b[1mwandb\u001b[0m: \tnum_epochs: 5\n\u001b[34m\u001b[1mwandb\u001b[0m: \toptimizer: nadam\n\u001b[34m\u001b[1mwandb\u001b[0m: \torg: 1\n\u001b[34m\u001b[1mwandb\u001b[0m: \tsizeFilter: 5\n\u001b[34m\u001b[1mwandb\u001b[0m: \u001b[33mWARNING\u001b[0m Ignored wandb.init() arg project when running a sweep.\n",
          "output_type": "stream"
        },
        {
          "output_type": "display_data",
          "data": {
            "text/plain": "<IPython.core.display.HTML object>",
            "text/html": "wandb version 0.16.6 is available!  To upgrade, please run:\n $ pip install wandb --upgrade"
          },
          "metadata": {}
        },
        {
          "output_type": "display_data",
          "data": {
            "text/plain": "<IPython.core.display.HTML object>",
            "text/html": "Tracking run with wandb version 0.16.4"
          },
          "metadata": {}
        },
        {
          "output_type": "display_data",
          "data": {
            "text/plain": "<IPython.core.display.HTML object>",
            "text/html": "Run data is saved locally in <code>/kaggle/working/wandb/run-20240404_074935-lopf2dtv</code>"
          },
          "metadata": {}
        },
        {
          "output_type": "display_data",
          "data": {
            "text/plain": "<IPython.core.display.HTML object>",
            "text/html": "Syncing run <strong><a href='https://wandb.ai/dlassignment/DL_assignment_2/runs/lopf2dtv' target=\"_blank\">earthy-sweep-6</a></strong> to <a href='https://wandb.ai/dlassignment/DL_assignment_2' target=\"_blank\">Weights & Biases</a> (<a href='https://wandb.me/run' target=\"_blank\">docs</a>)<br/>Sweep page: <a href='https://wandb.ai/dlassignment/DL_assignment_2/sweeps/0ou49no7' target=\"_blank\">https://wandb.ai/dlassignment/DL_assignment_2/sweeps/0ou49no7</a>"
          },
          "metadata": {}
        },
        {
          "output_type": "display_data",
          "data": {
            "text/plain": "<IPython.core.display.HTML object>",
            "text/html": " View project at <a href='https://wandb.ai/dlassignment/DL_assignment_2' target=\"_blank\">https://wandb.ai/dlassignment/DL_assignment_2</a>"
          },
          "metadata": {}
        },
        {
          "output_type": "display_data",
          "data": {
            "text/plain": "<IPython.core.display.HTML object>",
            "text/html": " View sweep at <a href='https://wandb.ai/dlassignment/DL_assignment_2/sweeps/0ou49no7' target=\"_blank\">https://wandb.ai/dlassignment/DL_assignment_2/sweeps/0ou49no7</a>"
          },
          "metadata": {}
        },
        {
          "output_type": "display_data",
          "data": {
            "text/plain": "<IPython.core.display.HTML object>",
            "text/html": " View run at <a href='https://wandb.ai/dlassignment/DL_assignment_2/runs/lopf2dtv' target=\"_blank\">https://wandb.ai/dlassignment/DL_assignment_2/runs/lopf2dtv</a>"
          },
          "metadata": {}
        },
        {
          "name": "stderr",
          "text": "\u001b[34m\u001b[1mwandb\u001b[0m: \u001b[33mWARNING\u001b[0m Ignored wandb.init() arg project when running a sweep.\n",
          "output_type": "stream"
        },
        {
          "output_type": "display_data",
          "data": {
            "text/plain": "<IPython.core.display.HTML object>",
            "text/html": "Finishing last run (ID:lopf2dtv) before initializing another..."
          },
          "metadata": {}
        },
        {
          "output_type": "display_data",
          "data": {
            "text/plain": "VBox(children=(Label(value='0.000 MB of 0.000 MB uploaded\\r'), FloatProgress(value=1.0, max=1.0)))",
            "application/vnd.jupyter.widget-view+json": {
              "version_major": 2,
              "version_minor": 0,
              "model_id": ""
            }
          },
          "metadata": {}
        },
        {
          "output_type": "display_data",
          "data": {
            "text/plain": "<IPython.core.display.HTML object>",
            "text/html": " View run <strong style=\"color:#cdcd00\">earthy-sweep-6</strong> at: <a href='https://wandb.ai/dlassignment/DL_assignment_2/runs/lopf2dtv' target=\"_blank\">https://wandb.ai/dlassignment/DL_assignment_2/runs/lopf2dtv</a><br/>Synced 6 W&B file(s), 0 media file(s), 0 artifact file(s) and 0 other file(s)"
          },
          "metadata": {}
        },
        {
          "output_type": "display_data",
          "data": {
            "text/plain": "<IPython.core.display.HTML object>",
            "text/html": "Find logs at: <code>./wandb/run-20240404_074935-lopf2dtv/logs</code>"
          },
          "metadata": {}
        },
        {
          "output_type": "display_data",
          "data": {
            "text/plain": "<IPython.core.display.HTML object>",
            "text/html": "Successfully finished last run (ID:lopf2dtv). Initializing new run:<br/>"
          },
          "metadata": {}
        },
        {
          "output_type": "display_data",
          "data": {
            "text/plain": "<IPython.core.display.HTML object>",
            "text/html": "wandb version 0.16.6 is available!  To upgrade, please run:\n $ pip install wandb --upgrade"
          },
          "metadata": {}
        },
        {
          "output_type": "display_data",
          "data": {
            "text/plain": "<IPython.core.display.HTML object>",
            "text/html": "Tracking run with wandb version 0.16.4"
          },
          "metadata": {}
        },
        {
          "output_type": "display_data",
          "data": {
            "text/plain": "<IPython.core.display.HTML object>",
            "text/html": "Run data is saved locally in <code>/kaggle/working/wandb/run-20240404_075007-lopf2dtv</code>"
          },
          "metadata": {}
        },
        {
          "output_type": "display_data",
          "data": {
            "text/plain": "<IPython.core.display.HTML object>",
            "text/html": "Syncing run <strong><a href='https://wandb.ai/dlassignment/DL_assignment_2/runs/lopf2dtv' target=\"_blank\">neurons256optimizernadamactivFunmish</a></strong> to <a href='https://wandb.ai/dlassignment/DL_assignment_2' target=\"_blank\">Weights & Biases</a> (<a href='https://wandb.me/run' target=\"_blank\">docs</a>)<br/>Sweep page: <a href='https://wandb.ai/dlassignment/DL_assignment_2/sweeps/0ou49no7' target=\"_blank\">https://wandb.ai/dlassignment/DL_assignment_2/sweeps/0ou49no7</a>"
          },
          "metadata": {}
        },
        {
          "output_type": "display_data",
          "data": {
            "text/plain": "<IPython.core.display.HTML object>",
            "text/html": " View project at <a href='https://wandb.ai/dlassignment/DL_assignment_2' target=\"_blank\">https://wandb.ai/dlassignment/DL_assignment_2</a>"
          },
          "metadata": {}
        },
        {
          "output_type": "display_data",
          "data": {
            "text/plain": "<IPython.core.display.HTML object>",
            "text/html": " View sweep at <a href='https://wandb.ai/dlassignment/DL_assignment_2/sweeps/0ou49no7' target=\"_blank\">https://wandb.ai/dlassignment/DL_assignment_2/sweeps/0ou49no7</a>"
          },
          "metadata": {}
        },
        {
          "output_type": "display_data",
          "data": {
            "text/plain": "<IPython.core.display.HTML object>",
            "text/html": " View run at <a href='https://wandb.ai/dlassignment/DL_assignment_2/runs/lopf2dtv' target=\"_blank\">https://wandb.ai/dlassignment/DL_assignment_2/runs/lopf2dtv</a>"
          },
          "metadata": {}
        },
        {
          "name": "stderr",
          "text": "100%|██████████| 125/125 [00:56<00:00,  2.22it/s]\n",
          "output_type": "stream"
        },
        {
          "name": "stdout",
          "text": "train_accuracy:24.6625,train_loss:16937.8221\nvalidation_accuracy:21.8609,validation_loss:4404.2223\n",
          "output_type": "stream"
        },
        {
          "name": "stderr",
          "text": "100%|██████████| 125/125 [00:48<00:00,  2.57it/s]\n",
          "output_type": "stream"
        },
        {
          "name": "stdout",
          "text": "train_accuracy:27.1750,train_loss:16392.2029\nvalidation_accuracy:26.3132,validation_loss:4198.0744\n",
          "output_type": "stream"
        },
        {
          "name": "stderr",
          "text": " 37%|███▋      | 46/125 [00:18<00:27,  2.82it/s]",
          "output_type": "stream"
        },
        {
          "name": "stdout",
          "text": "train_accuracy:9.7875,train_loss:32017379.5781\nvalidation_accuracy:10.3552,validation_loss:8137895.0469\n",
          "output_type": "stream"
        },
        {
          "name": "stderr",
          "text": "100%|██████████| 125/125 [00:49<00:00,  2.53it/s]\n",
          "output_type": "stream"
        },
        {
          "name": "stdout",
          "text": "train_accuracy:10.0500,train_loss:18422.4935\nvalidation_accuracy:9.8049,validation_loss:4719.2464\n",
          "output_type": "stream"
        },
        {
          "name": "stderr",
          "text": "100%|██████████| 125/125 [00:47<00:00,  2.61it/s]\n",
          "output_type": "stream"
        },
        {
          "name": "stdout",
          "text": "train_accuracy:10.2375,train_loss:18420.6223\nvalidation_accuracy:9.0545,validation_loss:4718.5292\n",
          "output_type": "stream"
        },
        {
          "output_type": "display_data",
          "data": {
            "text/plain": "VBox(children=(Label(value='0.001 MB of 0.001 MB uploaded\\r'), FloatProgress(value=1.0, max=1.0)))",
            "application/vnd.jupyter.widget-view+json": {
              "version_major": 2,
              "version_minor": 0,
              "model_id": ""
            }
          },
          "metadata": {}
        },
        {
          "output_type": "display_data",
          "data": {
            "text/plain": "<IPython.core.display.HTML object>",
            "text/html": "<style>\n    table.wandb td:nth-child(1) { padding: 0 10px; text-align: left ; width: auto;} td:nth-child(2) {text-align: left ; width: 100%}\n    .wandb-row { display: flex; flex-direction: row; flex-wrap: wrap; justify-content: flex-start; width: 100% }\n    .wandb-col { display: flex; flex-direction: column; flex-basis: 100%; flex: 1; padding: 10px; }\n    </style>\n<div class=\"wandb-row\"><div class=\"wandb-col\"><h3>Run history:</h3><br/><table class=\"wandb\"><tr><td>train_accuracy</td><td>▇█▁▁▁</td></tr><tr><td>train_loss</td><td>▁▁█▁▁</td></tr><tr><td>val_accuracy</td><td>▆█▂▁▁</td></tr><tr><td>val_loss</td><td>▁▁█▁▁</td></tr></table><br/></div><div class=\"wandb-col\"><h3>Run summary:</h3><br/><table class=\"wandb\"><tr><td>train_accuracy</td><td>10.2375</td></tr><tr><td>train_loss</td><td>18420.6223</td></tr><tr><td>val_accuracy</td><td>9.05453</td></tr><tr><td>val_loss</td><td>4718.52916</td></tr></table><br/></div></div>"
          },
          "metadata": {}
        },
        {
          "output_type": "display_data",
          "data": {
            "text/plain": "<IPython.core.display.HTML object>",
            "text/html": " View run <strong style=\"color:#cdcd00\">neurons256optimizernadamactivFunmish</strong> at: <a href='https://wandb.ai/dlassignment/DL_assignment_2/runs/lopf2dtv' target=\"_blank\">https://wandb.ai/dlassignment/DL_assignment_2/runs/lopf2dtv</a><br/>Synced 6 W&B file(s), 0 media file(s), 0 artifact file(s) and 0 other file(s)"
          },
          "metadata": {}
        },
        {
          "output_type": "display_data",
          "data": {
            "text/plain": "<IPython.core.display.HTML object>",
            "text/html": "Find logs at: <code>./wandb/run-20240404_075007-lopf2dtv/logs</code>"
          },
          "metadata": {}
        },
        {
          "name": "stderr",
          "text": "\u001b[34m\u001b[1mwandb\u001b[0m: Agent Starting Run: vfpseri7 with config:\n\u001b[34m\u001b[1mwandb\u001b[0m: \tactivFun: mish\n\u001b[34m\u001b[1mwandb\u001b[0m: \taug: no\n\u001b[34m\u001b[1mwandb\u001b[0m: \tbatchNorm: no\n\u001b[34m\u001b[1mwandb\u001b[0m: \tbatchSize: 32\n\u001b[34m\u001b[1mwandb\u001b[0m: \tdropOut: 0.4\n\u001b[34m\u001b[1mwandb\u001b[0m: \tlearning_rate: 0.0001\n\u001b[34m\u001b[1mwandb\u001b[0m: \tneurons: 128\n\u001b[34m\u001b[1mwandb\u001b[0m: \tnumFilters: 64\n\u001b[34m\u001b[1mwandb\u001b[0m: \tnum_epochs: 10\n\u001b[34m\u001b[1mwandb\u001b[0m: \toptimizer: adam\n\u001b[34m\u001b[1mwandb\u001b[0m: \torg: 0\n\u001b[34m\u001b[1mwandb\u001b[0m: \tsizeFilter: 3\n\u001b[34m\u001b[1mwandb\u001b[0m: \u001b[33mWARNING\u001b[0m Ignored wandb.init() arg project when running a sweep.\n",
          "output_type": "stream"
        },
        {
          "output_type": "display_data",
          "data": {
            "text/plain": "<IPython.core.display.HTML object>",
            "text/html": "wandb version 0.16.6 is available!  To upgrade, please run:\n $ pip install wandb --upgrade"
          },
          "metadata": {}
        },
        {
          "output_type": "display_data",
          "data": {
            "text/plain": "<IPython.core.display.HTML object>",
            "text/html": "Tracking run with wandb version 0.16.4"
          },
          "metadata": {}
        },
        {
          "output_type": "display_data",
          "data": {
            "text/plain": "<IPython.core.display.HTML object>",
            "text/html": "Run data is saved locally in <code>/kaggle/working/wandb/run-20240404_080029-vfpseri7</code>"
          },
          "metadata": {}
        },
        {
          "output_type": "display_data",
          "data": {
            "text/plain": "<IPython.core.display.HTML object>",
            "text/html": "Syncing run <strong><a href='https://wandb.ai/dlassignment/DL_assignment_2/runs/vfpseri7' target=\"_blank\">skilled-sweep-7</a></strong> to <a href='https://wandb.ai/dlassignment/DL_assignment_2' target=\"_blank\">Weights & Biases</a> (<a href='https://wandb.me/run' target=\"_blank\">docs</a>)<br/>Sweep page: <a href='https://wandb.ai/dlassignment/DL_assignment_2/sweeps/0ou49no7' target=\"_blank\">https://wandb.ai/dlassignment/DL_assignment_2/sweeps/0ou49no7</a>"
          },
          "metadata": {}
        },
        {
          "output_type": "display_data",
          "data": {
            "text/plain": "<IPython.core.display.HTML object>",
            "text/html": " View project at <a href='https://wandb.ai/dlassignment/DL_assignment_2' target=\"_blank\">https://wandb.ai/dlassignment/DL_assignment_2</a>"
          },
          "metadata": {}
        },
        {
          "output_type": "display_data",
          "data": {
            "text/plain": "<IPython.core.display.HTML object>",
            "text/html": " View sweep at <a href='https://wandb.ai/dlassignment/DL_assignment_2/sweeps/0ou49no7' target=\"_blank\">https://wandb.ai/dlassignment/DL_assignment_2/sweeps/0ou49no7</a>"
          },
          "metadata": {}
        },
        {
          "output_type": "display_data",
          "data": {
            "text/plain": "<IPython.core.display.HTML object>",
            "text/html": " View run at <a href='https://wandb.ai/dlassignment/DL_assignment_2/runs/vfpseri7' target=\"_blank\">https://wandb.ai/dlassignment/DL_assignment_2/runs/vfpseri7</a>"
          },
          "metadata": {}
        },
        {
          "name": "stderr",
          "text": "\u001b[34m\u001b[1mwandb\u001b[0m: \u001b[33mWARNING\u001b[0m Ignored wandb.init() arg project when running a sweep.\n",
          "output_type": "stream"
        },
        {
          "output_type": "display_data",
          "data": {
            "text/plain": "<IPython.core.display.HTML object>",
            "text/html": "Finishing last run (ID:vfpseri7) before initializing another..."
          },
          "metadata": {}
        },
        {
          "output_type": "display_data",
          "data": {
            "text/plain": "VBox(children=(Label(value='0.000 MB of 0.000 MB uploaded\\r'), FloatProgress(value=1.0, max=1.0)))",
            "application/vnd.jupyter.widget-view+json": {
              "version_major": 2,
              "version_minor": 0,
              "model_id": ""
            }
          },
          "metadata": {}
        },
        {
          "output_type": "display_data",
          "data": {
            "text/plain": "<IPython.core.display.HTML object>",
            "text/html": " View run <strong style=\"color:#cdcd00\">skilled-sweep-7</strong> at: <a href='https://wandb.ai/dlassignment/DL_assignment_2/runs/vfpseri7' target=\"_blank\">https://wandb.ai/dlassignment/DL_assignment_2/runs/vfpseri7</a><br/>Synced 6 W&B file(s), 0 media file(s), 0 artifact file(s) and 0 other file(s)"
          },
          "metadata": {}
        },
        {
          "output_type": "display_data",
          "data": {
            "text/plain": "<IPython.core.display.HTML object>",
            "text/html": "Find logs at: <code>./wandb/run-20240404_080029-vfpseri7/logs</code>"
          },
          "metadata": {}
        },
        {
          "output_type": "display_data",
          "data": {
            "text/plain": "<IPython.core.display.HTML object>",
            "text/html": "Successfully finished last run (ID:vfpseri7). Initializing new run:<br/>"
          },
          "metadata": {}
        },
        {
          "output_type": "display_data",
          "data": {
            "text/plain": "<IPython.core.display.HTML object>",
            "text/html": "wandb version 0.16.6 is available!  To upgrade, please run:\n $ pip install wandb --upgrade"
          },
          "metadata": {}
        },
        {
          "output_type": "display_data",
          "data": {
            "text/plain": "<IPython.core.display.HTML object>",
            "text/html": "Tracking run with wandb version 0.16.4"
          },
          "metadata": {}
        },
        {
          "output_type": "display_data",
          "data": {
            "text/plain": "<IPython.core.display.HTML object>",
            "text/html": "Run data is saved locally in <code>/kaggle/working/wandb/run-20240404_080101-vfpseri7</code>"
          },
          "metadata": {}
        },
        {
          "output_type": "display_data",
          "data": {
            "text/plain": "<IPython.core.display.HTML object>",
            "text/html": "Syncing run <strong><a href='https://wandb.ai/dlassignment/DL_assignment_2/runs/vfpseri7' target=\"_blank\">neurons128optimizeradamactivFunmish</a></strong> to <a href='https://wandb.ai/dlassignment/DL_assignment_2' target=\"_blank\">Weights & Biases</a> (<a href='https://wandb.me/run' target=\"_blank\">docs</a>)<br/>Sweep page: <a href='https://wandb.ai/dlassignment/DL_assignment_2/sweeps/0ou49no7' target=\"_blank\">https://wandb.ai/dlassignment/DL_assignment_2/sweeps/0ou49no7</a>"
          },
          "metadata": {}
        },
        {
          "output_type": "display_data",
          "data": {
            "text/plain": "<IPython.core.display.HTML object>",
            "text/html": " View project at <a href='https://wandb.ai/dlassignment/DL_assignment_2' target=\"_blank\">https://wandb.ai/dlassignment/DL_assignment_2</a>"
          },
          "metadata": {}
        },
        {
          "output_type": "display_data",
          "data": {
            "text/plain": "<IPython.core.display.HTML object>",
            "text/html": " View sweep at <a href='https://wandb.ai/dlassignment/DL_assignment_2/sweeps/0ou49no7' target=\"_blank\">https://wandb.ai/dlassignment/DL_assignment_2/sweeps/0ou49no7</a>"
          },
          "metadata": {}
        },
        {
          "output_type": "display_data",
          "data": {
            "text/plain": "<IPython.core.display.HTML object>",
            "text/html": " View run at <a href='https://wandb.ai/dlassignment/DL_assignment_2/runs/vfpseri7' target=\"_blank\">https://wandb.ai/dlassignment/DL_assignment_2/runs/vfpseri7</a>"
          },
          "metadata": {}
        },
        {
          "name": "stderr",
          "text": "100%|██████████| 250/250 [00:55<00:00,  4.49it/s]\n",
          "output_type": "stream"
        },
        {
          "name": "stdout",
          "text": "train_accuracy:28.7625,train_loss:16221.6086\nvalidation_accuracy:27.6638,validation_loss:4086.3857\n",
          "output_type": "stream"
        },
        {
          "name": "stderr",
          "text": "100%|██████████| 250/250 [00:49<00:00,  5.09it/s]\n",
          "output_type": "stream"
        },
        {
          "name": "stdout",
          "text": "train_accuracy:31.5375,train_loss:15601.1851\nvalidation_accuracy:29.2646,validation_loss:3992.9495\n",
          "output_type": "stream"
        },
        {
          "name": "stderr",
          "text": "100%|██████████| 250/250 [00:49<00:00,  5.10it/s]\n",
          "output_type": "stream"
        },
        {
          "name": "stdout",
          "text": "train_accuracy:35.6000,train_loss:14857.5023\nvalidation_accuracy:32.9665,validation_loss:3799.8368\n",
          "output_type": "stream"
        },
        {
          "name": "stderr",
          "text": "100%|██████████| 250/250 [00:48<00:00,  5.13it/s]\n",
          "output_type": "stream"
        },
        {
          "name": "stdout",
          "text": "train_accuracy:36.4875,train_loss:14531.8440\nvalidation_accuracy:34.1171,validation_loss:3753.2947\n",
          "output_type": "stream"
        },
        {
          "name": "stderr",
          "text": "100%|██████████| 250/250 [00:46<00:00,  5.33it/s]\n",
          "output_type": "stream"
        },
        {
          "name": "stdout",
          "text": "train_accuracy:38.4750,train_loss:14216.5485\nvalidation_accuracy:33.8669,validation_loss:3724.3720\n",
          "output_type": "stream"
        },
        {
          "name": "stderr",
          "text": "100%|██████████| 250/250 [00:48<00:00,  5.12it/s]\n",
          "output_type": "stream"
        },
        {
          "name": "stdout",
          "text": "train_accuracy:40.2125,train_loss:13905.5775\nvalidation_accuracy:35.5678,validation_loss:3687.1750\n",
          "output_type": "stream"
        },
        {
          "name": "stderr",
          "text": "100%|██████████| 250/250 [00:48<00:00,  5.19it/s]\n",
          "output_type": "stream"
        },
        {
          "name": "stdout",
          "text": "train_accuracy:40.5250,train_loss:13704.1188\nvalidation_accuracy:35.8679,validation_loss:3680.2795\n",
          "output_type": "stream"
        },
        {
          "name": "stderr",
          "text": "100%|██████████| 250/250 [00:47<00:00,  5.25it/s]\n",
          "output_type": "stream"
        },
        {
          "name": "stdout",
          "text": "train_accuracy:42.0375,train_loss:13281.2124\nvalidation_accuracy:37.3187,validation_loss:3633.9742\n",
          "output_type": "stream"
        },
        {
          "name": "stderr",
          "text": "100%|██████████| 250/250 [00:48<00:00,  5.19it/s]\n",
          "output_type": "stream"
        },
        {
          "name": "stdout",
          "text": "train_accuracy:44.8500,train_loss:13000.5165\nvalidation_accuracy:36.9185,validation_loss:3601.2397\n",
          "output_type": "stream"
        },
        {
          "name": "stderr",
          "text": "100%|██████████| 250/250 [00:48<00:00,  5.17it/s]\n",
          "output_type": "stream"
        },
        {
          "name": "stdout",
          "text": "train_accuracy:45.3250,train_loss:12664.5578\nvalidation_accuracy:38.2691,validation_loss:3614.5043\n",
          "output_type": "stream"
        },
        {
          "output_type": "display_data",
          "data": {
            "text/plain": "VBox(children=(Label(value='0.001 MB of 0.001 MB uploaded\\r'), FloatProgress(value=1.0, max=1.0)))",
            "application/vnd.jupyter.widget-view+json": {
              "version_major": 2,
              "version_minor": 0,
              "model_id": ""
            }
          },
          "metadata": {}
        },
        {
          "output_type": "display_data",
          "data": {
            "text/plain": "<IPython.core.display.HTML object>",
            "text/html": "<style>\n    table.wandb td:nth-child(1) { padding: 0 10px; text-align: left ; width: auto;} td:nth-child(2) {text-align: left ; width: 100%}\n    .wandb-row { display: flex; flex-direction: row; flex-wrap: wrap; justify-content: flex-start; width: 100% }\n    .wandb-col { display: flex; flex-direction: column; flex-basis: 100%; flex: 1; padding: 10px; }\n    </style>\n<div class=\"wandb-row\"><div class=\"wandb-col\"><h3>Run history:</h3><br/><table class=\"wandb\"><tr><td>train_accuracy</td><td>▁▂▄▄▅▆▆▇██</td></tr><tr><td>train_loss</td><td>█▇▅▅▄▃▃▂▂▁</td></tr><tr><td>val_accuracy</td><td>▁▂▅▅▅▆▆▇▇█</td></tr><tr><td>val_loss</td><td>█▇▄▃▃▂▂▁▁▁</td></tr></table><br/></div><div class=\"wandb-col\"><h3>Run summary:</h3><br/><table class=\"wandb\"><tr><td>train_accuracy</td><td>45.325</td></tr><tr><td>train_loss</td><td>12664.5578</td></tr><tr><td>val_accuracy</td><td>38.26913</td></tr><tr><td>val_loss</td><td>3614.50434</td></tr></table><br/></div></div>"
          },
          "metadata": {}
        },
        {
          "output_type": "display_data",
          "data": {
            "text/plain": "<IPython.core.display.HTML object>",
            "text/html": " View run <strong style=\"color:#cdcd00\">neurons128optimizeradamactivFunmish</strong> at: <a href='https://wandb.ai/dlassignment/DL_assignment_2/runs/vfpseri7' target=\"_blank\">https://wandb.ai/dlassignment/DL_assignment_2/runs/vfpseri7</a><br/>Synced 6 W&B file(s), 0 media file(s), 0 artifact file(s) and 0 other file(s)"
          },
          "metadata": {}
        },
        {
          "output_type": "display_data",
          "data": {
            "text/plain": "<IPython.core.display.HTML object>",
            "text/html": "Find logs at: <code>./wandb/run-20240404_080101-vfpseri7/logs</code>"
          },
          "metadata": {}
        },
        {
          "name": "stderr",
          "text": "\u001b[34m\u001b[1mwandb\u001b[0m: Agent Starting Run: m1yrdgy5 with config:\n\u001b[34m\u001b[1mwandb\u001b[0m: \tactivFun: gelu\n\u001b[34m\u001b[1mwandb\u001b[0m: \taug: no\n\u001b[34m\u001b[1mwandb\u001b[0m: \tbatchNorm: yes\n\u001b[34m\u001b[1mwandb\u001b[0m: \tbatchSize: 64\n\u001b[34m\u001b[1mwandb\u001b[0m: \tdropOut: 0\n\u001b[34m\u001b[1mwandb\u001b[0m: \tlearning_rate: 0.001\n\u001b[34m\u001b[1mwandb\u001b[0m: \tneurons: 128\n\u001b[34m\u001b[1mwandb\u001b[0m: \tnumFilters: 64\n\u001b[34m\u001b[1mwandb\u001b[0m: \tnum_epochs: 5\n\u001b[34m\u001b[1mwandb\u001b[0m: \toptimizer: adam\n\u001b[34m\u001b[1mwandb\u001b[0m: \torg: 1\n\u001b[34m\u001b[1mwandb\u001b[0m: \tsizeFilter: 3\n\u001b[34m\u001b[1mwandb\u001b[0m: \u001b[33mWARNING\u001b[0m Ignored wandb.init() arg project when running a sweep.\n",
          "output_type": "stream"
        },
        {
          "output_type": "display_data",
          "data": {
            "text/plain": "<IPython.core.display.HTML object>",
            "text/html": "wandb version 0.16.6 is available!  To upgrade, please run:\n $ pip install wandb --upgrade"
          },
          "metadata": {}
        },
        {
          "output_type": "display_data",
          "data": {
            "text/plain": "<IPython.core.display.HTML object>",
            "text/html": "Tracking run with wandb version 0.16.4"
          },
          "metadata": {}
        },
        {
          "output_type": "display_data",
          "data": {
            "text/plain": "<IPython.core.display.HTML object>",
            "text/html": "Run data is saved locally in <code>/kaggle/working/wandb/run-20240404_082023-m1yrdgy5</code>"
          },
          "metadata": {}
        },
        {
          "output_type": "display_data",
          "data": {
            "text/plain": "<IPython.core.display.HTML object>",
            "text/html": "Syncing run <strong><a href='https://wandb.ai/dlassignment/DL_assignment_2/runs/m1yrdgy5' target=\"_blank\">breezy-sweep-8</a></strong> to <a href='https://wandb.ai/dlassignment/DL_assignment_2' target=\"_blank\">Weights & Biases</a> (<a href='https://wandb.me/run' target=\"_blank\">docs</a>)<br/>Sweep page: <a href='https://wandb.ai/dlassignment/DL_assignment_2/sweeps/0ou49no7' target=\"_blank\">https://wandb.ai/dlassignment/DL_assignment_2/sweeps/0ou49no7</a>"
          },
          "metadata": {}
        },
        {
          "output_type": "display_data",
          "data": {
            "text/plain": "<IPython.core.display.HTML object>",
            "text/html": " View project at <a href='https://wandb.ai/dlassignment/DL_assignment_2' target=\"_blank\">https://wandb.ai/dlassignment/DL_assignment_2</a>"
          },
          "metadata": {}
        },
        {
          "output_type": "display_data",
          "data": {
            "text/plain": "<IPython.core.display.HTML object>",
            "text/html": " View sweep at <a href='https://wandb.ai/dlassignment/DL_assignment_2/sweeps/0ou49no7' target=\"_blank\">https://wandb.ai/dlassignment/DL_assignment_2/sweeps/0ou49no7</a>"
          },
          "metadata": {}
        },
        {
          "output_type": "display_data",
          "data": {
            "text/plain": "<IPython.core.display.HTML object>",
            "text/html": " View run at <a href='https://wandb.ai/dlassignment/DL_assignment_2/runs/m1yrdgy5' target=\"_blank\">https://wandb.ai/dlassignment/DL_assignment_2/runs/m1yrdgy5</a>"
          },
          "metadata": {}
        },
        {
          "name": "stderr",
          "text": "\u001b[34m\u001b[1mwandb\u001b[0m: \u001b[33mWARNING\u001b[0m Ignored wandb.init() arg project when running a sweep.\n",
          "output_type": "stream"
        },
        {
          "output_type": "display_data",
          "data": {
            "text/plain": "<IPython.core.display.HTML object>",
            "text/html": "Finishing last run (ID:m1yrdgy5) before initializing another..."
          },
          "metadata": {}
        },
        {
          "output_type": "display_data",
          "data": {
            "text/plain": "VBox(children=(Label(value='0.000 MB of 0.000 MB uploaded\\r'), FloatProgress(value=1.0, max=1.0)))",
            "application/vnd.jupyter.widget-view+json": {
              "version_major": 2,
              "version_minor": 0,
              "model_id": ""
            }
          },
          "metadata": {}
        },
        {
          "output_type": "display_data",
          "data": {
            "text/plain": "<IPython.core.display.HTML object>",
            "text/html": " View run <strong style=\"color:#cdcd00\">breezy-sweep-8</strong> at: <a href='https://wandb.ai/dlassignment/DL_assignment_2/runs/m1yrdgy5' target=\"_blank\">https://wandb.ai/dlassignment/DL_assignment_2/runs/m1yrdgy5</a><br/>Synced 6 W&B file(s), 0 media file(s), 0 artifact file(s) and 0 other file(s)"
          },
          "metadata": {}
        },
        {
          "output_type": "display_data",
          "data": {
            "text/plain": "<IPython.core.display.HTML object>",
            "text/html": "Find logs at: <code>./wandb/run-20240404_082023-m1yrdgy5/logs</code>"
          },
          "metadata": {}
        },
        {
          "output_type": "display_data",
          "data": {
            "text/plain": "<IPython.core.display.HTML object>",
            "text/html": "Successfully finished last run (ID:m1yrdgy5). Initializing new run:<br/>"
          },
          "metadata": {}
        },
        {
          "output_type": "display_data",
          "data": {
            "text/plain": "<IPython.core.display.HTML object>",
            "text/html": "wandb version 0.16.6 is available!  To upgrade, please run:\n $ pip install wandb --upgrade"
          },
          "metadata": {}
        },
        {
          "output_type": "display_data",
          "data": {
            "text/plain": "<IPython.core.display.HTML object>",
            "text/html": "Tracking run with wandb version 0.16.4"
          },
          "metadata": {}
        },
        {
          "output_type": "display_data",
          "data": {
            "text/plain": "<IPython.core.display.HTML object>",
            "text/html": "Run data is saved locally in <code>/kaggle/working/wandb/run-20240404_082054-m1yrdgy5</code>"
          },
          "metadata": {}
        },
        {
          "output_type": "display_data",
          "data": {
            "text/plain": "<IPython.core.display.HTML object>",
            "text/html": "Syncing run <strong><a href='https://wandb.ai/dlassignment/DL_assignment_2/runs/m1yrdgy5' target=\"_blank\">neurons128optimizeradamactivFungelu</a></strong> to <a href='https://wandb.ai/dlassignment/DL_assignment_2' target=\"_blank\">Weights & Biases</a> (<a href='https://wandb.me/run' target=\"_blank\">docs</a>)<br/>Sweep page: <a href='https://wandb.ai/dlassignment/DL_assignment_2/sweeps/0ou49no7' target=\"_blank\">https://wandb.ai/dlassignment/DL_assignment_2/sweeps/0ou49no7</a>"
          },
          "metadata": {}
        },
        {
          "output_type": "display_data",
          "data": {
            "text/plain": "<IPython.core.display.HTML object>",
            "text/html": " View project at <a href='https://wandb.ai/dlassignment/DL_assignment_2' target=\"_blank\">https://wandb.ai/dlassignment/DL_assignment_2</a>"
          },
          "metadata": {}
        },
        {
          "output_type": "display_data",
          "data": {
            "text/plain": "<IPython.core.display.HTML object>",
            "text/html": " View sweep at <a href='https://wandb.ai/dlassignment/DL_assignment_2/sweeps/0ou49no7' target=\"_blank\">https://wandb.ai/dlassignment/DL_assignment_2/sweeps/0ou49no7</a>"
          },
          "metadata": {}
        },
        {
          "output_type": "display_data",
          "data": {
            "text/plain": "<IPython.core.display.HTML object>",
            "text/html": " View run at <a href='https://wandb.ai/dlassignment/DL_assignment_2/runs/m1yrdgy5' target=\"_blank\">https://wandb.ai/dlassignment/DL_assignment_2/runs/m1yrdgy5</a>"
          },
          "metadata": {}
        },
        {
          "name": "stderr",
          "text": "100%|██████████| 125/125 [01:13<00:00,  1.71it/s]\n",
          "output_type": "stream"
        },
        {
          "name": "stdout",
          "text": "train_accuracy:27.2875,train_loss:16588.6679\nvalidation_accuracy:28.3142,validation_loss:4281.6489\n",
          "output_type": "stream"
        },
        {
          "name": "stderr",
          "text": "100%|██████████| 125/125 [01:12<00:00,  1.73it/s]\n",
          "output_type": "stream"
        },
        {
          "name": "stdout",
          "text": "train_accuracy:33.1000,train_loss:15296.4783\nvalidation_accuracy:33.1166,validation_loss:4056.1729\n",
          "output_type": "stream"
        },
        {
          "name": "stderr",
          "text": "100%|██████████| 125/125 [01:12<00:00,  1.73it/s]\n",
          "output_type": "stream"
        },
        {
          "name": "stdout",
          "text": "train_accuracy:37.1625,train_loss:14371.9007\nvalidation_accuracy:35.0675,validation_loss:3850.9342\n",
          "output_type": "stream"
        },
        {
          "name": "stderr",
          "text": "100%|██████████| 125/125 [01:12<00:00,  1.73it/s]\n",
          "output_type": "stream"
        },
        {
          "name": "stdout",
          "text": "train_accuracy:44.4625,train_loss:12749.0360\nvalidation_accuracy:39.9200,validation_loss:3550.5744\n",
          "output_type": "stream"
        },
        {
          "name": "stderr",
          "text": "100%|██████████| 125/125 [01:12<00:00,  1.74it/s]\n",
          "output_type": "stream"
        },
        {
          "name": "stdout",
          "text": "train_accuracy:44.9250,train_loss:12544.3987\nvalidation_accuracy:38.7194,validation_loss:3623.7712\n",
          "output_type": "stream"
        },
        {
          "output_type": "display_data",
          "data": {
            "text/plain": "VBox(children=(Label(value='0.001 MB of 0.001 MB uploaded\\r'), FloatProgress(value=1.0, max=1.0)))",
            "application/vnd.jupyter.widget-view+json": {
              "version_major": 2,
              "version_minor": 0,
              "model_id": ""
            }
          },
          "metadata": {}
        },
        {
          "output_type": "display_data",
          "data": {
            "text/plain": "<IPython.core.display.HTML object>",
            "text/html": "<style>\n    table.wandb td:nth-child(1) { padding: 0 10px; text-align: left ; width: auto;} td:nth-child(2) {text-align: left ; width: 100%}\n    .wandb-row { display: flex; flex-direction: row; flex-wrap: wrap; justify-content: flex-start; width: 100% }\n    .wandb-col { display: flex; flex-direction: column; flex-basis: 100%; flex: 1; padding: 10px; }\n    </style>\n<div class=\"wandb-row\"><div class=\"wandb-col\"><h3>Run history:</h3><br/><table class=\"wandb\"><tr><td>train_accuracy</td><td>▁▃▅██</td></tr><tr><td>train_loss</td><td>█▆▄▁▁</td></tr><tr><td>val_accuracy</td><td>▁▄▅█▇</td></tr><tr><td>val_loss</td><td>█▆▄▁▂</td></tr></table><br/></div><div class=\"wandb-col\"><h3>Run summary:</h3><br/><table class=\"wandb\"><tr><td>train_accuracy</td><td>44.925</td></tr><tr><td>train_loss</td><td>12544.39867</td></tr><tr><td>val_accuracy</td><td>38.71936</td></tr><tr><td>val_loss</td><td>3623.77123</td></tr></table><br/></div></div>"
          },
          "metadata": {}
        },
        {
          "output_type": "display_data",
          "data": {
            "text/plain": "<IPython.core.display.HTML object>",
            "text/html": " View run <strong style=\"color:#cdcd00\">neurons128optimizeradamactivFungelu</strong> at: <a href='https://wandb.ai/dlassignment/DL_assignment_2/runs/m1yrdgy5' target=\"_blank\">https://wandb.ai/dlassignment/DL_assignment_2/runs/m1yrdgy5</a><br/>Synced 6 W&B file(s), 0 media file(s), 0 artifact file(s) and 0 other file(s)"
          },
          "metadata": {}
        },
        {
          "output_type": "display_data",
          "data": {
            "text/plain": "<IPython.core.display.HTML object>",
            "text/html": "Find logs at: <code>./wandb/run-20240404_082054-m1yrdgy5/logs</code>"
          },
          "metadata": {}
        },
        {
          "name": "stderr",
          "text": "\u001b[34m\u001b[1mwandb\u001b[0m: Agent Starting Run: 99vbuysv with config:\n\u001b[34m\u001b[1mwandb\u001b[0m: \tactivFun: silu\n\u001b[34m\u001b[1mwandb\u001b[0m: \taug: no\n\u001b[34m\u001b[1mwandb\u001b[0m: \tbatchNorm: no\n\u001b[34m\u001b[1mwandb\u001b[0m: \tbatchSize: 32\n\u001b[34m\u001b[1mwandb\u001b[0m: \tdropOut: 0.2\n\u001b[34m\u001b[1mwandb\u001b[0m: \tlearning_rate: 0.0001\n\u001b[34m\u001b[1mwandb\u001b[0m: \tneurons: 256\n\u001b[34m\u001b[1mwandb\u001b[0m: \tnumFilters: 64\n\u001b[34m\u001b[1mwandb\u001b[0m: \tnum_epochs: 5\n\u001b[34m\u001b[1mwandb\u001b[0m: \toptimizer: nadam\n\u001b[34m\u001b[1mwandb\u001b[0m: \torg: 0\n\u001b[34m\u001b[1mwandb\u001b[0m: \tsizeFilter: 3\n\u001b[34m\u001b[1mwandb\u001b[0m: \u001b[33mWARNING\u001b[0m Ignored wandb.init() arg project when running a sweep.\n",
          "output_type": "stream"
        },
        {
          "output_type": "display_data",
          "data": {
            "text/plain": "<IPython.core.display.HTML object>",
            "text/html": "wandb version 0.16.6 is available!  To upgrade, please run:\n $ pip install wandb --upgrade"
          },
          "metadata": {}
        },
        {
          "output_type": "display_data",
          "data": {
            "text/plain": "<IPython.core.display.HTML object>",
            "text/html": "Tracking run with wandb version 0.16.4"
          },
          "metadata": {}
        },
        {
          "output_type": "display_data",
          "data": {
            "text/plain": "<IPython.core.display.HTML object>",
            "text/html": "Run data is saved locally in <code>/kaggle/working/wandb/run-20240404_083323-99vbuysv</code>"
          },
          "metadata": {}
        },
        {
          "output_type": "display_data",
          "data": {
            "text/plain": "<IPython.core.display.HTML object>",
            "text/html": "Syncing run <strong><a href='https://wandb.ai/dlassignment/DL_assignment_2/runs/99vbuysv' target=\"_blank\">fearless-sweep-9</a></strong> to <a href='https://wandb.ai/dlassignment/DL_assignment_2' target=\"_blank\">Weights & Biases</a> (<a href='https://wandb.me/run' target=\"_blank\">docs</a>)<br/>Sweep page: <a href='https://wandb.ai/dlassignment/DL_assignment_2/sweeps/0ou49no7' target=\"_blank\">https://wandb.ai/dlassignment/DL_assignment_2/sweeps/0ou49no7</a>"
          },
          "metadata": {}
        },
        {
          "output_type": "display_data",
          "data": {
            "text/plain": "<IPython.core.display.HTML object>",
            "text/html": " View project at <a href='https://wandb.ai/dlassignment/DL_assignment_2' target=\"_blank\">https://wandb.ai/dlassignment/DL_assignment_2</a>"
          },
          "metadata": {}
        },
        {
          "output_type": "display_data",
          "data": {
            "text/plain": "<IPython.core.display.HTML object>",
            "text/html": " View sweep at <a href='https://wandb.ai/dlassignment/DL_assignment_2/sweeps/0ou49no7' target=\"_blank\">https://wandb.ai/dlassignment/DL_assignment_2/sweeps/0ou49no7</a>"
          },
          "metadata": {}
        },
        {
          "output_type": "display_data",
          "data": {
            "text/plain": "<IPython.core.display.HTML object>",
            "text/html": " View run at <a href='https://wandb.ai/dlassignment/DL_assignment_2/runs/99vbuysv' target=\"_blank\">https://wandb.ai/dlassignment/DL_assignment_2/runs/99vbuysv</a>"
          },
          "metadata": {}
        },
        {
          "name": "stderr",
          "text": "\u001b[34m\u001b[1mwandb\u001b[0m: \u001b[33mWARNING\u001b[0m Ignored wandb.init() arg project when running a sweep.\n",
          "output_type": "stream"
        },
        {
          "output_type": "display_data",
          "data": {
            "text/plain": "<IPython.core.display.HTML object>",
            "text/html": "Finishing last run (ID:99vbuysv) before initializing another..."
          },
          "metadata": {}
        },
        {
          "output_type": "display_data",
          "data": {
            "text/plain": "VBox(children=(Label(value='0.000 MB of 0.000 MB uploaded\\r'), FloatProgress(value=1.0, max=1.0)))",
            "application/vnd.jupyter.widget-view+json": {
              "version_major": 2,
              "version_minor": 0,
              "model_id": ""
            }
          },
          "metadata": {}
        },
        {
          "output_type": "display_data",
          "data": {
            "text/plain": "<IPython.core.display.HTML object>",
            "text/html": " View run <strong style=\"color:#cdcd00\">fearless-sweep-9</strong> at: <a href='https://wandb.ai/dlassignment/DL_assignment_2/runs/99vbuysv' target=\"_blank\">https://wandb.ai/dlassignment/DL_assignment_2/runs/99vbuysv</a><br/>Synced 6 W&B file(s), 0 media file(s), 0 artifact file(s) and 0 other file(s)"
          },
          "metadata": {}
        },
        {
          "output_type": "display_data",
          "data": {
            "text/plain": "<IPython.core.display.HTML object>",
            "text/html": "Find logs at: <code>./wandb/run-20240404_083323-99vbuysv/logs</code>"
          },
          "metadata": {}
        },
        {
          "output_type": "display_data",
          "data": {
            "text/plain": "<IPython.core.display.HTML object>",
            "text/html": "Successfully finished last run (ID:99vbuysv). Initializing new run:<br/>"
          },
          "metadata": {}
        },
        {
          "output_type": "display_data",
          "data": {
            "text/plain": "<IPython.core.display.HTML object>",
            "text/html": "wandb version 0.16.6 is available!  To upgrade, please run:\n $ pip install wandb --upgrade"
          },
          "metadata": {}
        },
        {
          "output_type": "display_data",
          "data": {
            "text/plain": "<IPython.core.display.HTML object>",
            "text/html": "Tracking run with wandb version 0.16.4"
          },
          "metadata": {}
        },
        {
          "output_type": "display_data",
          "data": {
            "text/plain": "<IPython.core.display.HTML object>",
            "text/html": "Run data is saved locally in <code>/kaggle/working/wandb/run-20240404_083354-99vbuysv</code>"
          },
          "metadata": {}
        },
        {
          "output_type": "display_data",
          "data": {
            "text/plain": "<IPython.core.display.HTML object>",
            "text/html": "Syncing run <strong><a href='https://wandb.ai/dlassignment/DL_assignment_2/runs/99vbuysv' target=\"_blank\">neurons256optimizernadamactivFunsilu</a></strong> to <a href='https://wandb.ai/dlassignment/DL_assignment_2' target=\"_blank\">Weights & Biases</a> (<a href='https://wandb.me/run' target=\"_blank\">docs</a>)<br/>Sweep page: <a href='https://wandb.ai/dlassignment/DL_assignment_2/sweeps/0ou49no7' target=\"_blank\">https://wandb.ai/dlassignment/DL_assignment_2/sweeps/0ou49no7</a>"
          },
          "metadata": {}
        },
        {
          "output_type": "display_data",
          "data": {
            "text/plain": "<IPython.core.display.HTML object>",
            "text/html": " View project at <a href='https://wandb.ai/dlassignment/DL_assignment_2' target=\"_blank\">https://wandb.ai/dlassignment/DL_assignment_2</a>"
          },
          "metadata": {}
        },
        {
          "output_type": "display_data",
          "data": {
            "text/plain": "<IPython.core.display.HTML object>",
            "text/html": " View sweep at <a href='https://wandb.ai/dlassignment/DL_assignment_2/sweeps/0ou49no7' target=\"_blank\">https://wandb.ai/dlassignment/DL_assignment_2/sweeps/0ou49no7</a>"
          },
          "metadata": {}
        },
        {
          "output_type": "display_data",
          "data": {
            "text/plain": "<IPython.core.display.HTML object>",
            "text/html": " View run at <a href='https://wandb.ai/dlassignment/DL_assignment_2/runs/99vbuysv' target=\"_blank\">https://wandb.ai/dlassignment/DL_assignment_2/runs/99vbuysv</a>"
          },
          "metadata": {}
        },
        {
          "name": "stderr",
          "text": "100%|██████████| 250/250 [00:53<00:00,  4.64it/s]\n",
          "output_type": "stream"
        },
        {
          "name": "stdout",
          "text": "train_accuracy:24.8500,train_loss:16686.5672\nvalidation_accuracy:25.9130,validation_loss:4205.5051\n",
          "output_type": "stream"
        },
        {
          "name": "stderr",
          "text": "100%|██████████| 250/250 [00:48<00:00,  5.20it/s]\n",
          "output_type": "stream"
        },
        {
          "name": "stdout",
          "text": "train_accuracy:31.5375,train_loss:15497.6939\nvalidation_accuracy:29.7149,validation_loss:3941.0879\n",
          "output_type": "stream"
        },
        {
          "name": "stderr",
          "text": "100%|██████████| 250/250 [00:48<00:00,  5.13it/s]\n",
          "output_type": "stream"
        },
        {
          "name": "stdout",
          "text": "train_accuracy:34.8500,train_loss:14818.4903\nvalidation_accuracy:32.6163,validation_loss:3825.4338\n",
          "output_type": "stream"
        },
        {
          "name": "stderr",
          "text": "100%|██████████| 250/250 [00:47<00:00,  5.24it/s]\n",
          "output_type": "stream"
        },
        {
          "name": "stdout",
          "text": "train_accuracy:36.8375,train_loss:14432.3295\nvalidation_accuracy:34.1671,validation_loss:3790.2758\n",
          "output_type": "stream"
        },
        {
          "name": "stderr",
          "text": "100%|██████████| 250/250 [00:49<00:00,  5.09it/s]\n",
          "output_type": "stream"
        },
        {
          "output_type": "display_data",
          "data": {
            "text/plain": "<IPython.core.display.HTML object>",
            "text/html": "wandb version 0.16.6 is available!  To upgrade, please run:\n $ pip install wandb --upgrade"
          },
          "metadata": {}
        },
        {
          "output_type": "display_data",
          "data": {
            "text/plain": "<IPython.core.display.HTML object>",
            "text/html": "Tracking run with wandb version 0.16.4"
          },
          "metadata": {}
        },
        {
          "output_type": "display_data",
          "data": {
            "text/plain": "<IPython.core.display.HTML object>",
            "text/html": "Run data is saved locally in <code>/kaggle/working/wandb/run-20240404_084412-jsfmos7c</code>"
          },
          "metadata": {}
        },
        {
          "output_type": "display_data",
          "data": {
            "text/plain": "<IPython.core.display.HTML object>",
            "text/html": "Syncing run <strong><a href='https://wandb.ai/dlassignment/DL_assignment_2/runs/jsfmos7c' target=\"_blank\">faithful-sweep-10</a></strong> to <a href='https://wandb.ai/dlassignment/DL_assignment_2' target=\"_blank\">Weights & Biases</a> (<a href='https://wandb.me/run' target=\"_blank\">docs</a>)<br/>Sweep page: <a href='https://wandb.ai/dlassignment/DL_assignment_2/sweeps/0ou49no7' target=\"_blank\">https://wandb.ai/dlassignment/DL_assignment_2/sweeps/0ou49no7</a>"
          },
          "metadata": {}
        },
        {
          "output_type": "display_data",
          "data": {
            "text/plain": "<IPython.core.display.HTML object>",
            "text/html": " View project at <a href='https://wandb.ai/dlassignment/DL_assignment_2' target=\"_blank\">https://wandb.ai/dlassignment/DL_assignment_2</a>"
          },
          "metadata": {}
        },
        {
          "output_type": "display_data",
          "data": {
            "text/plain": "<IPython.core.display.HTML object>",
            "text/html": " View sweep at <a href='https://wandb.ai/dlassignment/DL_assignment_2/sweeps/0ou49no7' target=\"_blank\">https://wandb.ai/dlassignment/DL_assignment_2/sweeps/0ou49no7</a>"
          },
          "metadata": {}
        },
        {
          "output_type": "display_data",
          "data": {
            "text/plain": "<IPython.core.display.HTML object>",
            "text/html": " View run at <a href='https://wandb.ai/dlassignment/DL_assignment_2/runs/jsfmos7c' target=\"_blank\">https://wandb.ai/dlassignment/DL_assignment_2/runs/jsfmos7c</a>"
          },
          "metadata": {}
        },
        {
          "name": "stderr",
          "text": "\u001b[34m\u001b[1mwandb\u001b[0m: \u001b[33mWARNING\u001b[0m Ignored wandb.init() arg project when running a sweep.\n",
          "output_type": "stream"
        },
        {
          "output_type": "display_data",
          "data": {
            "text/plain": "<IPython.core.display.HTML object>",
            "text/html": "Finishing last run (ID:jsfmos7c) before initializing another..."
          },
          "metadata": {}
        },
        {
          "output_type": "display_data",
          "data": {
            "text/plain": "VBox(children=(Label(value='0.000 MB of 0.000 MB uploaded\\r'), FloatProgress(value=1.0, max=1.0)))",
            "application/vnd.jupyter.widget-view+json": {
              "version_major": 2,
              "version_minor": 0,
              "model_id": "348be5c38eb4437f829f1a50cfbfd61d"
            }
          },
          "metadata": {}
        },
        {
          "output_type": "display_data",
          "data": {
            "text/plain": "<IPython.core.display.HTML object>",
            "text/html": " View run <strong style=\"color:#cdcd00\">faithful-sweep-10</strong> at: <a href='https://wandb.ai/dlassignment/DL_assignment_2/runs/jsfmos7c' target=\"_blank\">https://wandb.ai/dlassignment/DL_assignment_2/runs/jsfmos7c</a><br/>Synced 6 W&B file(s), 0 media file(s), 0 artifact file(s) and 0 other file(s)"
          },
          "metadata": {}
        },
        {
          "output_type": "display_data",
          "data": {
            "text/plain": "<IPython.core.display.HTML object>",
            "text/html": "Find logs at: <code>./wandb/run-20240404_084412-jsfmos7c/logs</code>"
          },
          "metadata": {}
        },
        {
          "output_type": "display_data",
          "data": {
            "text/plain": "<IPython.core.display.HTML object>",
            "text/html": "Successfully finished last run (ID:jsfmos7c). Initializing new run:<br/>"
          },
          "metadata": {}
        },
        {
          "output_type": "display_data",
          "data": {
            "text/plain": "<IPython.core.display.HTML object>",
            "text/html": "wandb version 0.16.6 is available!  To upgrade, please run:\n $ pip install wandb --upgrade"
          },
          "metadata": {}
        },
        {
          "output_type": "display_data",
          "data": {
            "text/plain": "<IPython.core.display.HTML object>",
            "text/html": "Tracking run with wandb version 0.16.4"
          },
          "metadata": {}
        },
        {
          "output_type": "display_data",
          "data": {
            "text/plain": "<IPython.core.display.HTML object>",
            "text/html": "Run data is saved locally in <code>/kaggle/working/wandb/run-20240404_084443-jsfmos7c</code>"
          },
          "metadata": {}
        },
        {
          "output_type": "display_data",
          "data": {
            "text/plain": "<IPython.core.display.HTML object>",
            "text/html": "Syncing run <strong><a href='https://wandb.ai/dlassignment/DL_assignment_2/runs/jsfmos7c' target=\"_blank\">neurons256optimizeradamactivFunmish</a></strong> to <a href='https://wandb.ai/dlassignment/DL_assignment_2' target=\"_blank\">Weights & Biases</a> (<a href='https://wandb.me/run' target=\"_blank\">docs</a>)<br/>Sweep page: <a href='https://wandb.ai/dlassignment/DL_assignment_2/sweeps/0ou49no7' target=\"_blank\">https://wandb.ai/dlassignment/DL_assignment_2/sweeps/0ou49no7</a>"
          },
          "metadata": {}
        },
        {
          "output_type": "display_data",
          "data": {
            "text/plain": "<IPython.core.display.HTML object>",
            "text/html": " View project at <a href='https://wandb.ai/dlassignment/DL_assignment_2' target=\"_blank\">https://wandb.ai/dlassignment/DL_assignment_2</a>"
          },
          "metadata": {}
        },
        {
          "output_type": "display_data",
          "data": {
            "text/plain": "<IPython.core.display.HTML object>",
            "text/html": " View sweep at <a href='https://wandb.ai/dlassignment/DL_assignment_2/sweeps/0ou49no7' target=\"_blank\">https://wandb.ai/dlassignment/DL_assignment_2/sweeps/0ou49no7</a>"
          },
          "metadata": {}
        },
        {
          "output_type": "display_data",
          "data": {
            "text/plain": "<IPython.core.display.HTML object>",
            "text/html": " View run at <a href='https://wandb.ai/dlassignment/DL_assignment_2/runs/jsfmos7c' target=\"_blank\">https://wandb.ai/dlassignment/DL_assignment_2/runs/jsfmos7c</a>"
          },
          "metadata": {}
        },
        {
          "name": "stderr",
          "text": "100%|██████████| 250/250 [00:53<00:00,  4.63it/s]\n",
          "output_type": "stream"
        },
        {
          "name": "stdout",
          "text": "train_accuracy:40.7500,train_loss:13790.9595\nvalidation_accuracy:36.6683,validation_loss:3683.8960\n",
          "output_type": "stream"
        },
        {
          "name": "stderr",
          "text": "100%|██████████| 250/250 [00:48<00:00,  5.15it/s]\n",
          "output_type": "stream"
        },
        {
          "name": "stdout",
          "text": "train_accuracy:43.8375,train_loss:12806.5576\nvalidation_accuracy:36.8184,validation_loss:3640.9345\n",
          "output_type": "stream"
        },
        {
          "name": "stderr",
          "text": "100%|██████████| 250/250 [00:49<00:00,  5.03it/s]\n",
          "output_type": "stream"
        },
        {
          "name": "stdout",
          "text": "train_accuracy:56.7750,train_loss:10590.3699\nvalidation_accuracy:41.3707,validation_loss:3444.7917\n",
          "output_type": "stream"
        },
        {
          "name": "stderr",
          "text": "100%|██████████| 250/250 [00:49<00:00,  5.02it/s]\n",
          "output_type": "stream"
        },
        {
          "name": "stdout",
          "text": "train_accuracy:64.7000,train_loss:9304.3582\nvalidation_accuracy:40.6703,validation_loss:3457.7725\n",
          "output_type": "stream"
        },
        {
          "name": "stderr",
          "text": "100%|██████████| 250/250 [00:48<00:00,  5.11it/s]\n",
          "output_type": "stream"
        },
        {
          "name": "stdout",
          "text": "train_accuracy:72.0625,train_loss:7533.0400\nvalidation_accuracy:40.7704,validation_loss:3536.5517\n",
          "output_type": "stream"
        },
        {
          "output_type": "display_data",
          "data": {
            "text/plain": "VBox(children=(Label(value='0.001 MB of 0.001 MB uploaded\\r'), FloatProgress(value=1.0, max=1.0)))",
            "application/vnd.jupyter.widget-view+json": {
              "version_major": 2,
              "version_minor": 0,
              "model_id": ""
            }
          },
          "metadata": {}
        },
        {
          "output_type": "display_data",
          "data": {
            "text/plain": "<IPython.core.display.HTML object>",
            "text/html": "<style>\n    table.wandb td:nth-child(1) { padding: 0 10px; text-align: left ; width: auto;} td:nth-child(2) {text-align: left ; width: 100%}\n    .wandb-row { display: flex; flex-direction: row; flex-wrap: wrap; justify-content: flex-start; width: 100% }\n    .wandb-col { display: flex; flex-direction: column; flex-basis: 100%; flex: 1; padding: 10px; }\n    </style>\n<div class=\"wandb-row\"><div class=\"wandb-col\"><h3>Run history:</h3><br/><table class=\"wandb\"><tr><td>train_accuracy</td><td>▁▂▅▆█</td></tr><tr><td>train_loss</td><td>█▇▄▃▁</td></tr><tr><td>val_accuracy</td><td>▁▁█▇▇</td></tr><tr><td>val_loss</td><td>█▇▁▁▄</td></tr></table><br/></div><div class=\"wandb-col\"><h3>Run summary:</h3><br/><table class=\"wandb\"><tr><td>train_accuracy</td><td>72.0625</td></tr><tr><td>train_loss</td><td>7533.04001</td></tr><tr><td>val_accuracy</td><td>40.77039</td></tr><tr><td>val_loss</td><td>3536.55173</td></tr></table><br/></div></div>"
          },
          "metadata": {}
        },
        {
          "output_type": "display_data",
          "data": {
            "text/plain": "<IPython.core.display.HTML object>",
            "text/html": " View run <strong style=\"color:#cdcd00\">neurons256optimizeradamactivFunmish</strong> at: <a href='https://wandb.ai/dlassignment/DL_assignment_2/runs/jsfmos7c' target=\"_blank\">https://wandb.ai/dlassignment/DL_assignment_2/runs/jsfmos7c</a><br/>Synced 6 W&B file(s), 0 media file(s), 0 artifact file(s) and 0 other file(s)"
          },
          "metadata": {}
        },
        {
          "output_type": "display_data",
          "data": {
            "text/plain": "<IPython.core.display.HTML object>",
            "text/html": "Find logs at: <code>./wandb/run-20240404_084443-jsfmos7c/logs</code>"
          },
          "metadata": {}
        },
        {
          "name": "stdout",
          "text": "Error in callback <bound method _WandbInit._pause_backend of <wandb.sdk.wandb_init._WandbInit object at 0x79fa24507a90>> (for post_run_cell), with arguments args (<ExecutionResult object at 79f8f66e8a90, execution_count=13 error_before_exec=None error_in_exec=None info=<ExecutionInfo object at 79f96b420c70, raw_cell=\"def main_fun():\n    wandb.init(project ='DL_assign..\" store_history=True silent=False shell_futures=True cell_id=4ebd0da1-f1a1-47f9-85a1-02054d93cc1f> result=None>,),kwargs {}:\n",
          "output_type": "stream"
        },
        {
          "traceback": [
            "\u001b[0;31m---------------------------------------------------------------------------\u001b[0m",
            "\u001b[0;31mBrokenPipeError\u001b[0m                           Traceback (most recent call last)",
            "File \u001b[0;32m/opt/conda/lib/python3.10/site-packages/wandb/sdk/wandb_init.py:438\u001b[0m, in \u001b[0;36m_WandbInit._pause_backend\u001b[0;34m(self, *args, **kwargs)\u001b[0m\n\u001b[1;32m    436\u001b[0m \u001b[38;5;28;01mif\u001b[39;00m \u001b[38;5;28mself\u001b[39m\u001b[38;5;241m.\u001b[39mbackend\u001b[38;5;241m.\u001b[39minterface \u001b[38;5;129;01mis\u001b[39;00m \u001b[38;5;129;01mnot\u001b[39;00m \u001b[38;5;28;01mNone\u001b[39;00m:\n\u001b[1;32m    437\u001b[0m     logger\u001b[38;5;241m.\u001b[39minfo(\u001b[38;5;124m\"\u001b[39m\u001b[38;5;124mpausing backend\u001b[39m\u001b[38;5;124m\"\u001b[39m)  \u001b[38;5;66;03m# type: ignore\u001b[39;00m\n\u001b[0;32m--> 438\u001b[0m     \u001b[38;5;28;43mself\u001b[39;49m\u001b[38;5;241;43m.\u001b[39;49m\u001b[43mbackend\u001b[49m\u001b[38;5;241;43m.\u001b[39;49m\u001b[43minterface\u001b[49m\u001b[38;5;241;43m.\u001b[39;49m\u001b[43mpublish_pause\u001b[49m\u001b[43m(\u001b[49m\u001b[43m)\u001b[49m\n",
            "File \u001b[0;32m/opt/conda/lib/python3.10/site-packages/wandb/sdk/interface/interface.py:659\u001b[0m, in \u001b[0;36mInterfaceBase.publish_pause\u001b[0;34m(self)\u001b[0m\n\u001b[1;32m    657\u001b[0m \u001b[38;5;28;01mdef\u001b[39;00m \u001b[38;5;21mpublish_pause\u001b[39m(\u001b[38;5;28mself\u001b[39m) \u001b[38;5;241m-\u001b[39m\u001b[38;5;241m>\u001b[39m \u001b[38;5;28;01mNone\u001b[39;00m:\n\u001b[1;32m    658\u001b[0m     pause \u001b[38;5;241m=\u001b[39m pb\u001b[38;5;241m.\u001b[39mPauseRequest()\n\u001b[0;32m--> 659\u001b[0m     \u001b[38;5;28;43mself\u001b[39;49m\u001b[38;5;241;43m.\u001b[39;49m\u001b[43m_publish_pause\u001b[49m\u001b[43m(\u001b[49m\u001b[43mpause\u001b[49m\u001b[43m)\u001b[49m\n",
            "File \u001b[0;32m/opt/conda/lib/python3.10/site-packages/wandb/sdk/interface/interface_shared.py:355\u001b[0m, in \u001b[0;36mInterfaceShared._publish_pause\u001b[0;34m(self, pause)\u001b[0m\n\u001b[1;32m    353\u001b[0m \u001b[38;5;28;01mdef\u001b[39;00m \u001b[38;5;21m_publish_pause\u001b[39m(\u001b[38;5;28mself\u001b[39m, pause: pb\u001b[38;5;241m.\u001b[39mPauseRequest) \u001b[38;5;241m-\u001b[39m\u001b[38;5;241m>\u001b[39m \u001b[38;5;28;01mNone\u001b[39;00m:\n\u001b[1;32m    354\u001b[0m     rec \u001b[38;5;241m=\u001b[39m \u001b[38;5;28mself\u001b[39m\u001b[38;5;241m.\u001b[39m_make_request(pause\u001b[38;5;241m=\u001b[39mpause)\n\u001b[0;32m--> 355\u001b[0m     \u001b[38;5;28;43mself\u001b[39;49m\u001b[38;5;241;43m.\u001b[39;49m\u001b[43m_publish\u001b[49m\u001b[43m(\u001b[49m\u001b[43mrec\u001b[49m\u001b[43m)\u001b[49m\n",
            "File \u001b[0;32m/opt/conda/lib/python3.10/site-packages/wandb/sdk/interface/interface_sock.py:51\u001b[0m, in \u001b[0;36mInterfaceSock._publish\u001b[0;34m(self, record, local)\u001b[0m\n\u001b[1;32m     49\u001b[0m \u001b[38;5;28;01mdef\u001b[39;00m \u001b[38;5;21m_publish\u001b[39m(\u001b[38;5;28mself\u001b[39m, record: \u001b[38;5;124m\"\u001b[39m\u001b[38;5;124mpb.Record\u001b[39m\u001b[38;5;124m\"\u001b[39m, local: Optional[\u001b[38;5;28mbool\u001b[39m] \u001b[38;5;241m=\u001b[39m \u001b[38;5;28;01mNone\u001b[39;00m) \u001b[38;5;241m-\u001b[39m\u001b[38;5;241m>\u001b[39m \u001b[38;5;28;01mNone\u001b[39;00m:\n\u001b[1;32m     50\u001b[0m     \u001b[38;5;28mself\u001b[39m\u001b[38;5;241m.\u001b[39m_assign(record)\n\u001b[0;32m---> 51\u001b[0m     \u001b[38;5;28;43mself\u001b[39;49m\u001b[38;5;241;43m.\u001b[39;49m\u001b[43m_sock_client\u001b[49m\u001b[38;5;241;43m.\u001b[39;49m\u001b[43msend_record_publish\u001b[49m\u001b[43m(\u001b[49m\u001b[43mrecord\u001b[49m\u001b[43m)\u001b[49m\n",
            "File \u001b[0;32m/opt/conda/lib/python3.10/site-packages/wandb/sdk/lib/sock_client.py:221\u001b[0m, in \u001b[0;36mSockClient.send_record_publish\u001b[0;34m(self, record)\u001b[0m\n\u001b[1;32m    219\u001b[0m server_req \u001b[38;5;241m=\u001b[39m spb\u001b[38;5;241m.\u001b[39mServerRequest()\n\u001b[1;32m    220\u001b[0m server_req\u001b[38;5;241m.\u001b[39mrecord_publish\u001b[38;5;241m.\u001b[39mCopyFrom(record)\n\u001b[0;32m--> 221\u001b[0m \u001b[38;5;28;43mself\u001b[39;49m\u001b[38;5;241;43m.\u001b[39;49m\u001b[43msend_server_request\u001b[49m\u001b[43m(\u001b[49m\u001b[43mserver_req\u001b[49m\u001b[43m)\u001b[49m\n",
            "File \u001b[0;32m/opt/conda/lib/python3.10/site-packages/wandb/sdk/lib/sock_client.py:155\u001b[0m, in \u001b[0;36mSockClient.send_server_request\u001b[0;34m(self, msg)\u001b[0m\n\u001b[1;32m    154\u001b[0m \u001b[38;5;28;01mdef\u001b[39;00m \u001b[38;5;21msend_server_request\u001b[39m(\u001b[38;5;28mself\u001b[39m, msg: Any) \u001b[38;5;241m-\u001b[39m\u001b[38;5;241m>\u001b[39m \u001b[38;5;28;01mNone\u001b[39;00m:\n\u001b[0;32m--> 155\u001b[0m     \u001b[38;5;28;43mself\u001b[39;49m\u001b[38;5;241;43m.\u001b[39;49m\u001b[43m_send_message\u001b[49m\u001b[43m(\u001b[49m\u001b[43mmsg\u001b[49m\u001b[43m)\u001b[49m\n",
            "File \u001b[0;32m/opt/conda/lib/python3.10/site-packages/wandb/sdk/lib/sock_client.py:152\u001b[0m, in \u001b[0;36mSockClient._send_message\u001b[0;34m(self, msg)\u001b[0m\n\u001b[1;32m    150\u001b[0m header \u001b[38;5;241m=\u001b[39m struct\u001b[38;5;241m.\u001b[39mpack(\u001b[38;5;124m\"\u001b[39m\u001b[38;5;124m<BI\u001b[39m\u001b[38;5;124m\"\u001b[39m, \u001b[38;5;28mord\u001b[39m(\u001b[38;5;124m\"\u001b[39m\u001b[38;5;124mW\u001b[39m\u001b[38;5;124m\"\u001b[39m), raw_size)\n\u001b[1;32m    151\u001b[0m \u001b[38;5;28;01mwith\u001b[39;00m \u001b[38;5;28mself\u001b[39m\u001b[38;5;241m.\u001b[39m_lock:\n\u001b[0;32m--> 152\u001b[0m     \u001b[38;5;28;43mself\u001b[39;49m\u001b[38;5;241;43m.\u001b[39;49m\u001b[43m_sendall_with_error_handle\u001b[49m\u001b[43m(\u001b[49m\u001b[43mheader\u001b[49m\u001b[43m \u001b[49m\u001b[38;5;241;43m+\u001b[39;49m\u001b[43m \u001b[49m\u001b[43mdata\u001b[49m\u001b[43m)\u001b[49m\n",
            "File \u001b[0;32m/opt/conda/lib/python3.10/site-packages/wandb/sdk/lib/sock_client.py:130\u001b[0m, in \u001b[0;36mSockClient._sendall_with_error_handle\u001b[0;34m(self, data)\u001b[0m\n\u001b[1;32m    128\u001b[0m start_time \u001b[38;5;241m=\u001b[39m time\u001b[38;5;241m.\u001b[39mmonotonic()\n\u001b[1;32m    129\u001b[0m \u001b[38;5;28;01mtry\u001b[39;00m:\n\u001b[0;32m--> 130\u001b[0m     sent \u001b[38;5;241m=\u001b[39m \u001b[38;5;28;43mself\u001b[39;49m\u001b[38;5;241;43m.\u001b[39;49m\u001b[43m_sock\u001b[49m\u001b[38;5;241;43m.\u001b[39;49m\u001b[43msend\u001b[49m\u001b[43m(\u001b[49m\u001b[43mdata\u001b[49m\u001b[43m)\u001b[49m\n\u001b[1;32m    131\u001b[0m     \u001b[38;5;66;03m# sent equal to 0 indicates a closed socket\u001b[39;00m\n\u001b[1;32m    132\u001b[0m     \u001b[38;5;28;01mif\u001b[39;00m sent \u001b[38;5;241m==\u001b[39m \u001b[38;5;241m0\u001b[39m:\n",
            "\u001b[0;31mBrokenPipeError\u001b[0m: [Errno 32] Broken pipe"
          ],
          "ename": "BrokenPipeError",
          "evalue": "[Errno 32] Broken pipe",
          "output_type": "error"
        }
      ]
    }
  ]
}
