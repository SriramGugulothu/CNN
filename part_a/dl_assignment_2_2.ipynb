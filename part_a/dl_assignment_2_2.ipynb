{
  "metadata": {
    "colab": {
      "provenance": [],
      "gpuType": "T4",
      "include_colab_link": true
    },
    "kernelspec": {
      "name": "python3",
      "display_name": "Python 3",
      "language": "python"
    },
    "language_info": {
      "name": "python",
      "version": "3.10.13",
      "mimetype": "text/x-python",
      "codemirror_mode": {
        "name": "ipython",
        "version": 3
      },
      "pygments_lexer": "ipython3",
      "nbconvert_exporter": "python",
      "file_extension": ".py"
    },
    "accelerator": "GPU",
    "widgets": {
      "application/vnd.jupyter.widget-state+json": {
        "5301caf729fd49a7a5b11f77106bf48e": {
          "model_module": "@jupyter-widgets/controls",
          "model_name": "VBoxModel",
          "model_module_version": "1.5.0",
          "state": {
            "_dom_classes": [],
            "_model_module": "@jupyter-widgets/controls",
            "_model_module_version": "1.5.0",
            "_model_name": "VBoxModel",
            "_view_count": null,
            "_view_module": "@jupyter-widgets/controls",
            "_view_module_version": "1.5.0",
            "_view_name": "VBoxView",
            "box_style": "",
            "children": [
              "IPY_MODEL_1736613663834cac8c71ba4673741c7d",
              "IPY_MODEL_72d69903ede844af8ff60e9b297115ab"
            ],
            "layout": "IPY_MODEL_23f5b96ed7f64a8998517bc664d2365d"
          }
        },
        "1736613663834cac8c71ba4673741c7d": {
          "model_module": "@jupyter-widgets/controls",
          "model_name": "LabelModel",
          "model_module_version": "1.5.0",
          "state": {
            "_dom_classes": [],
            "_model_module": "@jupyter-widgets/controls",
            "_model_module_version": "1.5.0",
            "_model_name": "LabelModel",
            "_view_count": null,
            "_view_module": "@jupyter-widgets/controls",
            "_view_module_version": "1.5.0",
            "_view_name": "LabelView",
            "description": "",
            "description_tooltip": null,
            "layout": "IPY_MODEL_2961536000be4e12aae595d7738297bb",
            "placeholder": "​",
            "style": "IPY_MODEL_c0c43c1b473a4f408d72be8259642c7a",
            "value": "0.010 MB of 0.010 MB uploaded\r"
          }
        },
        "72d69903ede844af8ff60e9b297115ab": {
          "model_module": "@jupyter-widgets/controls",
          "model_name": "FloatProgressModel",
          "model_module_version": "1.5.0",
          "state": {
            "_dom_classes": [],
            "_model_module": "@jupyter-widgets/controls",
            "_model_module_version": "1.5.0",
            "_model_name": "FloatProgressModel",
            "_view_count": null,
            "_view_module": "@jupyter-widgets/controls",
            "_view_module_version": "1.5.0",
            "_view_name": "ProgressView",
            "bar_style": "",
            "description": "",
            "description_tooltip": null,
            "layout": "IPY_MODEL_777985e576a24767a368b71564de04dc",
            "max": 1,
            "min": 0,
            "orientation": "horizontal",
            "style": "IPY_MODEL_66e6b93452ff46d28bdb4877fce65cd5",
            "value": 1
          }
        },
        "23f5b96ed7f64a8998517bc664d2365d": {
          "model_module": "@jupyter-widgets/base",
          "model_name": "LayoutModel",
          "model_module_version": "1.2.0",
          "state": {
            "_model_module": "@jupyter-widgets/base",
            "_model_module_version": "1.2.0",
            "_model_name": "LayoutModel",
            "_view_count": null,
            "_view_module": "@jupyter-widgets/base",
            "_view_module_version": "1.2.0",
            "_view_name": "LayoutView",
            "align_content": null,
            "align_items": null,
            "align_self": null,
            "border": null,
            "bottom": null,
            "display": null,
            "flex": null,
            "flex_flow": null,
            "grid_area": null,
            "grid_auto_columns": null,
            "grid_auto_flow": null,
            "grid_auto_rows": null,
            "grid_column": null,
            "grid_gap": null,
            "grid_row": null,
            "grid_template_areas": null,
            "grid_template_columns": null,
            "grid_template_rows": null,
            "height": null,
            "justify_content": null,
            "justify_items": null,
            "left": null,
            "margin": null,
            "max_height": null,
            "max_width": null,
            "min_height": null,
            "min_width": null,
            "object_fit": null,
            "object_position": null,
            "order": null,
            "overflow": null,
            "overflow_x": null,
            "overflow_y": null,
            "padding": null,
            "right": null,
            "top": null,
            "visibility": null,
            "width": null
          }
        },
        "2961536000be4e12aae595d7738297bb": {
          "model_module": "@jupyter-widgets/base",
          "model_name": "LayoutModel",
          "model_module_version": "1.2.0",
          "state": {
            "_model_module": "@jupyter-widgets/base",
            "_model_module_version": "1.2.0",
            "_model_name": "LayoutModel",
            "_view_count": null,
            "_view_module": "@jupyter-widgets/base",
            "_view_module_version": "1.2.0",
            "_view_name": "LayoutView",
            "align_content": null,
            "align_items": null,
            "align_self": null,
            "border": null,
            "bottom": null,
            "display": null,
            "flex": null,
            "flex_flow": null,
            "grid_area": null,
            "grid_auto_columns": null,
            "grid_auto_flow": null,
            "grid_auto_rows": null,
            "grid_column": null,
            "grid_gap": null,
            "grid_row": null,
            "grid_template_areas": null,
            "grid_template_columns": null,
            "grid_template_rows": null,
            "height": null,
            "justify_content": null,
            "justify_items": null,
            "left": null,
            "margin": null,
            "max_height": null,
            "max_width": null,
            "min_height": null,
            "min_width": null,
            "object_fit": null,
            "object_position": null,
            "order": null,
            "overflow": null,
            "overflow_x": null,
            "overflow_y": null,
            "padding": null,
            "right": null,
            "top": null,
            "visibility": null,
            "width": null
          }
        },
        "c0c43c1b473a4f408d72be8259642c7a": {
          "model_module": "@jupyter-widgets/controls",
          "model_name": "DescriptionStyleModel",
          "model_module_version": "1.5.0",
          "state": {
            "_model_module": "@jupyter-widgets/controls",
            "_model_module_version": "1.5.0",
            "_model_name": "DescriptionStyleModel",
            "_view_count": null,
            "_view_module": "@jupyter-widgets/base",
            "_view_module_version": "1.2.0",
            "_view_name": "StyleView",
            "description_width": ""
          }
        },
        "777985e576a24767a368b71564de04dc": {
          "model_module": "@jupyter-widgets/base",
          "model_name": "LayoutModel",
          "model_module_version": "1.2.0",
          "state": {
            "_model_module": "@jupyter-widgets/base",
            "_model_module_version": "1.2.0",
            "_model_name": "LayoutModel",
            "_view_count": null,
            "_view_module": "@jupyter-widgets/base",
            "_view_module_version": "1.2.0",
            "_view_name": "LayoutView",
            "align_content": null,
            "align_items": null,
            "align_self": null,
            "border": null,
            "bottom": null,
            "display": null,
            "flex": null,
            "flex_flow": null,
            "grid_area": null,
            "grid_auto_columns": null,
            "grid_auto_flow": null,
            "grid_auto_rows": null,
            "grid_column": null,
            "grid_gap": null,
            "grid_row": null,
            "grid_template_areas": null,
            "grid_template_columns": null,
            "grid_template_rows": null,
            "height": null,
            "justify_content": null,
            "justify_items": null,
            "left": null,
            "margin": null,
            "max_height": null,
            "max_width": null,
            "min_height": null,
            "min_width": null,
            "object_fit": null,
            "object_position": null,
            "order": null,
            "overflow": null,
            "overflow_x": null,
            "overflow_y": null,
            "padding": null,
            "right": null,
            "top": null,
            "visibility": null,
            "width": null
          }
        },
        "66e6b93452ff46d28bdb4877fce65cd5": {
          "model_module": "@jupyter-widgets/controls",
          "model_name": "ProgressStyleModel",
          "model_module_version": "1.5.0",
          "state": {
            "_model_module": "@jupyter-widgets/controls",
            "_model_module_version": "1.5.0",
            "_model_name": "ProgressStyleModel",
            "_view_count": null,
            "_view_module": "@jupyter-widgets/base",
            "_view_module_version": "1.2.0",
            "_view_name": "StyleView",
            "bar_color": null,
            "description_width": ""
          }
        }
      }
    },
    "kaggle": {
      "accelerator": "none",
      "dataSources": [],
      "dockerImageVersionId": 30674,
      "isInternetEnabled": true,
      "language": "python",
      "sourceType": "notebook",
      "isGpuEnabled": false
    }
  },
  "nbformat_minor": 0,
  "nbformat": 4,
  "cells": [
    {
      "cell_type": "markdown",
      "metadata": {
        "id": "view-in-github",
        "colab_type": "text"
      },
      "source": [
        "<a href=\"https://colab.research.google.com/github/cs23m066/Assignment_2/blob/main/dl_assignment_2_2.ipynb\" target=\"_parent\"><img src=\"https://colab.research.google.com/assets/colab-badge.svg\" alt=\"Open In Colab\"/></a>"
      ]
    },
    {
      "cell_type": "code",
      "source": [
        "import torch\n",
        "from torchvision.datasets import ImageFolder\n",
        "import torchvision.transforms as transforms\n",
        "from torch.utils.data import Subset, DataLoader\n",
        "import torchvision\n",
        "import torch.nn as nn\n",
        "import torch.nn.functional as F\n",
        "from torch import optim\n",
        "from tqdm import tqdm\n",
        "from torch.utils.data import DataLoader\n",
        "from torchvision import datasets"
      ],
      "metadata": {
        "id": "3jThqkXDJIQ0",
        "execution": {
          "iopub.status.busy": "2024-04-04T14:32:02.519323Z",
          "iopub.execute_input": "2024-04-04T14:32:02.519660Z",
          "iopub.status.idle": "2024-04-04T14:32:10.086602Z",
          "shell.execute_reply.started": "2024-04-04T14:32:02.519632Z",
          "shell.execute_reply": "2024-04-04T14:32:10.085760Z"
        },
        "trusted": true
      },
      "execution_count": null,
      "outputs": []
    },
    {
      "cell_type": "code",
      "source": [
        "import math"
      ],
      "metadata": {
        "execution": {
          "iopub.status.busy": "2024-04-04T14:32:10.088308Z",
          "iopub.execute_input": "2024-04-04T14:32:10.088938Z",
          "iopub.status.idle": "2024-04-04T14:32:10.092961Z",
          "shell.execute_reply.started": "2024-04-04T14:32:10.088910Z",
          "shell.execute_reply": "2024-04-04T14:32:10.092072Z"
        },
        "trusted": true,
        "id": "4geJZHJ7h2QO"
      },
      "execution_count": null,
      "outputs": []
    },
    {
      "cell_type": "code",
      "source": [
        "!wget https://storage.googleapis.com/wandb_datasets/nature_12K.zip -O nature_12K.zip\n",
        "!unzip -q nature_12K.zip"
      ],
      "metadata": {
        "execution": {
          "iopub.status.busy": "2024-04-04T14:32:10.094096Z",
          "iopub.execute_input": "2024-04-04T14:32:10.094345Z",
          "iopub.status.idle": "2024-04-04T14:32:57.884868Z",
          "shell.execute_reply.started": "2024-04-04T14:32:10.094323Z",
          "shell.execute_reply": "2024-04-04T14:32:57.883723Z"
        },
        "trusted": true,
        "id": "6oGOZDJ8h2QO",
        "outputId": "1cfd8aa2-0492-41f9-bebf-11233cfecb1e"
      },
      "execution_count": null,
      "outputs": [
        {
          "name": "stdout",
          "text": "--2024-04-04 14:32:11--  https://storage.googleapis.com/wandb_datasets/nature_12K.zip\nResolving storage.googleapis.com (storage.googleapis.com)... 173.194.195.207, 173.194.196.207, 173.194.197.207, ...\nConnecting to storage.googleapis.com (storage.googleapis.com)|173.194.195.207|:443... connected.\nHTTP request sent, awaiting response... 200 OK\nLength: 3816687935 (3.6G) [application/zip]\nSaving to: 'nature_12K.zip'\n\nnature_12K.zip      100%[===================>]   3.55G   173MB/s    in 18s     \n\n2024-04-04 14:32:29 (202 MB/s) - 'nature_12K.zip' saved [3816687935/3816687935]\n\n",
          "output_type": "stream"
        }
      ]
    },
    {
      "cell_type": "code",
      "source": [
        "!rm nature_12K.zip"
      ],
      "metadata": {
        "execution": {
          "iopub.status.busy": "2024-04-04T14:32:57.886409Z",
          "iopub.execute_input": "2024-04-04T14:32:57.886724Z",
          "iopub.status.idle": "2024-04-04T14:32:59.467080Z",
          "shell.execute_reply.started": "2024-04-04T14:32:57.886696Z",
          "shell.execute_reply": "2024-04-04T14:32:59.465891Z"
        },
        "trusted": true,
        "id": "OKATGCOeh2QP"
      },
      "execution_count": null,
      "outputs": []
    },
    {
      "cell_type": "code",
      "source": [
        "!pip install wandb\n",
        "import wandb\n",
        "from wandb.keras import WandbCallback\n",
        "import socket\n",
        "socket.setdefaulttimeout(30)\n",
        "wandb.login()\n",
        "wandb.init(project ='DL_assignment_2')"
      ],
      "metadata": {
        "colab": {
          "base_uri": "https://localhost:8080/",
          "height": 812
        },
        "id": "NCprfCfLdHvK",
        "outputId": "26c8415f-1f62-4e2b-b17d-69c417371e57",
        "execution": {
          "iopub.status.busy": "2024-04-04T14:32:59.469821Z",
          "iopub.execute_input": "2024-04-04T14:32:59.470154Z",
          "iopub.status.idle": "2024-04-04T14:34:57.278083Z",
          "shell.execute_reply.started": "2024-04-04T14:32:59.470126Z",
          "shell.execute_reply": "2024-04-04T14:34:57.277073Z"
        },
        "trusted": true
      },
      "execution_count": null,
      "outputs": [
        {
          "name": "stdout",
          "text": "Requirement already satisfied: wandb in /opt/conda/lib/python3.10/site-packages (0.16.4)\nRequirement already satisfied: Click!=8.0.0,>=7.1 in /opt/conda/lib/python3.10/site-packages (from wandb) (8.1.7)\nRequirement already satisfied: GitPython!=3.1.29,>=1.0.0 in /opt/conda/lib/python3.10/site-packages (from wandb) (3.1.41)\nRequirement already satisfied: requests<3,>=2.0.0 in /opt/conda/lib/python3.10/site-packages (from wandb) (2.31.0)\nRequirement already satisfied: psutil>=5.0.0 in /opt/conda/lib/python3.10/site-packages (from wandb) (5.9.3)\nRequirement already satisfied: sentry-sdk>=1.0.0 in /opt/conda/lib/python3.10/site-packages (from wandb) (1.42.0)\nRequirement already satisfied: docker-pycreds>=0.4.0 in /opt/conda/lib/python3.10/site-packages (from wandb) (0.4.0)\nRequirement already satisfied: PyYAML in /opt/conda/lib/python3.10/site-packages (from wandb) (6.0.1)\nRequirement already satisfied: setproctitle in /opt/conda/lib/python3.10/site-packages (from wandb) (1.3.3)\nRequirement already satisfied: setuptools in /opt/conda/lib/python3.10/site-packages (from wandb) (69.0.3)\nRequirement already satisfied: appdirs>=1.4.3 in /opt/conda/lib/python3.10/site-packages (from wandb) (1.4.4)\nRequirement already satisfied: protobuf!=4.21.0,<5,>=3.19.0 in /opt/conda/lib/python3.10/site-packages (from wandb) (3.20.3)\nRequirement already satisfied: six>=1.4.0 in /opt/conda/lib/python3.10/site-packages (from docker-pycreds>=0.4.0->wandb) (1.16.0)\nRequirement already satisfied: gitdb<5,>=4.0.1 in /opt/conda/lib/python3.10/site-packages (from GitPython!=3.1.29,>=1.0.0->wandb) (4.0.11)\nRequirement already satisfied: charset-normalizer<4,>=2 in /opt/conda/lib/python3.10/site-packages (from requests<3,>=2.0.0->wandb) (3.3.2)\nRequirement already satisfied: idna<4,>=2.5 in /opt/conda/lib/python3.10/site-packages (from requests<3,>=2.0.0->wandb) (3.6)\nRequirement already satisfied: urllib3<3,>=1.21.1 in /opt/conda/lib/python3.10/site-packages (from requests<3,>=2.0.0->wandb) (1.26.18)\nRequirement already satisfied: certifi>=2017.4.17 in /opt/conda/lib/python3.10/site-packages (from requests<3,>=2.0.0->wandb) (2024.2.2)\nRequirement already satisfied: smmap<6,>=3.0.1 in /opt/conda/lib/python3.10/site-packages (from gitdb<5,>=4.0.1->GitPython!=3.1.29,>=1.0.0->wandb) (5.0.1)\n",
          "output_type": "stream"
        },
        {
          "name": "stderr",
          "text": "2024-04-04 14:33:17.683766: E external/local_xla/xla/stream_executor/cuda/cuda_dnn.cc:9261] Unable to register cuDNN factory: Attempting to register factory for plugin cuDNN when one has already been registered\n2024-04-04 14:33:17.683903: E external/local_xla/xla/stream_executor/cuda/cuda_fft.cc:607] Unable to register cuFFT factory: Attempting to register factory for plugin cuFFT when one has already been registered\n2024-04-04 14:33:17.852087: E external/local_xla/xla/stream_executor/cuda/cuda_blas.cc:1515] Unable to register cuBLAS factory: Attempting to register factory for plugin cuBLAS when one has already been registered\n\u001b[34m\u001b[1mwandb\u001b[0m: Logging into wandb.ai. (Learn how to deploy a W&B server locally: https://wandb.me/wandb-server)\n\u001b[34m\u001b[1mwandb\u001b[0m: You can find your API key in your browser here: https://wandb.ai/authorize\n\u001b[34m\u001b[1mwandb\u001b[0m: Paste an API key from your profile and hit enter, or press ctrl+c to quit:",
          "output_type": "stream"
        },
        {
          "output_type": "stream",
          "name": "stdin",
          "text": "  ········································\n"
        },
        {
          "name": "stderr",
          "text": "\u001b[34m\u001b[1mwandb\u001b[0m: Appending key for api.wandb.ai to your netrc file: /root/.netrc\n\u001b[34m\u001b[1mwandb\u001b[0m: Currently logged in as: \u001b[33mcs23m066\u001b[0m (\u001b[33mdlassignment\u001b[0m). Use \u001b[1m`wandb login --relogin`\u001b[0m to force relogin\n",
          "output_type": "stream"
        },
        {
          "output_type": "display_data",
          "data": {
            "text/plain": "<IPython.core.display.HTML object>",
            "text/html": "wandb version 0.16.6 is available!  To upgrade, please run:\n $ pip install wandb --upgrade"
          },
          "metadata": {}
        },
        {
          "output_type": "display_data",
          "data": {
            "text/plain": "<IPython.core.display.HTML object>",
            "text/html": "Tracking run with wandb version 0.16.4"
          },
          "metadata": {}
        },
        {
          "output_type": "display_data",
          "data": {
            "text/plain": "<IPython.core.display.HTML object>",
            "text/html": "Run data is saved locally in <code>/kaggle/working/wandb/run-20240404_143425-dd6u5ziy</code>"
          },
          "metadata": {}
        },
        {
          "output_type": "display_data",
          "data": {
            "text/plain": "<IPython.core.display.HTML object>",
            "text/html": "Syncing run <strong><a href='https://wandb.ai/dlassignment/DL_assignment_2/runs/dd6u5ziy' target=\"_blank\">worthy-puddle-70</a></strong> to <a href='https://wandb.ai/dlassignment/DL_assignment_2' target=\"_blank\">Weights & Biases</a> (<a href='https://wandb.me/run' target=\"_blank\">docs</a>)<br/>"
          },
          "metadata": {}
        },
        {
          "output_type": "display_data",
          "data": {
            "text/plain": "<IPython.core.display.HTML object>",
            "text/html": " View project at <a href='https://wandb.ai/dlassignment/DL_assignment_2' target=\"_blank\">https://wandb.ai/dlassignment/DL_assignment_2</a>"
          },
          "metadata": {}
        },
        {
          "output_type": "display_data",
          "data": {
            "text/plain": "<IPython.core.display.HTML object>",
            "text/html": " View run at <a href='https://wandb.ai/dlassignment/DL_assignment_2/runs/dd6u5ziy' target=\"_blank\">https://wandb.ai/dlassignment/DL_assignment_2/runs/dd6u5ziy</a>"
          },
          "metadata": {}
        },
        {
          "execution_count": 5,
          "output_type": "execute_result",
          "data": {
            "text/html": "<button onClick=\"this.nextSibling.style.display='block';this.style.display='none';\">Display W&B run</button><iframe src='https://wandb.ai/dlassignment/DL_assignment_2/runs/dd6u5ziy?jupyter=true' style='border:none;width:100%;height:420px;display:none;'></iframe>",
            "text/plain": "<wandb.sdk.wandb_run.Run at 0x7b8d417b7580>"
          },
          "metadata": {}
        }
      ]
    },
    {
      "cell_type": "code",
      "source": [],
      "metadata": {
        "id": "d_gxucc7h2QP"
      },
      "execution_count": null,
      "outputs": []
    },
    {
      "cell_type": "code",
      "source": [
        "class CNN(nn.Module):\n",
        "    def __init__(self, in_channels=3, num_classes=10,numFilterss=32,sizeFilter=3,neurons=128,activFun='sigmoid',dropOut=0.0,batchNorm='no',org=0):\n",
        "        super(CNN, self).__init__()\n",
        "        self.activFunName = activFun\n",
        "        self.batchNorm = batchNorm\n",
        "        if(org ==  0):\n",
        "            numFilters = [numFilterss,numFilterss,numFilterss,numFilterss,numFilterss]\n",
        "        else:\n",
        "            numFilters = [numFilterss,numFilterss*2,numFilterss*4,numFilterss*8,numFilterss*16]\n",
        "        width = 0.0\n",
        "        hight = 0.0\n",
        "        self.conv1 = nn.Conv2d(in_channels=in_channels,out_channels=numFilters[0],kernel_size=sizeFilter, stride=1)\n",
        "        width = (256 - sizeFilter)+1\n",
        "        hight = (256 - sizeFilter)+1\n",
        "        self.bn1 = nn.BatchNorm2d(numFilters[0])\n",
        "        self.pool1 = nn.MaxPool2d(kernel_size=sizeFilter, stride=2)\n",
        "        width = math.floor((width - sizeFilter)/2) + 1\n",
        "        hight = math.floor((hight -sizeFilter)/2) + 1\n",
        "\n",
        "        #print(width,hight)\n",
        "        self.conv2 = nn.Conv2d( in_channels=numFilters[0], out_channels=numFilters[1], kernel_size=sizeFilter,stride=1)\n",
        "        width = ((width - sizeFilter))+1\n",
        "        hight = ((hight-sizeFilter))+1\n",
        "        self.bn2 = nn.BatchNorm2d(numFilters[1])\n",
        "        self.pool2 = nn.MaxPool2d(kernel_size=sizeFilter,stride=2)\n",
        "        width = math.floor((width - sizeFilter)/2) + 1\n",
        "        hight = math.floor((hight -sizeFilter)/2) + 1\n",
        "\n",
        "        #print(width,hight)\n",
        "        self.conv3 = nn.Conv2d( in_channels=numFilters[1], out_channels=numFilters[2], kernel_size=sizeFilter,stride=1)\n",
        "        width = ((width - sizeFilter))+1\n",
        "        hight = ((hight-sizeFilter))+1\n",
        "        self.bn3 = nn.BatchNorm2d(numFilters[2])\n",
        "        self.pool3 = nn.MaxPool2d(kernel_size=sizeFilter,stride=2)\n",
        "        width = math.floor((width - sizeFilter)/2) + 1\n",
        "        hight = math.floor((hight -sizeFilter)/2) + 1\n",
        "\n",
        "        #print(width,hight)\n",
        "        self.conv4 = nn.Conv2d( in_channels=numFilters[2], out_channels=numFilters[3], kernel_size=sizeFilter,stride=1)\n",
        "        width = ((width - sizeFilter))+1\n",
        "        hight = ((hight-sizeFilter))+1\n",
        "        self.bn4 = nn.BatchNorm2d(numFilters[3])\n",
        "        self.pool4 = nn.MaxPool2d(kernel_size=sizeFilter,stride=2)\n",
        "        width = math.floor((width - sizeFilter)/2)+ 1\n",
        "        hight = math.floor((hight -sizeFilter)/2) + 1\n",
        "\n",
        "        #print(width,hight)\n",
        "        self.conv5 = nn.Conv2d( in_channels=numFilters[3], out_channels=numFilters[4], kernel_size=sizeFilter,stride=1)\n",
        "        width = ((width - sizeFilter))+1\n",
        "        hight = ((hight-sizeFilter))+1\n",
        "        self.bn5 = nn.BatchNorm2d(numFilters[4])\n",
        "        self.pool5 = nn.MaxPool2d(kernel_size=sizeFilter,stride=2)\n",
        "        width = math.floor((width - sizeFilter)/2) + 1\n",
        "        hight = math.floor((hight -sizeFilter)/2) + 1\n",
        "\n",
        "        #print(width,hight)\n",
        "        self.dropout = nn.Dropout(p=dropOut)\n",
        "        self.fc1 = nn.Linear(numFilters[4] * width*hight, neurons)\n",
        "        self.bn6 = nn.BatchNorm1d(neurons)\n",
        "        self.fc2 = nn.Linear(neurons,10)\n",
        "\n",
        "    def forward(self, x):\n",
        "        if(self.activFunName == 'relu'):\n",
        "            activation_fn = F.relu\n",
        "        elif(self.activFunName == 'gelu'):\n",
        "            activation_fn = F.gelu\n",
        "        elif(self.activFunName == 'silu'):\n",
        "            activation_fn = F.silu\n",
        "        else:\n",
        "            activation_fn = F.mish\n",
        "\n",
        "        if(self.batchNorm == 'yes'):\n",
        "            x = activation_fn(self.bn1(self.conv1(x)))\n",
        "        else:\n",
        "            x = activation_fn(self.conv1(x))\n",
        "        x = self.pool1(x)\n",
        "\n",
        "        if(self.batchNorm == 'yes'):\n",
        "            x = activation_fn(self.bn2(self.conv2(x)))\n",
        "        else:\n",
        "            x = activation_fn(self.conv2(x))\n",
        "        x = self.pool2(x)\n",
        "\n",
        "        if(self.batchNorm == 'yes'):\n",
        "            x = activation_fn(self.bn3(self.conv3(x)))\n",
        "        else:\n",
        "            x = activation_fn(self.conv3(x))\n",
        "        x = self.pool3(x)\n",
        "\n",
        "        if(self.batchNorm == 'yes'):\n",
        "            x = activation_fn(self.bn4(self.conv4(x)))\n",
        "        else:\n",
        "            x = activation_fn(self.conv4(x))\n",
        "        x = self.pool4(x)\n",
        "\n",
        "        if(self.batchNorm == 'yes'):\n",
        "            x = activation_fn(self.bn5(self.conv5(x)))\n",
        "        else:\n",
        "            x = activation_fn(self.conv5(x))\n",
        "        x = self.pool5(x)\n",
        "\n",
        "        x = x.reshape(x.shape[0], -1)\n",
        "        if(self.batchNorm == 'yes'):\n",
        "            x = activation_fn(self.bn6(self.fc1(x)))\n",
        "        else:\n",
        "            x = activation_fn(self.fc1(x))\n",
        "        x = self.dropout(x)\n",
        "        x = self.fc2(x)\n",
        "        return x"
      ],
      "metadata": {
        "id": "FsGQWkx6JNw4",
        "execution": {
          "iopub.status.busy": "2024-04-04T14:34:57.279774Z",
          "iopub.execute_input": "2024-04-04T14:34:57.280179Z",
          "iopub.status.idle": "2024-04-04T14:34:57.310675Z",
          "shell.execute_reply.started": "2024-04-04T14:34:57.280144Z",
          "shell.execute_reply": "2024-04-04T14:34:57.309697Z"
        },
        "trusted": true
      },
      "execution_count": null,
      "outputs": []
    },
    {
      "cell_type": "code",
      "source": [
        "device = torch.device(\"cuda\" if torch.cuda.is_available() else \"cpu\")"
      ],
      "metadata": {
        "id": "rkRs5JZogjZc",
        "execution": {
          "iopub.status.busy": "2024-04-04T14:34:57.384529Z",
          "iopub.execute_input": "2024-04-04T14:34:57.384989Z",
          "iopub.status.idle": "2024-04-04T14:34:57.394803Z",
          "shell.execute_reply.started": "2024-04-04T14:34:57.384955Z",
          "shell.execute_reply": "2024-04-04T14:34:57.393889Z"
        },
        "trusted": true
      },
      "execution_count": null,
      "outputs": []
    },
    {
      "cell_type": "code",
      "source": [
        "transform = transforms.Compose([\n",
        "    transforms.Resize((256,256)),\n",
        "    transforms.ToTensor(),\n",
        "    transforms.Normalize((0.5,),(0.5,))])\n",
        "\n",
        "train_dataset = datasets.ImageFolder(root='inaturalist_12K/train',transform=transform)\n",
        "train_dataset,val_dataset = torch.utils.data.random_split(train_dataset,[8000,1999])\n",
        "\n",
        "transform2 = transforms.Compose([\n",
        "    transforms.RandomHorizontalFlip(),  # Randomly flip the image horizontally\n",
        "    transforms.RandomRotation(10),      # Randomly rotate the image by a maximum of 10 degrees\n",
        "    transforms.ColorJitter(brightness=0.2, contrast=0.2, saturation=0.2, hue=0.1),  # Adjust brightness, contrast, saturation, and hue\n",
        "    transforms.RandomResizedCrop(256),  # Randomly crop and resize the image to 256x256\n",
        "    transforms.ToTensor(),              # Convert the image to a PyTorch tensor\n",
        "    transforms.Normalize((0.5,),(0.5,))  # Normalize the image\n",
        "])\n",
        "\n",
        "train_dataset2 = datasets.ImageFolder(root='inaturalist_12K/train',transform=transform2)\n",
        "train_dataset_aug,val_dataset_aug = torch.utils.data.random_split(train_dataset2,[8000,1999])\n",
        "\n",
        "def dataFun(aug,batchSize):\n",
        "    if(aug == 'no'):\n",
        "        train_loader = torch.utils.data.DataLoader(train_dataset,batch_size =batchSize,shuffle = True,num_workers=2,pin_memory=True)\n",
        "        val_loader = torch.utils.data.DataLoader(val_dataset,batch_size =batchSize,shuffle = True,num_workers=2,pin_memory=True)\n",
        "        return train_loader,val_loader\n",
        "    else:\n",
        "        train_loader_aug = torch.utils.data.DataLoader(train_dataset_aug,batch_size =batchSize,shuffle = True,num_workers=4,pin_memory=True)\n",
        "        val_loader_aug = torch.utils.data.DataLoader(val_dataset_aug,batch_size =batchSize,shuffle = True,num_workers=4,pin_memory=True)\n",
        "        return train_loader_aug,val_loader_aug"
      ],
      "metadata": {
        "execution": {
          "iopub.status.busy": "2024-04-04T14:34:57.396362Z",
          "iopub.execute_input": "2024-04-04T14:34:57.396725Z",
          "iopub.status.idle": "2024-04-04T14:34:57.534935Z",
          "shell.execute_reply.started": "2024-04-04T14:34:57.396693Z",
          "shell.execute_reply": "2024-04-04T14:34:57.534021Z"
        },
        "trusted": true,
        "id": "bELXWqx0h2QQ"
      },
      "execution_count": null,
      "outputs": []
    },
    {
      "cell_type": "code",
      "source": [
        "def train_fun(neurons,numFilters,sizeFilter,activFun,optimizerName,batchSize,dropOut,num_epochs,learning_rate,batchNorm,aug,org):\n",
        "\n",
        "    train_loader,val_loader = dataFun(aug,batchSize)\n",
        "\n",
        "    in_channels = 3\n",
        "    num_classes = 10\n",
        "\n",
        "    model = CNN(in_channels, num_classes,numFilters,sizeFilter,neurons,activFun,dropOut,batchNorm,org).to(device)\n",
        "\n",
        "    if(optimizerName == 'sgd'):\n",
        "        optimizer = optim.SGD(model.parameters(), lr=learning_rate)\n",
        "    elif(optimizerName == 'adam'):\n",
        "        optimizer = optim.Adam(model.parameters(), lr=learning_rate)\n",
        "    else:\n",
        "        optimizer = optim.NAdam(model.parameters(), lr=learning_rate)\n",
        "\n",
        "    criterion = nn.CrossEntropyLoss()\n",
        "\n",
        "    for epoch in range(num_epochs):\n",
        "        for batch_idx, (data, targets) in enumerate(tqdm(train_loader)):\n",
        "            # Get data to cuda if possible\n",
        "            data = data.to(device=device)\n",
        "            targets = targets.to(device=device)\n",
        "            # forward\n",
        "            scores = model(data)\n",
        "            loss = criterion(scores,targets)\n",
        "            # backward\n",
        "            optimizer.zero_grad()\n",
        "            loss.backward()\n",
        "            # gradient descent or adam step\n",
        "            optimizer.step() #updates the parameters\n",
        "        train_accuracy,train_loss = check_accuracy(train_loader, model,criterion,batchSize)\n",
        "        validation_accuracy,validation_loss = check_accuracy(val_loader, model,criterion,batchSize)\n",
        "        print(f\"train_accuracy:{train_accuracy:.4f},train_loss:{train_loss:.4f}\")\n",
        "        print(f\"validation_accuracy:{validation_accuracy:.4f},validation_loss:{validation_loss:.4f}\")\n",
        "        wandb.log({'train_accuracy':train_accuracy})\n",
        "        wandb.log({'train_loss':train_loss})\n",
        "        wandb.log({'val_accuracy':validation_accuracy})\n",
        "        wandb.log({'val_loss':validation_loss})\n",
        "\n",
        "    #wandb.log({'train_accuracy':train_accuracy})\n"
      ],
      "metadata": {
        "id": "lcPp2kI_JXoJ",
        "execution": {
          "iopub.status.busy": "2024-04-04T14:34:57.537444Z",
          "iopub.execute_input": "2024-04-04T14:34:57.537746Z",
          "iopub.status.idle": "2024-04-04T14:34:57.550245Z",
          "shell.execute_reply.started": "2024-04-04T14:34:57.537721Z",
          "shell.execute_reply": "2024-04-04T14:34:57.549155Z"
        },
        "trusted": true
      },
      "execution_count": null,
      "outputs": []
    },
    {
      "cell_type": "code",
      "source": [
        "def check_accuracy(loader,model,criterion,batchSize):\n",
        "    num_correct = 0\n",
        "    num_loss = 0\n",
        "    total = 0\n",
        "    num_samples = 0\n",
        "    total_loss = 0.0\n",
        "    model.eval()\n",
        "    with torch.no_grad():\n",
        "        for x, y in loader:\n",
        "            x = x.to(device=device)\n",
        "            y = y.to(device=device)\n",
        "            scores = model(x)\n",
        "            loss = criterion(scores, y)\n",
        "            total_loss += loss.item()*batchSize\n",
        "            _, predictions = scores.max(1)\n",
        "            num_correct += (predictions == y).sum().item()\n",
        "            num_samples += predictions.size(0)\n",
        "    model.train()\n",
        "    return (num_correct / num_samples)*100 , total_loss"
      ],
      "metadata": {
        "id": "ZYuVL_f2RKY7",
        "execution": {
          "iopub.status.busy": "2024-04-04T14:35:02.004902Z",
          "iopub.execute_input": "2024-04-04T14:35:02.005756Z",
          "iopub.status.idle": "2024-04-04T14:35:02.015331Z",
          "shell.execute_reply.started": "2024-04-04T14:35:02.005718Z",
          "shell.execute_reply": "2024-04-04T14:35:02.014422Z"
        },
        "trusted": true
      },
      "execution_count": null,
      "outputs": []
    },
    {
      "cell_type": "code",
      "source": [
        "# neurons = 128\n",
        "# numFilters = 32\n",
        "# sizeFilter = 3\n",
        "# activFun = 'relu'\n",
        "# optimizer = 'adam'\n",
        "# batchSize=32\n",
        "# dropOut = 0\n",
        "# num_epochs = 5\n",
        "# learning_rate = 1e-3\n",
        "# batchNorm = 'yes'\n",
        "# aug='yes'\n",
        "# org = 1\n",
        "# train_fun(neurons,numFilters,sizeFilter,activFun,optimizer,batchSize,dropOut,num_epochs,learning_rate,batchNorm,aug,org)"
      ],
      "metadata": {
        "id": "z6pHMzFjSJWt",
        "trusted": true
      },
      "execution_count": null,
      "outputs": []
    },
    {
      "cell_type": "code",
      "source": [],
      "metadata": {
        "id": "DDftfcBVh2QS"
      },
      "execution_count": null,
      "outputs": []
    },
    {
      "cell_type": "code",
      "source": [
        "def main_fun():\n",
        "    wandb.init(project ='DL_assignment_2')\n",
        "    params = wandb.config\n",
        "    with wandb.init(project = 'DL_assignment_2', name='neurons'+str(params.neurons)+'optimizer'+params.optimizer+'activFun'+params.activFun) as run:\n",
        "        train_fun(params.neurons,params.numFilters,params.sizeFilter, params.activFun,params.optimizer,params.batchSize,params.dropOut,params.num_epochs,params.learning_rate,params.batchNorm,params.aug,params.org)\n",
        "\n",
        "sweep_params = {\n",
        "    'method' : 'bayes',\n",
        "    'name'   : 'Shriram',\n",
        "    'metric' : {\n",
        "        'goal' : 'maximize',\n",
        "        'name' : 'val_accuracy',\n",
        "    },\n",
        "    'parameters' : {\n",
        "        'neurons':{'values':[128,256]},\n",
        "        'numFilters':{'values':[32,64]},\n",
        "        'sizeFilter':{'values' : [3,5]},\n",
        "        'activFun' :{'values':['relu','gelu','silu','mish']},\n",
        "        'optimizer' :{'values':['adam','nadam']},\n",
        "        'batchSize' : {'values':[32,64]},\n",
        "        'dropOut' :{'values':[0,0.2,0.4]},\n",
        "        'num_epochs':{'values':[5,10]},\n",
        "        'learning_rate' :{'values':[1e-3,1e-4]},\n",
        "        'batchNorm' :{'values' : ['yes','no']},\n",
        "        'aug' : {'values':['no']},\n",
        "        'org' : {'values':[0,1]}\n",
        "    }\n",
        "}\n",
        "sweepId = wandb.sweep(sweep_params,project = 'DL_assignment_2')\n",
        "wandb.agent(sweepId,function =main_fun,count = 10)\n",
        "wandb.finish()"
      ],
      "metadata": {
        "id": "YzBw7Y4RDjyp",
        "colab": {
          "base_uri": "https://localhost:8080/",
          "height": 890,
          "referenced_widgets": [
            "5301caf729fd49a7a5b11f77106bf48e",
            "1736613663834cac8c71ba4673741c7d",
            "72d69903ede844af8ff60e9b297115ab",
            "23f5b96ed7f64a8998517bc664d2365d",
            "2961536000be4e12aae595d7738297bb",
            "c0c43c1b473a4f408d72be8259642c7a",
            "777985e576a24767a368b71564de04dc",
            "66e6b93452ff46d28bdb4877fce65cd5",
            ""
          ]
        },
        "outputId": "b485c85e-f6e1-4dd3-821a-069227678a34",
        "execution": {
          "iopub.status.busy": "2024-04-04T14:35:13.777181Z",
          "iopub.execute_input": "2024-04-04T14:35:13.777568Z",
          "iopub.status.idle": "2024-04-04T17:49:36.904855Z",
          "shell.execute_reply.started": "2024-04-04T14:35:13.777536Z",
          "shell.execute_reply": "2024-04-04T17:49:36.903801Z"
        },
        "trusted": true
      },
      "execution_count": null,
      "outputs": [
        {
          "name": "stderr",
          "text": "\u001b[34m\u001b[1mwandb\u001b[0m: \u001b[33mWARNING\u001b[0m Calling wandb.login() after wandb.init() has no effect.\n",
          "output_type": "stream"
        },
        {
          "name": "stdout",
          "text": "Create sweep with ID: w3vbxs5d\nSweep URL: https://wandb.ai/dlassignment/DL_assignment_2/sweeps/w3vbxs5d\n",
          "output_type": "stream"
        },
        {
          "name": "stderr",
          "text": "\u001b[34m\u001b[1mwandb\u001b[0m: Agent Starting Run: ekkhzpuq with config:\n\u001b[34m\u001b[1mwandb\u001b[0m: \tactivFun: relu\n\u001b[34m\u001b[1mwandb\u001b[0m: \taug: no\n\u001b[34m\u001b[1mwandb\u001b[0m: \tbatchNorm: yes\n\u001b[34m\u001b[1mwandb\u001b[0m: \tbatchSize: 32\n\u001b[34m\u001b[1mwandb\u001b[0m: \tdropOut: 0.2\n\u001b[34m\u001b[1mwandb\u001b[0m: \tlearning_rate: 0.001\n\u001b[34m\u001b[1mwandb\u001b[0m: \tneurons: 128\n\u001b[34m\u001b[1mwandb\u001b[0m: \tnumFilters: 64\n\u001b[34m\u001b[1mwandb\u001b[0m: \tnum_epochs: 5\n\u001b[34m\u001b[1mwandb\u001b[0m: \toptimizer: nadam\n\u001b[34m\u001b[1mwandb\u001b[0m: \torg: 0\n\u001b[34m\u001b[1mwandb\u001b[0m: \tsizeFilter: 5\n",
          "output_type": "stream"
        },
        {
          "name": "stdout",
          "text": "VBox(children=(Label(value='0.000 MB of 0.000 MB uploaded\\r'), FloatProgress(value=1.0, max=1.0)))\n<IPython.core.display.HTML object>\n<IPython.core.display.HTML object>\n",
          "output_type": "stream"
        },
        {
          "name": "stderr",
          "text": "\u001b[34m\u001b[1mwandb\u001b[0m: \u001b[33mWARNING\u001b[0m Ignored wandb.init() arg project when running a sweep.\n",
          "output_type": "stream"
        },
        {
          "output_type": "display_data",
          "data": {
            "text/plain": "<IPython.core.display.HTML object>",
            "text/html": "wandb version 0.16.6 is available!  To upgrade, please run:\n $ pip install wandb --upgrade"
          },
          "metadata": {}
        },
        {
          "output_type": "display_data",
          "data": {
            "text/plain": "<IPython.core.display.HTML object>",
            "text/html": "Tracking run with wandb version 0.16.4"
          },
          "metadata": {}
        },
        {
          "output_type": "display_data",
          "data": {
            "text/plain": "<IPython.core.display.HTML object>",
            "text/html": "Run data is saved locally in <code>/kaggle/working/wandb/run-20240404_143531-ekkhzpuq</code>"
          },
          "metadata": {}
        },
        {
          "output_type": "display_data",
          "data": {
            "text/plain": "<IPython.core.display.HTML object>",
            "text/html": "Syncing run <strong><a href='https://wandb.ai/dlassignment/DL_assignment_2/runs/ekkhzpuq' target=\"_blank\">decent-sweep-1</a></strong> to <a href='https://wandb.ai/dlassignment/DL_assignment_2' target=\"_blank\">Weights & Biases</a> (<a href='https://wandb.me/run' target=\"_blank\">docs</a>)<br/>Sweep page: <a href='https://wandb.ai/dlassignment/DL_assignment_2/sweeps/w3vbxs5d' target=\"_blank\">https://wandb.ai/dlassignment/DL_assignment_2/sweeps/w3vbxs5d</a>"
          },
          "metadata": {}
        },
        {
          "output_type": "display_data",
          "data": {
            "text/plain": "<IPython.core.display.HTML object>",
            "text/html": " View project at <a href='https://wandb.ai/dlassignment/DL_assignment_2' target=\"_blank\">https://wandb.ai/dlassignment/DL_assignment_2</a>"
          },
          "metadata": {}
        },
        {
          "output_type": "display_data",
          "data": {
            "text/plain": "<IPython.core.display.HTML object>",
            "text/html": " View sweep at <a href='https://wandb.ai/dlassignment/DL_assignment_2/sweeps/w3vbxs5d' target=\"_blank\">https://wandb.ai/dlassignment/DL_assignment_2/sweeps/w3vbxs5d</a>"
          },
          "metadata": {}
        },
        {
          "output_type": "display_data",
          "data": {
            "text/plain": "<IPython.core.display.HTML object>",
            "text/html": " View run at <a href='https://wandb.ai/dlassignment/DL_assignment_2/runs/ekkhzpuq' target=\"_blank\">https://wandb.ai/dlassignment/DL_assignment_2/runs/ekkhzpuq</a>"
          },
          "metadata": {}
        },
        {
          "name": "stderr",
          "text": "\u001b[34m\u001b[1mwandb\u001b[0m: \u001b[33mWARNING\u001b[0m Ignored wandb.init() arg project when running a sweep.\n",
          "output_type": "stream"
        },
        {
          "output_type": "display_data",
          "data": {
            "text/plain": "<IPython.core.display.HTML object>",
            "text/html": "Finishing last run (ID:ekkhzpuq) before initializing another..."
          },
          "metadata": {}
        },
        {
          "output_type": "display_data",
          "data": {
            "text/plain": "VBox(children=(Label(value='0.000 MB of 0.000 MB uploaded\\r'), FloatProgress(value=1.0, max=1.0)))",
            "application/vnd.jupyter.widget-view+json": {
              "version_major": 2,
              "version_minor": 0,
              "model_id": ""
            }
          },
          "metadata": {}
        },
        {
          "output_type": "display_data",
          "data": {
            "text/plain": "<IPython.core.display.HTML object>",
            "text/html": " View run <strong style=\"color:#cdcd00\">decent-sweep-1</strong> at: <a href='https://wandb.ai/dlassignment/DL_assignment_2/runs/ekkhzpuq' target=\"_blank\">https://wandb.ai/dlassignment/DL_assignment_2/runs/ekkhzpuq</a><br/>Synced 6 W&B file(s), 0 media file(s), 0 artifact file(s) and 0 other file(s)"
          },
          "metadata": {}
        },
        {
          "output_type": "display_data",
          "data": {
            "text/plain": "<IPython.core.display.HTML object>",
            "text/html": "Find logs at: <code>./wandb/run-20240404_143531-ekkhzpuq/logs</code>"
          },
          "metadata": {}
        },
        {
          "output_type": "display_data",
          "data": {
            "text/plain": "<IPython.core.display.HTML object>",
            "text/html": "Successfully finished last run (ID:ekkhzpuq). Initializing new run:<br/>"
          },
          "metadata": {}
        },
        {
          "output_type": "display_data",
          "data": {
            "text/plain": "<IPython.core.display.HTML object>",
            "text/html": "wandb version 0.16.6 is available!  To upgrade, please run:\n $ pip install wandb --upgrade"
          },
          "metadata": {}
        },
        {
          "output_type": "display_data",
          "data": {
            "text/plain": "<IPython.core.display.HTML object>",
            "text/html": "Tracking run with wandb version 0.16.4"
          },
          "metadata": {}
        },
        {
          "output_type": "display_data",
          "data": {
            "text/plain": "<IPython.core.display.HTML object>",
            "text/html": "Run data is saved locally in <code>/kaggle/working/wandb/run-20240404_143603-ekkhzpuq</code>"
          },
          "metadata": {}
        },
        {
          "output_type": "display_data",
          "data": {
            "text/plain": "<IPython.core.display.HTML object>",
            "text/html": "Syncing run <strong><a href='https://wandb.ai/dlassignment/DL_assignment_2/runs/ekkhzpuq' target=\"_blank\">neurons128optimizernadamactivFunrelu</a></strong> to <a href='https://wandb.ai/dlassignment/DL_assignment_2' target=\"_blank\">Weights & Biases</a> (<a href='https://wandb.me/run' target=\"_blank\">docs</a>)<br/>Sweep page: <a href='https://wandb.ai/dlassignment/DL_assignment_2/sweeps/w3vbxs5d' target=\"_blank\">https://wandb.ai/dlassignment/DL_assignment_2/sweeps/w3vbxs5d</a>"
          },
          "metadata": {}
        },
        {
          "output_type": "display_data",
          "data": {
            "text/plain": "<IPython.core.display.HTML object>",
            "text/html": " View project at <a href='https://wandb.ai/dlassignment/DL_assignment_2' target=\"_blank\">https://wandb.ai/dlassignment/DL_assignment_2</a>"
          },
          "metadata": {}
        },
        {
          "output_type": "display_data",
          "data": {
            "text/plain": "<IPython.core.display.HTML object>",
            "text/html": " View sweep at <a href='https://wandb.ai/dlassignment/DL_assignment_2/sweeps/w3vbxs5d' target=\"_blank\">https://wandb.ai/dlassignment/DL_assignment_2/sweeps/w3vbxs5d</a>"
          },
          "metadata": {}
        },
        {
          "output_type": "display_data",
          "data": {
            "text/plain": "<IPython.core.display.HTML object>",
            "text/html": " View run at <a href='https://wandb.ai/dlassignment/DL_assignment_2/runs/ekkhzpuq' target=\"_blank\">https://wandb.ai/dlassignment/DL_assignment_2/runs/ekkhzpuq</a>"
          },
          "metadata": {}
        },
        {
          "name": "stderr",
          "text": "100%|██████████| 250/250 [00:58<00:00,  4.24it/s]\n",
          "output_type": "stream"
        },
        {
          "name": "stdout",
          "text": "train_accuracy:30.6000,train_loss:15703.4170\nvalidation_accuracy:28.6143,validation_loss:3978.5354\n",
          "output_type": "stream"
        },
        {
          "name": "stderr",
          "text": "100%|██████████| 250/250 [00:51<00:00,  4.89it/s]\n",
          "output_type": "stream"
        },
        {
          "name": "stdout",
          "text": "train_accuracy:34.6875,train_loss:14947.6486\nvalidation_accuracy:31.6158,validation_loss:3840.8057\n",
          "output_type": "stream"
        },
        {
          "name": "stderr",
          "text": "100%|██████████| 250/250 [00:51<00:00,  4.82it/s]\n",
          "output_type": "stream"
        },
        {
          "name": "stdout",
          "text": "train_accuracy:34.8375,train_loss:14775.7502\nvalidation_accuracy:31.0155,validation_loss:3815.7688\n",
          "output_type": "stream"
        },
        {
          "name": "stderr",
          "text": "100%|██████████| 250/250 [00:52<00:00,  4.74it/s]\n",
          "output_type": "stream"
        },
        {
          "name": "stdout",
          "text": "train_accuracy:37.9750,train_loss:14089.3318\nvalidation_accuracy:35.0675,validation_loss:3742.8331\n",
          "output_type": "stream"
        },
        {
          "name": "stderr",
          "text": "100%|██████████| 250/250 [00:52<00:00,  4.75it/s]\n",
          "output_type": "stream"
        },
        {
          "name": "stdout",
          "text": "train_accuracy:40.4000,train_loss:13643.2830\nvalidation_accuracy:36.7184,validation_loss:3701.5137\n",
          "output_type": "stream"
        },
        {
          "output_type": "display_data",
          "data": {
            "text/plain": "VBox(children=(Label(value='0.001 MB of 0.001 MB uploaded\\r'), FloatProgress(value=1.0, max=1.0)))",
            "application/vnd.jupyter.widget-view+json": {
              "version_major": 2,
              "version_minor": 0,
              "model_id": ""
            }
          },
          "metadata": {}
        },
        {
          "output_type": "display_data",
          "data": {
            "text/plain": "<IPython.core.display.HTML object>",
            "text/html": "<style>\n    table.wandb td:nth-child(1) { padding: 0 10px; text-align: left ; width: auto;} td:nth-child(2) {text-align: left ; width: 100%}\n    .wandb-row { display: flex; flex-direction: row; flex-wrap: wrap; justify-content: flex-start; width: 100% }\n    .wandb-col { display: flex; flex-direction: column; flex-basis: 100%; flex: 1; padding: 10px; }\n    </style>\n<div class=\"wandb-row\"><div class=\"wandb-col\"><h3>Run history:</h3><br/><table class=\"wandb\"><tr><td>train_accuracy</td><td>▁▄▄▆█</td></tr><tr><td>train_loss</td><td>█▅▅▃▁</td></tr><tr><td>val_accuracy</td><td>▁▄▃▇█</td></tr><tr><td>val_loss</td><td>█▅▄▂▁</td></tr></table><br/></div><div class=\"wandb-col\"><h3>Run summary:</h3><br/><table class=\"wandb\"><tr><td>train_accuracy</td><td>40.4</td></tr><tr><td>train_loss</td><td>13643.28296</td></tr><tr><td>val_accuracy</td><td>36.71836</td></tr><tr><td>val_loss</td><td>3701.51374</td></tr></table><br/></div></div>"
          },
          "metadata": {}
        },
        {
          "output_type": "display_data",
          "data": {
            "text/plain": "<IPython.core.display.HTML object>",
            "text/html": " View run <strong style=\"color:#cdcd00\">neurons128optimizernadamactivFunrelu</strong> at: <a href='https://wandb.ai/dlassignment/DL_assignment_2/runs/ekkhzpuq' target=\"_blank\">https://wandb.ai/dlassignment/DL_assignment_2/runs/ekkhzpuq</a><br/>Synced 6 W&B file(s), 0 media file(s), 0 artifact file(s) and 0 other file(s)"
          },
          "metadata": {}
        },
        {
          "output_type": "display_data",
          "data": {
            "text/plain": "<IPython.core.display.HTML object>",
            "text/html": "Find logs at: <code>./wandb/run-20240404_143603-ekkhzpuq/logs</code>"
          },
          "metadata": {}
        },
        {
          "name": "stderr",
          "text": "\u001b[34m\u001b[1mwandb\u001b[0m: Agent Starting Run: nq3vxfmi with config:\n\u001b[34m\u001b[1mwandb\u001b[0m: \tactivFun: gelu\n\u001b[34m\u001b[1mwandb\u001b[0m: \taug: no\n\u001b[34m\u001b[1mwandb\u001b[0m: \tbatchNorm: yes\n\u001b[34m\u001b[1mwandb\u001b[0m: \tbatchSize: 64\n\u001b[34m\u001b[1mwandb\u001b[0m: \tdropOut: 0.2\n\u001b[34m\u001b[1mwandb\u001b[0m: \tlearning_rate: 0.0001\n\u001b[34m\u001b[1mwandb\u001b[0m: \tneurons: 128\n\u001b[34m\u001b[1mwandb\u001b[0m: \tnumFilters: 64\n\u001b[34m\u001b[1mwandb\u001b[0m: \tnum_epochs: 10\n\u001b[34m\u001b[1mwandb\u001b[0m: \toptimizer: nadam\n\u001b[34m\u001b[1mwandb\u001b[0m: \torg: 1\n\u001b[34m\u001b[1mwandb\u001b[0m: \tsizeFilter: 3\n\u001b[34m\u001b[1mwandb\u001b[0m: \u001b[33mWARNING\u001b[0m Ignored wandb.init() arg project when running a sweep.\n",
          "output_type": "stream"
        },
        {
          "output_type": "display_data",
          "data": {
            "text/plain": "<IPython.core.display.HTML object>",
            "text/html": "wandb version 0.16.6 is available!  To upgrade, please run:\n $ pip install wandb --upgrade"
          },
          "metadata": {}
        },
        {
          "output_type": "display_data",
          "data": {
            "text/plain": "<IPython.core.display.HTML object>",
            "text/html": "Tracking run with wandb version 0.16.4"
          },
          "metadata": {}
        },
        {
          "output_type": "display_data",
          "data": {
            "text/plain": "<IPython.core.display.HTML object>",
            "text/html": "Run data is saved locally in <code>/kaggle/working/wandb/run-20240404_144701-nq3vxfmi</code>"
          },
          "metadata": {}
        },
        {
          "output_type": "display_data",
          "data": {
            "text/plain": "<IPython.core.display.HTML object>",
            "text/html": "Syncing run <strong><a href='https://wandb.ai/dlassignment/DL_assignment_2/runs/nq3vxfmi' target=\"_blank\">easy-sweep-2</a></strong> to <a href='https://wandb.ai/dlassignment/DL_assignment_2' target=\"_blank\">Weights & Biases</a> (<a href='https://wandb.me/run' target=\"_blank\">docs</a>)<br/>Sweep page: <a href='https://wandb.ai/dlassignment/DL_assignment_2/sweeps/w3vbxs5d' target=\"_blank\">https://wandb.ai/dlassignment/DL_assignment_2/sweeps/w3vbxs5d</a>"
          },
          "metadata": {}
        },
        {
          "output_type": "display_data",
          "data": {
            "text/plain": "<IPython.core.display.HTML object>",
            "text/html": " View project at <a href='https://wandb.ai/dlassignment/DL_assignment_2' target=\"_blank\">https://wandb.ai/dlassignment/DL_assignment_2</a>"
          },
          "metadata": {}
        },
        {
          "output_type": "display_data",
          "data": {
            "text/plain": "<IPython.core.display.HTML object>",
            "text/html": " View sweep at <a href='https://wandb.ai/dlassignment/DL_assignment_2/sweeps/w3vbxs5d' target=\"_blank\">https://wandb.ai/dlassignment/DL_assignment_2/sweeps/w3vbxs5d</a>"
          },
          "metadata": {}
        },
        {
          "output_type": "display_data",
          "data": {
            "text/plain": "<IPython.core.display.HTML object>",
            "text/html": " View run at <a href='https://wandb.ai/dlassignment/DL_assignment_2/runs/nq3vxfmi' target=\"_blank\">https://wandb.ai/dlassignment/DL_assignment_2/runs/nq3vxfmi</a>"
          },
          "metadata": {}
        },
        {
          "name": "stderr",
          "text": "\u001b[34m\u001b[1mwandb\u001b[0m: \u001b[33mWARNING\u001b[0m Ignored wandb.init() arg project when running a sweep.\n",
          "output_type": "stream"
        },
        {
          "output_type": "display_data",
          "data": {
            "text/plain": "<IPython.core.display.HTML object>",
            "text/html": "Finishing last run (ID:nq3vxfmi) before initializing another..."
          },
          "metadata": {}
        },
        {
          "output_type": "display_data",
          "data": {
            "text/plain": "VBox(children=(Label(value='0.000 MB of 0.000 MB uploaded\\r'), FloatProgress(value=1.0, max=1.0)))",
            "application/vnd.jupyter.widget-view+json": {
              "version_major": 2,
              "version_minor": 0,
              "model_id": ""
            }
          },
          "metadata": {}
        },
        {
          "output_type": "display_data",
          "data": {
            "text/plain": "<IPython.core.display.HTML object>",
            "text/html": " View run <strong style=\"color:#cdcd00\">easy-sweep-2</strong> at: <a href='https://wandb.ai/dlassignment/DL_assignment_2/runs/nq3vxfmi' target=\"_blank\">https://wandb.ai/dlassignment/DL_assignment_2/runs/nq3vxfmi</a><br/>Synced 6 W&B file(s), 0 media file(s), 0 artifact file(s) and 0 other file(s)"
          },
          "metadata": {}
        },
        {
          "output_type": "display_data",
          "data": {
            "text/plain": "<IPython.core.display.HTML object>",
            "text/html": "Find logs at: <code>./wandb/run-20240404_144701-nq3vxfmi/logs</code>"
          },
          "metadata": {}
        },
        {
          "output_type": "display_data",
          "data": {
            "text/plain": "<IPython.core.display.HTML object>",
            "text/html": "Successfully finished last run (ID:nq3vxfmi). Initializing new run:<br/>"
          },
          "metadata": {}
        },
        {
          "output_type": "display_data",
          "data": {
            "text/plain": "<IPython.core.display.HTML object>",
            "text/html": "wandb version 0.16.6 is available!  To upgrade, please run:\n $ pip install wandb --upgrade"
          },
          "metadata": {}
        },
        {
          "output_type": "display_data",
          "data": {
            "text/plain": "<IPython.core.display.HTML object>",
            "text/html": "Tracking run with wandb version 0.16.4"
          },
          "metadata": {}
        },
        {
          "output_type": "display_data",
          "data": {
            "text/plain": "<IPython.core.display.HTML object>",
            "text/html": "Run data is saved locally in <code>/kaggle/working/wandb/run-20240404_144733-nq3vxfmi</code>"
          },
          "metadata": {}
        },
        {
          "output_type": "display_data",
          "data": {
            "text/plain": "<IPython.core.display.HTML object>",
            "text/html": "Syncing run <strong><a href='https://wandb.ai/dlassignment/DL_assignment_2/runs/nq3vxfmi' target=\"_blank\">neurons128optimizernadamactivFungelu</a></strong> to <a href='https://wandb.ai/dlassignment/DL_assignment_2' target=\"_blank\">Weights & Biases</a> (<a href='https://wandb.me/run' target=\"_blank\">docs</a>)<br/>Sweep page: <a href='https://wandb.ai/dlassignment/DL_assignment_2/sweeps/w3vbxs5d' target=\"_blank\">https://wandb.ai/dlassignment/DL_assignment_2/sweeps/w3vbxs5d</a>"
          },
          "metadata": {}
        },
        {
          "output_type": "display_data",
          "data": {
            "text/plain": "<IPython.core.display.HTML object>",
            "text/html": " View project at <a href='https://wandb.ai/dlassignment/DL_assignment_2' target=\"_blank\">https://wandb.ai/dlassignment/DL_assignment_2</a>"
          },
          "metadata": {}
        },
        {
          "output_type": "display_data",
          "data": {
            "text/plain": "<IPython.core.display.HTML object>",
            "text/html": " View sweep at <a href='https://wandb.ai/dlassignment/DL_assignment_2/sweeps/w3vbxs5d' target=\"_blank\">https://wandb.ai/dlassignment/DL_assignment_2/sweeps/w3vbxs5d</a>"
          },
          "metadata": {}
        },
        {
          "output_type": "display_data",
          "data": {
            "text/plain": "<IPython.core.display.HTML object>",
            "text/html": " View run at <a href='https://wandb.ai/dlassignment/DL_assignment_2/runs/nq3vxfmi' target=\"_blank\">https://wandb.ai/dlassignment/DL_assignment_2/runs/nq3vxfmi</a>"
          },
          "metadata": {}
        },
        {
          "name": "stderr",
          "text": "100%|██████████| 125/125 [01:00<00:00,  2.07it/s]\n",
          "output_type": "stream"
        },
        {
          "name": "stdout",
          "text": "train_accuracy:38.2375,train_loss:14292.0934\nvalidation_accuracy:33.8669,validation_loss:3890.7873\n",
          "output_type": "stream"
        },
        {
          "name": "stderr",
          "text": "100%|██████████| 125/125 [00:56<00:00,  2.21it/s]\n",
          "output_type": "stream"
        },
        {
          "name": "stdout",
          "text": "train_accuracy:47.0250,train_loss:12776.3806\nvalidation_accuracy:36.3182,validation_loss:3678.3506\n",
          "output_type": "stream"
        },
        {
          "name": "stderr",
          "text": "100%|██████████| 125/125 [00:56<00:00,  2.19it/s]\n",
          "output_type": "stream"
        },
        {
          "name": "stdout",
          "text": "train_accuracy:54.3875,train_loss:11029.8591\nvalidation_accuracy:38.9695,validation_loss:3556.5464\n",
          "output_type": "stream"
        },
        {
          "name": "stderr",
          "text": "100%|██████████| 125/125 [00:56<00:00,  2.20it/s]\n",
          "output_type": "stream"
        },
        {
          "name": "stdout",
          "text": "train_accuracy:51.9625,train_loss:11251.7274\nvalidation_accuracy:35.3177,validation_loss:3961.6694\n",
          "output_type": "stream"
        },
        {
          "name": "stderr",
          "text": "100%|██████████| 125/125 [00:56<00:00,  2.21it/s]\n",
          "output_type": "stream"
        },
        {
          "name": "stdout",
          "text": "train_accuracy:72.5125,train_loss:7944.9357\nvalidation_accuracy:39.3197,validation_loss:3601.7347\n",
          "output_type": "stream"
        },
        {
          "name": "stderr",
          "text": "100%|██████████| 125/125 [00:56<00:00,  2.20it/s]\n",
          "output_type": "stream"
        },
        {
          "name": "stdout",
          "text": "train_accuracy:87.7000,train_loss:4906.1989\nvalidation_accuracy:40.5203,validation_loss:3590.2231\n",
          "output_type": "stream"
        },
        {
          "name": "stderr",
          "text": "100%|██████████| 125/125 [00:56<00:00,  2.22it/s]\n",
          "output_type": "stream"
        },
        {
          "name": "stdout",
          "text": "train_accuracy:95.4000,train_loss:2835.5847\nvalidation_accuracy:38.3692,validation_loss:3790.0242\n",
          "output_type": "stream"
        },
        {
          "name": "stderr",
          "text": "100%|██████████| 125/125 [00:56<00:00,  2.21it/s]\n",
          "output_type": "stream"
        },
        {
          "name": "stdout",
          "text": "train_accuracy:99.0250,train_loss:1484.5046\nvalidation_accuracy:38.3692,validation_loss:3860.8961\n",
          "output_type": "stream"
        },
        {
          "name": "stderr",
          "text": "100%|██████████| 125/125 [00:57<00:00,  2.18it/s]\n",
          "output_type": "stream"
        },
        {
          "name": "stdout",
          "text": "train_accuracy:99.9000,train_loss:658.4788\nvalidation_accuracy:41.8209,validation_loss:3557.1388\n",
          "output_type": "stream"
        },
        {
          "name": "stderr",
          "text": "100%|██████████| 125/125 [00:58<00:00,  2.15it/s]\n",
          "output_type": "stream"
        },
        {
          "name": "stdout",
          "text": "train_accuracy:99.9750,train_loss:479.8051\nvalidation_accuracy:39.8199,validation_loss:3726.1752\n",
          "output_type": "stream"
        },
        {
          "output_type": "display_data",
          "data": {
            "text/plain": "VBox(children=(Label(value='0.001 MB of 0.001 MB uploaded\\r'), FloatProgress(value=1.0, max=1.0)))",
            "application/vnd.jupyter.widget-view+json": {
              "version_major": 2,
              "version_minor": 0,
              "model_id": ""
            }
          },
          "metadata": {}
        },
        {
          "output_type": "display_data",
          "data": {
            "text/plain": "<IPython.core.display.HTML object>",
            "text/html": "<style>\n    table.wandb td:nth-child(1) { padding: 0 10px; text-align: left ; width: auto;} td:nth-child(2) {text-align: left ; width: 100%}\n    .wandb-row { display: flex; flex-direction: row; flex-wrap: wrap; justify-content: flex-start; width: 100% }\n    .wandb-col { display: flex; flex-direction: column; flex-basis: 100%; flex: 1; padding: 10px; }\n    </style>\n<div class=\"wandb-row\"><div class=\"wandb-col\"><h3>Run history:</h3><br/><table class=\"wandb\"><tr><td>train_accuracy</td><td>▁▂▃▃▅▇▇███</td></tr><tr><td>train_loss</td><td>█▇▆▆▅▃▂▂▁▁</td></tr><tr><td>val_accuracy</td><td>▁▃▅▂▆▇▅▅█▆</td></tr><tr><td>val_loss</td><td>▇▃▁█▂▂▅▆▁▄</td></tr></table><br/></div><div class=\"wandb-col\"><h3>Run summary:</h3><br/><table class=\"wandb\"><tr><td>train_accuracy</td><td>99.975</td></tr><tr><td>train_loss</td><td>479.80513</td></tr><tr><td>val_accuracy</td><td>39.81991</td></tr><tr><td>val_loss</td><td>3726.17523</td></tr></table><br/></div></div>"
          },
          "metadata": {}
        },
        {
          "output_type": "display_data",
          "data": {
            "text/plain": "<IPython.core.display.HTML object>",
            "text/html": " View run <strong style=\"color:#cdcd00\">neurons128optimizernadamactivFungelu</strong> at: <a href='https://wandb.ai/dlassignment/DL_assignment_2/runs/nq3vxfmi' target=\"_blank\">https://wandb.ai/dlassignment/DL_assignment_2/runs/nq3vxfmi</a><br/>Synced 6 W&B file(s), 0 media file(s), 0 artifact file(s) and 0 other file(s)"
          },
          "metadata": {}
        },
        {
          "output_type": "display_data",
          "data": {
            "text/plain": "<IPython.core.display.HTML object>",
            "text/html": "Find logs at: <code>./wandb/run-20240404_144733-nq3vxfmi/logs</code>"
          },
          "metadata": {}
        },
        {
          "name": "stderr",
          "text": "\u001b[34m\u001b[1mwandb\u001b[0m: Agent Starting Run: v2q93bq5 with config:\n\u001b[34m\u001b[1mwandb\u001b[0m: \tactivFun: silu\n\u001b[34m\u001b[1mwandb\u001b[0m: \taug: no\n\u001b[34m\u001b[1mwandb\u001b[0m: \tbatchNorm: no\n\u001b[34m\u001b[1mwandb\u001b[0m: \tbatchSize: 32\n\u001b[34m\u001b[1mwandb\u001b[0m: \tdropOut: 0.4\n\u001b[34m\u001b[1mwandb\u001b[0m: \tlearning_rate: 0.001\n\u001b[34m\u001b[1mwandb\u001b[0m: \tneurons: 128\n\u001b[34m\u001b[1mwandb\u001b[0m: \tnumFilters: 64\n\u001b[34m\u001b[1mwandb\u001b[0m: \tnum_epochs: 10\n\u001b[34m\u001b[1mwandb\u001b[0m: \toptimizer: nadam\n\u001b[34m\u001b[1mwandb\u001b[0m: \torg: 0\n\u001b[34m\u001b[1mwandb\u001b[0m: \tsizeFilter: 3\n\u001b[34m\u001b[1mwandb\u001b[0m: \u001b[33mWARNING\u001b[0m Ignored wandb.init() arg project when running a sweep.\n",
          "output_type": "stream"
        },
        {
          "output_type": "display_data",
          "data": {
            "text/plain": "<IPython.core.display.HTML object>",
            "text/html": "wandb version 0.16.6 is available!  To upgrade, please run:\n $ pip install wandb --upgrade"
          },
          "metadata": {}
        },
        {
          "output_type": "display_data",
          "data": {
            "text/plain": "<IPython.core.display.HTML object>",
            "text/html": "Tracking run with wandb version 0.16.4"
          },
          "metadata": {}
        },
        {
          "output_type": "display_data",
          "data": {
            "text/plain": "<IPython.core.display.HTML object>",
            "text/html": "Run data is saved locally in <code>/kaggle/working/wandb/run-20240404_150909-v2q93bq5</code>"
          },
          "metadata": {}
        },
        {
          "output_type": "display_data",
          "data": {
            "text/plain": "<IPython.core.display.HTML object>",
            "text/html": "Syncing run <strong><a href='https://wandb.ai/dlassignment/DL_assignment_2/runs/v2q93bq5' target=\"_blank\">celestial-sweep-3</a></strong> to <a href='https://wandb.ai/dlassignment/DL_assignment_2' target=\"_blank\">Weights & Biases</a> (<a href='https://wandb.me/run' target=\"_blank\">docs</a>)<br/>Sweep page: <a href='https://wandb.ai/dlassignment/DL_assignment_2/sweeps/w3vbxs5d' target=\"_blank\">https://wandb.ai/dlassignment/DL_assignment_2/sweeps/w3vbxs5d</a>"
          },
          "metadata": {}
        },
        {
          "output_type": "display_data",
          "data": {
            "text/plain": "<IPython.core.display.HTML object>",
            "text/html": " View project at <a href='https://wandb.ai/dlassignment/DL_assignment_2' target=\"_blank\">https://wandb.ai/dlassignment/DL_assignment_2</a>"
          },
          "metadata": {}
        },
        {
          "output_type": "display_data",
          "data": {
            "text/plain": "<IPython.core.display.HTML object>",
            "text/html": " View sweep at <a href='https://wandb.ai/dlassignment/DL_assignment_2/sweeps/w3vbxs5d' target=\"_blank\">https://wandb.ai/dlassignment/DL_assignment_2/sweeps/w3vbxs5d</a>"
          },
          "metadata": {}
        },
        {
          "output_type": "display_data",
          "data": {
            "text/plain": "<IPython.core.display.HTML object>",
            "text/html": " View run at <a href='https://wandb.ai/dlassignment/DL_assignment_2/runs/v2q93bq5' target=\"_blank\">https://wandb.ai/dlassignment/DL_assignment_2/runs/v2q93bq5</a>"
          },
          "metadata": {}
        },
        {
          "name": "stderr",
          "text": "\u001b[34m\u001b[1mwandb\u001b[0m: \u001b[33mWARNING\u001b[0m Ignored wandb.init() arg project when running a sweep.\n",
          "output_type": "stream"
        },
        {
          "output_type": "display_data",
          "data": {
            "text/plain": "<IPython.core.display.HTML object>",
            "text/html": "Finishing last run (ID:v2q93bq5) before initializing another..."
          },
          "metadata": {}
        },
        {
          "output_type": "display_data",
          "data": {
            "text/plain": "VBox(children=(Label(value='0.000 MB of 0.000 MB uploaded\\r'), FloatProgress(value=1.0, max=1.0)))",
            "application/vnd.jupyter.widget-view+json": {
              "version_major": 2,
              "version_minor": 0,
              "model_id": ""
            }
          },
          "metadata": {}
        },
        {
          "output_type": "display_data",
          "data": {
            "text/plain": "<IPython.core.display.HTML object>",
            "text/html": " View run <strong style=\"color:#cdcd00\">celestial-sweep-3</strong> at: <a href='https://wandb.ai/dlassignment/DL_assignment_2/runs/v2q93bq5' target=\"_blank\">https://wandb.ai/dlassignment/DL_assignment_2/runs/v2q93bq5</a><br/>Synced 6 W&B file(s), 0 media file(s), 0 artifact file(s) and 0 other file(s)"
          },
          "metadata": {}
        },
        {
          "output_type": "display_data",
          "data": {
            "text/plain": "<IPython.core.display.HTML object>",
            "text/html": "Find logs at: <code>./wandb/run-20240404_150909-v2q93bq5/logs</code>"
          },
          "metadata": {}
        },
        {
          "output_type": "display_data",
          "data": {
            "text/plain": "<IPython.core.display.HTML object>",
            "text/html": "Successfully finished last run (ID:v2q93bq5). Initializing new run:<br/>"
          },
          "metadata": {}
        },
        {
          "output_type": "display_data",
          "data": {
            "text/plain": "<IPython.core.display.HTML object>",
            "text/html": "wandb version 0.16.6 is available!  To upgrade, please run:\n $ pip install wandb --upgrade"
          },
          "metadata": {}
        },
        {
          "output_type": "display_data",
          "data": {
            "text/plain": "<IPython.core.display.HTML object>",
            "text/html": "Tracking run with wandb version 0.16.4"
          },
          "metadata": {}
        },
        {
          "output_type": "display_data",
          "data": {
            "text/plain": "<IPython.core.display.HTML object>",
            "text/html": "Run data is saved locally in <code>/kaggle/working/wandb/run-20240404_150941-v2q93bq5</code>"
          },
          "metadata": {}
        },
        {
          "output_type": "display_data",
          "data": {
            "text/plain": "<IPython.core.display.HTML object>",
            "text/html": "Syncing run <strong><a href='https://wandb.ai/dlassignment/DL_assignment_2/runs/v2q93bq5' target=\"_blank\">neurons128optimizernadamactivFunsilu</a></strong> to <a href='https://wandb.ai/dlassignment/DL_assignment_2' target=\"_blank\">Weights & Biases</a> (<a href='https://wandb.me/run' target=\"_blank\">docs</a>)<br/>Sweep page: <a href='https://wandb.ai/dlassignment/DL_assignment_2/sweeps/w3vbxs5d' target=\"_blank\">https://wandb.ai/dlassignment/DL_assignment_2/sweeps/w3vbxs5d</a>"
          },
          "metadata": {}
        },
        {
          "output_type": "display_data",
          "data": {
            "text/plain": "<IPython.core.display.HTML object>",
            "text/html": " View project at <a href='https://wandb.ai/dlassignment/DL_assignment_2' target=\"_blank\">https://wandb.ai/dlassignment/DL_assignment_2</a>"
          },
          "metadata": {}
        },
        {
          "output_type": "display_data",
          "data": {
            "text/plain": "<IPython.core.display.HTML object>",
            "text/html": " View sweep at <a href='https://wandb.ai/dlassignment/DL_assignment_2/sweeps/w3vbxs5d' target=\"_blank\">https://wandb.ai/dlassignment/DL_assignment_2/sweeps/w3vbxs5d</a>"
          },
          "metadata": {}
        },
        {
          "output_type": "display_data",
          "data": {
            "text/plain": "<IPython.core.display.HTML object>",
            "text/html": " View run at <a href='https://wandb.ai/dlassignment/DL_assignment_2/runs/v2q93bq5' target=\"_blank\">https://wandb.ai/dlassignment/DL_assignment_2/runs/v2q93bq5</a>"
          },
          "metadata": {}
        },
        {
          "name": "stderr",
          "text": "100%|██████████| 250/250 [00:59<00:00,  4.23it/s]\n",
          "output_type": "stream"
        },
        {
          "name": "stdout",
          "text": "train_accuracy:28.0375,train_loss:16253.2545\nvalidation_accuracy:26.7634,validation_loss:4111.7342\n",
          "output_type": "stream"
        },
        {
          "name": "stderr",
          "text": "100%|██████████| 250/250 [00:50<00:00,  4.94it/s]\n",
          "output_type": "stream"
        },
        {
          "name": "stdout",
          "text": "train_accuracy:31.9500,train_loss:15260.9224\nvalidation_accuracy:31.1656,validation_loss:3896.1641\n",
          "output_type": "stream"
        },
        {
          "name": "stderr",
          "text": "100%|██████████| 250/250 [00:51<00:00,  4.81it/s]\n",
          "output_type": "stream"
        },
        {
          "name": "stdout",
          "text": "train_accuracy:34.2625,train_loss:14803.5006\nvalidation_accuracy:31.5158,validation_loss:3859.5230\n",
          "output_type": "stream"
        },
        {
          "name": "stderr",
          "text": "100%|██████████| 250/250 [00:51<00:00,  4.89it/s]\n",
          "output_type": "stream"
        },
        {
          "name": "stdout",
          "text": "train_accuracy:39.6625,train_loss:13917.1792\nvalidation_accuracy:35.0675,validation_loss:3679.2762\n",
          "output_type": "stream"
        },
        {
          "name": "stderr",
          "text": "100%|██████████| 250/250 [00:50<00:00,  4.92it/s]\n",
          "output_type": "stream"
        },
        {
          "name": "stdout",
          "text": "train_accuracy:42.3375,train_loss:13467.8301\nvalidation_accuracy:35.8179,validation_loss:3673.0164\n",
          "output_type": "stream"
        },
        {
          "name": "stderr",
          "text": "100%|██████████| 250/250 [00:51<00:00,  4.87it/s]\n",
          "output_type": "stream"
        },
        {
          "name": "stdout",
          "text": "train_accuracy:45.3625,train_loss:12518.0920\nvalidation_accuracy:38.7694,validation_loss:3600.4411\n",
          "output_type": "stream"
        },
        {
          "name": "stderr",
          "text": "100%|██████████| 250/250 [00:50<00:00,  4.93it/s]\n",
          "output_type": "stream"
        },
        {
          "name": "stdout",
          "text": "train_accuracy:49.9375,train_loss:11540.2275\nvalidation_accuracy:38.1191,validation_loss:3560.9960\n",
          "output_type": "stream"
        },
        {
          "name": "stderr",
          "text": "100%|██████████| 250/250 [00:51<00:00,  4.84it/s]\n",
          "output_type": "stream"
        },
        {
          "name": "stdout",
          "text": "train_accuracy:53.0125,train_loss:10645.6776\nvalidation_accuracy:39.9200,validation_loss:3512.7159\n",
          "output_type": "stream"
        },
        {
          "name": "stderr",
          "text": "100%|██████████| 250/250 [00:50<00:00,  4.98it/s]\n",
          "output_type": "stream"
        },
        {
          "name": "stdout",
          "text": "train_accuracy:57.3625,train_loss:9835.6282\nvalidation_accuracy:40.5203,validation_loss:3600.5591\n",
          "output_type": "stream"
        },
        {
          "name": "stderr",
          "text": "100%|██████████| 250/250 [00:51<00:00,  4.84it/s]\n",
          "output_type": "stream"
        },
        {
          "name": "stdout",
          "text": "train_accuracy:63.3500,train_loss:8858.5036\nvalidation_accuracy:40.9705,validation_loss:3581.7935\n",
          "output_type": "stream"
        },
        {
          "output_type": "display_data",
          "data": {
            "text/plain": "VBox(children=(Label(value='0.001 MB of 0.001 MB uploaded\\r'), FloatProgress(value=1.0, max=1.0)))",
            "application/vnd.jupyter.widget-view+json": {
              "version_major": 2,
              "version_minor": 0,
              "model_id": ""
            }
          },
          "metadata": {}
        },
        {
          "output_type": "display_data",
          "data": {
            "text/plain": "<IPython.core.display.HTML object>",
            "text/html": "<style>\n    table.wandb td:nth-child(1) { padding: 0 10px; text-align: left ; width: auto;} td:nth-child(2) {text-align: left ; width: 100%}\n    .wandb-row { display: flex; flex-direction: row; flex-wrap: wrap; justify-content: flex-start; width: 100% }\n    .wandb-col { display: flex; flex-direction: column; flex-basis: 100%; flex: 1; padding: 10px; }\n    </style>\n<div class=\"wandb-row\"><div class=\"wandb-col\"><h3>Run history:</h3><br/><table class=\"wandb\"><tr><td>train_accuracy</td><td>▁▂▂▃▄▄▅▆▇█</td></tr><tr><td>train_loss</td><td>█▇▇▆▅▄▄▃▂▁</td></tr><tr><td>val_accuracy</td><td>▁▃▃▅▅▇▇▇██</td></tr><tr><td>val_loss</td><td>█▅▅▃▃▂▂▁▂▂</td></tr></table><br/></div><div class=\"wandb-col\"><h3>Run summary:</h3><br/><table class=\"wandb\"><tr><td>train_accuracy</td><td>63.35</td></tr><tr><td>train_loss</td><td>8858.5036</td></tr><tr><td>val_accuracy</td><td>40.97049</td></tr><tr><td>val_loss</td><td>3581.79351</td></tr></table><br/></div></div>"
          },
          "metadata": {}
        },
        {
          "output_type": "display_data",
          "data": {
            "text/plain": "<IPython.core.display.HTML object>",
            "text/html": " View run <strong style=\"color:#cdcd00\">neurons128optimizernadamactivFunsilu</strong> at: <a href='https://wandb.ai/dlassignment/DL_assignment_2/runs/v2q93bq5' target=\"_blank\">https://wandb.ai/dlassignment/DL_assignment_2/runs/v2q93bq5</a><br/>Synced 6 W&B file(s), 0 media file(s), 0 artifact file(s) and 0 other file(s)"
          },
          "metadata": {}
        },
        {
          "output_type": "display_data",
          "data": {
            "text/plain": "<IPython.core.display.HTML object>",
            "text/html": "Find logs at: <code>./wandb/run-20240404_150941-v2q93bq5/logs</code>"
          },
          "metadata": {}
        },
        {
          "name": "stderr",
          "text": "\u001b[34m\u001b[1mwandb\u001b[0m: Agent Starting Run: gbvguuxk with config:\n\u001b[34m\u001b[1mwandb\u001b[0m: \tactivFun: relu\n\u001b[34m\u001b[1mwandb\u001b[0m: \taug: no\n\u001b[34m\u001b[1mwandb\u001b[0m: \tbatchNorm: yes\n\u001b[34m\u001b[1mwandb\u001b[0m: \tbatchSize: 64\n\u001b[34m\u001b[1mwandb\u001b[0m: \tdropOut: 0.4\n\u001b[34m\u001b[1mwandb\u001b[0m: \tlearning_rate: 0.0001\n\u001b[34m\u001b[1mwandb\u001b[0m: \tneurons: 256\n\u001b[34m\u001b[1mwandb\u001b[0m: \tnumFilters: 32\n\u001b[34m\u001b[1mwandb\u001b[0m: \tnum_epochs: 10\n\u001b[34m\u001b[1mwandb\u001b[0m: \toptimizer: nadam\n\u001b[34m\u001b[1mwandb\u001b[0m: \torg: 0\n\u001b[34m\u001b[1mwandb\u001b[0m: \tsizeFilter: 5\n\u001b[34m\u001b[1mwandb\u001b[0m: \u001b[33mWARNING\u001b[0m Ignored wandb.init() arg project when running a sweep.\n",
          "output_type": "stream"
        },
        {
          "output_type": "display_data",
          "data": {
            "text/plain": "<IPython.core.display.HTML object>",
            "text/html": "wandb version 0.16.6 is available!  To upgrade, please run:\n $ pip install wandb --upgrade"
          },
          "metadata": {}
        },
        {
          "output_type": "display_data",
          "data": {
            "text/plain": "<IPython.core.display.HTML object>",
            "text/html": "Tracking run with wandb version 0.16.4"
          },
          "metadata": {}
        },
        {
          "output_type": "display_data",
          "data": {
            "text/plain": "<IPython.core.display.HTML object>",
            "text/html": "Run data is saved locally in <code>/kaggle/working/wandb/run-20240404_153008-gbvguuxk</code>"
          },
          "metadata": {}
        },
        {
          "output_type": "display_data",
          "data": {
            "text/plain": "<IPython.core.display.HTML object>",
            "text/html": "Syncing run <strong><a href='https://wandb.ai/dlassignment/DL_assignment_2/runs/gbvguuxk' target=\"_blank\">morning-sweep-4</a></strong> to <a href='https://wandb.ai/dlassignment/DL_assignment_2' target=\"_blank\">Weights & Biases</a> (<a href='https://wandb.me/run' target=\"_blank\">docs</a>)<br/>Sweep page: <a href='https://wandb.ai/dlassignment/DL_assignment_2/sweeps/w3vbxs5d' target=\"_blank\">https://wandb.ai/dlassignment/DL_assignment_2/sweeps/w3vbxs5d</a>"
          },
          "metadata": {}
        },
        {
          "output_type": "display_data",
          "data": {
            "text/plain": "<IPython.core.display.HTML object>",
            "text/html": " View project at <a href='https://wandb.ai/dlassignment/DL_assignment_2' target=\"_blank\">https://wandb.ai/dlassignment/DL_assignment_2</a>"
          },
          "metadata": {}
        },
        {
          "output_type": "display_data",
          "data": {
            "text/plain": "<IPython.core.display.HTML object>",
            "text/html": " View sweep at <a href='https://wandb.ai/dlassignment/DL_assignment_2/sweeps/w3vbxs5d' target=\"_blank\">https://wandb.ai/dlassignment/DL_assignment_2/sweeps/w3vbxs5d</a>"
          },
          "metadata": {}
        },
        {
          "output_type": "display_data",
          "data": {
            "text/plain": "<IPython.core.display.HTML object>",
            "text/html": " View run at <a href='https://wandb.ai/dlassignment/DL_assignment_2/runs/gbvguuxk' target=\"_blank\">https://wandb.ai/dlassignment/DL_assignment_2/runs/gbvguuxk</a>"
          },
          "metadata": {}
        },
        {
          "name": "stderr",
          "text": "\u001b[34m\u001b[1mwandb\u001b[0m: \u001b[33mWARNING\u001b[0m Ignored wandb.init() arg project when running a sweep.\n",
          "output_type": "stream"
        },
        {
          "output_type": "display_data",
          "data": {
            "text/plain": "<IPython.core.display.HTML object>",
            "text/html": "Finishing last run (ID:gbvguuxk) before initializing another..."
          },
          "metadata": {}
        },
        {
          "output_type": "display_data",
          "data": {
            "text/plain": "VBox(children=(Label(value='0.000 MB of 0.000 MB uploaded\\r'), FloatProgress(value=1.0, max=1.0)))",
            "application/vnd.jupyter.widget-view+json": {
              "version_major": 2,
              "version_minor": 0,
              "model_id": ""
            }
          },
          "metadata": {}
        },
        {
          "output_type": "display_data",
          "data": {
            "text/plain": "<IPython.core.display.HTML object>",
            "text/html": " View run <strong style=\"color:#cdcd00\">morning-sweep-4</strong> at: <a href='https://wandb.ai/dlassignment/DL_assignment_2/runs/gbvguuxk' target=\"_blank\">https://wandb.ai/dlassignment/DL_assignment_2/runs/gbvguuxk</a><br/>Synced 6 W&B file(s), 0 media file(s), 0 artifact file(s) and 0 other file(s)"
          },
          "metadata": {}
        },
        {
          "output_type": "display_data",
          "data": {
            "text/plain": "<IPython.core.display.HTML object>",
            "text/html": "Find logs at: <code>./wandb/run-20240404_153008-gbvguuxk/logs</code>"
          },
          "metadata": {}
        },
        {
          "output_type": "display_data",
          "data": {
            "text/plain": "<IPython.core.display.HTML object>",
            "text/html": "Successfully finished last run (ID:gbvguuxk). Initializing new run:<br/>"
          },
          "metadata": {}
        },
        {
          "output_type": "display_data",
          "data": {
            "text/plain": "<IPython.core.display.HTML object>",
            "text/html": "wandb version 0.16.6 is available!  To upgrade, please run:\n $ pip install wandb --upgrade"
          },
          "metadata": {}
        },
        {
          "output_type": "display_data",
          "data": {
            "text/plain": "<IPython.core.display.HTML object>",
            "text/html": "Tracking run with wandb version 0.16.4"
          },
          "metadata": {}
        },
        {
          "output_type": "display_data",
          "data": {
            "text/plain": "<IPython.core.display.HTML object>",
            "text/html": "Run data is saved locally in <code>/kaggle/working/wandb/run-20240404_153040-gbvguuxk</code>"
          },
          "metadata": {}
        },
        {
          "output_type": "display_data",
          "data": {
            "text/plain": "<IPython.core.display.HTML object>",
            "text/html": "Syncing run <strong><a href='https://wandb.ai/dlassignment/DL_assignment_2/runs/gbvguuxk' target=\"_blank\">neurons256optimizernadamactivFunrelu</a></strong> to <a href='https://wandb.ai/dlassignment/DL_assignment_2' target=\"_blank\">Weights & Biases</a> (<a href='https://wandb.me/run' target=\"_blank\">docs</a>)<br/>Sweep page: <a href='https://wandb.ai/dlassignment/DL_assignment_2/sweeps/w3vbxs5d' target=\"_blank\">https://wandb.ai/dlassignment/DL_assignment_2/sweeps/w3vbxs5d</a>"
          },
          "metadata": {}
        },
        {
          "output_type": "display_data",
          "data": {
            "text/plain": "<IPython.core.display.HTML object>",
            "text/html": " View project at <a href='https://wandb.ai/dlassignment/DL_assignment_2' target=\"_blank\">https://wandb.ai/dlassignment/DL_assignment_2</a>"
          },
          "metadata": {}
        },
        {
          "output_type": "display_data",
          "data": {
            "text/plain": "<IPython.core.display.HTML object>",
            "text/html": " View sweep at <a href='https://wandb.ai/dlassignment/DL_assignment_2/sweeps/w3vbxs5d' target=\"_blank\">https://wandb.ai/dlassignment/DL_assignment_2/sweeps/w3vbxs5d</a>"
          },
          "metadata": {}
        },
        {
          "output_type": "display_data",
          "data": {
            "text/plain": "<IPython.core.display.HTML object>",
            "text/html": " View run at <a href='https://wandb.ai/dlassignment/DL_assignment_2/runs/gbvguuxk' target=\"_blank\">https://wandb.ai/dlassignment/DL_assignment_2/runs/gbvguuxk</a>"
          },
          "metadata": {}
        },
        {
          "name": "stderr",
          "text": "100%|██████████| 125/125 [00:56<00:00,  2.21it/s]\n",
          "output_type": "stream"
        },
        {
          "name": "stdout",
          "text": "train_accuracy:26.8875,train_loss:16554.2341\nvalidation_accuracy:26.0130,validation_loss:4264.4184\n",
          "output_type": "stream"
        },
        {
          "name": "stderr",
          "text": "100%|██████████| 125/125 [00:51<00:00,  2.44it/s]\n",
          "output_type": "stream"
        },
        {
          "name": "stdout",
          "text": "train_accuracy:29.3125,train_loss:15980.8857\nvalidation_accuracy:27.3137,validation_loss:4147.4589\n",
          "output_type": "stream"
        },
        {
          "name": "stderr",
          "text": "100%|██████████| 125/125 [00:49<00:00,  2.53it/s]\n",
          "output_type": "stream"
        },
        {
          "name": "stdout",
          "text": "train_accuracy:30.0625,train_loss:15569.7631\nvalidation_accuracy:28.3142,validation_loss:4082.0057\n",
          "output_type": "stream"
        },
        {
          "name": "stderr",
          "text": "100%|██████████| 125/125 [00:49<00:00,  2.50it/s]\n",
          "output_type": "stream"
        },
        {
          "name": "stdout",
          "text": "train_accuracy:36.7875,train_loss:14706.4934\nvalidation_accuracy:33.9670,validation_loss:3908.0580\n",
          "output_type": "stream"
        },
        {
          "name": "stderr",
          "text": "100%|██████████| 125/125 [00:49<00:00,  2.50it/s]\n",
          "output_type": "stream"
        },
        {
          "name": "stdout",
          "text": "train_accuracy:38.0125,train_loss:14398.6356\nvalidation_accuracy:33.3667,validation_loss:3859.9697\n",
          "output_type": "stream"
        },
        {
          "name": "stderr",
          "text": "100%|██████████| 125/125 [00:50<00:00,  2.50it/s]\n",
          "output_type": "stream"
        },
        {
          "name": "stdout",
          "text": "train_accuracy:37.6875,train_loss:14327.5550\nvalidation_accuracy:32.9665,validation_loss:3933.8111\n",
          "output_type": "stream"
        },
        {
          "name": "stderr",
          "text": "100%|██████████| 125/125 [00:51<00:00,  2.44it/s]\n",
          "output_type": "stream"
        },
        {
          "name": "stdout",
          "text": "train_accuracy:40.7625,train_loss:13678.5966\nvalidation_accuracy:36.0680,validation_loss:3782.2097\n",
          "output_type": "stream"
        },
        {
          "name": "stderr",
          "text": "100%|██████████| 125/125 [00:49<00:00,  2.52it/s]\n",
          "output_type": "stream"
        },
        {
          "name": "stdout",
          "text": "train_accuracy:39.3750,train_loss:13756.6246\nvalidation_accuracy:34.1671,validation_loss:3809.8670\n",
          "output_type": "stream"
        },
        {
          "name": "stderr",
          "text": "100%|██████████| 125/125 [00:50<00:00,  2.46it/s]\n",
          "output_type": "stream"
        },
        {
          "name": "stdout",
          "text": "train_accuracy:41.6000,train_loss:13478.3445\nvalidation_accuracy:34.5173,validation_loss:3893.6842\n",
          "output_type": "stream"
        },
        {
          "name": "stderr",
          "text": "100%|██████████| 125/125 [00:49<00:00,  2.51it/s]\n",
          "output_type": "stream"
        },
        {
          "name": "stdout",
          "text": "train_accuracy:45.4625,train_loss:12704.6001\nvalidation_accuracy:36.6183,validation_loss:3663.6417\n",
          "output_type": "stream"
        },
        {
          "output_type": "display_data",
          "data": {
            "text/plain": "VBox(children=(Label(value='0.001 MB of 0.001 MB uploaded\\r'), FloatProgress(value=1.0, max=1.0)))",
            "application/vnd.jupyter.widget-view+json": {
              "version_major": 2,
              "version_minor": 0,
              "model_id": ""
            }
          },
          "metadata": {}
        },
        {
          "output_type": "display_data",
          "data": {
            "text/plain": "<IPython.core.display.HTML object>",
            "text/html": "<style>\n    table.wandb td:nth-child(1) { padding: 0 10px; text-align: left ; width: auto;} td:nth-child(2) {text-align: left ; width: 100%}\n    .wandb-row { display: flex; flex-direction: row; flex-wrap: wrap; justify-content: flex-start; width: 100% }\n    .wandb-col { display: flex; flex-direction: column; flex-basis: 100%; flex: 1; padding: 10px; }\n    </style>\n<div class=\"wandb-row\"><div class=\"wandb-col\"><h3>Run history:</h3><br/><table class=\"wandb\"><tr><td>train_accuracy</td><td>▁▂▂▅▅▅▆▆▇█</td></tr><tr><td>train_loss</td><td>█▇▆▅▄▄▃▃▂▁</td></tr><tr><td>val_accuracy</td><td>▁▂▃▆▆▆█▆▇█</td></tr><tr><td>val_loss</td><td>█▇▆▄▃▄▂▃▄▁</td></tr></table><br/></div><div class=\"wandb-col\"><h3>Run summary:</h3><br/><table class=\"wandb\"><tr><td>train_accuracy</td><td>45.4625</td></tr><tr><td>train_loss</td><td>12704.60009</td></tr><tr><td>val_accuracy</td><td>36.61831</td></tr><tr><td>val_loss</td><td>3663.64168</td></tr></table><br/></div></div>"
          },
          "metadata": {}
        },
        {
          "output_type": "display_data",
          "data": {
            "text/plain": "<IPython.core.display.HTML object>",
            "text/html": " View run <strong style=\"color:#cdcd00\">neurons256optimizernadamactivFunrelu</strong> at: <a href='https://wandb.ai/dlassignment/DL_assignment_2/runs/gbvguuxk' target=\"_blank\">https://wandb.ai/dlassignment/DL_assignment_2/runs/gbvguuxk</a><br/>Synced 6 W&B file(s), 0 media file(s), 0 artifact file(s) and 0 other file(s)"
          },
          "metadata": {}
        },
        {
          "output_type": "display_data",
          "data": {
            "text/plain": "<IPython.core.display.HTML object>",
            "text/html": "Find logs at: <code>./wandb/run-20240404_153040-gbvguuxk/logs</code>"
          },
          "metadata": {}
        },
        {
          "name": "stderr",
          "text": "\u001b[34m\u001b[1mwandb\u001b[0m: Agent Starting Run: z1tu7p3d with config:\n\u001b[34m\u001b[1mwandb\u001b[0m: \tactivFun: relu\n\u001b[34m\u001b[1mwandb\u001b[0m: \taug: no\n\u001b[34m\u001b[1mwandb\u001b[0m: \tbatchNorm: no\n\u001b[34m\u001b[1mwandb\u001b[0m: \tbatchSize: 32\n\u001b[34m\u001b[1mwandb\u001b[0m: \tdropOut: 0\n\u001b[34m\u001b[1mwandb\u001b[0m: \tlearning_rate: 0.001\n\u001b[34m\u001b[1mwandb\u001b[0m: \tneurons: 128\n\u001b[34m\u001b[1mwandb\u001b[0m: \tnumFilters: 32\n\u001b[34m\u001b[1mwandb\u001b[0m: \tnum_epochs: 10\n\u001b[34m\u001b[1mwandb\u001b[0m: \toptimizer: adam\n\u001b[34m\u001b[1mwandb\u001b[0m: \torg: 0\n\u001b[34m\u001b[1mwandb\u001b[0m: \tsizeFilter: 5\n\u001b[34m\u001b[1mwandb\u001b[0m: \u001b[33mWARNING\u001b[0m Ignored wandb.init() arg project when running a sweep.\n",
          "output_type": "stream"
        },
        {
          "output_type": "display_data",
          "data": {
            "text/plain": "<IPython.core.display.HTML object>",
            "text/html": "wandb version 0.16.6 is available!  To upgrade, please run:\n $ pip install wandb --upgrade"
          },
          "metadata": {}
        },
        {
          "output_type": "display_data",
          "data": {
            "text/plain": "<IPython.core.display.HTML object>",
            "text/html": "Tracking run with wandb version 0.16.4"
          },
          "metadata": {}
        },
        {
          "output_type": "display_data",
          "data": {
            "text/plain": "<IPython.core.display.HTML object>",
            "text/html": "Run data is saved locally in <code>/kaggle/working/wandb/run-20240404_155052-z1tu7p3d</code>"
          },
          "metadata": {}
        },
        {
          "output_type": "display_data",
          "data": {
            "text/plain": "<IPython.core.display.HTML object>",
            "text/html": "Syncing run <strong><a href='https://wandb.ai/dlassignment/DL_assignment_2/runs/z1tu7p3d' target=\"_blank\">deep-sweep-5</a></strong> to <a href='https://wandb.ai/dlassignment/DL_assignment_2' target=\"_blank\">Weights & Biases</a> (<a href='https://wandb.me/run' target=\"_blank\">docs</a>)<br/>Sweep page: <a href='https://wandb.ai/dlassignment/DL_assignment_2/sweeps/w3vbxs5d' target=\"_blank\">https://wandb.ai/dlassignment/DL_assignment_2/sweeps/w3vbxs5d</a>"
          },
          "metadata": {}
        },
        {
          "output_type": "display_data",
          "data": {
            "text/plain": "<IPython.core.display.HTML object>",
            "text/html": " View project at <a href='https://wandb.ai/dlassignment/DL_assignment_2' target=\"_blank\">https://wandb.ai/dlassignment/DL_assignment_2</a>"
          },
          "metadata": {}
        },
        {
          "output_type": "display_data",
          "data": {
            "text/plain": "<IPython.core.display.HTML object>",
            "text/html": " View sweep at <a href='https://wandb.ai/dlassignment/DL_assignment_2/sweeps/w3vbxs5d' target=\"_blank\">https://wandb.ai/dlassignment/DL_assignment_2/sweeps/w3vbxs5d</a>"
          },
          "metadata": {}
        },
        {
          "output_type": "display_data",
          "data": {
            "text/plain": "<IPython.core.display.HTML object>",
            "text/html": " View run at <a href='https://wandb.ai/dlassignment/DL_assignment_2/runs/z1tu7p3d' target=\"_blank\">https://wandb.ai/dlassignment/DL_assignment_2/runs/z1tu7p3d</a>"
          },
          "metadata": {}
        },
        {
          "name": "stderr",
          "text": "\u001b[34m\u001b[1mwandb\u001b[0m: \u001b[33mWARNING\u001b[0m Ignored wandb.init() arg project when running a sweep.\n",
          "output_type": "stream"
        },
        {
          "output_type": "display_data",
          "data": {
            "text/plain": "<IPython.core.display.HTML object>",
            "text/html": "Finishing last run (ID:z1tu7p3d) before initializing another..."
          },
          "metadata": {}
        },
        {
          "output_type": "display_data",
          "data": {
            "text/plain": "VBox(children=(Label(value='0.000 MB of 0.000 MB uploaded\\r'), FloatProgress(value=1.0, max=1.0)))",
            "application/vnd.jupyter.widget-view+json": {
              "version_major": 2,
              "version_minor": 0,
              "model_id": ""
            }
          },
          "metadata": {}
        },
        {
          "output_type": "display_data",
          "data": {
            "text/plain": "<IPython.core.display.HTML object>",
            "text/html": " View run <strong style=\"color:#cdcd00\">deep-sweep-5</strong> at: <a href='https://wandb.ai/dlassignment/DL_assignment_2/runs/z1tu7p3d' target=\"_blank\">https://wandb.ai/dlassignment/DL_assignment_2/runs/z1tu7p3d</a><br/>Synced 6 W&B file(s), 0 media file(s), 0 artifact file(s) and 0 other file(s)"
          },
          "metadata": {}
        },
        {
          "output_type": "display_data",
          "data": {
            "text/plain": "<IPython.core.display.HTML object>",
            "text/html": "Find logs at: <code>./wandb/run-20240404_155052-z1tu7p3d/logs</code>"
          },
          "metadata": {}
        },
        {
          "output_type": "display_data",
          "data": {
            "text/plain": "<IPython.core.display.HTML object>",
            "text/html": "Successfully finished last run (ID:z1tu7p3d). Initializing new run:<br/>"
          },
          "metadata": {}
        },
        {
          "output_type": "display_data",
          "data": {
            "text/plain": "<IPython.core.display.HTML object>",
            "text/html": "wandb version 0.16.6 is available!  To upgrade, please run:\n $ pip install wandb --upgrade"
          },
          "metadata": {}
        },
        {
          "output_type": "display_data",
          "data": {
            "text/plain": "<IPython.core.display.HTML object>",
            "text/html": "Tracking run with wandb version 0.16.4"
          },
          "metadata": {}
        },
        {
          "output_type": "display_data",
          "data": {
            "text/plain": "<IPython.core.display.HTML object>",
            "text/html": "Run data is saved locally in <code>/kaggle/working/wandb/run-20240404_155124-z1tu7p3d</code>"
          },
          "metadata": {}
        },
        {
          "output_type": "display_data",
          "data": {
            "text/plain": "<IPython.core.display.HTML object>",
            "text/html": "Syncing run <strong><a href='https://wandb.ai/dlassignment/DL_assignment_2/runs/z1tu7p3d' target=\"_blank\">neurons128optimizeradamactivFunrelu</a></strong> to <a href='https://wandb.ai/dlassignment/DL_assignment_2' target=\"_blank\">Weights & Biases</a> (<a href='https://wandb.me/run' target=\"_blank\">docs</a>)<br/>Sweep page: <a href='https://wandb.ai/dlassignment/DL_assignment_2/sweeps/w3vbxs5d' target=\"_blank\">https://wandb.ai/dlassignment/DL_assignment_2/sweeps/w3vbxs5d</a>"
          },
          "metadata": {}
        },
        {
          "output_type": "display_data",
          "data": {
            "text/plain": "<IPython.core.display.HTML object>",
            "text/html": " View project at <a href='https://wandb.ai/dlassignment/DL_assignment_2' target=\"_blank\">https://wandb.ai/dlassignment/DL_assignment_2</a>"
          },
          "metadata": {}
        },
        {
          "output_type": "display_data",
          "data": {
            "text/plain": "<IPython.core.display.HTML object>",
            "text/html": " View sweep at <a href='https://wandb.ai/dlassignment/DL_assignment_2/sweeps/w3vbxs5d' target=\"_blank\">https://wandb.ai/dlassignment/DL_assignment_2/sweeps/w3vbxs5d</a>"
          },
          "metadata": {}
        },
        {
          "output_type": "display_data",
          "data": {
            "text/plain": "<IPython.core.display.HTML object>",
            "text/html": " View run at <a href='https://wandb.ai/dlassignment/DL_assignment_2/runs/z1tu7p3d' target=\"_blank\">https://wandb.ai/dlassignment/DL_assignment_2/runs/z1tu7p3d</a>"
          },
          "metadata": {}
        },
        {
          "name": "stderr",
          "text": "100%|██████████| 250/250 [00:56<00:00,  4.42it/s]\n",
          "output_type": "stream"
        },
        {
          "name": "stdout",
          "text": "train_accuracy:17.7000,train_loss:17680.7596\nvalidation_accuracy:18.1091,validation_loss:4466.5925\n",
          "output_type": "stream"
        },
        {
          "name": "stderr",
          "text": "100%|██████████| 250/250 [00:49<00:00,  5.00it/s]\n",
          "output_type": "stream"
        },
        {
          "name": "stdout",
          "text": "train_accuracy:18.2500,train_loss:17550.6819\nvalidation_accuracy:18.5593,validation_loss:4434.8367\n",
          "output_type": "stream"
        },
        {
          "name": "stderr",
          "text": "100%|██████████| 250/250 [00:50<00:00,  4.95it/s]\n",
          "output_type": "stream"
        },
        {
          "name": "stdout",
          "text": "train_accuracy:18.7875,train_loss:17496.4314\nvalidation_accuracy:19.8099,validation_loss:4409.5760\n",
          "output_type": "stream"
        },
        {
          "name": "stderr",
          "text": "100%|██████████| 250/250 [00:49<00:00,  5.01it/s]\n",
          "output_type": "stream"
        },
        {
          "name": "stdout",
          "text": "train_accuracy:19.4000,train_loss:17440.3888\nvalidation_accuracy:19.8599,validation_loss:4405.3693\n",
          "output_type": "stream"
        },
        {
          "name": "stderr",
          "text": "100%|██████████| 250/250 [00:49<00:00,  5.02it/s]\n",
          "output_type": "stream"
        },
        {
          "name": "stdout",
          "text": "train_accuracy:20.1875,train_loss:17211.7244\nvalidation_accuracy:19.7599,validation_loss:4369.1397\n",
          "output_type": "stream"
        },
        {
          "name": "stderr",
          "text": "100%|██████████| 250/250 [00:50<00:00,  4.97it/s]\n",
          "output_type": "stream"
        },
        {
          "name": "stdout",
          "text": "train_accuracy:20.8125,train_loss:17226.6903\nvalidation_accuracy:19.6598,validation_loss:4379.1335\n",
          "output_type": "stream"
        },
        {
          "name": "stderr",
          "text": "100%|██████████| 250/250 [00:50<00:00,  4.99it/s]\n",
          "output_type": "stream"
        },
        {
          "name": "stdout",
          "text": "train_accuracy:21.1875,train_loss:17078.3258\nvalidation_accuracy:19.3097,validation_loss:4365.8093\n",
          "output_type": "stream"
        },
        {
          "name": "stderr",
          "text": "100%|██████████| 250/250 [00:50<00:00,  4.97it/s]\n",
          "output_type": "stream"
        },
        {
          "name": "stdout",
          "text": "train_accuracy:21.1875,train_loss:17042.0533\nvalidation_accuracy:20.7104,validation_loss:4350.7361\n",
          "output_type": "stream"
        },
        {
          "name": "stderr",
          "text": "100%|██████████| 250/250 [00:50<00:00,  4.93it/s]\n",
          "output_type": "stream"
        },
        {
          "name": "stdout",
          "text": "train_accuracy:22.3000,train_loss:17016.9339\nvalidation_accuracy:20.9105,validation_loss:4379.6118\n",
          "output_type": "stream"
        },
        {
          "name": "stderr",
          "text": "100%|██████████| 250/250 [00:50<00:00,  4.95it/s]\n",
          "output_type": "stream"
        },
        {
          "name": "stdout",
          "text": "train_accuracy:21.9000,train_loss:16947.0462\nvalidation_accuracy:18.8094,validation_loss:4349.6875\n",
          "output_type": "stream"
        },
        {
          "output_type": "display_data",
          "data": {
            "text/plain": "VBox(children=(Label(value='0.001 MB of 0.001 MB uploaded\\r'), FloatProgress(value=1.0, max=1.0)))",
            "application/vnd.jupyter.widget-view+json": {
              "version_major": 2,
              "version_minor": 0,
              "model_id": ""
            }
          },
          "metadata": {}
        },
        {
          "output_type": "display_data",
          "data": {
            "text/plain": "<IPython.core.display.HTML object>",
            "text/html": "<style>\n    table.wandb td:nth-child(1) { padding: 0 10px; text-align: left ; width: auto;} td:nth-child(2) {text-align: left ; width: 100%}\n    .wandb-row { display: flex; flex-direction: row; flex-wrap: wrap; justify-content: flex-start; width: 100% }\n    .wandb-col { display: flex; flex-direction: column; flex-basis: 100%; flex: 1; padding: 10px; }\n    </style>\n<div class=\"wandb-row\"><div class=\"wandb-col\"><h3>Run history:</h3><br/><table class=\"wandb\"><tr><td>train_accuracy</td><td>▁▂▃▄▅▆▆▆█▇</td></tr><tr><td>train_loss</td><td>█▇▆▆▄▄▂▂▂▁</td></tr><tr><td>val_accuracy</td><td>▁▂▅▅▅▅▄██▃</td></tr><tr><td>val_loss</td><td>█▆▅▄▂▃▂▁▃▁</td></tr></table><br/></div><div class=\"wandb-col\"><h3>Run summary:</h3><br/><table class=\"wandb\"><tr><td>train_accuracy</td><td>21.9</td></tr><tr><td>train_loss</td><td>16947.04625</td></tr><tr><td>val_accuracy</td><td>18.8094</td></tr><tr><td>val_loss</td><td>4349.6875</td></tr></table><br/></div></div>"
          },
          "metadata": {}
        },
        {
          "output_type": "display_data",
          "data": {
            "text/plain": "<IPython.core.display.HTML object>",
            "text/html": " View run <strong style=\"color:#cdcd00\">neurons128optimizeradamactivFunrelu</strong> at: <a href='https://wandb.ai/dlassignment/DL_assignment_2/runs/z1tu7p3d' target=\"_blank\">https://wandb.ai/dlassignment/DL_assignment_2/runs/z1tu7p3d</a><br/>Synced 6 W&B file(s), 0 media file(s), 0 artifact file(s) and 0 other file(s)"
          },
          "metadata": {}
        },
        {
          "output_type": "display_data",
          "data": {
            "text/plain": "<IPython.core.display.HTML object>",
            "text/html": "Find logs at: <code>./wandb/run-20240404_155124-z1tu7p3d/logs</code>"
          },
          "metadata": {}
        },
        {
          "name": "stderr",
          "text": "\u001b[34m\u001b[1mwandb\u001b[0m: Agent Starting Run: 00m66xlb with config:\n\u001b[34m\u001b[1mwandb\u001b[0m: \tactivFun: silu\n\u001b[34m\u001b[1mwandb\u001b[0m: \taug: no\n\u001b[34m\u001b[1mwandb\u001b[0m: \tbatchNorm: no\n\u001b[34m\u001b[1mwandb\u001b[0m: \tbatchSize: 64\n\u001b[34m\u001b[1mwandb\u001b[0m: \tdropOut: 0\n\u001b[34m\u001b[1mwandb\u001b[0m: \tlearning_rate: 0.001\n\u001b[34m\u001b[1mwandb\u001b[0m: \tneurons: 128\n\u001b[34m\u001b[1mwandb\u001b[0m: \tnumFilters: 64\n\u001b[34m\u001b[1mwandb\u001b[0m: \tnum_epochs: 10\n\u001b[34m\u001b[1mwandb\u001b[0m: \toptimizer: adam\n\u001b[34m\u001b[1mwandb\u001b[0m: \torg: 0\n\u001b[34m\u001b[1mwandb\u001b[0m: \tsizeFilter: 5\n\u001b[34m\u001b[1mwandb\u001b[0m: \u001b[33mWARNING\u001b[0m Ignored wandb.init() arg project when running a sweep.\n",
          "output_type": "stream"
        },
        {
          "output_type": "display_data",
          "data": {
            "text/plain": "<IPython.core.display.HTML object>",
            "text/html": "wandb version 0.16.6 is available!  To upgrade, please run:\n $ pip install wandb --upgrade"
          },
          "metadata": {}
        },
        {
          "output_type": "display_data",
          "data": {
            "text/plain": "<IPython.core.display.HTML object>",
            "text/html": "Tracking run with wandb version 0.16.4"
          },
          "metadata": {}
        },
        {
          "output_type": "display_data",
          "data": {
            "text/plain": "<IPython.core.display.HTML object>",
            "text/html": "Run data is saved locally in <code>/kaggle/working/wandb/run-20240404_161133-00m66xlb</code>"
          },
          "metadata": {}
        },
        {
          "output_type": "display_data",
          "data": {
            "text/plain": "<IPython.core.display.HTML object>",
            "text/html": "Syncing run <strong><a href='https://wandb.ai/dlassignment/DL_assignment_2/runs/00m66xlb' target=\"_blank\">daily-sweep-6</a></strong> to <a href='https://wandb.ai/dlassignment/DL_assignment_2' target=\"_blank\">Weights & Biases</a> (<a href='https://wandb.me/run' target=\"_blank\">docs</a>)<br/>Sweep page: <a href='https://wandb.ai/dlassignment/DL_assignment_2/sweeps/w3vbxs5d' target=\"_blank\">https://wandb.ai/dlassignment/DL_assignment_2/sweeps/w3vbxs5d</a>"
          },
          "metadata": {}
        },
        {
          "output_type": "display_data",
          "data": {
            "text/plain": "<IPython.core.display.HTML object>",
            "text/html": " View project at <a href='https://wandb.ai/dlassignment/DL_assignment_2' target=\"_blank\">https://wandb.ai/dlassignment/DL_assignment_2</a>"
          },
          "metadata": {}
        },
        {
          "output_type": "display_data",
          "data": {
            "text/plain": "<IPython.core.display.HTML object>",
            "text/html": " View sweep at <a href='https://wandb.ai/dlassignment/DL_assignment_2/sweeps/w3vbxs5d' target=\"_blank\">https://wandb.ai/dlassignment/DL_assignment_2/sweeps/w3vbxs5d</a>"
          },
          "metadata": {}
        },
        {
          "output_type": "display_data",
          "data": {
            "text/plain": "<IPython.core.display.HTML object>",
            "text/html": " View run at <a href='https://wandb.ai/dlassignment/DL_assignment_2/runs/00m66xlb' target=\"_blank\">https://wandb.ai/dlassignment/DL_assignment_2/runs/00m66xlb</a>"
          },
          "metadata": {}
        },
        {
          "name": "stderr",
          "text": "\u001b[34m\u001b[1mwandb\u001b[0m: \u001b[33mWARNING\u001b[0m Ignored wandb.init() arg project when running a sweep.\n",
          "output_type": "stream"
        },
        {
          "output_type": "display_data",
          "data": {
            "text/plain": "<IPython.core.display.HTML object>",
            "text/html": "Finishing last run (ID:00m66xlb) before initializing another..."
          },
          "metadata": {}
        },
        {
          "output_type": "display_data",
          "data": {
            "text/plain": "VBox(children=(Label(value='0.000 MB of 0.000 MB uploaded\\r'), FloatProgress(value=1.0, max=1.0)))",
            "application/vnd.jupyter.widget-view+json": {
              "version_major": 2,
              "version_minor": 0,
              "model_id": ""
            }
          },
          "metadata": {}
        },
        {
          "output_type": "display_data",
          "data": {
            "text/plain": "<IPython.core.display.HTML object>",
            "text/html": " View run <strong style=\"color:#cdcd00\">daily-sweep-6</strong> at: <a href='https://wandb.ai/dlassignment/DL_assignment_2/runs/00m66xlb' target=\"_blank\">https://wandb.ai/dlassignment/DL_assignment_2/runs/00m66xlb</a><br/>Synced 6 W&B file(s), 0 media file(s), 0 artifact file(s) and 0 other file(s)"
          },
          "metadata": {}
        },
        {
          "output_type": "display_data",
          "data": {
            "text/plain": "<IPython.core.display.HTML object>",
            "text/html": "Find logs at: <code>./wandb/run-20240404_161133-00m66xlb/logs</code>"
          },
          "metadata": {}
        },
        {
          "output_type": "display_data",
          "data": {
            "text/plain": "<IPython.core.display.HTML object>",
            "text/html": "Successfully finished last run (ID:00m66xlb). Initializing new run:<br/>"
          },
          "metadata": {}
        },
        {
          "output_type": "display_data",
          "data": {
            "text/plain": "<IPython.core.display.HTML object>",
            "text/html": "wandb version 0.16.6 is available!  To upgrade, please run:\n $ pip install wandb --upgrade"
          },
          "metadata": {}
        },
        {
          "output_type": "display_data",
          "data": {
            "text/plain": "<IPython.core.display.HTML object>",
            "text/html": "Tracking run with wandb version 0.16.4"
          },
          "metadata": {}
        },
        {
          "output_type": "display_data",
          "data": {
            "text/plain": "<IPython.core.display.HTML object>",
            "text/html": "Run data is saved locally in <code>/kaggle/working/wandb/run-20240404_161205-00m66xlb</code>"
          },
          "metadata": {}
        },
        {
          "output_type": "display_data",
          "data": {
            "text/plain": "<IPython.core.display.HTML object>",
            "text/html": "Syncing run <strong><a href='https://wandb.ai/dlassignment/DL_assignment_2/runs/00m66xlb' target=\"_blank\">neurons128optimizeradamactivFunsilu</a></strong> to <a href='https://wandb.ai/dlassignment/DL_assignment_2' target=\"_blank\">Weights & Biases</a> (<a href='https://wandb.me/run' target=\"_blank\">docs</a>)<br/>Sweep page: <a href='https://wandb.ai/dlassignment/DL_assignment_2/sweeps/w3vbxs5d' target=\"_blank\">https://wandb.ai/dlassignment/DL_assignment_2/sweeps/w3vbxs5d</a>"
          },
          "metadata": {}
        },
        {
          "output_type": "display_data",
          "data": {
            "text/plain": "<IPython.core.display.HTML object>",
            "text/html": " View project at <a href='https://wandb.ai/dlassignment/DL_assignment_2' target=\"_blank\">https://wandb.ai/dlassignment/DL_assignment_2</a>"
          },
          "metadata": {}
        },
        {
          "output_type": "display_data",
          "data": {
            "text/plain": "<IPython.core.display.HTML object>",
            "text/html": " View sweep at <a href='https://wandb.ai/dlassignment/DL_assignment_2/sweeps/w3vbxs5d' target=\"_blank\">https://wandb.ai/dlassignment/DL_assignment_2/sweeps/w3vbxs5d</a>"
          },
          "metadata": {}
        },
        {
          "output_type": "display_data",
          "data": {
            "text/plain": "<IPython.core.display.HTML object>",
            "text/html": " View run at <a href='https://wandb.ai/dlassignment/DL_assignment_2/runs/00m66xlb' target=\"_blank\">https://wandb.ai/dlassignment/DL_assignment_2/runs/00m66xlb</a>"
          },
          "metadata": {}
        },
        {
          "name": "stderr",
          "text": "100%|██████████| 125/125 [00:57<00:00,  2.16it/s]\n",
          "output_type": "stream"
        },
        {
          "name": "stdout",
          "text": "train_accuracy:20.7875,train_loss:17133.6686\nvalidation_accuracy:21.3107,validation_loss:4381.2535\n",
          "output_type": "stream"
        },
        {
          "name": "stderr",
          "text": "100%|██████████| 125/125 [00:49<00:00,  2.52it/s]\n",
          "output_type": "stream"
        },
        {
          "name": "stdout",
          "text": "train_accuracy:24.9000,train_loss:16568.9256\nvalidation_accuracy:23.9120,validation_loss:4248.8571\n",
          "output_type": "stream"
        },
        {
          "name": "stderr",
          "text": "100%|██████████| 125/125 [00:51<00:00,  2.42it/s]\n",
          "output_type": "stream"
        },
        {
          "name": "stdout",
          "text": "train_accuracy:29.0000,train_loss:15764.8683\nvalidation_accuracy:27.7639,validation_loss:4103.0425\n",
          "output_type": "stream"
        },
        {
          "name": "stderr",
          "text": "100%|██████████| 125/125 [00:51<00:00,  2.44it/s]\n",
          "output_type": "stream"
        },
        {
          "name": "stdout",
          "text": "train_accuracy:32.5750,train_loss:15462.8979\nvalidation_accuracy:30.5153,validation_loss:4048.2649\n",
          "output_type": "stream"
        },
        {
          "name": "stderr",
          "text": "100%|██████████| 125/125 [00:49<00:00,  2.51it/s]\n",
          "output_type": "stream"
        },
        {
          "name": "stdout",
          "text": "train_accuracy:29.9000,train_loss:15694.7718\nvalidation_accuracy:28.7644,validation_loss:4110.3330\n",
          "output_type": "stream"
        },
        {
          "name": "stderr",
          "text": "100%|██████████| 125/125 [00:49<00:00,  2.52it/s]\n",
          "output_type": "stream"
        },
        {
          "name": "stdout",
          "text": "train_accuracy:35.4000,train_loss:14600.6612\nvalidation_accuracy:32.6163,validation_loss:3919.1175\n",
          "output_type": "stream"
        },
        {
          "name": "stderr",
          "text": "100%|██████████| 125/125 [00:50<00:00,  2.45it/s]\n",
          "output_type": "stream"
        },
        {
          "name": "stdout",
          "text": "train_accuracy:40.5250,train_loss:13633.6762\nvalidation_accuracy:36.8684,validation_loss:3715.1651\n",
          "output_type": "stream"
        },
        {
          "name": "stderr",
          "text": "100%|██████████| 125/125 [00:51<00:00,  2.44it/s]\n",
          "output_type": "stream"
        },
        {
          "name": "stdout",
          "text": "train_accuracy:39.4250,train_loss:13741.5504\nvalidation_accuracy:34.6673,validation_loss:3850.7368\n",
          "output_type": "stream"
        },
        {
          "name": "stderr",
          "text": "100%|██████████| 125/125 [00:50<00:00,  2.46it/s]\n",
          "output_type": "stream"
        },
        {
          "name": "stdout",
          "text": "train_accuracy:41.7750,train_loss:13254.5517\nvalidation_accuracy:35.0175,validation_loss:3872.7356\n",
          "output_type": "stream"
        },
        {
          "name": "stderr",
          "text": "100%|██████████| 125/125 [00:49<00:00,  2.53it/s]\n",
          "output_type": "stream"
        },
        {
          "name": "stdout",
          "text": "train_accuracy:44.4125,train_loss:12809.9859\nvalidation_accuracy:35.7179,validation_loss:3866.4325\n",
          "output_type": "stream"
        },
        {
          "output_type": "display_data",
          "data": {
            "text/plain": "VBox(children=(Label(value='0.001 MB of 0.001 MB uploaded\\r'), FloatProgress(value=1.0, max=1.0)))",
            "application/vnd.jupyter.widget-view+json": {
              "version_major": 2,
              "version_minor": 0,
              "model_id": ""
            }
          },
          "metadata": {}
        },
        {
          "output_type": "display_data",
          "data": {
            "text/plain": "<IPython.core.display.HTML object>",
            "text/html": "<style>\n    table.wandb td:nth-child(1) { padding: 0 10px; text-align: left ; width: auto;} td:nth-child(2) {text-align: left ; width: 100%}\n    .wandb-row { display: flex; flex-direction: row; flex-wrap: wrap; justify-content: flex-start; width: 100% }\n    .wandb-col { display: flex; flex-direction: column; flex-basis: 100%; flex: 1; padding: 10px; }\n    </style>\n<div class=\"wandb-row\"><div class=\"wandb-col\"><h3>Run history:</h3><br/><table class=\"wandb\"><tr><td>train_accuracy</td><td>▁▂▃▄▄▅▇▇▇█</td></tr><tr><td>train_loss</td><td>█▇▆▅▆▄▂▃▂▁</td></tr><tr><td>val_accuracy</td><td>▁▂▄▅▄▆█▇▇▇</td></tr><tr><td>val_loss</td><td>█▇▅▅▅▃▁▂▃▃</td></tr></table><br/></div><div class=\"wandb-col\"><h3>Run summary:</h3><br/><table class=\"wandb\"><tr><td>train_accuracy</td><td>44.4125</td></tr><tr><td>train_loss</td><td>12809.98592</td></tr><tr><td>val_accuracy</td><td>35.71786</td></tr><tr><td>val_loss</td><td>3866.43251</td></tr></table><br/></div></div>"
          },
          "metadata": {}
        },
        {
          "output_type": "display_data",
          "data": {
            "text/plain": "<IPython.core.display.HTML object>",
            "text/html": " View run <strong style=\"color:#cdcd00\">neurons128optimizeradamactivFunsilu</strong> at: <a href='https://wandb.ai/dlassignment/DL_assignment_2/runs/00m66xlb' target=\"_blank\">https://wandb.ai/dlassignment/DL_assignment_2/runs/00m66xlb</a><br/>Synced 6 W&B file(s), 0 media file(s), 0 artifact file(s) and 0 other file(s)"
          },
          "metadata": {}
        },
        {
          "output_type": "display_data",
          "data": {
            "text/plain": "<IPython.core.display.HTML object>",
            "text/html": "Find logs at: <code>./wandb/run-20240404_161205-00m66xlb/logs</code>"
          },
          "metadata": {}
        },
        {
          "name": "stderr",
          "text": "\u001b[34m\u001b[1mwandb\u001b[0m: Agent Starting Run: vdirdn7t with config:\n\u001b[34m\u001b[1mwandb\u001b[0m: \tactivFun: gelu\n\u001b[34m\u001b[1mwandb\u001b[0m: \taug: no\n\u001b[34m\u001b[1mwandb\u001b[0m: \tbatchNorm: no\n\u001b[34m\u001b[1mwandb\u001b[0m: \tbatchSize: 32\n\u001b[34m\u001b[1mwandb\u001b[0m: \tdropOut: 0\n\u001b[34m\u001b[1mwandb\u001b[0m: \tlearning_rate: 0.0001\n\u001b[34m\u001b[1mwandb\u001b[0m: \tneurons: 128\n\u001b[34m\u001b[1mwandb\u001b[0m: \tnumFilters: 32\n\u001b[34m\u001b[1mwandb\u001b[0m: \tnum_epochs: 5\n\u001b[34m\u001b[1mwandb\u001b[0m: \toptimizer: nadam\n\u001b[34m\u001b[1mwandb\u001b[0m: \torg: 0\n\u001b[34m\u001b[1mwandb\u001b[0m: \tsizeFilter: 3\n\u001b[34m\u001b[1mwandb\u001b[0m: \u001b[33mWARNING\u001b[0m Ignored wandb.init() arg project when running a sweep.\n",
          "output_type": "stream"
        },
        {
          "output_type": "display_data",
          "data": {
            "text/plain": "<IPython.core.display.HTML object>",
            "text/html": "wandb version 0.16.6 is available!  To upgrade, please run:\n $ pip install wandb --upgrade"
          },
          "metadata": {}
        },
        {
          "output_type": "display_data",
          "data": {
            "text/plain": "<IPython.core.display.HTML object>",
            "text/html": "Tracking run with wandb version 0.16.4"
          },
          "metadata": {}
        },
        {
          "output_type": "display_data",
          "data": {
            "text/plain": "<IPython.core.display.HTML object>",
            "text/html": "Run data is saved locally in <code>/kaggle/working/wandb/run-20240404_163228-vdirdn7t</code>"
          },
          "metadata": {}
        },
        {
          "output_type": "display_data",
          "data": {
            "text/plain": "<IPython.core.display.HTML object>",
            "text/html": "Syncing run <strong><a href='https://wandb.ai/dlassignment/DL_assignment_2/runs/vdirdn7t' target=\"_blank\">dainty-sweep-7</a></strong> to <a href='https://wandb.ai/dlassignment/DL_assignment_2' target=\"_blank\">Weights & Biases</a> (<a href='https://wandb.me/run' target=\"_blank\">docs</a>)<br/>Sweep page: <a href='https://wandb.ai/dlassignment/DL_assignment_2/sweeps/w3vbxs5d' target=\"_blank\">https://wandb.ai/dlassignment/DL_assignment_2/sweeps/w3vbxs5d</a>"
          },
          "metadata": {}
        },
        {
          "output_type": "display_data",
          "data": {
            "text/plain": "<IPython.core.display.HTML object>",
            "text/html": " View project at <a href='https://wandb.ai/dlassignment/DL_assignment_2' target=\"_blank\">https://wandb.ai/dlassignment/DL_assignment_2</a>"
          },
          "metadata": {}
        },
        {
          "output_type": "display_data",
          "data": {
            "text/plain": "<IPython.core.display.HTML object>",
            "text/html": " View sweep at <a href='https://wandb.ai/dlassignment/DL_assignment_2/sweeps/w3vbxs5d' target=\"_blank\">https://wandb.ai/dlassignment/DL_assignment_2/sweeps/w3vbxs5d</a>"
          },
          "metadata": {}
        },
        {
          "output_type": "display_data",
          "data": {
            "text/plain": "<IPython.core.display.HTML object>",
            "text/html": " View run at <a href='https://wandb.ai/dlassignment/DL_assignment_2/runs/vdirdn7t' target=\"_blank\">https://wandb.ai/dlassignment/DL_assignment_2/runs/vdirdn7t</a>"
          },
          "metadata": {}
        },
        {
          "name": "stderr",
          "text": "\u001b[34m\u001b[1mwandb\u001b[0m: \u001b[33mWARNING\u001b[0m Ignored wandb.init() arg project when running a sweep.\n",
          "output_type": "stream"
        },
        {
          "output_type": "display_data",
          "data": {
            "text/plain": "<IPython.core.display.HTML object>",
            "text/html": "Finishing last run (ID:vdirdn7t) before initializing another..."
          },
          "metadata": {}
        },
        {
          "output_type": "display_data",
          "data": {
            "text/plain": "VBox(children=(Label(value='0.000 MB of 0.000 MB uploaded\\r'), FloatProgress(value=1.0, max=1.0)))",
            "application/vnd.jupyter.widget-view+json": {
              "version_major": 2,
              "version_minor": 0,
              "model_id": ""
            }
          },
          "metadata": {}
        },
        {
          "output_type": "display_data",
          "data": {
            "text/plain": "<IPython.core.display.HTML object>",
            "text/html": " View run <strong style=\"color:#cdcd00\">dainty-sweep-7</strong> at: <a href='https://wandb.ai/dlassignment/DL_assignment_2/runs/vdirdn7t' target=\"_blank\">https://wandb.ai/dlassignment/DL_assignment_2/runs/vdirdn7t</a><br/>Synced 6 W&B file(s), 0 media file(s), 0 artifact file(s) and 0 other file(s)"
          },
          "metadata": {}
        },
        {
          "output_type": "display_data",
          "data": {
            "text/plain": "<IPython.core.display.HTML object>",
            "text/html": "Find logs at: <code>./wandb/run-20240404_163228-vdirdn7t/logs</code>"
          },
          "metadata": {}
        },
        {
          "output_type": "display_data",
          "data": {
            "text/plain": "<IPython.core.display.HTML object>",
            "text/html": "Successfully finished last run (ID:vdirdn7t). Initializing new run:<br/>"
          },
          "metadata": {}
        },
        {
          "output_type": "display_data",
          "data": {
            "text/plain": "<IPython.core.display.HTML object>",
            "text/html": "wandb version 0.16.6 is available!  To upgrade, please run:\n $ pip install wandb --upgrade"
          },
          "metadata": {}
        },
        {
          "output_type": "display_data",
          "data": {
            "text/plain": "<IPython.core.display.HTML object>",
            "text/html": "Tracking run with wandb version 0.16.4"
          },
          "metadata": {}
        },
        {
          "output_type": "display_data",
          "data": {
            "text/plain": "<IPython.core.display.HTML object>",
            "text/html": "Run data is saved locally in <code>/kaggle/working/wandb/run-20240404_163300-vdirdn7t</code>"
          },
          "metadata": {}
        },
        {
          "output_type": "display_data",
          "data": {
            "text/plain": "<IPython.core.display.HTML object>",
            "text/html": "Syncing run <strong><a href='https://wandb.ai/dlassignment/DL_assignment_2/runs/vdirdn7t' target=\"_blank\">neurons128optimizernadamactivFungelu</a></strong> to <a href='https://wandb.ai/dlassignment/DL_assignment_2' target=\"_blank\">Weights & Biases</a> (<a href='https://wandb.me/run' target=\"_blank\">docs</a>)<br/>Sweep page: <a href='https://wandb.ai/dlassignment/DL_assignment_2/sweeps/w3vbxs5d' target=\"_blank\">https://wandb.ai/dlassignment/DL_assignment_2/sweeps/w3vbxs5d</a>"
          },
          "metadata": {}
        },
        {
          "output_type": "display_data",
          "data": {
            "text/plain": "<IPython.core.display.HTML object>",
            "text/html": " View project at <a href='https://wandb.ai/dlassignment/DL_assignment_2' target=\"_blank\">https://wandb.ai/dlassignment/DL_assignment_2</a>"
          },
          "metadata": {}
        },
        {
          "output_type": "display_data",
          "data": {
            "text/plain": "<IPython.core.display.HTML object>",
            "text/html": " View sweep at <a href='https://wandb.ai/dlassignment/DL_assignment_2/sweeps/w3vbxs5d' target=\"_blank\">https://wandb.ai/dlassignment/DL_assignment_2/sweeps/w3vbxs5d</a>"
          },
          "metadata": {}
        },
        {
          "output_type": "display_data",
          "data": {
            "text/plain": "<IPython.core.display.HTML object>",
            "text/html": " View run at <a href='https://wandb.ai/dlassignment/DL_assignment_2/runs/vdirdn7t' target=\"_blank\">https://wandb.ai/dlassignment/DL_assignment_2/runs/vdirdn7t</a>"
          },
          "metadata": {}
        },
        {
          "name": "stderr",
          "text": "100%|██████████| 250/250 [00:56<00:00,  4.43it/s]\n",
          "output_type": "stream"
        },
        {
          "name": "stdout",
          "text": "train_accuracy:16.6375,train_loss:17820.9076\nvalidation_accuracy:16.1581,validation_loss:4500.1079\n",
          "output_type": "stream"
        },
        {
          "name": "stderr",
          "text": "100%|██████████| 250/250 [00:50<00:00,  4.96it/s]\n",
          "output_type": "stream"
        },
        {
          "name": "stdout",
          "text": "train_accuracy:22.9000,train_loss:17033.4567\nvalidation_accuracy:21.7109,validation_loss:4342.3175\n",
          "output_type": "stream"
        },
        {
          "name": "stderr",
          "text": "100%|██████████| 250/250 [00:49<00:00,  5.08it/s]\n",
          "output_type": "stream"
        },
        {
          "name": "stdout",
          "text": "train_accuracy:26.2125,train_loss:16563.7248\nvalidation_accuracy:25.5628,validation_loss:4220.5773\n",
          "output_type": "stream"
        },
        {
          "name": "stderr",
          "text": "100%|██████████| 250/250 [00:49<00:00,  5.06it/s]\n",
          "output_type": "stream"
        },
        {
          "name": "stdout",
          "text": "train_accuracy:28.2375,train_loss:16231.9923\nvalidation_accuracy:26.0630,validation_loss:4168.0635\n",
          "output_type": "stream"
        },
        {
          "name": "stderr",
          "text": "100%|██████████| 250/250 [00:49<00:00,  5.08it/s]\n",
          "output_type": "stream"
        },
        {
          "name": "stdout",
          "text": "train_accuracy:29.5625,train_loss:15886.1119\nvalidation_accuracy:27.7639,validation_loss:4109.6246\n",
          "output_type": "stream"
        },
        {
          "output_type": "display_data",
          "data": {
            "text/plain": "VBox(children=(Label(value='0.001 MB of 0.001 MB uploaded\\r'), FloatProgress(value=1.0, max=1.0)))",
            "application/vnd.jupyter.widget-view+json": {
              "version_major": 2,
              "version_minor": 0,
              "model_id": ""
            }
          },
          "metadata": {}
        },
        {
          "output_type": "display_data",
          "data": {
            "text/plain": "<IPython.core.display.HTML object>",
            "text/html": "<style>\n    table.wandb td:nth-child(1) { padding: 0 10px; text-align: left ; width: auto;} td:nth-child(2) {text-align: left ; width: 100%}\n    .wandb-row { display: flex; flex-direction: row; flex-wrap: wrap; justify-content: flex-start; width: 100% }\n    .wandb-col { display: flex; flex-direction: column; flex-basis: 100%; flex: 1; padding: 10px; }\n    </style>\n<div class=\"wandb-row\"><div class=\"wandb-col\"><h3>Run history:</h3><br/><table class=\"wandb\"><tr><td>train_accuracy</td><td>▁▄▆▇█</td></tr><tr><td>train_loss</td><td>█▅▃▂▁</td></tr><tr><td>val_accuracy</td><td>▁▄▇▇█</td></tr><tr><td>val_loss</td><td>█▅▃▂▁</td></tr></table><br/></div><div class=\"wandb-col\"><h3>Run summary:</h3><br/><table class=\"wandb\"><tr><td>train_accuracy</td><td>29.5625</td></tr><tr><td>train_loss</td><td>15886.11194</td></tr><tr><td>val_accuracy</td><td>27.76388</td></tr><tr><td>val_loss</td><td>4109.62463</td></tr></table><br/></div></div>"
          },
          "metadata": {}
        },
        {
          "output_type": "display_data",
          "data": {
            "text/plain": "<IPython.core.display.HTML object>",
            "text/html": " View run <strong style=\"color:#cdcd00\">neurons128optimizernadamactivFungelu</strong> at: <a href='https://wandb.ai/dlassignment/DL_assignment_2/runs/vdirdn7t' target=\"_blank\">https://wandb.ai/dlassignment/DL_assignment_2/runs/vdirdn7t</a><br/>Synced 6 W&B file(s), 0 media file(s), 0 artifact file(s) and 0 other file(s)"
          },
          "metadata": {}
        },
        {
          "output_type": "display_data",
          "data": {
            "text/plain": "<IPython.core.display.HTML object>",
            "text/html": "Find logs at: <code>./wandb/run-20240404_163300-vdirdn7t/logs</code>"
          },
          "metadata": {}
        },
        {
          "name": "stderr",
          "text": "\u001b[34m\u001b[1mwandb\u001b[0m: Agent Starting Run: s8im2h9p with config:\n\u001b[34m\u001b[1mwandb\u001b[0m: \tactivFun: gelu\n\u001b[34m\u001b[1mwandb\u001b[0m: \taug: no\n\u001b[34m\u001b[1mwandb\u001b[0m: \tbatchNorm: yes\n\u001b[34m\u001b[1mwandb\u001b[0m: \tbatchSize: 32\n\u001b[34m\u001b[1mwandb\u001b[0m: \tdropOut: 0.4\n\u001b[34m\u001b[1mwandb\u001b[0m: \tlearning_rate: 0.0001\n\u001b[34m\u001b[1mwandb\u001b[0m: \tneurons: 256\n\u001b[34m\u001b[1mwandb\u001b[0m: \tnumFilters: 64\n\u001b[34m\u001b[1mwandb\u001b[0m: \tnum_epochs: 10\n\u001b[34m\u001b[1mwandb\u001b[0m: \toptimizer: adam\n\u001b[34m\u001b[1mwandb\u001b[0m: \torg: 1\n\u001b[34m\u001b[1mwandb\u001b[0m: \tsizeFilter: 3\n\u001b[34m\u001b[1mwandb\u001b[0m: \u001b[33mWARNING\u001b[0m Ignored wandb.init() arg project when running a sweep.\n",
          "output_type": "stream"
        },
        {
          "output_type": "display_data",
          "data": {
            "text/plain": "<IPython.core.display.HTML object>",
            "text/html": "wandb version 0.16.6 is available!  To upgrade, please run:\n $ pip install wandb --upgrade"
          },
          "metadata": {}
        },
        {
          "output_type": "display_data",
          "data": {
            "text/plain": "<IPython.core.display.HTML object>",
            "text/html": "Tracking run with wandb version 0.16.4"
          },
          "metadata": {}
        },
        {
          "output_type": "display_data",
          "data": {
            "text/plain": "<IPython.core.display.HTML object>",
            "text/html": "Run data is saved locally in <code>/kaggle/working/wandb/run-20240404_164333-s8im2h9p</code>"
          },
          "metadata": {}
        },
        {
          "output_type": "display_data",
          "data": {
            "text/plain": "<IPython.core.display.HTML object>",
            "text/html": "Syncing run <strong><a href='https://wandb.ai/dlassignment/DL_assignment_2/runs/s8im2h9p' target=\"_blank\">peachy-sweep-8</a></strong> to <a href='https://wandb.ai/dlassignment/DL_assignment_2' target=\"_blank\">Weights & Biases</a> (<a href='https://wandb.me/run' target=\"_blank\">docs</a>)<br/>Sweep page: <a href='https://wandb.ai/dlassignment/DL_assignment_2/sweeps/w3vbxs5d' target=\"_blank\">https://wandb.ai/dlassignment/DL_assignment_2/sweeps/w3vbxs5d</a>"
          },
          "metadata": {}
        },
        {
          "output_type": "display_data",
          "data": {
            "text/plain": "<IPython.core.display.HTML object>",
            "text/html": " View project at <a href='https://wandb.ai/dlassignment/DL_assignment_2' target=\"_blank\">https://wandb.ai/dlassignment/DL_assignment_2</a>"
          },
          "metadata": {}
        },
        {
          "output_type": "display_data",
          "data": {
            "text/plain": "<IPython.core.display.HTML object>",
            "text/html": " View sweep at <a href='https://wandb.ai/dlassignment/DL_assignment_2/sweeps/w3vbxs5d' target=\"_blank\">https://wandb.ai/dlassignment/DL_assignment_2/sweeps/w3vbxs5d</a>"
          },
          "metadata": {}
        },
        {
          "output_type": "display_data",
          "data": {
            "text/plain": "<IPython.core.display.HTML object>",
            "text/html": " View run at <a href='https://wandb.ai/dlassignment/DL_assignment_2/runs/s8im2h9p' target=\"_blank\">https://wandb.ai/dlassignment/DL_assignment_2/runs/s8im2h9p</a>"
          },
          "metadata": {}
        },
        {
          "name": "stderr",
          "text": "\u001b[34m\u001b[1mwandb\u001b[0m: \u001b[33mWARNING\u001b[0m Ignored wandb.init() arg project when running a sweep.\n",
          "output_type": "stream"
        },
        {
          "output_type": "display_data",
          "data": {
            "text/plain": "<IPython.core.display.HTML object>",
            "text/html": "Finishing last run (ID:s8im2h9p) before initializing another..."
          },
          "metadata": {}
        },
        {
          "output_type": "display_data",
          "data": {
            "text/plain": "VBox(children=(Label(value='0.000 MB of 0.000 MB uploaded\\r'), FloatProgress(value=1.0, max=1.0)))",
            "application/vnd.jupyter.widget-view+json": {
              "version_major": 2,
              "version_minor": 0,
              "model_id": ""
            }
          },
          "metadata": {}
        },
        {
          "output_type": "display_data",
          "data": {
            "text/plain": "<IPython.core.display.HTML object>",
            "text/html": " View run <strong style=\"color:#cdcd00\">peachy-sweep-8</strong> at: <a href='https://wandb.ai/dlassignment/DL_assignment_2/runs/s8im2h9p' target=\"_blank\">https://wandb.ai/dlassignment/DL_assignment_2/runs/s8im2h9p</a><br/>Synced 6 W&B file(s), 0 media file(s), 0 artifact file(s) and 0 other file(s)"
          },
          "metadata": {}
        },
        {
          "output_type": "display_data",
          "data": {
            "text/plain": "<IPython.core.display.HTML object>",
            "text/html": "Find logs at: <code>./wandb/run-20240404_164333-s8im2h9p/logs</code>"
          },
          "metadata": {}
        },
        {
          "output_type": "display_data",
          "data": {
            "text/plain": "<IPython.core.display.HTML object>",
            "text/html": "Successfully finished last run (ID:s8im2h9p). Initializing new run:<br/>"
          },
          "metadata": {}
        },
        {
          "output_type": "display_data",
          "data": {
            "text/plain": "<IPython.core.display.HTML object>",
            "text/html": "wandb version 0.16.6 is available!  To upgrade, please run:\n $ pip install wandb --upgrade"
          },
          "metadata": {}
        },
        {
          "output_type": "display_data",
          "data": {
            "text/plain": "<IPython.core.display.HTML object>",
            "text/html": "Tracking run with wandb version 0.16.4"
          },
          "metadata": {}
        },
        {
          "output_type": "display_data",
          "data": {
            "text/plain": "<IPython.core.display.HTML object>",
            "text/html": "Run data is saved locally in <code>/kaggle/working/wandb/run-20240404_164405-s8im2h9p</code>"
          },
          "metadata": {}
        },
        {
          "output_type": "display_data",
          "data": {
            "text/plain": "<IPython.core.display.HTML object>",
            "text/html": "Syncing run <strong><a href='https://wandb.ai/dlassignment/DL_assignment_2/runs/s8im2h9p' target=\"_blank\">neurons256optimizeradamactivFungelu</a></strong> to <a href='https://wandb.ai/dlassignment/DL_assignment_2' target=\"_blank\">Weights & Biases</a> (<a href='https://wandb.me/run' target=\"_blank\">docs</a>)<br/>Sweep page: <a href='https://wandb.ai/dlassignment/DL_assignment_2/sweeps/w3vbxs5d' target=\"_blank\">https://wandb.ai/dlassignment/DL_assignment_2/sweeps/w3vbxs5d</a>"
          },
          "metadata": {}
        },
        {
          "output_type": "display_data",
          "data": {
            "text/plain": "<IPython.core.display.HTML object>",
            "text/html": " View project at <a href='https://wandb.ai/dlassignment/DL_assignment_2' target=\"_blank\">https://wandb.ai/dlassignment/DL_assignment_2</a>"
          },
          "metadata": {}
        },
        {
          "output_type": "display_data",
          "data": {
            "text/plain": "<IPython.core.display.HTML object>",
            "text/html": " View sweep at <a href='https://wandb.ai/dlassignment/DL_assignment_2/sweeps/w3vbxs5d' target=\"_blank\">https://wandb.ai/dlassignment/DL_assignment_2/sweeps/w3vbxs5d</a>"
          },
          "metadata": {}
        },
        {
          "output_type": "display_data",
          "data": {
            "text/plain": "<IPython.core.display.HTML object>",
            "text/html": " View run at <a href='https://wandb.ai/dlassignment/DL_assignment_2/runs/s8im2h9p' target=\"_blank\">https://wandb.ai/dlassignment/DL_assignment_2/runs/s8im2h9p</a>"
          },
          "metadata": {}
        },
        {
          "name": "stderr",
          "text": "100%|██████████| 250/250 [01:01<00:00,  4.07it/s]\n",
          "output_type": "stream"
        },
        {
          "name": "stdout",
          "text": "train_accuracy:34.8750,train_loss:14825.6663\nvalidation_accuracy:30.7654,validation_loss:3886.4805\n",
          "output_type": "stream"
        },
        {
          "name": "stderr",
          "text": "100%|██████████| 250/250 [00:55<00:00,  4.47it/s]\n",
          "output_type": "stream"
        },
        {
          "name": "stdout",
          "text": "train_accuracy:42.3000,train_loss:13344.7814\nvalidation_accuracy:35.2676,validation_loss:3687.5952\n",
          "output_type": "stream"
        },
        {
          "name": "stderr",
          "text": "100%|██████████| 250/250 [00:56<00:00,  4.45it/s]\n",
          "output_type": "stream"
        },
        {
          "name": "stdout",
          "text": "train_accuracy:44.1000,train_loss:12935.8661\nvalidation_accuracy:35.8679,validation_loss:3663.2301\n",
          "output_type": "stream"
        },
        {
          "name": "stderr",
          "text": "100%|██████████| 250/250 [00:56<00:00,  4.42it/s]\n",
          "output_type": "stream"
        },
        {
          "name": "stdout",
          "text": "train_accuracy:49.7500,train_loss:11956.9680\nvalidation_accuracy:39.2196,validation_loss:3572.0729\n",
          "output_type": "stream"
        },
        {
          "name": "stderr",
          "text": "100%|██████████| 250/250 [00:57<00:00,  4.38it/s]\n",
          "output_type": "stream"
        },
        {
          "name": "stdout",
          "text": "train_accuracy:59.0375,train_loss:10075.2765\nvalidation_accuracy:42.6213,validation_loss:3370.4757\n",
          "output_type": "stream"
        },
        {
          "name": "stderr",
          "text": "100%|██████████| 250/250 [00:56<00:00,  4.39it/s]\n",
          "output_type": "stream"
        },
        {
          "name": "stdout",
          "text": "train_accuracy:62.3375,train_loss:9327.1492\nvalidation_accuracy:41.2706,validation_loss:3451.7148\n",
          "output_type": "stream"
        },
        {
          "name": "stderr",
          "text": "100%|██████████| 250/250 [00:56<00:00,  4.40it/s]\n",
          "output_type": "stream"
        },
        {
          "name": "stdout",
          "text": "train_accuracy:72.4375,train_loss:7231.0497\nvalidation_accuracy:46.2231,validation_loss:3247.0094\n",
          "output_type": "stream"
        },
        {
          "name": "stderr",
          "text": "100%|██████████| 250/250 [00:56<00:00,  4.42it/s]\n",
          "output_type": "stream"
        },
        {
          "name": "stdout",
          "text": "train_accuracy:74.7625,train_loss:6384.3554\nvalidation_accuracy:43.0215,validation_loss:3481.7712\n",
          "output_type": "stream"
        },
        {
          "name": "stderr",
          "text": "100%|██████████| 250/250 [00:56<00:00,  4.39it/s]\n",
          "output_type": "stream"
        },
        {
          "name": "stdout",
          "text": "train_accuracy:87.1125,train_loss:4230.8371\nvalidation_accuracy:45.8229,validation_loss:3303.3200\n",
          "output_type": "stream"
        },
        {
          "name": "stderr",
          "text": "100%|██████████| 250/250 [00:56<00:00,  4.41it/s]\n",
          "output_type": "stream"
        },
        {
          "name": "stdout",
          "text": "train_accuracy:90.8125,train_loss:3352.1769\nvalidation_accuracy:41.0205,validation_loss:3590.0248\n",
          "output_type": "stream"
        },
        {
          "output_type": "display_data",
          "data": {
            "text/plain": "VBox(children=(Label(value='0.001 MB of 0.001 MB uploaded\\r'), FloatProgress(value=1.0, max=1.0)))",
            "application/vnd.jupyter.widget-view+json": {
              "version_major": 2,
              "version_minor": 0,
              "model_id": ""
            }
          },
          "metadata": {}
        },
        {
          "output_type": "display_data",
          "data": {
            "text/plain": "<IPython.core.display.HTML object>",
            "text/html": "<style>\n    table.wandb td:nth-child(1) { padding: 0 10px; text-align: left ; width: auto;} td:nth-child(2) {text-align: left ; width: 100%}\n    .wandb-row { display: flex; flex-direction: row; flex-wrap: wrap; justify-content: flex-start; width: 100% }\n    .wandb-col { display: flex; flex-direction: column; flex-basis: 100%; flex: 1; padding: 10px; }\n    </style>\n<div class=\"wandb-row\"><div class=\"wandb-col\"><h3>Run history:</h3><br/><table class=\"wandb\"><tr><td>train_accuracy</td><td>▁▂▂▃▄▄▆▆██</td></tr><tr><td>train_loss</td><td>█▇▇▆▅▅▃▃▂▁</td></tr><tr><td>val_accuracy</td><td>▁▃▃▅▆▆█▇█▆</td></tr><tr><td>val_loss</td><td>█▆▆▅▂▃▁▄▂▅</td></tr></table><br/></div><div class=\"wandb-col\"><h3>Run summary:</h3><br/><table class=\"wandb\"><tr><td>train_accuracy</td><td>90.8125</td></tr><tr><td>train_loss</td><td>3352.17691</td></tr><tr><td>val_accuracy</td><td>41.02051</td></tr><tr><td>val_loss</td><td>3590.02483</td></tr></table><br/></div></div>"
          },
          "metadata": {}
        },
        {
          "output_type": "display_data",
          "data": {
            "text/plain": "<IPython.core.display.HTML object>",
            "text/html": " View run <strong style=\"color:#cdcd00\">neurons256optimizeradamactivFungelu</strong> at: <a href='https://wandb.ai/dlassignment/DL_assignment_2/runs/s8im2h9p' target=\"_blank\">https://wandb.ai/dlassignment/DL_assignment_2/runs/s8im2h9p</a><br/>Synced 6 W&B file(s), 0 media file(s), 0 artifact file(s) and 0 other file(s)"
          },
          "metadata": {}
        },
        {
          "output_type": "display_data",
          "data": {
            "text/plain": "<IPython.core.display.HTML object>",
            "text/html": "Find logs at: <code>./wandb/run-20240404_164405-s8im2h9p/logs</code>"
          },
          "metadata": {}
        },
        {
          "name": "stderr",
          "text": "\u001b[34m\u001b[1mwandb\u001b[0m: Agent Starting Run: zotwxy5j with config:\n\u001b[34m\u001b[1mwandb\u001b[0m: \tactivFun: gelu\n\u001b[34m\u001b[1mwandb\u001b[0m: \taug: no\n\u001b[34m\u001b[1mwandb\u001b[0m: \tbatchNorm: yes\n\u001b[34m\u001b[1mwandb\u001b[0m: \tbatchSize: 64\n\u001b[34m\u001b[1mwandb\u001b[0m: \tdropOut: 0.4\n\u001b[34m\u001b[1mwandb\u001b[0m: \tlearning_rate: 0.0001\n\u001b[34m\u001b[1mwandb\u001b[0m: \tneurons: 256\n\u001b[34m\u001b[1mwandb\u001b[0m: \tnumFilters: 64\n\u001b[34m\u001b[1mwandb\u001b[0m: \tnum_epochs: 10\n\u001b[34m\u001b[1mwandb\u001b[0m: \toptimizer: nadam\n\u001b[34m\u001b[1mwandb\u001b[0m: \torg: 1\n\u001b[34m\u001b[1mwandb\u001b[0m: \tsizeFilter: 5\n\u001b[34m\u001b[1mwandb\u001b[0m: \u001b[33mWARNING\u001b[0m Ignored wandb.init() arg project when running a sweep.\n",
          "output_type": "stream"
        },
        {
          "output_type": "display_data",
          "data": {
            "text/plain": "<IPython.core.display.HTML object>",
            "text/html": "wandb version 0.16.6 is available!  To upgrade, please run:\n $ pip install wandb --upgrade"
          },
          "metadata": {}
        },
        {
          "output_type": "display_data",
          "data": {
            "text/plain": "<IPython.core.display.HTML object>",
            "text/html": "Tracking run with wandb version 0.16.4"
          },
          "metadata": {}
        },
        {
          "output_type": "display_data",
          "data": {
            "text/plain": "<IPython.core.display.HTML object>",
            "text/html": "Run data is saved locally in <code>/kaggle/working/wandb/run-20240404_170542-zotwxy5j</code>"
          },
          "metadata": {}
        },
        {
          "output_type": "display_data",
          "data": {
            "text/plain": "<IPython.core.display.HTML object>",
            "text/html": "Syncing run <strong><a href='https://wandb.ai/dlassignment/DL_assignment_2/runs/zotwxy5j' target=\"_blank\">royal-sweep-9</a></strong> to <a href='https://wandb.ai/dlassignment/DL_assignment_2' target=\"_blank\">Weights & Biases</a> (<a href='https://wandb.me/run' target=\"_blank\">docs</a>)<br/>Sweep page: <a href='https://wandb.ai/dlassignment/DL_assignment_2/sweeps/w3vbxs5d' target=\"_blank\">https://wandb.ai/dlassignment/DL_assignment_2/sweeps/w3vbxs5d</a>"
          },
          "metadata": {}
        },
        {
          "output_type": "display_data",
          "data": {
            "text/plain": "<IPython.core.display.HTML object>",
            "text/html": " View project at <a href='https://wandb.ai/dlassignment/DL_assignment_2' target=\"_blank\">https://wandb.ai/dlassignment/DL_assignment_2</a>"
          },
          "metadata": {}
        },
        {
          "output_type": "display_data",
          "data": {
            "text/plain": "<IPython.core.display.HTML object>",
            "text/html": " View sweep at <a href='https://wandb.ai/dlassignment/DL_assignment_2/sweeps/w3vbxs5d' target=\"_blank\">https://wandb.ai/dlassignment/DL_assignment_2/sweeps/w3vbxs5d</a>"
          },
          "metadata": {}
        },
        {
          "output_type": "display_data",
          "data": {
            "text/plain": "<IPython.core.display.HTML object>",
            "text/html": " View run at <a href='https://wandb.ai/dlassignment/DL_assignment_2/runs/zotwxy5j' target=\"_blank\">https://wandb.ai/dlassignment/DL_assignment_2/runs/zotwxy5j</a>"
          },
          "metadata": {}
        },
        {
          "name": "stderr",
          "text": "\u001b[34m\u001b[1mwandb\u001b[0m: \u001b[33mWARNING\u001b[0m Ignored wandb.init() arg project when running a sweep.\n",
          "output_type": "stream"
        },
        {
          "output_type": "display_data",
          "data": {
            "text/plain": "<IPython.core.display.HTML object>",
            "text/html": "Finishing last run (ID:zotwxy5j) before initializing another..."
          },
          "metadata": {}
        },
        {
          "output_type": "display_data",
          "data": {
            "text/plain": "VBox(children=(Label(value='0.000 MB of 0.000 MB uploaded\\r'), FloatProgress(value=1.0, max=1.0)))",
            "application/vnd.jupyter.widget-view+json": {
              "version_major": 2,
              "version_minor": 0,
              "model_id": ""
            }
          },
          "metadata": {}
        },
        {
          "output_type": "display_data",
          "data": {
            "text/plain": "<IPython.core.display.HTML object>",
            "text/html": " View run <strong style=\"color:#cdcd00\">royal-sweep-9</strong> at: <a href='https://wandb.ai/dlassignment/DL_assignment_2/runs/zotwxy5j' target=\"_blank\">https://wandb.ai/dlassignment/DL_assignment_2/runs/zotwxy5j</a><br/>Synced 6 W&B file(s), 0 media file(s), 0 artifact file(s) and 0 other file(s)"
          },
          "metadata": {}
        },
        {
          "output_type": "display_data",
          "data": {
            "text/plain": "<IPython.core.display.HTML object>",
            "text/html": "Find logs at: <code>./wandb/run-20240404_170542-zotwxy5j/logs</code>"
          },
          "metadata": {}
        },
        {
          "output_type": "display_data",
          "data": {
            "text/plain": "<IPython.core.display.HTML object>",
            "text/html": "Successfully finished last run (ID:zotwxy5j). Initializing new run:<br/>"
          },
          "metadata": {}
        },
        {
          "output_type": "display_data",
          "data": {
            "text/plain": "<IPython.core.display.HTML object>",
            "text/html": "wandb version 0.16.6 is available!  To upgrade, please run:\n $ pip install wandb --upgrade"
          },
          "metadata": {}
        },
        {
          "output_type": "display_data",
          "data": {
            "text/plain": "<IPython.core.display.HTML object>",
            "text/html": "Tracking run with wandb version 0.16.4"
          },
          "metadata": {}
        },
        {
          "output_type": "display_data",
          "data": {
            "text/plain": "<IPython.core.display.HTML object>",
            "text/html": "Run data is saved locally in <code>/kaggle/working/wandb/run-20240404_170613-zotwxy5j</code>"
          },
          "metadata": {}
        },
        {
          "output_type": "display_data",
          "data": {
            "text/plain": "<IPython.core.display.HTML object>",
            "text/html": "Syncing run <strong><a href='https://wandb.ai/dlassignment/DL_assignment_2/runs/zotwxy5j' target=\"_blank\">neurons256optimizernadamactivFungelu</a></strong> to <a href='https://wandb.ai/dlassignment/DL_assignment_2' target=\"_blank\">Weights & Biases</a> (<a href='https://wandb.me/run' target=\"_blank\">docs</a>)<br/>Sweep page: <a href='https://wandb.ai/dlassignment/DL_assignment_2/sweeps/w3vbxs5d' target=\"_blank\">https://wandb.ai/dlassignment/DL_assignment_2/sweeps/w3vbxs5d</a>"
          },
          "metadata": {}
        },
        {
          "output_type": "display_data",
          "data": {
            "text/plain": "<IPython.core.display.HTML object>",
            "text/html": " View project at <a href='https://wandb.ai/dlassignment/DL_assignment_2' target=\"_blank\">https://wandb.ai/dlassignment/DL_assignment_2</a>"
          },
          "metadata": {}
        },
        {
          "output_type": "display_data",
          "data": {
            "text/plain": "<IPython.core.display.HTML object>",
            "text/html": " View sweep at <a href='https://wandb.ai/dlassignment/DL_assignment_2/sweeps/w3vbxs5d' target=\"_blank\">https://wandb.ai/dlassignment/DL_assignment_2/sweeps/w3vbxs5d</a>"
          },
          "metadata": {}
        },
        {
          "output_type": "display_data",
          "data": {
            "text/plain": "<IPython.core.display.HTML object>",
            "text/html": " View run at <a href='https://wandb.ai/dlassignment/DL_assignment_2/runs/zotwxy5j' target=\"_blank\">https://wandb.ai/dlassignment/DL_assignment_2/runs/zotwxy5j</a>"
          },
          "metadata": {}
        },
        {
          "name": "stderr",
          "text": "100%|██████████| 125/125 [01:03<00:00,  1.98it/s]\n",
          "output_type": "stream"
        },
        {
          "name": "stdout",
          "text": "train_accuracy:36.6625,train_loss:14492.2486\nvalidation_accuracy:35.1676,validation_loss:3782.5207\n",
          "output_type": "stream"
        },
        {
          "name": "stderr",
          "text": "100%|██████████| 125/125 [01:00<00:00,  2.06it/s]\n",
          "output_type": "stream"
        },
        {
          "name": "stdout",
          "text": "train_accuracy:37.0625,train_loss:14342.8544\nvalidation_accuracy:34.3172,validation_loss:3883.0855\n",
          "output_type": "stream"
        },
        {
          "name": "stderr",
          "text": "100%|██████████| 125/125 [01:01<00:00,  2.04it/s]\n",
          "output_type": "stream"
        },
        {
          "name": "stdout",
          "text": "train_accuracy:43.9875,train_loss:12816.5245\nvalidation_accuracy:37.9190,validation_loss:3678.2066\n",
          "output_type": "stream"
        },
        {
          "name": "stderr",
          "text": "100%|██████████| 125/125 [01:01<00:00,  2.02it/s]\n",
          "output_type": "stream"
        },
        {
          "name": "stdout",
          "text": "train_accuracy:34.0875,train_loss:15381.3216\nvalidation_accuracy:28.3142,validation_loss:4562.4994\n",
          "output_type": "stream"
        },
        {
          "name": "stderr",
          "text": "100%|██████████| 125/125 [01:01<00:00,  2.04it/s]\n",
          "output_type": "stream"
        },
        {
          "name": "stdout",
          "text": "train_accuracy:47.9875,train_loss:12320.8416\nvalidation_accuracy:37.3187,validation_loss:3919.3417\n",
          "output_type": "stream"
        },
        {
          "name": "stderr",
          "text": "100%|██████████| 125/125 [01:01<00:00,  2.03it/s]\n",
          "output_type": "stream"
        },
        {
          "name": "stdout",
          "text": "train_accuracy:59.0625,train_loss:9904.8057\nvalidation_accuracy:39.8199,validation_loss:3542.1056\n",
          "output_type": "stream"
        },
        {
          "name": "stderr",
          "text": "100%|██████████| 125/125 [01:01<00:00,  2.02it/s]\n",
          "output_type": "stream"
        },
        {
          "name": "stdout",
          "text": "train_accuracy:67.8750,train_loss:8163.6635\nvalidation_accuracy:41.1206,validation_loss:3534.4059\n",
          "output_type": "stream"
        },
        {
          "name": "stderr",
          "text": "100%|██████████| 125/125 [01:01<00:00,  2.02it/s]\n",
          "output_type": "stream"
        },
        {
          "name": "stdout",
          "text": "train_accuracy:57.3500,train_loss:8908.6271\nvalidation_accuracy:35.7679,validation_loss:4401.3683\n",
          "output_type": "stream"
        },
        {
          "name": "stderr",
          "text": "100%|██████████| 125/125 [01:01<00:00,  2.04it/s]\n",
          "output_type": "stream"
        },
        {
          "name": "stdout",
          "text": "train_accuracy:79.9000,train_loss:5334.8619\nvalidation_accuracy:41.4207,validation_loss:3827.5790\n",
          "output_type": "stream"
        },
        {
          "name": "stderr",
          "text": "100%|██████████| 125/125 [01:01<00:00,  2.04it/s]\n",
          "output_type": "stream"
        },
        {
          "name": "stdout",
          "text": "train_accuracy:84.6125,train_loss:4193.6619\nvalidation_accuracy:38.9695,validation_loss:4035.1682\n",
          "output_type": "stream"
        },
        {
          "output_type": "display_data",
          "data": {
            "text/plain": "VBox(children=(Label(value='0.049 MB of 0.049 MB uploaded\\r'), FloatProgress(value=1.0, max=1.0)))",
            "application/vnd.jupyter.widget-view+json": {
              "version_major": 2,
              "version_minor": 0,
              "model_id": ""
            }
          },
          "metadata": {}
        },
        {
          "output_type": "display_data",
          "data": {
            "text/plain": "<IPython.core.display.HTML object>",
            "text/html": "<style>\n    table.wandb td:nth-child(1) { padding: 0 10px; text-align: left ; width: auto;} td:nth-child(2) {text-align: left ; width: 100%}\n    .wandb-row { display: flex; flex-direction: row; flex-wrap: wrap; justify-content: flex-start; width: 100% }\n    .wandb-col { display: flex; flex-direction: column; flex-basis: 100%; flex: 1; padding: 10px; }\n    </style>\n<div class=\"wandb-row\"><div class=\"wandb-col\"><h3>Run history:</h3><br/><table class=\"wandb\"><tr><td>train_accuracy</td><td>▁▁▂▁▃▄▆▄▇█</td></tr><tr><td>train_loss</td><td>▇▇▆█▆▅▃▄▂▁</td></tr><tr><td>val_accuracy</td><td>▅▄▆▁▆▇█▅█▇</td></tr><tr><td>val_loss</td><td>▃▃▂█▄▁▁▇▃▄</td></tr></table><br/></div><div class=\"wandb-col\"><h3>Run summary:</h3><br/><table class=\"wandb\"><tr><td>train_accuracy</td><td>84.6125</td></tr><tr><td>train_loss</td><td>4193.6619</td></tr><tr><td>val_accuracy</td><td>38.96948</td></tr><tr><td>val_loss</td><td>4035.16824</td></tr></table><br/></div></div>"
          },
          "metadata": {}
        },
        {
          "output_type": "display_data",
          "data": {
            "text/plain": "<IPython.core.display.HTML object>",
            "text/html": " View run <strong style=\"color:#cdcd00\">neurons256optimizernadamactivFungelu</strong> at: <a href='https://wandb.ai/dlassignment/DL_assignment_2/runs/zotwxy5j' target=\"_blank\">https://wandb.ai/dlassignment/DL_assignment_2/runs/zotwxy5j</a><br/>Synced 6 W&B file(s), 0 media file(s), 0 artifact file(s) and 0 other file(s)"
          },
          "metadata": {}
        },
        {
          "output_type": "display_data",
          "data": {
            "text/plain": "<IPython.core.display.HTML object>",
            "text/html": "Find logs at: <code>./wandb/run-20240404_170613-zotwxy5j/logs</code>"
          },
          "metadata": {}
        },
        {
          "name": "stderr",
          "text": "\u001b[34m\u001b[1mwandb\u001b[0m: Agent Starting Run: 2iai8ypt with config:\n\u001b[34m\u001b[1mwandb\u001b[0m: \tactivFun: silu\n\u001b[34m\u001b[1mwandb\u001b[0m: \taug: no\n\u001b[34m\u001b[1mwandb\u001b[0m: \tbatchNorm: yes\n\u001b[34m\u001b[1mwandb\u001b[0m: \tbatchSize: 64\n\u001b[34m\u001b[1mwandb\u001b[0m: \tdropOut: 0.4\n\u001b[34m\u001b[1mwandb\u001b[0m: \tlearning_rate: 0.0001\n\u001b[34m\u001b[1mwandb\u001b[0m: \tneurons: 256\n\u001b[34m\u001b[1mwandb\u001b[0m: \tnumFilters: 64\n\u001b[34m\u001b[1mwandb\u001b[0m: \tnum_epochs: 10\n\u001b[34m\u001b[1mwandb\u001b[0m: \toptimizer: nadam\n\u001b[34m\u001b[1mwandb\u001b[0m: \torg: 0\n\u001b[34m\u001b[1mwandb\u001b[0m: \tsizeFilter: 5\n\u001b[34m\u001b[1mwandb\u001b[0m: \u001b[33mWARNING\u001b[0m Ignored wandb.init() arg project when running a sweep.\n",
          "output_type": "stream"
        },
        {
          "output_type": "display_data",
          "data": {
            "text/plain": "<IPython.core.display.HTML object>",
            "text/html": "wandb version 0.16.6 is available!  To upgrade, please run:\n $ pip install wandb --upgrade"
          },
          "metadata": {}
        },
        {
          "output_type": "display_data",
          "data": {
            "text/plain": "<IPython.core.display.HTML object>",
            "text/html": "Tracking run with wandb version 0.16.4"
          },
          "metadata": {}
        },
        {
          "output_type": "display_data",
          "data": {
            "text/plain": "<IPython.core.display.HTML object>",
            "text/html": "Run data is saved locally in <code>/kaggle/working/wandb/run-20240404_172832-2iai8ypt</code>"
          },
          "metadata": {}
        },
        {
          "output_type": "display_data",
          "data": {
            "text/plain": "<IPython.core.display.HTML object>",
            "text/html": "Syncing run <strong><a href='https://wandb.ai/dlassignment/DL_assignment_2/runs/2iai8ypt' target=\"_blank\">divine-sweep-10</a></strong> to <a href='https://wandb.ai/dlassignment/DL_assignment_2' target=\"_blank\">Weights & Biases</a> (<a href='https://wandb.me/run' target=\"_blank\">docs</a>)<br/>Sweep page: <a href='https://wandb.ai/dlassignment/DL_assignment_2/sweeps/w3vbxs5d' target=\"_blank\">https://wandb.ai/dlassignment/DL_assignment_2/sweeps/w3vbxs5d</a>"
          },
          "metadata": {}
        },
        {
          "output_type": "display_data",
          "data": {
            "text/plain": "<IPython.core.display.HTML object>",
            "text/html": " View project at <a href='https://wandb.ai/dlassignment/DL_assignment_2' target=\"_blank\">https://wandb.ai/dlassignment/DL_assignment_2</a>"
          },
          "metadata": {}
        },
        {
          "output_type": "display_data",
          "data": {
            "text/plain": "<IPython.core.display.HTML object>",
            "text/html": " View sweep at <a href='https://wandb.ai/dlassignment/DL_assignment_2/sweeps/w3vbxs5d' target=\"_blank\">https://wandb.ai/dlassignment/DL_assignment_2/sweeps/w3vbxs5d</a>"
          },
          "metadata": {}
        },
        {
          "output_type": "display_data",
          "data": {
            "text/plain": "<IPython.core.display.HTML object>",
            "text/html": " View run at <a href='https://wandb.ai/dlassignment/DL_assignment_2/runs/2iai8ypt' target=\"_blank\">https://wandb.ai/dlassignment/DL_assignment_2/runs/2iai8ypt</a>"
          },
          "metadata": {}
        },
        {
          "name": "stderr",
          "text": "\u001b[34m\u001b[1mwandb\u001b[0m: \u001b[33mWARNING\u001b[0m Ignored wandb.init() arg project when running a sweep.\n",
          "output_type": "stream"
        },
        {
          "output_type": "display_data",
          "data": {
            "text/plain": "<IPython.core.display.HTML object>",
            "text/html": "Finishing last run (ID:2iai8ypt) before initializing another..."
          },
          "metadata": {}
        },
        {
          "output_type": "display_data",
          "data": {
            "text/plain": "VBox(children=(Label(value='0.000 MB of 0.000 MB uploaded\\r'), FloatProgress(value=1.0, max=1.0)))",
            "application/vnd.jupyter.widget-view+json": {
              "version_major": 2,
              "version_minor": 0,
              "model_id": ""
            }
          },
          "metadata": {}
        },
        {
          "output_type": "display_data",
          "data": {
            "text/plain": "<IPython.core.display.HTML object>",
            "text/html": " View run <strong style=\"color:#cdcd00\">divine-sweep-10</strong> at: <a href='https://wandb.ai/dlassignment/DL_assignment_2/runs/2iai8ypt' target=\"_blank\">https://wandb.ai/dlassignment/DL_assignment_2/runs/2iai8ypt</a><br/>Synced 6 W&B file(s), 0 media file(s), 0 artifact file(s) and 0 other file(s)"
          },
          "metadata": {}
        },
        {
          "output_type": "display_data",
          "data": {
            "text/plain": "<IPython.core.display.HTML object>",
            "text/html": "Find logs at: <code>./wandb/run-20240404_172832-2iai8ypt/logs</code>"
          },
          "metadata": {}
        },
        {
          "output_type": "display_data",
          "data": {
            "text/plain": "<IPython.core.display.HTML object>",
            "text/html": "Successfully finished last run (ID:2iai8ypt). Initializing new run:<br/>"
          },
          "metadata": {}
        },
        {
          "output_type": "display_data",
          "data": {
            "text/plain": "<IPython.core.display.HTML object>",
            "text/html": "wandb version 0.16.6 is available!  To upgrade, please run:\n $ pip install wandb --upgrade"
          },
          "metadata": {}
        },
        {
          "output_type": "display_data",
          "data": {
            "text/plain": "<IPython.core.display.HTML object>",
            "text/html": "Tracking run with wandb version 0.16.4"
          },
          "metadata": {}
        },
        {
          "output_type": "display_data",
          "data": {
            "text/plain": "<IPython.core.display.HTML object>",
            "text/html": "Run data is saved locally in <code>/kaggle/working/wandb/run-20240404_172903-2iai8ypt</code>"
          },
          "metadata": {}
        },
        {
          "output_type": "display_data",
          "data": {
            "text/plain": "<IPython.core.display.HTML object>",
            "text/html": "Syncing run <strong><a href='https://wandb.ai/dlassignment/DL_assignment_2/runs/2iai8ypt' target=\"_blank\">neurons256optimizernadamactivFunsilu</a></strong> to <a href='https://wandb.ai/dlassignment/DL_assignment_2' target=\"_blank\">Weights & Biases</a> (<a href='https://wandb.me/run' target=\"_blank\">docs</a>)<br/>Sweep page: <a href='https://wandb.ai/dlassignment/DL_assignment_2/sweeps/w3vbxs5d' target=\"_blank\">https://wandb.ai/dlassignment/DL_assignment_2/sweeps/w3vbxs5d</a>"
          },
          "metadata": {}
        },
        {
          "output_type": "display_data",
          "data": {
            "text/plain": "<IPython.core.display.HTML object>",
            "text/html": " View project at <a href='https://wandb.ai/dlassignment/DL_assignment_2' target=\"_blank\">https://wandb.ai/dlassignment/DL_assignment_2</a>"
          },
          "metadata": {}
        },
        {
          "output_type": "display_data",
          "data": {
            "text/plain": "<IPython.core.display.HTML object>",
            "text/html": " View sweep at <a href='https://wandb.ai/dlassignment/DL_assignment_2/sweeps/w3vbxs5d' target=\"_blank\">https://wandb.ai/dlassignment/DL_assignment_2/sweeps/w3vbxs5d</a>"
          },
          "metadata": {}
        },
        {
          "output_type": "display_data",
          "data": {
            "text/plain": "<IPython.core.display.HTML object>",
            "text/html": " View run at <a href='https://wandb.ai/dlassignment/DL_assignment_2/runs/2iai8ypt' target=\"_blank\">https://wandb.ai/dlassignment/DL_assignment_2/runs/2iai8ypt</a>"
          },
          "metadata": {}
        },
        {
          "name": "stderr",
          "text": "100%|██████████| 125/125 [00:58<00:00,  2.14it/s]\n",
          "output_type": "stream"
        },
        {
          "name": "stdout",
          "text": "train_accuracy:31.5625,train_loss:15786.9047\nvalidation_accuracy:31.4657,validation_loss:4059.6482\n",
          "output_type": "stream"
        },
        {
          "name": "stderr",
          "text": "100%|██████████| 125/125 [00:51<00:00,  2.44it/s]\n",
          "output_type": "stream"
        },
        {
          "name": "stdout",
          "text": "train_accuracy:34.6500,train_loss:15077.1706\nvalidation_accuracy:31.1156,validation_loss:3972.6189\n",
          "output_type": "stream"
        },
        {
          "name": "stderr",
          "text": "100%|██████████| 125/125 [00:51<00:00,  2.43it/s]\n",
          "output_type": "stream"
        },
        {
          "name": "stdout",
          "text": "train_accuracy:38.1750,train_loss:14241.5363\nvalidation_accuracy:35.2676,validation_loss:3822.4997\n",
          "output_type": "stream"
        },
        {
          "name": "stderr",
          "text": "100%|██████████| 125/125 [00:52<00:00,  2.40it/s]\n",
          "output_type": "stream"
        },
        {
          "name": "stdout",
          "text": "train_accuracy:42.1125,train_loss:13418.9142\nvalidation_accuracy:37.8689,validation_loss:3668.8875\n",
          "output_type": "stream"
        },
        {
          "name": "stderr",
          "text": "100%|██████████| 125/125 [00:50<00:00,  2.49it/s]\n",
          "output_type": "stream"
        },
        {
          "name": "stdout",
          "text": "train_accuracy:46.0250,train_loss:12889.6978\nvalidation_accuracy:39.4197,validation_loss:3600.8426\n",
          "output_type": "stream"
        },
        {
          "name": "stderr",
          "text": "100%|██████████| 125/125 [00:52<00:00,  2.39it/s]\n",
          "output_type": "stream"
        },
        {
          "name": "stdout",
          "text": "train_accuracy:45.3750,train_loss:12715.7347\nvalidation_accuracy:37.2686,validation_loss:3647.8132\n",
          "output_type": "stream"
        },
        {
          "name": "stderr",
          "text": "100%|██████████| 125/125 [00:50<00:00,  2.47it/s]\n",
          "output_type": "stream"
        },
        {
          "name": "stdout",
          "text": "train_accuracy:48.8500,train_loss:11984.1061\nvalidation_accuracy:38.4192,validation_loss:3568.1559\n",
          "output_type": "stream"
        },
        {
          "name": "stderr",
          "text": "100%|██████████| 125/125 [00:51<00:00,  2.41it/s]\n",
          "output_type": "stream"
        },
        {
          "name": "stdout",
          "text": "train_accuracy:47.9625,train_loss:12128.9050\nvalidation_accuracy:38.1691,validation_loss:3755.7095\n",
          "output_type": "stream"
        },
        {
          "name": "stderr",
          "text": "100%|██████████| 125/125 [00:52<00:00,  2.36it/s]\n",
          "output_type": "stream"
        },
        {
          "name": "stdout",
          "text": "train_accuracy:54.1250,train_loss:10886.3661\nvalidation_accuracy:38.8194,validation_loss:3671.4841\n",
          "output_type": "stream"
        },
        {
          "name": "stderr",
          "text": "100%|██████████| 125/125 [00:51<00:00,  2.44it/s]\n",
          "output_type": "stream"
        },
        {
          "name": "stdout",
          "text": "train_accuracy:60.0750,train_loss:9881.0102\nvalidation_accuracy:43.4217,validation_loss:3465.2262\n",
          "output_type": "stream"
        },
        {
          "output_type": "display_data",
          "data": {
            "text/plain": "VBox(children=(Label(value='0.001 MB of 0.001 MB uploaded\\r'), FloatProgress(value=1.0, max=1.0)))",
            "application/vnd.jupyter.widget-view+json": {
              "version_major": 2,
              "version_minor": 0,
              "model_id": ""
            }
          },
          "metadata": {}
        },
        {
          "output_type": "display_data",
          "data": {
            "text/plain": "<IPython.core.display.HTML object>",
            "text/html": "<style>\n    table.wandb td:nth-child(1) { padding: 0 10px; text-align: left ; width: auto;} td:nth-child(2) {text-align: left ; width: 100%}\n    .wandb-row { display: flex; flex-direction: row; flex-wrap: wrap; justify-content: flex-start; width: 100% }\n    .wandb-col { display: flex; flex-direction: column; flex-basis: 100%; flex: 1; padding: 10px; }\n    </style>\n<div class=\"wandb-row\"><div class=\"wandb-col\"><h3>Run history:</h3><br/><table class=\"wandb\"><tr><td>train_accuracy</td><td>▁▂▃▄▅▄▅▅▇█</td></tr><tr><td>train_loss</td><td>█▇▆▅▅▄▃▄▂▁</td></tr><tr><td>val_accuracy</td><td>▁▁▃▅▆▅▅▅▅█</td></tr><tr><td>val_loss</td><td>█▇▅▃▃▃▂▄▃▁</td></tr></table><br/></div><div class=\"wandb-col\"><h3>Run summary:</h3><br/><table class=\"wandb\"><tr><td>train_accuracy</td><td>60.075</td></tr><tr><td>train_loss</td><td>9881.01022</td></tr><tr><td>val_accuracy</td><td>43.42171</td></tr><tr><td>val_loss</td><td>3465.22615</td></tr></table><br/></div></div>"
          },
          "metadata": {}
        },
        {
          "output_type": "display_data",
          "data": {
            "text/plain": "<IPython.core.display.HTML object>",
            "text/html": " View run <strong style=\"color:#cdcd00\">neurons256optimizernadamactivFunsilu</strong> at: <a href='https://wandb.ai/dlassignment/DL_assignment_2/runs/2iai8ypt' target=\"_blank\">https://wandb.ai/dlassignment/DL_assignment_2/runs/2iai8ypt</a><br/>Synced 6 W&B file(s), 0 media file(s), 0 artifact file(s) and 0 other file(s)"
          },
          "metadata": {}
        },
        {
          "output_type": "display_data",
          "data": {
            "text/plain": "<IPython.core.display.HTML object>",
            "text/html": "Find logs at: <code>./wandb/run-20240404_172903-2iai8ypt/logs</code>"
          },
          "metadata": {}
        },
        {
          "name": "stdout",
          "text": "Error in callback <bound method _WandbInit._pause_backend of <wandb.sdk.wandb_init._WandbInit object at 0x7b8db72c7820>> (for post_run_cell), with arguments args (<ExecutionResult object at 7b8d42122cb0, execution_count=12 error_before_exec=None error_in_exec=None info=<ExecutionInfo object at 7b8d42122ef0, raw_cell=\"def main_fun():\n    wandb.init(project ='DL_assign..\" store_history=True silent=False shell_futures=True cell_id=ceede340-b1ed-4af5-9485-4497bff10ef7> result=None>,),kwargs {}:\n",
          "output_type": "stream"
        },
        {
          "traceback": [
            "\u001b[0;31m---------------------------------------------------------------------------\u001b[0m",
            "\u001b[0;31mBrokenPipeError\u001b[0m                           Traceback (most recent call last)",
            "File \u001b[0;32m/opt/conda/lib/python3.10/site-packages/wandb/sdk/wandb_init.py:438\u001b[0m, in \u001b[0;36m_WandbInit._pause_backend\u001b[0;34m(self, *args, **kwargs)\u001b[0m\n\u001b[1;32m    436\u001b[0m \u001b[38;5;28;01mif\u001b[39;00m \u001b[38;5;28mself\u001b[39m\u001b[38;5;241m.\u001b[39mbackend\u001b[38;5;241m.\u001b[39minterface \u001b[38;5;129;01mis\u001b[39;00m \u001b[38;5;129;01mnot\u001b[39;00m \u001b[38;5;28;01mNone\u001b[39;00m:\n\u001b[1;32m    437\u001b[0m     logger\u001b[38;5;241m.\u001b[39minfo(\u001b[38;5;124m\"\u001b[39m\u001b[38;5;124mpausing backend\u001b[39m\u001b[38;5;124m\"\u001b[39m)  \u001b[38;5;66;03m# type: ignore\u001b[39;00m\n\u001b[0;32m--> 438\u001b[0m     \u001b[38;5;28;43mself\u001b[39;49m\u001b[38;5;241;43m.\u001b[39;49m\u001b[43mbackend\u001b[49m\u001b[38;5;241;43m.\u001b[39;49m\u001b[43minterface\u001b[49m\u001b[38;5;241;43m.\u001b[39;49m\u001b[43mpublish_pause\u001b[49m\u001b[43m(\u001b[49m\u001b[43m)\u001b[49m\n",
            "File \u001b[0;32m/opt/conda/lib/python3.10/site-packages/wandb/sdk/interface/interface.py:659\u001b[0m, in \u001b[0;36mInterfaceBase.publish_pause\u001b[0;34m(self)\u001b[0m\n\u001b[1;32m    657\u001b[0m \u001b[38;5;28;01mdef\u001b[39;00m \u001b[38;5;21mpublish_pause\u001b[39m(\u001b[38;5;28mself\u001b[39m) \u001b[38;5;241m-\u001b[39m\u001b[38;5;241m>\u001b[39m \u001b[38;5;28;01mNone\u001b[39;00m:\n\u001b[1;32m    658\u001b[0m     pause \u001b[38;5;241m=\u001b[39m pb\u001b[38;5;241m.\u001b[39mPauseRequest()\n\u001b[0;32m--> 659\u001b[0m     \u001b[38;5;28;43mself\u001b[39;49m\u001b[38;5;241;43m.\u001b[39;49m\u001b[43m_publish_pause\u001b[49m\u001b[43m(\u001b[49m\u001b[43mpause\u001b[49m\u001b[43m)\u001b[49m\n",
            "File \u001b[0;32m/opt/conda/lib/python3.10/site-packages/wandb/sdk/interface/interface_shared.py:355\u001b[0m, in \u001b[0;36mInterfaceShared._publish_pause\u001b[0;34m(self, pause)\u001b[0m\n\u001b[1;32m    353\u001b[0m \u001b[38;5;28;01mdef\u001b[39;00m \u001b[38;5;21m_publish_pause\u001b[39m(\u001b[38;5;28mself\u001b[39m, pause: pb\u001b[38;5;241m.\u001b[39mPauseRequest) \u001b[38;5;241m-\u001b[39m\u001b[38;5;241m>\u001b[39m \u001b[38;5;28;01mNone\u001b[39;00m:\n\u001b[1;32m    354\u001b[0m     rec \u001b[38;5;241m=\u001b[39m \u001b[38;5;28mself\u001b[39m\u001b[38;5;241m.\u001b[39m_make_request(pause\u001b[38;5;241m=\u001b[39mpause)\n\u001b[0;32m--> 355\u001b[0m     \u001b[38;5;28;43mself\u001b[39;49m\u001b[38;5;241;43m.\u001b[39;49m\u001b[43m_publish\u001b[49m\u001b[43m(\u001b[49m\u001b[43mrec\u001b[49m\u001b[43m)\u001b[49m\n",
            "File \u001b[0;32m/opt/conda/lib/python3.10/site-packages/wandb/sdk/interface/interface_sock.py:51\u001b[0m, in \u001b[0;36mInterfaceSock._publish\u001b[0;34m(self, record, local)\u001b[0m\n\u001b[1;32m     49\u001b[0m \u001b[38;5;28;01mdef\u001b[39;00m \u001b[38;5;21m_publish\u001b[39m(\u001b[38;5;28mself\u001b[39m, record: \u001b[38;5;124m\"\u001b[39m\u001b[38;5;124mpb.Record\u001b[39m\u001b[38;5;124m\"\u001b[39m, local: Optional[\u001b[38;5;28mbool\u001b[39m] \u001b[38;5;241m=\u001b[39m \u001b[38;5;28;01mNone\u001b[39;00m) \u001b[38;5;241m-\u001b[39m\u001b[38;5;241m>\u001b[39m \u001b[38;5;28;01mNone\u001b[39;00m:\n\u001b[1;32m     50\u001b[0m     \u001b[38;5;28mself\u001b[39m\u001b[38;5;241m.\u001b[39m_assign(record)\n\u001b[0;32m---> 51\u001b[0m     \u001b[38;5;28;43mself\u001b[39;49m\u001b[38;5;241;43m.\u001b[39;49m\u001b[43m_sock_client\u001b[49m\u001b[38;5;241;43m.\u001b[39;49m\u001b[43msend_record_publish\u001b[49m\u001b[43m(\u001b[49m\u001b[43mrecord\u001b[49m\u001b[43m)\u001b[49m\n",
            "File \u001b[0;32m/opt/conda/lib/python3.10/site-packages/wandb/sdk/lib/sock_client.py:221\u001b[0m, in \u001b[0;36mSockClient.send_record_publish\u001b[0;34m(self, record)\u001b[0m\n\u001b[1;32m    219\u001b[0m server_req \u001b[38;5;241m=\u001b[39m spb\u001b[38;5;241m.\u001b[39mServerRequest()\n\u001b[1;32m    220\u001b[0m server_req\u001b[38;5;241m.\u001b[39mrecord_publish\u001b[38;5;241m.\u001b[39mCopyFrom(record)\n\u001b[0;32m--> 221\u001b[0m \u001b[38;5;28;43mself\u001b[39;49m\u001b[38;5;241;43m.\u001b[39;49m\u001b[43msend_server_request\u001b[49m\u001b[43m(\u001b[49m\u001b[43mserver_req\u001b[49m\u001b[43m)\u001b[49m\n",
            "File \u001b[0;32m/opt/conda/lib/python3.10/site-packages/wandb/sdk/lib/sock_client.py:155\u001b[0m, in \u001b[0;36mSockClient.send_server_request\u001b[0;34m(self, msg)\u001b[0m\n\u001b[1;32m    154\u001b[0m \u001b[38;5;28;01mdef\u001b[39;00m \u001b[38;5;21msend_server_request\u001b[39m(\u001b[38;5;28mself\u001b[39m, msg: Any) \u001b[38;5;241m-\u001b[39m\u001b[38;5;241m>\u001b[39m \u001b[38;5;28;01mNone\u001b[39;00m:\n\u001b[0;32m--> 155\u001b[0m     \u001b[38;5;28;43mself\u001b[39;49m\u001b[38;5;241;43m.\u001b[39;49m\u001b[43m_send_message\u001b[49m\u001b[43m(\u001b[49m\u001b[43mmsg\u001b[49m\u001b[43m)\u001b[49m\n",
            "File \u001b[0;32m/opt/conda/lib/python3.10/site-packages/wandb/sdk/lib/sock_client.py:152\u001b[0m, in \u001b[0;36mSockClient._send_message\u001b[0;34m(self, msg)\u001b[0m\n\u001b[1;32m    150\u001b[0m header \u001b[38;5;241m=\u001b[39m struct\u001b[38;5;241m.\u001b[39mpack(\u001b[38;5;124m\"\u001b[39m\u001b[38;5;124m<BI\u001b[39m\u001b[38;5;124m\"\u001b[39m, \u001b[38;5;28mord\u001b[39m(\u001b[38;5;124m\"\u001b[39m\u001b[38;5;124mW\u001b[39m\u001b[38;5;124m\"\u001b[39m), raw_size)\n\u001b[1;32m    151\u001b[0m \u001b[38;5;28;01mwith\u001b[39;00m \u001b[38;5;28mself\u001b[39m\u001b[38;5;241m.\u001b[39m_lock:\n\u001b[0;32m--> 152\u001b[0m     \u001b[38;5;28;43mself\u001b[39;49m\u001b[38;5;241;43m.\u001b[39;49m\u001b[43m_sendall_with_error_handle\u001b[49m\u001b[43m(\u001b[49m\u001b[43mheader\u001b[49m\u001b[43m \u001b[49m\u001b[38;5;241;43m+\u001b[39;49m\u001b[43m \u001b[49m\u001b[43mdata\u001b[49m\u001b[43m)\u001b[49m\n",
            "File \u001b[0;32m/opt/conda/lib/python3.10/site-packages/wandb/sdk/lib/sock_client.py:130\u001b[0m, in \u001b[0;36mSockClient._sendall_with_error_handle\u001b[0;34m(self, data)\u001b[0m\n\u001b[1;32m    128\u001b[0m start_time \u001b[38;5;241m=\u001b[39m time\u001b[38;5;241m.\u001b[39mmonotonic()\n\u001b[1;32m    129\u001b[0m \u001b[38;5;28;01mtry\u001b[39;00m:\n\u001b[0;32m--> 130\u001b[0m     sent \u001b[38;5;241m=\u001b[39m \u001b[38;5;28;43mself\u001b[39;49m\u001b[38;5;241;43m.\u001b[39;49m\u001b[43m_sock\u001b[49m\u001b[38;5;241;43m.\u001b[39;49m\u001b[43msend\u001b[49m\u001b[43m(\u001b[49m\u001b[43mdata\u001b[49m\u001b[43m)\u001b[49m\n\u001b[1;32m    131\u001b[0m     \u001b[38;5;66;03m# sent equal to 0 indicates a closed socket\u001b[39;00m\n\u001b[1;32m    132\u001b[0m     \u001b[38;5;28;01mif\u001b[39;00m sent \u001b[38;5;241m==\u001b[39m \u001b[38;5;241m0\u001b[39m:\n",
            "\u001b[0;31mBrokenPipeError\u001b[0m: [Errno 32] Broken pipe"
          ],
          "ename": "BrokenPipeError",
          "evalue": "[Errno 32] Broken pipe",
          "output_type": "error"
        }
      ]
    }
  ]
}