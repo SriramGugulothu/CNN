{
  "metadata": {
    "colab": {
      "provenance": [],
      "gpuType": "T4",
      "include_colab_link": true
    },
    "kernelspec": {
      "name": "python3",
      "display_name": "Python 3",
      "language": "python"
    },
    "language_info": {
      "name": "python",
      "version": "3.10.13",
      "mimetype": "text/x-python",
      "codemirror_mode": {
        "name": "ipython",
        "version": 3
      },
      "pygments_lexer": "ipython3",
      "nbconvert_exporter": "python",
      "file_extension": ".py"
    },
    "accelerator": "GPU",
    "widgets": {
      "application/vnd.jupyter.widget-state+json": {
        "5301caf729fd49a7a5b11f77106bf48e": {
          "model_module": "@jupyter-widgets/controls",
          "model_name": "VBoxModel",
          "model_module_version": "1.5.0",
          "state": {
            "_dom_classes": [],
            "_model_module": "@jupyter-widgets/controls",
            "_model_module_version": "1.5.0",
            "_model_name": "VBoxModel",
            "_view_count": null,
            "_view_module": "@jupyter-widgets/controls",
            "_view_module_version": "1.5.0",
            "_view_name": "VBoxView",
            "box_style": "",
            "children": [
              "IPY_MODEL_1736613663834cac8c71ba4673741c7d",
              "IPY_MODEL_72d69903ede844af8ff60e9b297115ab"
            ],
            "layout": "IPY_MODEL_23f5b96ed7f64a8998517bc664d2365d"
          }
        },
        "1736613663834cac8c71ba4673741c7d": {
          "model_module": "@jupyter-widgets/controls",
          "model_name": "LabelModel",
          "model_module_version": "1.5.0",
          "state": {
            "_dom_classes": [],
            "_model_module": "@jupyter-widgets/controls",
            "_model_module_version": "1.5.0",
            "_model_name": "LabelModel",
            "_view_count": null,
            "_view_module": "@jupyter-widgets/controls",
            "_view_module_version": "1.5.0",
            "_view_name": "LabelView",
            "description": "",
            "description_tooltip": null,
            "layout": "IPY_MODEL_2961536000be4e12aae595d7738297bb",
            "placeholder": "​",
            "style": "IPY_MODEL_c0c43c1b473a4f408d72be8259642c7a",
            "value": "0.010 MB of 0.010 MB uploaded\r"
          }
        },
        "72d69903ede844af8ff60e9b297115ab": {
          "model_module": "@jupyter-widgets/controls",
          "model_name": "FloatProgressModel",
          "model_module_version": "1.5.0",
          "state": {
            "_dom_classes": [],
            "_model_module": "@jupyter-widgets/controls",
            "_model_module_version": "1.5.0",
            "_model_name": "FloatProgressModel",
            "_view_count": null,
            "_view_module": "@jupyter-widgets/controls",
            "_view_module_version": "1.5.0",
            "_view_name": "ProgressView",
            "bar_style": "",
            "description": "",
            "description_tooltip": null,
            "layout": "IPY_MODEL_777985e576a24767a368b71564de04dc",
            "max": 1,
            "min": 0,
            "orientation": "horizontal",
            "style": "IPY_MODEL_66e6b93452ff46d28bdb4877fce65cd5",
            "value": 1
          }
        },
        "23f5b96ed7f64a8998517bc664d2365d": {
          "model_module": "@jupyter-widgets/base",
          "model_name": "LayoutModel",
          "model_module_version": "1.2.0",
          "state": {
            "_model_module": "@jupyter-widgets/base",
            "_model_module_version": "1.2.0",
            "_model_name": "LayoutModel",
            "_view_count": null,
            "_view_module": "@jupyter-widgets/base",
            "_view_module_version": "1.2.0",
            "_view_name": "LayoutView",
            "align_content": null,
            "align_items": null,
            "align_self": null,
            "border": null,
            "bottom": null,
            "display": null,
            "flex": null,
            "flex_flow": null,
            "grid_area": null,
            "grid_auto_columns": null,
            "grid_auto_flow": null,
            "grid_auto_rows": null,
            "grid_column": null,
            "grid_gap": null,
            "grid_row": null,
            "grid_template_areas": null,
            "grid_template_columns": null,
            "grid_template_rows": null,
            "height": null,
            "justify_content": null,
            "justify_items": null,
            "left": null,
            "margin": null,
            "max_height": null,
            "max_width": null,
            "min_height": null,
            "min_width": null,
            "object_fit": null,
            "object_position": null,
            "order": null,
            "overflow": null,
            "overflow_x": null,
            "overflow_y": null,
            "padding": null,
            "right": null,
            "top": null,
            "visibility": null,
            "width": null
          }
        },
        "2961536000be4e12aae595d7738297bb": {
          "model_module": "@jupyter-widgets/base",
          "model_name": "LayoutModel",
          "model_module_version": "1.2.0",
          "state": {
            "_model_module": "@jupyter-widgets/base",
            "_model_module_version": "1.2.0",
            "_model_name": "LayoutModel",
            "_view_count": null,
            "_view_module": "@jupyter-widgets/base",
            "_view_module_version": "1.2.0",
            "_view_name": "LayoutView",
            "align_content": null,
            "align_items": null,
            "align_self": null,
            "border": null,
            "bottom": null,
            "display": null,
            "flex": null,
            "flex_flow": null,
            "grid_area": null,
            "grid_auto_columns": null,
            "grid_auto_flow": null,
            "grid_auto_rows": null,
            "grid_column": null,
            "grid_gap": null,
            "grid_row": null,
            "grid_template_areas": null,
            "grid_template_columns": null,
            "grid_template_rows": null,
            "height": null,
            "justify_content": null,
            "justify_items": null,
            "left": null,
            "margin": null,
            "max_height": null,
            "max_width": null,
            "min_height": null,
            "min_width": null,
            "object_fit": null,
            "object_position": null,
            "order": null,
            "overflow": null,
            "overflow_x": null,
            "overflow_y": null,
            "padding": null,
            "right": null,
            "top": null,
            "visibility": null,
            "width": null
          }
        },
        "c0c43c1b473a4f408d72be8259642c7a": {
          "model_module": "@jupyter-widgets/controls",
          "model_name": "DescriptionStyleModel",
          "model_module_version": "1.5.0",
          "state": {
            "_model_module": "@jupyter-widgets/controls",
            "_model_module_version": "1.5.0",
            "_model_name": "DescriptionStyleModel",
            "_view_count": null,
            "_view_module": "@jupyter-widgets/base",
            "_view_module_version": "1.2.0",
            "_view_name": "StyleView",
            "description_width": ""
          }
        },
        "777985e576a24767a368b71564de04dc": {
          "model_module": "@jupyter-widgets/base",
          "model_name": "LayoutModel",
          "model_module_version": "1.2.0",
          "state": {
            "_model_module": "@jupyter-widgets/base",
            "_model_module_version": "1.2.0",
            "_model_name": "LayoutModel",
            "_view_count": null,
            "_view_module": "@jupyter-widgets/base",
            "_view_module_version": "1.2.0",
            "_view_name": "LayoutView",
            "align_content": null,
            "align_items": null,
            "align_self": null,
            "border": null,
            "bottom": null,
            "display": null,
            "flex": null,
            "flex_flow": null,
            "grid_area": null,
            "grid_auto_columns": null,
            "grid_auto_flow": null,
            "grid_auto_rows": null,
            "grid_column": null,
            "grid_gap": null,
            "grid_row": null,
            "grid_template_areas": null,
            "grid_template_columns": null,
            "grid_template_rows": null,
            "height": null,
            "justify_content": null,
            "justify_items": null,
            "left": null,
            "margin": null,
            "max_height": null,
            "max_width": null,
            "min_height": null,
            "min_width": null,
            "object_fit": null,
            "object_position": null,
            "order": null,
            "overflow": null,
            "overflow_x": null,
            "overflow_y": null,
            "padding": null,
            "right": null,
            "top": null,
            "visibility": null,
            "width": null
          }
        },
        "66e6b93452ff46d28bdb4877fce65cd5": {
          "model_module": "@jupyter-widgets/controls",
          "model_name": "ProgressStyleModel",
          "model_module_version": "1.5.0",
          "state": {
            "_model_module": "@jupyter-widgets/controls",
            "_model_module_version": "1.5.0",
            "_model_name": "ProgressStyleModel",
            "_view_count": null,
            "_view_module": "@jupyter-widgets/base",
            "_view_module_version": "1.2.0",
            "_view_name": "StyleView",
            "bar_color": null,
            "description_width": ""
          }
        }
      }
    },
    "kaggle": {
      "accelerator": "nvidiaTeslaT4",
      "dataSources": [],
      "isInternetEnabled": true,
      "language": "python",
      "sourceType": "notebook",
      "isGpuEnabled": true
    }
  },
  "nbformat_minor": 0,
  "nbformat": 4,
  "cells": [
    {
      "cell_type": "markdown",
      "metadata": {
        "id": "view-in-github",
        "colab_type": "text"
      },
      "source": [
        "<a href=\"https://colab.research.google.com/github/cs23m066/Assignment_2/blob/main/dl_assignment_2_4.ipynb\" target=\"_parent\"><img src=\"https://colab.research.google.com/assets/colab-badge.svg\" alt=\"Open In Colab\"/></a>"
      ]
    },
    {
      "cell_type": "code",
      "source": [
        "import torch\n",
        "from torchvision.datasets import ImageFolder\n",
        "import torchvision.transforms as transforms\n",
        "from torch.utils.data import Subset, DataLoader\n",
        "import torchvision\n",
        "import torch.nn as nn\n",
        "import torch.nn.functional as F\n",
        "from torch import optim\n",
        "from tqdm import tqdm\n",
        "from torch.utils.data import DataLoader\n",
        "from torchvision import datasets"
      ],
      "metadata": {
        "id": "3jThqkXDJIQ0",
        "execution": {
          "iopub.status.busy": "2024-04-06T20:41:15.305961Z",
          "iopub.execute_input": "2024-04-06T20:41:15.306498Z",
          "iopub.status.idle": "2024-04-06T20:41:15.312011Z",
          "shell.execute_reply.started": "2024-04-06T20:41:15.306471Z",
          "shell.execute_reply": "2024-04-06T20:41:15.311014Z"
        },
        "trusted": true
      },
      "execution_count": null,
      "outputs": []
    },
    {
      "cell_type": "code",
      "source": [
        "import math"
      ],
      "metadata": {
        "execution": {
          "iopub.status.busy": "2024-04-06T20:41:16.582584Z",
          "iopub.execute_input": "2024-04-06T20:41:16.582970Z",
          "iopub.status.idle": "2024-04-06T20:41:16.587470Z",
          "shell.execute_reply.started": "2024-04-06T20:41:16.582941Z",
          "shell.execute_reply": "2024-04-06T20:41:16.586463Z"
        },
        "trusted": true,
        "id": "Aew46Vg9S6Cl"
      },
      "execution_count": null,
      "outputs": []
    },
    {
      "cell_type": "code",
      "source": [
        "!wget https://storage.googleapis.com/wandb_datasets/nature_12K.zip -O nature_12K.zip\n",
        "!unzip -q nature_12K.zip"
      ],
      "metadata": {
        "trusted": true,
        "id": "jLlEHGWSS6Cl"
      },
      "execution_count": null,
      "outputs": []
    },
    {
      "cell_type": "code",
      "source": [
        "!rm nature_12K.zip"
      ],
      "metadata": {
        "trusted": true,
        "id": "G4ghKOmHS6Cm"
      },
      "execution_count": null,
      "outputs": []
    },
    {
      "cell_type": "code",
      "source": [
        "!pip install wandb\n",
        "import wandb\n",
        "from wandb.keras import WandbCallback\n",
        "import socket\n",
        "socket.setdefaulttimeout(30)\n",
        "wandb.login()\n",
        "wandb.init(project ='DL_assignment_2')"
      ],
      "metadata": {
        "colab": {
          "base_uri": "https://localhost:8080/",
          "height": 812
        },
        "id": "NCprfCfLdHvK",
        "outputId": "26c8415f-1f62-4e2b-b17d-69c417371e57",
        "execution": {
          "iopub.status.busy": "2024-04-06T21:11:45.101510Z",
          "iopub.execute_input": "2024-04-06T21:11:45.101934Z",
          "iopub.status.idle": "2024-04-06T21:12:34.190184Z",
          "shell.execute_reply.started": "2024-04-06T21:11:45.101904Z",
          "shell.execute_reply": "2024-04-06T21:12:34.188981Z"
        },
        "trusted": true
      },
      "execution_count": null,
      "outputs": [
        {
          "name": "stdout",
          "text": "Requirement already satisfied: wandb in /opt/conda/lib/python3.10/site-packages (0.16.4)\nRequirement already satisfied: Click!=8.0.0,>=7.1 in /opt/conda/lib/python3.10/site-packages (from wandb) (8.1.7)\nRequirement already satisfied: GitPython!=3.1.29,>=1.0.0 in /opt/conda/lib/python3.10/site-packages (from wandb) (3.1.41)\nRequirement already satisfied: requests<3,>=2.0.0 in /opt/conda/lib/python3.10/site-packages (from wandb) (2.31.0)\nRequirement already satisfied: psutil>=5.0.0 in /opt/conda/lib/python3.10/site-packages (from wandb) (5.9.3)\nRequirement already satisfied: sentry-sdk>=1.0.0 in /opt/conda/lib/python3.10/site-packages (from wandb) (1.42.0)\nRequirement already satisfied: docker-pycreds>=0.4.0 in /opt/conda/lib/python3.10/site-packages (from wandb) (0.4.0)\nRequirement already satisfied: PyYAML in /opt/conda/lib/python3.10/site-packages (from wandb) (6.0.1)\nRequirement already satisfied: setproctitle in /opt/conda/lib/python3.10/site-packages (from wandb) (1.3.3)\nRequirement already satisfied: setuptools in /opt/conda/lib/python3.10/site-packages (from wandb) (69.0.3)\nRequirement already satisfied: appdirs>=1.4.3 in /opt/conda/lib/python3.10/site-packages (from wandb) (1.4.4)\nRequirement already satisfied: protobuf!=4.21.0,<5,>=3.19.0 in /opt/conda/lib/python3.10/site-packages (from wandb) (3.20.3)\nRequirement already satisfied: six>=1.4.0 in /opt/conda/lib/python3.10/site-packages (from docker-pycreds>=0.4.0->wandb) (1.16.0)\nRequirement already satisfied: gitdb<5,>=4.0.1 in /opt/conda/lib/python3.10/site-packages (from GitPython!=3.1.29,>=1.0.0->wandb) (4.0.11)\nRequirement already satisfied: charset-normalizer<4,>=2 in /opt/conda/lib/python3.10/site-packages (from requests<3,>=2.0.0->wandb) (3.3.2)\nRequirement already satisfied: idna<4,>=2.5 in /opt/conda/lib/python3.10/site-packages (from requests<3,>=2.0.0->wandb) (3.6)\nRequirement already satisfied: urllib3<3,>=1.21.1 in /opt/conda/lib/python3.10/site-packages (from requests<3,>=2.0.0->wandb) (1.26.18)\nRequirement already satisfied: certifi>=2017.4.17 in /opt/conda/lib/python3.10/site-packages (from requests<3,>=2.0.0->wandb) (2024.2.2)\nRequirement already satisfied: smmap<6,>=3.0.1 in /opt/conda/lib/python3.10/site-packages (from gitdb<5,>=4.0.1->GitPython!=3.1.29,>=1.0.0->wandb) (5.0.1)\n",
          "output_type": "stream"
        },
        {
          "name": "stderr",
          "text": "2024-04-06 21:11:58.410185: E external/local_xla/xla/stream_executor/cuda/cuda_dnn.cc:9261] Unable to register cuDNN factory: Attempting to register factory for plugin cuDNN when one has already been registered\n2024-04-06 21:11:58.410243: E external/local_xla/xla/stream_executor/cuda/cuda_fft.cc:607] Unable to register cuFFT factory: Attempting to register factory for plugin cuFFT when one has already been registered\n2024-04-06 21:11:58.411846: E external/local_xla/xla/stream_executor/cuda/cuda_blas.cc:1515] Unable to register cuBLAS factory: Attempting to register factory for plugin cuBLAS when one has already been registered\n\u001b[34m\u001b[1mwandb\u001b[0m: Currently logged in as: \u001b[33mcs23m066\u001b[0m (\u001b[33mdlassignment\u001b[0m). Use \u001b[1m`wandb login --relogin`\u001b[0m to force relogin\n",
          "output_type": "stream"
        },
        {
          "output_type": "display_data",
          "data": {
            "text/plain": "<IPython.core.display.HTML object>",
            "text/html": "wandb version 0.16.6 is available!  To upgrade, please run:\n $ pip install wandb --upgrade"
          },
          "metadata": {}
        },
        {
          "output_type": "display_data",
          "data": {
            "text/plain": "<IPython.core.display.HTML object>",
            "text/html": "Tracking run with wandb version 0.16.4"
          },
          "metadata": {}
        },
        {
          "output_type": "display_data",
          "data": {
            "text/plain": "<IPython.core.display.HTML object>",
            "text/html": "Run data is saved locally in <code>/kaggle/working/wandb/run-20240406_211202-zp6tap2t</code>"
          },
          "metadata": {}
        },
        {
          "output_type": "display_data",
          "data": {
            "text/plain": "<IPython.core.display.HTML object>",
            "text/html": "Syncing run <strong><a href='https://wandb.ai/dlassignment/DL_assignment_2/runs/zp6tap2t' target=\"_blank\">defiant-blood-wine-109</a></strong> to <a href='https://wandb.ai/dlassignment/DL_assignment_2' target=\"_blank\">Weights & Biases</a> (<a href='https://wandb.me/run' target=\"_blank\">docs</a>)<br/>"
          },
          "metadata": {}
        },
        {
          "output_type": "display_data",
          "data": {
            "text/plain": "<IPython.core.display.HTML object>",
            "text/html": " View project at <a href='https://wandb.ai/dlassignment/DL_assignment_2' target=\"_blank\">https://wandb.ai/dlassignment/DL_assignment_2</a>"
          },
          "metadata": {}
        },
        {
          "output_type": "display_data",
          "data": {
            "text/plain": "<IPython.core.display.HTML object>",
            "text/html": " View run at <a href='https://wandb.ai/dlassignment/DL_assignment_2/runs/zp6tap2t' target=\"_blank\">https://wandb.ai/dlassignment/DL_assignment_2/runs/zp6tap2t</a>"
          },
          "metadata": {}
        },
        {
          "execution_count": 14,
          "output_type": "execute_result",
          "data": {
            "text/html": "<button onClick=\"this.nextSibling.style.display='block';this.style.display='none';\">Display W&B run</button><iframe src='https://wandb.ai/dlassignment/DL_assignment_2/runs/zp6tap2t?jupyter=true' style='border:none;width:100%;height:420px;display:none;'></iframe>",
            "text/plain": "<wandb.sdk.wandb_run.Run at 0x79ee58d52500>"
          },
          "metadata": {}
        }
      ]
    },
    {
      "cell_type": "code",
      "source": [],
      "metadata": {
        "id": "dG_ph24nS6Co"
      },
      "execution_count": null,
      "outputs": []
    },
    {
      "cell_type": "code",
      "source": [
        "class CNN(nn.Module):\n",
        "    def __init__(self, in_channels=3, num_classes=10,numFilterss=32,sizeFilter=3,neurons=128,activFun='sigmoid',dropOut=0.0,batchNorm='no',org=0):\n",
        "        super(CNN, self).__init__()\n",
        "        self.activFunName = activFun\n",
        "        self.batchNorm = batchNorm\n",
        "        if(org ==  0):\n",
        "            numFilters = [numFilterss,numFilterss,numFilterss,numFilterss,numFilterss]\n",
        "        else:\n",
        "            numFilters = [numFilterss,numFilterss*2,numFilterss*4,numFilterss*8,numFilterss*16]\n",
        "        width = 0.0\n",
        "        hight = 0.0\n",
        "        self.conv1 = nn.Conv2d(in_channels=in_channels,out_channels=numFilters[0],kernel_size=sizeFilter, stride=1)\n",
        "        width = (256 - sizeFilter)+1\n",
        "        hight = (256 - sizeFilter)+1\n",
        "        self.bn1 = nn.BatchNorm2d(numFilters[0])\n",
        "        self.pool1 = nn.MaxPool2d(kernel_size=sizeFilter, stride=2)\n",
        "        width = math.floor((width - sizeFilter)/2) + 1\n",
        "        hight = math.floor((hight -sizeFilter)/2) + 1\n",
        "\n",
        "        #print(width,hight)\n",
        "        self.conv2 = nn.Conv2d( in_channels=numFilters[0], out_channels=numFilters[1], kernel_size=sizeFilter,stride=1)\n",
        "        width = ((width - sizeFilter))+1\n",
        "        hight = ((hight-sizeFilter))+1\n",
        "        self.bn2 = nn.BatchNorm2d(numFilters[1])\n",
        "        self.pool2 = nn.MaxPool2d(kernel_size=sizeFilter,stride=2)\n",
        "        width = math.floor((width - sizeFilter)/2) + 1\n",
        "        hight = math.floor((hight -sizeFilter)/2) + 1\n",
        "\n",
        "        #print(width,hight)\n",
        "        self.conv3 = nn.Conv2d( in_channels=numFilters[1], out_channels=numFilters[2], kernel_size=sizeFilter,stride=1)\n",
        "        width = ((width - sizeFilter))+1\n",
        "        hight = ((hight-sizeFilter))+1\n",
        "        self.bn3 = nn.BatchNorm2d(numFilters[2])\n",
        "        self.pool3 = nn.MaxPool2d(kernel_size=sizeFilter,stride=2)\n",
        "        width = math.floor((width - sizeFilter)/2) + 1\n",
        "        hight = math.floor((hight -sizeFilter)/2) + 1\n",
        "\n",
        "        #print(width,hight)\n",
        "        self.conv4 = nn.Conv2d( in_channels=numFilters[2], out_channels=numFilters[3], kernel_size=sizeFilter,stride=1)\n",
        "        width = ((width - sizeFilter))+1\n",
        "        hight = ((hight-sizeFilter))+1\n",
        "        self.bn4 = nn.BatchNorm2d(numFilters[3])\n",
        "        self.pool4 = nn.MaxPool2d(kernel_size=sizeFilter,stride=2)\n",
        "        width = math.floor((width - sizeFilter)/2)+ 1\n",
        "        hight = math.floor((hight -sizeFilter)/2) + 1\n",
        "\n",
        "        #print(width,hight)\n",
        "        self.conv5 = nn.Conv2d( in_channels=numFilters[3], out_channels=numFilters[4], kernel_size=sizeFilter,stride=1)\n",
        "        width = ((width - sizeFilter))+1\n",
        "        hight = ((hight-sizeFilter))+1\n",
        "        self.bn5 = nn.BatchNorm2d(numFilters[4])\n",
        "        self.pool5 = nn.MaxPool2d(kernel_size=sizeFilter,stride=2)\n",
        "        width = math.floor((width - sizeFilter)/2) + 1\n",
        "        hight = math.floor((hight -sizeFilter)/2) + 1\n",
        "\n",
        "        #print(width,hight)\n",
        "        self.dropout = nn.Dropout(p=dropOut)\n",
        "        self.fc1 = nn.Linear(numFilters[4] * width*hight, neurons)\n",
        "        self.bn6 = nn.BatchNorm1d(neurons)\n",
        "        self.fc2 = nn.Linear(neurons,10)\n",
        "\n",
        "    def forward(self, x):\n",
        "        if(self.activFunName == 'relu'):\n",
        "            activation_fn = F.relu\n",
        "        elif(self.activFunName == 'gelu'):\n",
        "            activation_fn = F.gelu\n",
        "        elif(self.activFunName == 'silu'):\n",
        "            activation_fn = F.silu\n",
        "        else:\n",
        "            activation_fn = F.mish\n",
        "\n",
        "        if(self.batchNorm == 'yes'):\n",
        "            x = activation_fn(self.bn1(self.conv1(x)))\n",
        "        else:\n",
        "            x = activation_fn(self.conv1(x))\n",
        "        x = self.pool1(x)\n",
        "\n",
        "        if(self.batchNorm == 'yes'):\n",
        "            x = activation_fn(self.bn2(self.conv2(x)))\n",
        "        else:\n",
        "            x = activation_fn(self.conv2(x))\n",
        "        x = self.pool2(x)\n",
        "\n",
        "        if(self.batchNorm == 'yes'):\n",
        "            x = activation_fn(self.bn3(self.conv3(x)))\n",
        "        else:\n",
        "            x = activation_fn(self.conv3(x))\n",
        "        x = self.pool3(x)\n",
        "\n",
        "        if(self.batchNorm == 'yes'):\n",
        "            x = activation_fn(self.bn4(self.conv4(x)))\n",
        "        else:\n",
        "            x = activation_fn(self.conv4(x))\n",
        "        x = self.pool4(x)\n",
        "\n",
        "        if(self.batchNorm == 'yes'):\n",
        "            x = activation_fn(self.bn5(self.conv5(x)))\n",
        "        else:\n",
        "            x = activation_fn(self.conv5(x))\n",
        "        x = self.pool5(x)\n",
        "\n",
        "        x = x.reshape(x.shape[0], -1)\n",
        "        if(self.batchNorm == 'yes'):\n",
        "            x = activation_fn(self.bn6(self.fc1(x)))\n",
        "        else:\n",
        "            x = activation_fn(self.fc1(x))\n",
        "        x = self.dropout(x)\n",
        "        x = self.fc2(x)\n",
        "        return x"
      ],
      "metadata": {
        "id": "FsGQWkx6JNw4",
        "execution": {
          "iopub.status.busy": "2024-04-06T20:41:27.172705Z",
          "iopub.execute_input": "2024-04-06T20:41:27.173710Z",
          "iopub.status.idle": "2024-04-06T20:41:27.200422Z",
          "shell.execute_reply.started": "2024-04-06T20:41:27.173676Z",
          "shell.execute_reply": "2024-04-06T20:41:27.199461Z"
        },
        "trusted": true
      },
      "execution_count": null,
      "outputs": []
    },
    {
      "cell_type": "code",
      "source": [
        "device = torch.device(\"cuda\" if torch.cuda.is_available() else \"cpu\")"
      ],
      "metadata": {
        "id": "rkRs5JZogjZc",
        "execution": {
          "iopub.status.busy": "2024-04-06T20:41:31.827970Z",
          "iopub.execute_input": "2024-04-06T20:41:31.828706Z",
          "iopub.status.idle": "2024-04-06T20:41:31.884088Z",
          "shell.execute_reply.started": "2024-04-06T20:41:31.828673Z",
          "shell.execute_reply": "2024-04-06T20:41:31.882985Z"
        },
        "trusted": true
      },
      "execution_count": null,
      "outputs": []
    },
    {
      "cell_type": "code",
      "source": [
        "transform = transforms.Compose([\n",
        "    transforms.Resize((256,256)),\n",
        "    transforms.ToTensor(),\n",
        "    transforms.Normalize((0.5,),(0.5,))])\n",
        "\n",
        "train_dataset = datasets.ImageFolder(root='inaturalist_12K/train',transform=transform)\n",
        "train_dataset,val_dataset = torch.utils.data.random_split(train_dataset,[8000,1999])\n",
        "\n",
        "transform2 = transforms.Compose([\n",
        "    transforms.RandomHorizontalFlip(),  # Randomly flip the image horizontally\n",
        "    transforms.RandomRotation(10),      # Randomly rotate the image by a maximum of 10 degrees\n",
        "    transforms.ColorJitter(brightness=0.2, contrast=0.2, saturation=0.2, hue=0.1),  # Adjust brightness, contrast, saturation, and hue\n",
        "    transforms.RandomResizedCrop(256),  # Randomly crop and resize the image to 256x256\n",
        "    transforms.ToTensor(),              # Convert the image to a PyTorch tensor\n",
        "    transforms.Normalize((0.5,),(0.5,))  # Normalize the image\n",
        "])\n",
        "\n",
        "train_dataset2 = datasets.ImageFolder(root='inaturalist_12K/train',transform=transform2)\n",
        "train_dataset_aug,val_dataset_aug = torch.utils.data.random_split(train_dataset2,[8000,1999])\n",
        "\n",
        "test_data = datasets.ImageFolder(root='inaturalist_12K/val',transform=transform);\n",
        "\n",
        "def dataFun(aug,batchSize):\n",
        "    if(aug == 'no'):\n",
        "        train_loader = torch.utils.data.DataLoader(train_dataset,batch_size =batchSize,shuffle = True,num_workers=2,pin_memory=True)\n",
        "        val_loader = torch.utils.data.DataLoader(val_dataset,batch_size =batchSize,shuffle = True,num_workers=2,pin_memory=True)\n",
        "        return train_loader,val_loader\n",
        "    else:\n",
        "        train_loader_aug = torch.utils.data.DataLoader(train_dataset_aug,batch_size =batchSize,shuffle = True,num_workers=4,pin_memory=True)\n",
        "        val_loader_aug = torch.utils.data.DataLoader(val_dataset_aug,batch_size =batchSize,shuffle = True,num_workers=4,pin_memory=True)\n",
        "        return train_loader_aug,val_loader_aug"
      ],
      "metadata": {
        "execution": {
          "iopub.status.busy": "2024-04-06T20:41:33.873195Z",
          "iopub.execute_input": "2024-04-06T20:41:33.873630Z",
          "iopub.status.idle": "2024-04-06T20:41:33.992525Z",
          "shell.execute_reply.started": "2024-04-06T20:41:33.873578Z",
          "shell.execute_reply": "2024-04-06T20:41:33.991504Z"
        },
        "trusted": true,
        "id": "MFvikxqfS6Cr"
      },
      "execution_count": null,
      "outputs": []
    },
    {
      "cell_type": "code",
      "source": [
        "def train_fun(neurons,numFilters,sizeFilter,activFun,optimizerName,batchSize,dropOut,num_epochs,learning_rate,batchNorm,aug,org):\n",
        "    aug = 'no'\n",
        "    train_loader,val_loader = dataFun(aug,batchSize)\n",
        "\n",
        "    test_loader = torch.utils.data.DataLoader(test_data,batch_size =batchSize,shuffle = True,num_workers=2,pin_memory=True)\n",
        "\n",
        "    in_channels = 3\n",
        "    num_classes = 10\n",
        "\n",
        "    model = CNN(in_channels, num_classes,numFilters,sizeFilter,neurons,activFun,dropOut,batchNorm,org).to(device)\n",
        "\n",
        "    if(optimizerName == 'sgd'):\n",
        "        optimizer = optim.SGD(model.parameters(), lr=learning_rate)\n",
        "    elif(optimizerName == 'adam'):\n",
        "        optimizer = optim.Adam(model.parameters(), lr=learning_rate)\n",
        "    else:\n",
        "        optimizer = optim.NAdam(model.parameters(), lr=learning_rate)\n",
        "\n",
        "    criterion = nn.CrossEntropyLoss()\n",
        "\n",
        "    for epoch in range(num_epochs):\n",
        "        for batch_idx, (data, targets) in enumerate(tqdm(train_loader)):\n",
        "            # Get data to cuda if possible\n",
        "            data = data.to(device=device)\n",
        "            targets = targets.to(device=device)\n",
        "            # forward\n",
        "            scores = model(data)\n",
        "            loss = criterion(scores,targets)\n",
        "            # backward\n",
        "            optimizer.zero_grad()\n",
        "            loss.backward()\n",
        "            # gradient descent or adam step\n",
        "            optimizer.step() #updates the parameters\n",
        "        train_accuracy,train_loss = check_accuracy(train_loader, model,criterion,batchSize)\n",
        "        validation_accuracy,validation_loss = check_accuracy(val_loader, model,criterion,batchSize)\n",
        "        validation_accuracy,validation_loss = check_accuracy(val_loader, model,criterion,batchSize)\n",
        "        test_accuracy,test_loss = check_accuracy(test_loader, model,criterion,batchSize)\n",
        "        print(f\"train_accuracy:{train_accuracy:.4f},train_loss:{train_loss:.4f}\")\n",
        "        print(f\"validation_accuracy:{validation_accuracy:.4f},validation_loss:{validation_loss:.4f}\")\n",
        "        print(f\"test_accuracy:{test_accuracy:.4f},test_loss:{test_loss:.4f}\")\n",
        "\n",
        "#         wandb.log({'train_accuracy':train_accuracy})\n",
        "#         wandb.log({'train_loss':train_loss})\n",
        "#         wandb.log({'val_accuracy':validation_accuracy})\n",
        "#         wandb.log({'val_loss':validation_loss})\n",
        "\n",
        "    #wandb.log({'train_accuracy':train_accuracy})\n"
      ],
      "metadata": {
        "id": "lcPp2kI_JXoJ",
        "execution": {
          "iopub.status.busy": "2024-04-06T21:11:06.090826Z",
          "iopub.execute_input": "2024-04-06T21:11:06.091644Z",
          "iopub.status.idle": "2024-04-06T21:11:06.104671Z",
          "shell.execute_reply.started": "2024-04-06T21:11:06.091605Z",
          "shell.execute_reply": "2024-04-06T21:11:06.103638Z"
        },
        "trusted": true
      },
      "execution_count": null,
      "outputs": []
    },
    {
      "cell_type": "code",
      "source": [
        "def check_accuracy(loader,model,criterion,batchSize):\n",
        "    num_correct = 0\n",
        "    num_loss = 0\n",
        "    total = 0\n",
        "    num_samples = 0\n",
        "    total_loss = 0.0\n",
        "    model.eval()\n",
        "    with torch.no_grad():\n",
        "        for x, y in loader:\n",
        "            x = x.to(device=device)\n",
        "            y = y.to(device=device)\n",
        "            scores = model(x)\n",
        "            loss = criterion(scores, y)\n",
        "            total_loss += loss.item()*batchSize\n",
        "            _, predictions = scores.max(1)\n",
        "            num_correct += (predictions == y).sum().item()\n",
        "            num_samples += predictions.size(0)\n",
        "    model.train()\n",
        "    return (num_correct / num_samples)*100 , total_loss"
      ],
      "metadata": {
        "id": "ZYuVL_f2RKY7",
        "execution": {
          "iopub.status.busy": "2024-04-06T20:42:25.009369Z",
          "iopub.execute_input": "2024-04-06T20:42:25.009772Z",
          "iopub.status.idle": "2024-04-06T20:42:25.017223Z",
          "shell.execute_reply.started": "2024-04-06T20:42:25.009741Z",
          "shell.execute_reply": "2024-04-06T20:42:25.016100Z"
        },
        "trusted": true
      },
      "execution_count": null,
      "outputs": []
    },
    {
      "cell_type": "code",
      "source": [
        "neurons = 256\n",
        "numFilters = 64\n",
        "sizeFilter = 5\n",
        "activFun = 'relu'\n",
        "optimizer = 'nadam'\n",
        "batchSize=32\n",
        "dropOut = 0.4\n",
        "num_epochs = 10\n",
        "learning_rate = 1e-4\n",
        "batchNorm = 'yes'\n",
        "aug='no'\n",
        "org = 1\n",
        "train_fun(neurons,numFilters,sizeFilter,activFun,optimizer,batchSize,dropOut,num_epochs,learning_rate,batchNorm,aug,org)"
      ],
      "metadata": {
        "id": "z6pHMzFjSJWt",
        "execution": {
          "iopub.status.busy": "2024-04-06T20:43:47.806428Z",
          "iopub.execute_input": "2024-04-06T20:43:47.807400Z",
          "iopub.status.idle": "2024-04-06T21:10:14.982278Z",
          "shell.execute_reply.started": "2024-04-06T20:43:47.807365Z",
          "shell.execute_reply": "2024-04-06T21:10:14.981002Z"
        },
        "trusted": true,
        "outputId": "533ce930-4160-479e-8bed-df361f27f2ca"
      },
      "execution_count": null,
      "outputs": [
        {
          "name": "stderr",
          "text": "100%|██████████| 250/250 [01:09<00:00,  3.59it/s]\n",
          "output_type": "stream"
        },
        {
          "name": "stdout",
          "text": "train_accuracy:29.3625,train_loss:15966.8719\nvalidation_accuracy:26.6633,validation_loss:4155.1959\ntest_accuracy:27.6500,test_loss:4135.3291\n",
          "output_type": "stream"
        },
        {
          "name": "stderr",
          "text": "100%|██████████| 250/250 [01:09<00:00,  3.59it/s]\n",
          "output_type": "stream"
        },
        {
          "name": "stdout",
          "text": "train_accuracy:39.2500,train_loss:13858.5264\nvalidation_accuracy:34.5673,validation_loss:3672.3559\ntest_accuracy:38.3500,test_loss:3651.2317\n",
          "output_type": "stream"
        },
        {
          "name": "stderr",
          "text": "100%|██████████| 250/250 [01:09<00:00,  3.58it/s]\n",
          "output_type": "stream"
        },
        {
          "name": "stdout",
          "text": "train_accuracy:41.7125,train_loss:13391.9488\nvalidation_accuracy:36.2181,validation_loss:3685.7977\ntest_accuracy:38.8000,test_loss:3619.9232\n",
          "output_type": "stream"
        },
        {
          "name": "stderr",
          "text": "100%|██████████| 250/250 [01:09<00:00,  3.58it/s]\n",
          "output_type": "stream"
        },
        {
          "name": "stdout",
          "text": "train_accuracy:47.0625,train_loss:12251.3291\nvalidation_accuracy:38.7194,validation_loss:3511.2072\ntest_accuracy:40.8500,test_loss:3455.5612\n",
          "output_type": "stream"
        },
        {
          "name": "stderr",
          "text": "100%|██████████| 250/250 [01:09<00:00,  3.58it/s]\n",
          "output_type": "stream"
        },
        {
          "name": "stdout",
          "text": "train_accuracy:49.2750,train_loss:11750.2844\nvalidation_accuracy:39.6698,validation_loss:3537.8761\ntest_accuracy:40.2500,test_loss:3574.7657\n",
          "output_type": "stream"
        },
        {
          "name": "stderr",
          "text": "100%|██████████| 250/250 [01:09<00:00,  3.57it/s]\n",
          "output_type": "stream"
        },
        {
          "name": "stdout",
          "text": "train_accuracy:43.5875,train_loss:13274.9916\nvalidation_accuracy:32.5663,validation_loss:4115.1407\ntest_accuracy:35.3000,test_loss:3986.1732\n",
          "output_type": "stream"
        },
        {
          "name": "stderr",
          "text": "100%|██████████| 250/250 [01:09<00:00,  3.57it/s]\n",
          "output_type": "stream"
        },
        {
          "name": "stdout",
          "text": "train_accuracy:53.6500,train_loss:11115.8168\nvalidation_accuracy:38.1191,validation_loss:3835.2408\ntest_accuracy:40.6500,test_loss:3671.8329\n",
          "output_type": "stream"
        },
        {
          "name": "stderr",
          "text": "100%|██████████| 250/250 [01:10<00:00,  3.56it/s]\n",
          "output_type": "stream"
        },
        {
          "name": "stdout",
          "text": "train_accuracy:67.2750,train_loss:8177.1853\nvalidation_accuracy:43.1216,validation_loss:3372.1909\ntest_accuracy:46.2000,test_loss:3253.0253\n",
          "output_type": "stream"
        },
        {
          "name": "stderr",
          "text": "100%|██████████| 250/250 [01:10<00:00,  3.57it/s]\n",
          "output_type": "stream"
        },
        {
          "name": "stdout",
          "text": "train_accuracy:61.4125,train_loss:8778.5270\nvalidation_accuracy:39.1696,validation_loss:3547.6643\ntest_accuracy:39.9000,test_loss:3493.5635\n",
          "output_type": "stream"
        },
        {
          "name": "stderr",
          "text": "100%|██████████| 250/250 [01:10<00:00,  3.56it/s]\n",
          "output_type": "stream"
        },
        {
          "name": "stdout",
          "text": "train_accuracy:79.1125,train_loss:5891.8672\nvalidation_accuracy:42.8214,validation_loss:3388.7528\ntest_accuracy:44.9500,test_loss:3322.0223\n",
          "output_type": "stream"
        }
      ]
    },
    {
      "cell_type": "code",
      "source": [],
      "metadata": {
        "id": "IrD8xAEbS6Ct"
      },
      "execution_count": null,
      "outputs": []
    },
    {
      "cell_type": "code",
      "source": [
        "def main_fun():\n",
        "    wandb.init(project ='DL_assignment_2')\n",
        "    params = wandb.config\n",
        "    with wandb.init(project = 'DL_assignment_2', name='neurons'+str(params.neurons)+'optimizer'+params.optimizer+'activFun'+params.activFun) as run:\n",
        "        train_fun(params.neurons,params.numFilters,params.sizeFilter, params.activFun,params.optimizer,params.batchSize,params.dropOut,params.num_epochs,params.learning_rate,params.batchNorm,params.aug,params.org)\n",
        "\n",
        "sweep_params = {\n",
        "    'method' : 'bayes',\n",
        "    'name'   : 'Shriram',\n",
        "    'metric' : {\n",
        "        'goal' : 'maximize',\n",
        "        'name' : 'val_accuracy',\n",
        "    },\n",
        "    'parameters' : {\n",
        "        'neurons':{'values':[128,256]},\n",
        "        'numFilters':{'values':[32,64,128]},\n",
        "        'sizeFilter':{'values' : [3,5,7]},\n",
        "        'activFun' :{'values':['relu','gelu','silu','mish']},\n",
        "        'optimizer' :{'values':['adam','nadam']},\n",
        "        'batchSize' : {'values':[32,64,128]},\n",
        "        'dropOut' :{'values':[0,0.2,0.4]},\n",
        "        'num_epochs':{'values':[3,5]},\n",
        "        'learning_rate' :{'values':[1e-3,1e-4]},\n",
        "        'batchNorm' :{'values' : ['yes','no']},\n",
        "        'aug' : {'values':['no','yes']},\n",
        "        'org' : {'values':[0,1]}\n",
        "    }\n",
        "}\n",
        "sweepId = wandb.sweep(sweep_params,project = 'DL_assignment_2')\n",
        "wandb.agent(sweepId,function =main_fun,count = 20)\n",
        "wandb.finish()"
      ],
      "metadata": {
        "id": "YzBw7Y4RDjyp",
        "colab": {
          "base_uri": "https://localhost:8080/",
          "height": 890,
          "referenced_widgets": [
            "5301caf729fd49a7a5b11f77106bf48e",
            "1736613663834cac8c71ba4673741c7d",
            "72d69903ede844af8ff60e9b297115ab",
            "23f5b96ed7f64a8998517bc664d2365d",
            "2961536000be4e12aae595d7738297bb",
            "c0c43c1b473a4f408d72be8259642c7a",
            "777985e576a24767a368b71564de04dc",
            "66e6b93452ff46d28bdb4877fce65cd5",
            ""
          ]
        },
        "outputId": "b485c85e-f6e1-4dd3-821a-069227678a34",
        "execution": {
          "iopub.status.busy": "2024-04-06T21:14:53.564353Z",
          "iopub.execute_input": "2024-04-06T21:14:53.564800Z"
        },
        "trusted": true
      },
      "execution_count": null,
      "outputs": [
        {
          "name": "stderr",
          "text": "\u001b[34m\u001b[1mwandb\u001b[0m: \u001b[33mWARNING\u001b[0m Calling wandb.login() after wandb.init() has no effect.\n",
          "output_type": "stream"
        },
        {
          "name": "stdout",
          "text": "Create sweep with ID: z7gjpnqa\nSweep URL: https://wandb.ai/dlassignment/DL_assignment_2/sweeps/z7gjpnqa\n",
          "output_type": "stream"
        },
        {
          "name": "stderr",
          "text": "\u001b[34m\u001b[1mwandb\u001b[0m: Agent Starting Run: ssfdc6f6 with config:\n\u001b[34m\u001b[1mwandb\u001b[0m: \tactivFun: mish\n\u001b[34m\u001b[1mwandb\u001b[0m: \taug: no\n\u001b[34m\u001b[1mwandb\u001b[0m: \tbatchNorm: no\n\u001b[34m\u001b[1mwandb\u001b[0m: \tbatchSize: 32\n\u001b[34m\u001b[1mwandb\u001b[0m: \tdropOut: 0\n\u001b[34m\u001b[1mwandb\u001b[0m: \tlearning_rate: 0.001\n\u001b[34m\u001b[1mwandb\u001b[0m: \tneurons: 256\n\u001b[34m\u001b[1mwandb\u001b[0m: \tnumFilters: 32\n\u001b[34m\u001b[1mwandb\u001b[0m: \tnum_epochs: 3\n\u001b[34m\u001b[1mwandb\u001b[0m: \toptimizer: adam\n\u001b[34m\u001b[1mwandb\u001b[0m: \torg: 1\n\u001b[34m\u001b[1mwandb\u001b[0m: \tsizeFilter: 5\n",
          "output_type": "stream"
        },
        {
          "name": "stdout",
          "text": "VBox(children=(Label(value='0.001 MB of 0.001 MB uploaded\\r'), FloatProgress(value=1.0, max=1.0)))\n<IPython.core.display.HTML object>\n<IPython.core.display.HTML object>\n",
          "output_type": "stream"
        },
        {
          "name": "stderr",
          "text": "\u001b[34m\u001b[1mwandb\u001b[0m: \u001b[33mWARNING\u001b[0m Ignored wandb.init() arg project when running a sweep.\n",
          "output_type": "stream"
        },
        {
          "output_type": "display_data",
          "data": {
            "text/plain": "<IPython.core.display.HTML object>",
            "text/html": "wandb version 0.16.6 is available!  To upgrade, please run:\n $ pip install wandb --upgrade"
          },
          "metadata": {}
        },
        {
          "output_type": "display_data",
          "data": {
            "text/plain": "<IPython.core.display.HTML object>",
            "text/html": "Tracking run with wandb version 0.16.4"
          },
          "metadata": {}
        },
        {
          "output_type": "display_data",
          "data": {
            "text/plain": "<IPython.core.display.HTML object>",
            "text/html": "Run data is saved locally in <code>/kaggle/working/wandb/run-20240406_211459-ssfdc6f6</code>"
          },
          "metadata": {}
        },
        {
          "output_type": "display_data",
          "data": {
            "text/plain": "<IPython.core.display.HTML object>",
            "text/html": "Syncing run <strong><a href='https://wandb.ai/dlassignment/DL_assignment_2/runs/ssfdc6f6' target=\"_blank\">fanciful-sweep-1</a></strong> to <a href='https://wandb.ai/dlassignment/DL_assignment_2' target=\"_blank\">Weights & Biases</a> (<a href='https://wandb.me/run' target=\"_blank\">docs</a>)<br/>Sweep page: <a href='https://wandb.ai/dlassignment/DL_assignment_2/sweeps/z7gjpnqa' target=\"_blank\">https://wandb.ai/dlassignment/DL_assignment_2/sweeps/z7gjpnqa</a>"
          },
          "metadata": {}
        },
        {
          "output_type": "display_data",
          "data": {
            "text/plain": "<IPython.core.display.HTML object>",
            "text/html": " View project at <a href='https://wandb.ai/dlassignment/DL_assignment_2' target=\"_blank\">https://wandb.ai/dlassignment/DL_assignment_2</a>"
          },
          "metadata": {}
        },
        {
          "output_type": "display_data",
          "data": {
            "text/plain": "<IPython.core.display.HTML object>",
            "text/html": " View sweep at <a href='https://wandb.ai/dlassignment/DL_assignment_2/sweeps/z7gjpnqa' target=\"_blank\">https://wandb.ai/dlassignment/DL_assignment_2/sweeps/z7gjpnqa</a>"
          },
          "metadata": {}
        },
        {
          "output_type": "display_data",
          "data": {
            "text/plain": "<IPython.core.display.HTML object>",
            "text/html": " View run at <a href='https://wandb.ai/dlassignment/DL_assignment_2/runs/ssfdc6f6' target=\"_blank\">https://wandb.ai/dlassignment/DL_assignment_2/runs/ssfdc6f6</a>"
          },
          "metadata": {}
        },
        {
          "name": "stderr",
          "text": "\u001b[34m\u001b[1mwandb\u001b[0m: \u001b[33mWARNING\u001b[0m Ignored wandb.init() arg project when running a sweep.\n",
          "output_type": "stream"
        },
        {
          "output_type": "display_data",
          "data": {
            "text/plain": "<IPython.core.display.HTML object>",
            "text/html": "Finishing last run (ID:ssfdc6f6) before initializing another..."
          },
          "metadata": {}
        },
        {
          "output_type": "display_data",
          "data": {
            "text/plain": "VBox(children=(Label(value='0.000 MB of 0.000 MB uploaded\\r'), FloatProgress(value=1.0, max=1.0)))",
            "application/vnd.jupyter.widget-view+json": {
              "version_major": 2,
              "version_minor": 0,
              "model_id": ""
            }
          },
          "metadata": {}
        },
        {
          "output_type": "display_data",
          "data": {
            "text/plain": "<IPython.core.display.HTML object>",
            "text/html": " View run <strong style=\"color:#cdcd00\">fanciful-sweep-1</strong> at: <a href='https://wandb.ai/dlassignment/DL_assignment_2/runs/ssfdc6f6' target=\"_blank\">https://wandb.ai/dlassignment/DL_assignment_2/runs/ssfdc6f6</a><br/>Synced 6 W&B file(s), 0 media file(s), 0 artifact file(s) and 0 other file(s)"
          },
          "metadata": {}
        },
        {
          "output_type": "display_data",
          "data": {
            "text/plain": "<IPython.core.display.HTML object>",
            "text/html": "Find logs at: <code>./wandb/run-20240406_211459-ssfdc6f6/logs</code>"
          },
          "metadata": {}
        },
        {
          "output_type": "display_data",
          "data": {
            "text/plain": "<IPython.core.display.HTML object>",
            "text/html": "Successfully finished last run (ID:ssfdc6f6). Initializing new run:<br/>"
          },
          "metadata": {}
        },
        {
          "output_type": "display_data",
          "data": {
            "text/plain": "<IPython.core.display.HTML object>",
            "text/html": "wandb version 0.16.6 is available!  To upgrade, please run:\n $ pip install wandb --upgrade"
          },
          "metadata": {}
        },
        {
          "output_type": "display_data",
          "data": {
            "text/plain": "<IPython.core.display.HTML object>",
            "text/html": "Tracking run with wandb version 0.16.4"
          },
          "metadata": {}
        },
        {
          "output_type": "display_data",
          "data": {
            "text/plain": "<IPython.core.display.HTML object>",
            "text/html": "Run data is saved locally in <code>/kaggle/working/wandb/run-20240406_211531-ssfdc6f6</code>"
          },
          "metadata": {}
        },
        {
          "output_type": "display_data",
          "data": {
            "text/plain": "<IPython.core.display.HTML object>",
            "text/html": "Syncing run <strong><a href='https://wandb.ai/dlassignment/DL_assignment_2/runs/ssfdc6f6' target=\"_blank\">neurons256optimizeradamactivFunmish</a></strong> to <a href='https://wandb.ai/dlassignment/DL_assignment_2' target=\"_blank\">Weights & Biases</a> (<a href='https://wandb.me/run' target=\"_blank\">docs</a>)<br/>Sweep page: <a href='https://wandb.ai/dlassignment/DL_assignment_2/sweeps/z7gjpnqa' target=\"_blank\">https://wandb.ai/dlassignment/DL_assignment_2/sweeps/z7gjpnqa</a>"
          },
          "metadata": {}
        },
        {
          "output_type": "display_data",
          "data": {
            "text/plain": "<IPython.core.display.HTML object>",
            "text/html": " View project at <a href='https://wandb.ai/dlassignment/DL_assignment_2' target=\"_blank\">https://wandb.ai/dlassignment/DL_assignment_2</a>"
          },
          "metadata": {}
        },
        {
          "output_type": "display_data",
          "data": {
            "text/plain": "<IPython.core.display.HTML object>",
            "text/html": " View sweep at <a href='https://wandb.ai/dlassignment/DL_assignment_2/sweeps/z7gjpnqa' target=\"_blank\">https://wandb.ai/dlassignment/DL_assignment_2/sweeps/z7gjpnqa</a>"
          },
          "metadata": {}
        },
        {
          "output_type": "display_data",
          "data": {
            "text/plain": "<IPython.core.display.HTML object>",
            "text/html": " View run at <a href='https://wandb.ai/dlassignment/DL_assignment_2/runs/ssfdc6f6' target=\"_blank\">https://wandb.ai/dlassignment/DL_assignment_2/runs/ssfdc6f6</a>"
          },
          "metadata": {}
        },
        {
          "name": "stderr",
          "text": "100%|██████████| 250/250 [00:54<00:00,  4.59it/s]\n",
          "output_type": "stream"
        }
      ]
    }
  ]
}