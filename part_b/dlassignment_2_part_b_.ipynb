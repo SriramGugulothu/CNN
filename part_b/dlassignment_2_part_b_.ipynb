{
  "metadata": {
    "kernelspec": {
      "language": "python",
      "display_name": "Python 3",
      "name": "python3"
    },
    "language_info": {
      "name": "python",
      "version": "3.10.13",
      "mimetype": "text/x-python",
      "codemirror_mode": {
        "name": "ipython",
        "version": 3
      },
      "pygments_lexer": "ipython3",
      "nbconvert_exporter": "python",
      "file_extension": ".py"
    },
    "kaggle": {
      "accelerator": "nvidiaTeslaT4",
      "dataSources": [],
      "dockerImageVersionId": 30674,
      "isInternetEnabled": true,
      "language": "python",
      "sourceType": "notebook",
      "isGpuEnabled": true
    },
    "colab": {
      "provenance": [],
      "include_colab_link": true
    }
  },
  "nbformat_minor": 0,
  "nbformat": 4,
  "cells": [
    {
      "cell_type": "markdown",
      "metadata": {
        "id": "view-in-github",
        "colab_type": "text"
      },
      "source": [
        "<a href=\"https://colab.research.google.com/github/cs23m066/Assignment_2/blob/main/dlassignment_2_part_b_.ipynb\" target=\"_parent\"><img src=\"https://colab.research.google.com/assets/colab-badge.svg\" alt=\"Open In Colab\"/></a>"
      ]
    },
    {
      "cell_type": "code",
      "source": [
        "import torch\n",
        "from torchvision.datasets import ImageFolder\n",
        "import torchvision.transforms as transforms\n",
        "from torch.utils.data import Subset, DataLoader\n",
        "import torchvision\n",
        "import torch.nn as nn\n",
        "import torch.nn.functional as F\n",
        "from torch import optim\n",
        "from tqdm import tqdm\n",
        "from torch.utils.data import DataLoader\n",
        "from torchvision import datasets\n",
        "import torchvision.models as models"
      ],
      "metadata": {
        "execution": {
          "iopub.status.busy": "2024-04-06T08:46:21.502881Z",
          "iopub.execute_input": "2024-04-06T08:46:21.503171Z",
          "iopub.status.idle": "2024-04-06T08:46:28.678043Z",
          "shell.execute_reply.started": "2024-04-06T08:46:21.503144Z",
          "shell.execute_reply": "2024-04-06T08:46:28.677025Z"
        },
        "trusted": true,
        "id": "Olp5Uo95ZH6Y"
      },
      "execution_count": null,
      "outputs": []
    },
    {
      "cell_type": "code",
      "source": [
        "!pip install wandb\n",
        "import wandb\n",
        "from wandb.keras import WandbCallback\n",
        "import socket\n",
        "socket.setdefaulttimeout(30)\n",
        "wandb.login()\n",
        "wandb.init(project ='DL_assignment_2_B')"
      ],
      "metadata": {
        "execution": {
          "iopub.status.busy": "2024-04-06T08:46:28.681070Z",
          "iopub.execute_input": "2024-04-06T08:46:28.682067Z",
          "iopub.status.idle": "2024-04-06T08:49:11.880749Z",
          "shell.execute_reply.started": "2024-04-06T08:46:28.682038Z",
          "shell.execute_reply": "2024-04-06T08:49:11.879688Z"
        },
        "trusted": true,
        "id": "ImD_2gk7ZH6c",
        "outputId": "ed1b9c1b-acd5-4575-c672-1af66ca69bd3"
      },
      "execution_count": null,
      "outputs": [
        {
          "name": "stdout",
          "text": "Requirement already satisfied: wandb in /opt/conda/lib/python3.10/site-packages (0.16.4)\nRequirement already satisfied: Click!=8.0.0,>=7.1 in /opt/conda/lib/python3.10/site-packages (from wandb) (8.1.7)\nRequirement already satisfied: GitPython!=3.1.29,>=1.0.0 in /opt/conda/lib/python3.10/site-packages (from wandb) (3.1.41)\nRequirement already satisfied: requests<3,>=2.0.0 in /opt/conda/lib/python3.10/site-packages (from wandb) (2.31.0)\nRequirement already satisfied: psutil>=5.0.0 in /opt/conda/lib/python3.10/site-packages (from wandb) (5.9.3)\nRequirement already satisfied: sentry-sdk>=1.0.0 in /opt/conda/lib/python3.10/site-packages (from wandb) (1.42.0)\nRequirement already satisfied: docker-pycreds>=0.4.0 in /opt/conda/lib/python3.10/site-packages (from wandb) (0.4.0)\nRequirement already satisfied: PyYAML in /opt/conda/lib/python3.10/site-packages (from wandb) (6.0.1)\nRequirement already satisfied: setproctitle in /opt/conda/lib/python3.10/site-packages (from wandb) (1.3.3)\nRequirement already satisfied: setuptools in /opt/conda/lib/python3.10/site-packages (from wandb) (69.0.3)\nRequirement already satisfied: appdirs>=1.4.3 in /opt/conda/lib/python3.10/site-packages (from wandb) (1.4.4)\nRequirement already satisfied: protobuf!=4.21.0,<5,>=3.19.0 in /opt/conda/lib/python3.10/site-packages (from wandb) (3.20.3)\nRequirement already satisfied: six>=1.4.0 in /opt/conda/lib/python3.10/site-packages (from docker-pycreds>=0.4.0->wandb) (1.16.0)\nRequirement already satisfied: gitdb<5,>=4.0.1 in /opt/conda/lib/python3.10/site-packages (from GitPython!=3.1.29,>=1.0.0->wandb) (4.0.11)\nRequirement already satisfied: charset-normalizer<4,>=2 in /opt/conda/lib/python3.10/site-packages (from requests<3,>=2.0.0->wandb) (3.3.2)\nRequirement already satisfied: idna<4,>=2.5 in /opt/conda/lib/python3.10/site-packages (from requests<3,>=2.0.0->wandb) (3.6)\nRequirement already satisfied: urllib3<3,>=1.21.1 in /opt/conda/lib/python3.10/site-packages (from requests<3,>=2.0.0->wandb) (1.26.18)\nRequirement already satisfied: certifi>=2017.4.17 in /opt/conda/lib/python3.10/site-packages (from requests<3,>=2.0.0->wandb) (2024.2.2)\nRequirement already satisfied: smmap<6,>=3.0.1 in /opt/conda/lib/python3.10/site-packages (from gitdb<5,>=4.0.1->GitPython!=3.1.29,>=1.0.0->wandb) (5.0.1)\n",
          "output_type": "stream"
        },
        {
          "name": "stderr",
          "text": "2024-04-06 08:46:44.698280: E external/local_xla/xla/stream_executor/cuda/cuda_dnn.cc:9261] Unable to register cuDNN factory: Attempting to register factory for plugin cuDNN when one has already been registered\n2024-04-06 08:46:44.698399: E external/local_xla/xla/stream_executor/cuda/cuda_fft.cc:607] Unable to register cuFFT factory: Attempting to register factory for plugin cuFFT when one has already been registered\n2024-04-06 08:46:44.872918: E external/local_xla/xla/stream_executor/cuda/cuda_blas.cc:1515] Unable to register cuBLAS factory: Attempting to register factory for plugin cuBLAS when one has already been registered\n\u001b[34m\u001b[1mwandb\u001b[0m: Logging into wandb.ai. (Learn how to deploy a W&B server locally: https://wandb.me/wandb-server)\n\u001b[34m\u001b[1mwandb\u001b[0m: You can find your API key in your browser here: https://wandb.ai/authorize\n\u001b[34m\u001b[1mwandb\u001b[0m: Paste an API key from your profile and hit enter, or press ctrl+c to quit:",
          "output_type": "stream"
        },
        {
          "output_type": "stream",
          "name": "stdin",
          "text": "  ········································\n"
        },
        {
          "name": "stderr",
          "text": "\u001b[34m\u001b[1mwandb\u001b[0m: Appending key for api.wandb.ai to your netrc file: /root/.netrc\n\u001b[34m\u001b[1mwandb\u001b[0m: Currently logged in as: \u001b[33mcs23m066\u001b[0m (\u001b[33mdlassignment\u001b[0m). Use \u001b[1m`wandb login --relogin`\u001b[0m to force relogin\n",
          "output_type": "stream"
        },
        {
          "output_type": "display_data",
          "data": {
            "text/plain": "<IPython.core.display.HTML object>",
            "text/html": "wandb version 0.16.6 is available!  To upgrade, please run:\n $ pip install wandb --upgrade"
          },
          "metadata": {}
        },
        {
          "output_type": "display_data",
          "data": {
            "text/plain": "<IPython.core.display.HTML object>",
            "text/html": "Tracking run with wandb version 0.16.4"
          },
          "metadata": {}
        },
        {
          "output_type": "display_data",
          "data": {
            "text/plain": "<IPython.core.display.HTML object>",
            "text/html": "Run data is saved locally in <code>/kaggle/working/wandb/run-20240406_084840-30nibopc</code>"
          },
          "metadata": {}
        },
        {
          "output_type": "display_data",
          "data": {
            "text/plain": "<IPython.core.display.HTML object>",
            "text/html": "Syncing run <strong><a href='https://wandb.ai/dlassignment/DL_assignment_2_B/runs/30nibopc' target=\"_blank\">dax-picard-3</a></strong> to <a href='https://wandb.ai/dlassignment/DL_assignment_2_B' target=\"_blank\">Weights & Biases</a> (<a href='https://wandb.me/run' target=\"_blank\">docs</a>)<br/>"
          },
          "metadata": {}
        },
        {
          "output_type": "display_data",
          "data": {
            "text/plain": "<IPython.core.display.HTML object>",
            "text/html": " View project at <a href='https://wandb.ai/dlassignment/DL_assignment_2_B' target=\"_blank\">https://wandb.ai/dlassignment/DL_assignment_2_B</a>"
          },
          "metadata": {}
        },
        {
          "output_type": "display_data",
          "data": {
            "text/plain": "<IPython.core.display.HTML object>",
            "text/html": " View run at <a href='https://wandb.ai/dlassignment/DL_assignment_2_B/runs/30nibopc' target=\"_blank\">https://wandb.ai/dlassignment/DL_assignment_2_B/runs/30nibopc</a>"
          },
          "metadata": {}
        },
        {
          "execution_count": 2,
          "output_type": "execute_result",
          "data": {
            "text/html": "<button onClick=\"this.nextSibling.style.display='block';this.style.display='none';\">Display W&B run</button><iframe src='https://wandb.ai/dlassignment/DL_assignment_2_B/runs/30nibopc?jupyter=true' style='border:none;width:100%;height:420px;display:none;'></iframe>",
            "text/plain": "<wandb.sdk.wandb_run.Run at 0x7f6e3641e110>"
          },
          "metadata": {}
        }
      ]
    },
    {
      "cell_type": "code",
      "source": [
        "!wget https://storage.googleapis.com/wandb_datasets/nature_12K.zip -O nature_12K.zip\n",
        "!unzip -q nature_12K.zip"
      ],
      "metadata": {
        "execution": {
          "iopub.status.busy": "2024-04-06T08:49:11.882561Z",
          "iopub.execute_input": "2024-04-06T08:49:11.883477Z",
          "iopub.status.idle": "2024-04-06T08:49:55.078700Z",
          "shell.execute_reply.started": "2024-04-06T08:49:11.883441Z",
          "shell.execute_reply": "2024-04-06T08:49:55.077391Z"
        },
        "trusted": true,
        "id": "npHkrh96ZH6d",
        "outputId": "4f65b16d-a1b1-4fef-e2c3-ddd9daa4adc5"
      },
      "execution_count": null,
      "outputs": [
        {
          "name": "stdout",
          "text": "--2024-04-06 08:49:12--  https://storage.googleapis.com/wandb_datasets/nature_12K.zip\nResolving storage.googleapis.com (storage.googleapis.com)... 142.250.99.207, 142.250.107.207, 74.125.20.207, ...\nConnecting to storage.googleapis.com (storage.googleapis.com)|142.250.99.207|:443... connected.\nHTTP request sent, awaiting response... 200 OK\nLength: 3816687935 (3.6G) [application/zip]\nSaving to: 'nature_12K.zip'\n\nnature_12K.zip      100%[===================>]   3.55G   250MB/s    in 14s     \n\n2024-04-06 08:49:27 (253 MB/s) - 'nature_12K.zip' saved [3816687935/3816687935]\n\n",
          "output_type": "stream"
        }
      ]
    },
    {
      "cell_type": "code",
      "source": [
        "!rm nature_12K.zip"
      ],
      "metadata": {
        "execution": {
          "iopub.status.busy": "2024-04-06T08:49:57.628987Z",
          "iopub.execute_input": "2024-04-06T08:49:57.629386Z",
          "iopub.status.idle": "2024-04-06T08:49:58.605646Z",
          "shell.execute_reply.started": "2024-04-06T08:49:57.629347Z",
          "shell.execute_reply": "2024-04-06T08:49:58.604520Z"
        },
        "trusted": true,
        "id": "l5_qG9oTZH6d",
        "outputId": "8ad151d1-1e86-4c39-e8e1-b4b8bef66a7e"
      },
      "execution_count": null,
      "outputs": [
        {
          "name": "stdout",
          "text": "rm: cannot remove 'nature_12K.zip': No such file or directory\n",
          "output_type": "stream"
        }
      ]
    },
    {
      "cell_type": "code",
      "source": [
        "transform = transforms.Compose([\n",
        "    transforms.Resize((224,224)),\n",
        "    transforms.ToTensor(),\n",
        "    transforms.Normalize((0.5,),(0.5,))])\n",
        "\n",
        "train_dataset = datasets.ImageFolder(root='inaturalist_12K/train',transform=transform)\n",
        "train_dataset,val_dataset = torch.utils.data.random_split(train_dataset,[8000,1999])\n",
        "\n",
        "transform2 = transforms.Compose([\n",
        "    transforms.RandomHorizontalFlip(),  # Randomly flip the image horizontally\n",
        "    transforms.RandomRotation(10),      # Randomly rotate the image by a maximum of 10 degrees\n",
        "    transforms.ColorJitter(brightness=0.2, contrast=0.2, saturation=0.2, hue=0.1),  # Adjust brightness, contrast, saturation, and hue\n",
        "    transforms.RandomResizedCrop(224),  # Randomly crop and resize the image to 224x224\n",
        "    transforms.ToTensor(),              # Convert the image to a PyTorch tensor\n",
        "    transforms.Normalize((0.5,),(0.5,))  # Normalize the image\n",
        "])\n",
        "\n",
        "train_dataset2 = datasets.ImageFolder(root='inaturalist_12K/train',transform=transform2)\n",
        "train_dataset_aug,val_dataset_aug = torch.utils.data.random_split(train_dataset2,[8000,1999])\n",
        "\n",
        "def dataFun(aug,batchSize):\n",
        "    if(aug == 'no'):\n",
        "        train_loader = torch.utils.data.DataLoader(train_dataset,batch_size =batchSize,shuffle = True,num_workers=2,pin_memory=True)\n",
        "        val_loader = torch.utils.data.DataLoader(val_dataset,batch_size =batchSize,shuffle = True,num_workers=2,pin_memory=True)\n",
        "        return train_loader,val_loader\n",
        "    else:\n",
        "        train_loader_aug = torch.utils.data.DataLoader(train_dataset_aug,batch_size =batchSize,shuffle = True,num_workers=4,pin_memory=True)\n",
        "        val_loader_aug = torch.utils.data.DataLoader(val_dataset_aug,batch_size =batchSize,shuffle = True,num_workers=4,pin_memory=True)\n",
        "        return train_loader_aug,val_loader_aug"
      ],
      "metadata": {
        "execution": {
          "iopub.status.busy": "2024-04-06T08:51:02.113902Z",
          "iopub.execute_input": "2024-04-06T08:51:02.114834Z",
          "iopub.status.idle": "2024-04-06T08:51:02.246050Z",
          "shell.execute_reply.started": "2024-04-06T08:51:02.114798Z",
          "shell.execute_reply": "2024-04-06T08:51:02.244845Z"
        },
        "trusted": true,
        "id": "gLVEBY1YZH6e"
      },
      "execution_count": null,
      "outputs": []
    },
    {
      "cell_type": "code",
      "source": [
        "def RESNET50(NUM_OF_CLASSES):\n",
        "    model = models.resnet50(pretrained=True)\n",
        "    num_ftrs = model.fc.in_features\n",
        "    model.fc = torch.nn.Linear(num_ftrs, NUM_OF_CLASSES)\n",
        "\n",
        "    for param in model.parameters():\n",
        "        param.requires_grad = False\n",
        "\n",
        "    for param in model.fc.parameters():\n",
        "        param.requires_grad = True\n",
        "\n",
        "    return model"
      ],
      "metadata": {
        "execution": {
          "iopub.status.busy": "2024-04-06T08:51:13.512632Z",
          "iopub.execute_input": "2024-04-06T08:51:13.513278Z",
          "iopub.status.idle": "2024-04-06T08:51:13.519705Z",
          "shell.execute_reply.started": "2024-04-06T08:51:13.513246Z",
          "shell.execute_reply": "2024-04-06T08:51:13.518680Z"
        },
        "trusted": true,
        "id": "Vz2kk6sRZH6e"
      },
      "execution_count": null,
      "outputs": []
    },
    {
      "cell_type": "code",
      "source": [
        "def RESNET50_1(k,NUM_OF_CLASSES):\n",
        "    model = models.resnet50(pretrained=True)\n",
        "\n",
        "    params = list(model.parameters())\n",
        "    for param in params[:k]:\n",
        "        param.requires_grad = False\n",
        "\n",
        "    num_ftrs = model.fc.in_features\n",
        "\n",
        "    model.fc = torch.nn.Linear(num_ftrs, NUM_OF_CLASSES)\n",
        "\n",
        "    return model"
      ],
      "metadata": {
        "execution": {
          "iopub.status.busy": "2024-04-06T09:06:21.988046Z",
          "iopub.execute_input": "2024-04-06T09:06:21.988765Z",
          "iopub.status.idle": "2024-04-06T09:06:21.995936Z",
          "shell.execute_reply.started": "2024-04-06T09:06:21.988734Z",
          "shell.execute_reply": "2024-04-06T09:06:21.994905Z"
        },
        "trusted": true,
        "id": "OyC9aA6OZH6e"
      },
      "execution_count": null,
      "outputs": []
    },
    {
      "cell_type": "code",
      "source": [
        "device = torch.device(\"cuda\" if torch.cuda.is_available() else \"cpu\")"
      ],
      "metadata": {
        "execution": {
          "iopub.status.busy": "2024-04-06T08:52:00.732371Z",
          "iopub.execute_input": "2024-04-06T08:52:00.732770Z",
          "iopub.status.idle": "2024-04-06T08:52:00.738760Z",
          "shell.execute_reply.started": "2024-04-06T08:52:00.732739Z",
          "shell.execute_reply": "2024-04-06T08:52:00.737683Z"
        },
        "trusted": true,
        "id": "gOZw0UjOZH6e"
      },
      "execution_count": null,
      "outputs": []
    },
    {
      "cell_type": "code",
      "source": [
        "def train_fun(batchSize,num_epochs,learning_rate,aug,strategy,NUM_OF_CLASSES):\n",
        "    aug = 'no'\n",
        "\n",
        "    train_loader,val_loader = dataFun(aug,batchSize)\n",
        "    if(strategy == 0):\n",
        "        model = RESNET50(NUM_OF_CLASSES).to(device)\n",
        "    else:\n",
        "        model = RESNET50_1(10,NUM_OF_CLASSES).to(device)\n",
        "\n",
        "\n",
        "    optimizer = optim.Adam(model.parameters(), lr=learning_rate)\n",
        "\n",
        "    criterion = nn.CrossEntropyLoss()\n",
        "\n",
        "    for epoch in range(num_epochs):\n",
        "        for batch_idx, (data, targets) in enumerate(tqdm(train_loader)):\n",
        "            # Get data to cuda if possible\n",
        "            data = data.to(device=device)\n",
        "            targets = targets.to(device=device)\n",
        "            # forward\n",
        "            scores = model(data)\n",
        "            loss = criterion(scores,targets)\n",
        "            # backward\n",
        "            optimizer.zero_grad()\n",
        "            loss.backward()\n",
        "            # gradient descent or adam step\n",
        "            optimizer.step() #updates the parameters\n",
        "        train_accuracy,train_loss = check_accuracy(train_loader, model,criterion,batchSize)\n",
        "        validation_accuracy,validation_loss = check_accuracy(val_loader, model,criterion,batchSize)\n",
        "        print(f\"train_accuracy:{train_accuracy:.4f},train_loss:{train_loss:.4f}\")\n",
        "        print(f\"validation_accuracy:{validation_accuracy:.4f},validation_loss:{validation_loss:.4f}\")\n",
        "        wandb.log({'train_accuracy':train_accuracy})\n",
        "        wandb.log({'train_loss':train_loss})\n",
        "        wandb.log({'val_accuracy':validation_accuracy})\n",
        "        wandb.log({'val_loss':validation_loss})\n",
        "\n",
        "    #wandb.log({'train_accuracy':train_accuracy})\n"
      ],
      "metadata": {
        "execution": {
          "iopub.status.busy": "2024-04-06T09:17:10.639804Z",
          "iopub.execute_input": "2024-04-06T09:17:10.640618Z",
          "iopub.status.idle": "2024-04-06T09:17:10.652405Z",
          "shell.execute_reply.started": "2024-04-06T09:17:10.640582Z",
          "shell.execute_reply": "2024-04-06T09:17:10.651242Z"
        },
        "trusted": true,
        "id": "YcesPaoNZH6f"
      },
      "execution_count": null,
      "outputs": []
    },
    {
      "cell_type": "code",
      "source": [
        "def check_accuracy(loader,model,criterion,batchSize):\n",
        "    num_correct = 0\n",
        "    num_loss = 0\n",
        "    total = 0\n",
        "    num_samples = 0\n",
        "    total_loss = 0.0\n",
        "    model.eval()\n",
        "    with torch.no_grad():\n",
        "        for x, y in loader:\n",
        "            x = x.to(device=device)\n",
        "            y = y.to(device=device)\n",
        "            scores = model(x)\n",
        "            loss = criterion(scores, y)\n",
        "            total_loss += loss.item()*batchSize\n",
        "            _, predictions = scores.max(1)\n",
        "            num_correct += (predictions == y).sum().item()\n",
        "            num_samples += predictions.size(0)\n",
        "    model.train()\n",
        "    return (num_correct / num_samples)*100 , total_loss"
      ],
      "metadata": {
        "execution": {
          "iopub.status.busy": "2024-04-06T08:52:29.263470Z",
          "iopub.execute_input": "2024-04-06T08:52:29.264361Z",
          "iopub.status.idle": "2024-04-06T08:52:29.272805Z",
          "shell.execute_reply.started": "2024-04-06T08:52:29.264327Z",
          "shell.execute_reply": "2024-04-06T08:52:29.271610Z"
        },
        "trusted": true,
        "id": "dtEJDI9yZH6f"
      },
      "execution_count": null,
      "outputs": []
    },
    {
      "cell_type": "code",
      "source": [
        "batchSize = 32\n",
        "num_epochs = 30\n",
        "learning_rate = 1e-4\n",
        "aug = 'no'\n",
        "NUM_OF_CLASSES = 10\n",
        "strategy = 1\n",
        "train_fun(batchSize,num_epochs,learning_rate,aug,strategy,NUM_OF_CLASSES)"
      ],
      "metadata": {
        "execution": {
          "iopub.status.busy": "2024-04-06T09:08:40.850029Z",
          "iopub.execute_input": "2024-04-06T09:08:40.850661Z",
          "iopub.status.idle": "2024-04-06T09:11:22.237882Z",
          "shell.execute_reply.started": "2024-04-06T09:08:40.850629Z",
          "shell.execute_reply": "2024-04-06T09:11:22.236447Z"
        },
        "trusted": true,
        "id": "D_zq3R3RZH6f",
        "outputId": "f36c1a12-9459-4850-a8d7-3c3ddfef3f74"
      },
      "execution_count": null,
      "outputs": [
        {
          "name": "stderr",
          "text": "100%|██████████| 250/250 [01:12<00:00,  3.45it/s]\n",
          "output_type": "stream"
        },
        {
          "name": "stdout",
          "text": "train_accuracy:89.2500,train_loss:2776.6125\nvalidation_accuracy:75.3877,validation_loss:1508.3701\n",
          "output_type": "stream"
        },
        {
          "name": "stderr",
          "text": " 37%|███▋      | 93/250 [00:27<00:46,  3.41it/s]\n",
          "output_type": "stream"
        },
        {
          "traceback": [
            "\u001b[0;31m---------------------------------------------------------------------------\u001b[0m",
            "\u001b[0;31mKeyboardInterrupt\u001b[0m                         Traceback (most recent call last)",
            "Cell \u001b[0;32mIn[23], line 7\u001b[0m\n\u001b[1;32m      5\u001b[0m NUM_OF_CLASSES \u001b[38;5;241m=\u001b[39m \u001b[38;5;241m10\u001b[39m\n\u001b[1;32m      6\u001b[0m strategy \u001b[38;5;241m=\u001b[39m \u001b[38;5;241m1\u001b[39m\n\u001b[0;32m----> 7\u001b[0m \u001b[43mtrain_fun\u001b[49m\u001b[43m(\u001b[49m\u001b[43mbatchSize\u001b[49m\u001b[43m,\u001b[49m\u001b[43mnum_epochs\u001b[49m\u001b[43m,\u001b[49m\u001b[43mlearning_rate\u001b[49m\u001b[43m,\u001b[49m\u001b[43maug\u001b[49m\u001b[43m,\u001b[49m\u001b[43mstrategy\u001b[49m\u001b[43m,\u001b[49m\u001b[43mNUM_OF_CLASSES\u001b[49m\u001b[43m)\u001b[49m\n",
            "Cell \u001b[0;32mIn[22], line 18\u001b[0m, in \u001b[0;36mtrain_fun\u001b[0;34m(batchSize, num_epochs, learning_rate, aug, strategy, NUM_OF_CLASSES)\u001b[0m\n\u001b[1;32m     15\u001b[0m \u001b[38;5;28;01mfor\u001b[39;00m epoch \u001b[38;5;129;01min\u001b[39;00m \u001b[38;5;28mrange\u001b[39m(num_epochs):\n\u001b[1;32m     16\u001b[0m     \u001b[38;5;28;01mfor\u001b[39;00m batch_idx, (data, targets) \u001b[38;5;129;01min\u001b[39;00m \u001b[38;5;28menumerate\u001b[39m(tqdm(train_loader)):\n\u001b[1;32m     17\u001b[0m         \u001b[38;5;66;03m# Get data to cuda if possible\u001b[39;00m\n\u001b[0;32m---> 18\u001b[0m         data \u001b[38;5;241m=\u001b[39m \u001b[43mdata\u001b[49m\u001b[38;5;241;43m.\u001b[39;49m\u001b[43mto\u001b[49m\u001b[43m(\u001b[49m\u001b[43mdevice\u001b[49m\u001b[38;5;241;43m=\u001b[39;49m\u001b[43mdevice\u001b[49m\u001b[43m)\u001b[49m\n\u001b[1;32m     19\u001b[0m         targets \u001b[38;5;241m=\u001b[39m targets\u001b[38;5;241m.\u001b[39mto(device\u001b[38;5;241m=\u001b[39mdevice)\n\u001b[1;32m     20\u001b[0m         \u001b[38;5;66;03m# forward\u001b[39;00m\n",
            "\u001b[0;31mKeyboardInterrupt\u001b[0m: "
          ],
          "ename": "KeyboardInterrupt",
          "evalue": "",
          "output_type": "error"
        }
      ]
    },
    {
      "cell_type": "code",
      "source": [
        "def main_fun():\n",
        "    wandb.init(project ='DL_assignment_2_B')\n",
        "    params = wandb.config\n",
        "    with wandb.init(project = 'DL_assignment_2_B', name='strategy'+str(params.strategy)+'batchSize'+str(params.batchSize)+'num_epochs'+str(params.num_epochs)+'learning_rate'+str(params.learning_rate)) as run:\n",
        "        train_fun(params.batchSize,params.num_epochs,params.learning_rate,params.aug,params.strategy,10)\n",
        "\n",
        "sweep_params = {\n",
        "    'method' : 'bayes',\n",
        "    'name'   : 'Shriram',\n",
        "    'metric' : {\n",
        "        'goal' : 'maximize',\n",
        "        'name' : 'val_accuracy',\n",
        "    },\n",
        "    'parameters' : {\n",
        "        'batchSize':{'values':[32,64]},\n",
        "        'num_epochs':{'values':[10,20]},\n",
        "        'learning_rate':{'values' : [1e-3,1e-4]},\n",
        "        'aug' :{'values':['no','yes']},\n",
        "        'strategy' :{'values' : [0]}\n",
        "    }\n",
        "}\n",
        "sweepId = wandb.sweep(sweep_params,project = 'DL_assignment_2_B')\n",
        "wandb.agent(sweepId,function =main_fun,count = 4)\n",
        "wandb.finish()"
      ],
      "metadata": {
        "execution": {
          "iopub.status.busy": "2024-04-06T12:02:52.012513Z",
          "iopub.execute_input": "2024-04-06T12:02:52.012900Z"
        },
        "trusted": true,
        "colab": {
          "referenced_widgets": [
            ""
          ]
        },
        "id": "UboKc7F9ZH6f",
        "outputId": "d34020fa-f8b5-4599-c00f-93d0a50b4af4"
      },
      "execution_count": null,
      "outputs": [
        {
          "name": "stdout",
          "text": "Error in callback <bound method _WandbInit._resume_backend of <wandb.sdk.wandb_init._WandbInit object at 0x7f6f6392e200>> (for pre_run_cell), with arguments args (<ExecutionInfo object at 7f6e24be47c0, raw_cell=\"def main_fun():\n    wandb.init(project ='DL_assign..\" store_history=True silent=False shell_futures=True cell_id=572732ff-441e-481c-900b-1907bc34a2fd>,),kwargs {}:\n",
          "output_type": "stream"
        },
        {
          "traceback": [
            "\u001b[0;31m---------------------------------------------------------------------------\u001b[0m",
            "\u001b[0;31mBrokenPipeError\u001b[0m                           Traceback (most recent call last)",
            "File \u001b[0;32m/opt/conda/lib/python3.10/site-packages/wandb/sdk/wandb_init.py:443\u001b[0m, in \u001b[0;36m_WandbInit._resume_backend\u001b[0;34m(self, *args, **kwargs)\u001b[0m\n\u001b[1;32m    441\u001b[0m \u001b[38;5;28;01mif\u001b[39;00m \u001b[38;5;28mself\u001b[39m\u001b[38;5;241m.\u001b[39mbackend \u001b[38;5;129;01mis\u001b[39;00m \u001b[38;5;129;01mnot\u001b[39;00m \u001b[38;5;28;01mNone\u001b[39;00m \u001b[38;5;129;01mand\u001b[39;00m \u001b[38;5;28mself\u001b[39m\u001b[38;5;241m.\u001b[39mbackend\u001b[38;5;241m.\u001b[39minterface \u001b[38;5;129;01mis\u001b[39;00m \u001b[38;5;129;01mnot\u001b[39;00m \u001b[38;5;28;01mNone\u001b[39;00m:\n\u001b[1;32m    442\u001b[0m     logger\u001b[38;5;241m.\u001b[39minfo(\u001b[38;5;124m\"\u001b[39m\u001b[38;5;124mresuming backend\u001b[39m\u001b[38;5;124m\"\u001b[39m)  \u001b[38;5;66;03m# type: ignore\u001b[39;00m\n\u001b[0;32m--> 443\u001b[0m     \u001b[38;5;28;43mself\u001b[39;49m\u001b[38;5;241;43m.\u001b[39;49m\u001b[43mbackend\u001b[49m\u001b[38;5;241;43m.\u001b[39;49m\u001b[43minterface\u001b[49m\u001b[38;5;241;43m.\u001b[39;49m\u001b[43mpublish_resume\u001b[49m\u001b[43m(\u001b[49m\u001b[43m)\u001b[49m\n",
            "File \u001b[0;32m/opt/conda/lib/python3.10/site-packages/wandb/sdk/interface/interface.py:667\u001b[0m, in \u001b[0;36mInterfaceBase.publish_resume\u001b[0;34m(self)\u001b[0m\n\u001b[1;32m    665\u001b[0m \u001b[38;5;28;01mdef\u001b[39;00m \u001b[38;5;21mpublish_resume\u001b[39m(\u001b[38;5;28mself\u001b[39m) \u001b[38;5;241m-\u001b[39m\u001b[38;5;241m>\u001b[39m \u001b[38;5;28;01mNone\u001b[39;00m:\n\u001b[1;32m    666\u001b[0m     resume \u001b[38;5;241m=\u001b[39m pb\u001b[38;5;241m.\u001b[39mResumeRequest()\n\u001b[0;32m--> 667\u001b[0m     \u001b[38;5;28;43mself\u001b[39;49m\u001b[38;5;241;43m.\u001b[39;49m\u001b[43m_publish_resume\u001b[49m\u001b[43m(\u001b[49m\u001b[43mresume\u001b[49m\u001b[43m)\u001b[49m\n",
            "File \u001b[0;32m/opt/conda/lib/python3.10/site-packages/wandb/sdk/interface/interface_shared.py:359\u001b[0m, in \u001b[0;36mInterfaceShared._publish_resume\u001b[0;34m(self, resume)\u001b[0m\n\u001b[1;32m    357\u001b[0m \u001b[38;5;28;01mdef\u001b[39;00m \u001b[38;5;21m_publish_resume\u001b[39m(\u001b[38;5;28mself\u001b[39m, resume: pb\u001b[38;5;241m.\u001b[39mResumeRequest) \u001b[38;5;241m-\u001b[39m\u001b[38;5;241m>\u001b[39m \u001b[38;5;28;01mNone\u001b[39;00m:\n\u001b[1;32m    358\u001b[0m     rec \u001b[38;5;241m=\u001b[39m \u001b[38;5;28mself\u001b[39m\u001b[38;5;241m.\u001b[39m_make_request(resume\u001b[38;5;241m=\u001b[39mresume)\n\u001b[0;32m--> 359\u001b[0m     \u001b[38;5;28;43mself\u001b[39;49m\u001b[38;5;241;43m.\u001b[39;49m\u001b[43m_publish\u001b[49m\u001b[43m(\u001b[49m\u001b[43mrec\u001b[49m\u001b[43m)\u001b[49m\n",
            "File \u001b[0;32m/opt/conda/lib/python3.10/site-packages/wandb/sdk/interface/interface_sock.py:51\u001b[0m, in \u001b[0;36mInterfaceSock._publish\u001b[0;34m(self, record, local)\u001b[0m\n\u001b[1;32m     49\u001b[0m \u001b[38;5;28;01mdef\u001b[39;00m \u001b[38;5;21m_publish\u001b[39m(\u001b[38;5;28mself\u001b[39m, record: \u001b[38;5;124m\"\u001b[39m\u001b[38;5;124mpb.Record\u001b[39m\u001b[38;5;124m\"\u001b[39m, local: Optional[\u001b[38;5;28mbool\u001b[39m] \u001b[38;5;241m=\u001b[39m \u001b[38;5;28;01mNone\u001b[39;00m) \u001b[38;5;241m-\u001b[39m\u001b[38;5;241m>\u001b[39m \u001b[38;5;28;01mNone\u001b[39;00m:\n\u001b[1;32m     50\u001b[0m     \u001b[38;5;28mself\u001b[39m\u001b[38;5;241m.\u001b[39m_assign(record)\n\u001b[0;32m---> 51\u001b[0m     \u001b[38;5;28;43mself\u001b[39;49m\u001b[38;5;241;43m.\u001b[39;49m\u001b[43m_sock_client\u001b[49m\u001b[38;5;241;43m.\u001b[39;49m\u001b[43msend_record_publish\u001b[49m\u001b[43m(\u001b[49m\u001b[43mrecord\u001b[49m\u001b[43m)\u001b[49m\n",
            "File \u001b[0;32m/opt/conda/lib/python3.10/site-packages/wandb/sdk/lib/sock_client.py:221\u001b[0m, in \u001b[0;36mSockClient.send_record_publish\u001b[0;34m(self, record)\u001b[0m\n\u001b[1;32m    219\u001b[0m server_req \u001b[38;5;241m=\u001b[39m spb\u001b[38;5;241m.\u001b[39mServerRequest()\n\u001b[1;32m    220\u001b[0m server_req\u001b[38;5;241m.\u001b[39mrecord_publish\u001b[38;5;241m.\u001b[39mCopyFrom(record)\n\u001b[0;32m--> 221\u001b[0m \u001b[38;5;28;43mself\u001b[39;49m\u001b[38;5;241;43m.\u001b[39;49m\u001b[43msend_server_request\u001b[49m\u001b[43m(\u001b[49m\u001b[43mserver_req\u001b[49m\u001b[43m)\u001b[49m\n",
            "File \u001b[0;32m/opt/conda/lib/python3.10/site-packages/wandb/sdk/lib/sock_client.py:155\u001b[0m, in \u001b[0;36mSockClient.send_server_request\u001b[0;34m(self, msg)\u001b[0m\n\u001b[1;32m    154\u001b[0m \u001b[38;5;28;01mdef\u001b[39;00m \u001b[38;5;21msend_server_request\u001b[39m(\u001b[38;5;28mself\u001b[39m, msg: Any) \u001b[38;5;241m-\u001b[39m\u001b[38;5;241m>\u001b[39m \u001b[38;5;28;01mNone\u001b[39;00m:\n\u001b[0;32m--> 155\u001b[0m     \u001b[38;5;28;43mself\u001b[39;49m\u001b[38;5;241;43m.\u001b[39;49m\u001b[43m_send_message\u001b[49m\u001b[43m(\u001b[49m\u001b[43mmsg\u001b[49m\u001b[43m)\u001b[49m\n",
            "File \u001b[0;32m/opt/conda/lib/python3.10/site-packages/wandb/sdk/lib/sock_client.py:152\u001b[0m, in \u001b[0;36mSockClient._send_message\u001b[0;34m(self, msg)\u001b[0m\n\u001b[1;32m    150\u001b[0m header \u001b[38;5;241m=\u001b[39m struct\u001b[38;5;241m.\u001b[39mpack(\u001b[38;5;124m\"\u001b[39m\u001b[38;5;124m<BI\u001b[39m\u001b[38;5;124m\"\u001b[39m, \u001b[38;5;28mord\u001b[39m(\u001b[38;5;124m\"\u001b[39m\u001b[38;5;124mW\u001b[39m\u001b[38;5;124m\"\u001b[39m), raw_size)\n\u001b[1;32m    151\u001b[0m \u001b[38;5;28;01mwith\u001b[39;00m \u001b[38;5;28mself\u001b[39m\u001b[38;5;241m.\u001b[39m_lock:\n\u001b[0;32m--> 152\u001b[0m     \u001b[38;5;28;43mself\u001b[39;49m\u001b[38;5;241;43m.\u001b[39;49m\u001b[43m_sendall_with_error_handle\u001b[49m\u001b[43m(\u001b[49m\u001b[43mheader\u001b[49m\u001b[43m \u001b[49m\u001b[38;5;241;43m+\u001b[39;49m\u001b[43m \u001b[49m\u001b[43mdata\u001b[49m\u001b[43m)\u001b[49m\n",
            "File \u001b[0;32m/opt/conda/lib/python3.10/site-packages/wandb/sdk/lib/sock_client.py:130\u001b[0m, in \u001b[0;36mSockClient._sendall_with_error_handle\u001b[0;34m(self, data)\u001b[0m\n\u001b[1;32m    128\u001b[0m start_time \u001b[38;5;241m=\u001b[39m time\u001b[38;5;241m.\u001b[39mmonotonic()\n\u001b[1;32m    129\u001b[0m \u001b[38;5;28;01mtry\u001b[39;00m:\n\u001b[0;32m--> 130\u001b[0m     sent \u001b[38;5;241m=\u001b[39m \u001b[38;5;28;43mself\u001b[39;49m\u001b[38;5;241;43m.\u001b[39;49m\u001b[43m_sock\u001b[49m\u001b[38;5;241;43m.\u001b[39;49m\u001b[43msend\u001b[49m\u001b[43m(\u001b[49m\u001b[43mdata\u001b[49m\u001b[43m)\u001b[49m\n\u001b[1;32m    131\u001b[0m     \u001b[38;5;66;03m# sent equal to 0 indicates a closed socket\u001b[39;00m\n\u001b[1;32m    132\u001b[0m     \u001b[38;5;28;01mif\u001b[39;00m sent \u001b[38;5;241m==\u001b[39m \u001b[38;5;241m0\u001b[39m:\n",
            "\u001b[0;31mBrokenPipeError\u001b[0m: [Errno 32] Broken pipe"
          ],
          "ename": "BrokenPipeError",
          "evalue": "[Errno 32] Broken pipe",
          "output_type": "error"
        },
        {
          "name": "stdout",
          "text": "Create sweep with ID: 1evbqxjz\nSweep URL: https://wandb.ai/dlassignment/DL_assignment_2_B/sweeps/1evbqxjz\n",
          "output_type": "stream"
        },
        {
          "name": "stderr",
          "text": "\u001b[34m\u001b[1mwandb\u001b[0m: Agent Starting Run: ycmog8ja with config:\n\u001b[34m\u001b[1mwandb\u001b[0m: \taug: no\n\u001b[34m\u001b[1mwandb\u001b[0m: \tbatchSize: 64\n\u001b[34m\u001b[1mwandb\u001b[0m: \tlearning_rate: 0.001\n\u001b[34m\u001b[1mwandb\u001b[0m: \tnum_epochs: 10\n\u001b[34m\u001b[1mwandb\u001b[0m: \tstrategy: 0\n\u001b[34m\u001b[1mwandb\u001b[0m: \u001b[33mWARNING\u001b[0m Ignored wandb.init() arg project when running a sweep.\n",
          "output_type": "stream"
        },
        {
          "output_type": "display_data",
          "data": {
            "text/plain": "<IPython.core.display.HTML object>",
            "text/html": "wandb version 0.16.6 is available!  To upgrade, please run:\n $ pip install wandb --upgrade"
          },
          "metadata": {}
        },
        {
          "output_type": "display_data",
          "data": {
            "text/plain": "<IPython.core.display.HTML object>",
            "text/html": "Tracking run with wandb version 0.16.4"
          },
          "metadata": {}
        },
        {
          "output_type": "display_data",
          "data": {
            "text/plain": "<IPython.core.display.HTML object>",
            "text/html": "Run data is saved locally in <code>/kaggle/working/wandb/run-20240406_120254-ycmog8ja</code>"
          },
          "metadata": {}
        },
        {
          "output_type": "display_data",
          "data": {
            "text/plain": "<IPython.core.display.HTML object>",
            "text/html": "Syncing run <strong><a href='https://wandb.ai/dlassignment/DL_assignment_2_B/runs/ycmog8ja' target=\"_blank\">crimson-sweep-1</a></strong> to <a href='https://wandb.ai/dlassignment/DL_assignment_2_B' target=\"_blank\">Weights & Biases</a> (<a href='https://wandb.me/run' target=\"_blank\">docs</a>)<br/>Sweep page: <a href='https://wandb.ai/dlassignment/DL_assignment_2_B/sweeps/1evbqxjz' target=\"_blank\">https://wandb.ai/dlassignment/DL_assignment_2_B/sweeps/1evbqxjz</a>"
          },
          "metadata": {}
        },
        {
          "output_type": "display_data",
          "data": {
            "text/plain": "<IPython.core.display.HTML object>",
            "text/html": " View project at <a href='https://wandb.ai/dlassignment/DL_assignment_2_B' target=\"_blank\">https://wandb.ai/dlassignment/DL_assignment_2_B</a>"
          },
          "metadata": {}
        },
        {
          "output_type": "display_data",
          "data": {
            "text/plain": "<IPython.core.display.HTML object>",
            "text/html": " View sweep at <a href='https://wandb.ai/dlassignment/DL_assignment_2_B/sweeps/1evbqxjz' target=\"_blank\">https://wandb.ai/dlassignment/DL_assignment_2_B/sweeps/1evbqxjz</a>"
          },
          "metadata": {}
        },
        {
          "output_type": "display_data",
          "data": {
            "text/plain": "<IPython.core.display.HTML object>",
            "text/html": " View run at <a href='https://wandb.ai/dlassignment/DL_assignment_2_B/runs/ycmog8ja' target=\"_blank\">https://wandb.ai/dlassignment/DL_assignment_2_B/runs/ycmog8ja</a>"
          },
          "metadata": {}
        },
        {
          "name": "stderr",
          "text": "\u001b[34m\u001b[1mwandb\u001b[0m: \u001b[33mWARNING\u001b[0m Ignored wandb.init() arg project when running a sweep.\n",
          "output_type": "stream"
        },
        {
          "output_type": "display_data",
          "data": {
            "text/plain": "<IPython.core.display.HTML object>",
            "text/html": "Finishing last run (ID:ycmog8ja) before initializing another..."
          },
          "metadata": {}
        },
        {
          "output_type": "display_data",
          "data": {
            "text/plain": "VBox(children=(Label(value='0.000 MB of 0.000 MB uploaded\\r'), FloatProgress(value=1.0, max=1.0)))",
            "application/vnd.jupyter.widget-view+json": {
              "version_major": 2,
              "version_minor": 0,
              "model_id": ""
            }
          },
          "metadata": {}
        },
        {
          "output_type": "display_data",
          "data": {
            "text/plain": "<IPython.core.display.HTML object>",
            "text/html": " View run <strong style=\"color:#cdcd00\">crimson-sweep-1</strong> at: <a href='https://wandb.ai/dlassignment/DL_assignment_2_B/runs/ycmog8ja' target=\"_blank\">https://wandb.ai/dlassignment/DL_assignment_2_B/runs/ycmog8ja</a><br/>Synced 6 W&B file(s), 0 media file(s), 0 artifact file(s) and 0 other file(s)"
          },
          "metadata": {}
        },
        {
          "output_type": "display_data",
          "data": {
            "text/plain": "<IPython.core.display.HTML object>",
            "text/html": "Find logs at: <code>./wandb/run-20240406_120254-ycmog8ja/logs</code>"
          },
          "metadata": {}
        },
        {
          "output_type": "display_data",
          "data": {
            "text/plain": "<IPython.core.display.HTML object>",
            "text/html": "Successfully finished last run (ID:ycmog8ja). Initializing new run:<br/>"
          },
          "metadata": {}
        },
        {
          "output_type": "display_data",
          "data": {
            "text/plain": "<IPython.core.display.HTML object>",
            "text/html": "wandb version 0.16.6 is available!  To upgrade, please run:\n $ pip install wandb --upgrade"
          },
          "metadata": {}
        },
        {
          "output_type": "display_data",
          "data": {
            "text/plain": "<IPython.core.display.HTML object>",
            "text/html": "Tracking run with wandb version 0.16.4"
          },
          "metadata": {}
        },
        {
          "output_type": "display_data",
          "data": {
            "text/plain": "<IPython.core.display.HTML object>",
            "text/html": "Run data is saved locally in <code>/kaggle/working/wandb/run-20240406_120326-ycmog8ja</code>"
          },
          "metadata": {}
        },
        {
          "output_type": "display_data",
          "data": {
            "text/plain": "<IPython.core.display.HTML object>",
            "text/html": "Syncing run <strong><a href='https://wandb.ai/dlassignment/DL_assignment_2_B/runs/ycmog8ja' target=\"_blank\">strategy0batchSize64num_epochs10learning_rate0.001</a></strong> to <a href='https://wandb.ai/dlassignment/DL_assignment_2_B' target=\"_blank\">Weights & Biases</a> (<a href='https://wandb.me/run' target=\"_blank\">docs</a>)<br/>Sweep page: <a href='https://wandb.ai/dlassignment/DL_assignment_2_B/sweeps/1evbqxjz' target=\"_blank\">https://wandb.ai/dlassignment/DL_assignment_2_B/sweeps/1evbqxjz</a>"
          },
          "metadata": {}
        },
        {
          "output_type": "display_data",
          "data": {
            "text/plain": "<IPython.core.display.HTML object>",
            "text/html": " View project at <a href='https://wandb.ai/dlassignment/DL_assignment_2_B' target=\"_blank\">https://wandb.ai/dlassignment/DL_assignment_2_B</a>"
          },
          "metadata": {}
        },
        {
          "output_type": "display_data",
          "data": {
            "text/plain": "<IPython.core.display.HTML object>",
            "text/html": " View sweep at <a href='https://wandb.ai/dlassignment/DL_assignment_2_B/sweeps/1evbqxjz' target=\"_blank\">https://wandb.ai/dlassignment/DL_assignment_2_B/sweeps/1evbqxjz</a>"
          },
          "metadata": {}
        },
        {
          "output_type": "display_data",
          "data": {
            "text/plain": "<IPython.core.display.HTML object>",
            "text/html": " View run at <a href='https://wandb.ai/dlassignment/DL_assignment_2_B/runs/ycmog8ja' target=\"_blank\">https://wandb.ai/dlassignment/DL_assignment_2_B/runs/ycmog8ja</a>"
          },
          "metadata": {}
        },
        {
          "name": "stderr",
          "text": "100%|██████████| 125/125 [00:50<00:00,  2.48it/s]\n",
          "output_type": "stream"
        },
        {
          "name": "stdout",
          "text": "train_accuracy:73.7875,train_loss:6575.3938\nvalidation_accuracy:72.3362,validation_loss:1747.8964\n",
          "output_type": "stream"
        },
        {
          "name": "stderr",
          "text": "100%|██████████| 125/125 [00:44<00:00,  2.80it/s]\n",
          "output_type": "stream"
        },
        {
          "name": "stdout",
          "text": "train_accuracy:76.6125,train_loss:5690.8686\nvalidation_accuracy:73.8369,validation_loss:1592.2842\n",
          "output_type": "stream"
        },
        {
          "name": "stderr",
          "text": "100%|██████████| 125/125 [00:44<00:00,  2.80it/s]\n",
          "output_type": "stream"
        },
        {
          "name": "stdout",
          "text": "train_accuracy:77.7000,train_loss:5351.1719\nvalidation_accuracy:74.4872,validation_loss:1560.0172\n",
          "output_type": "stream"
        },
        {
          "name": "stderr",
          "text": "100%|██████████| 125/125 [00:43<00:00,  2.85it/s]\n",
          "output_type": "stream"
        },
        {
          "name": "stdout",
          "text": "train_accuracy:78.3625,train_loss:5236.8754\nvalidation_accuracy:74.4372,validation_loss:1584.3615\n",
          "output_type": "stream"
        },
        {
          "name": "stderr",
          "text": "100%|██████████| 125/125 [00:44<00:00,  2.79it/s]\n",
          "output_type": "stream"
        },
        {
          "name": "stdout",
          "text": "train_accuracy:79.8500,train_loss:5001.3443\nvalidation_accuracy:74.3372,validation_loss:1562.7917\n",
          "output_type": "stream"
        },
        {
          "name": "stderr",
          "text": "100%|██████████| 125/125 [00:44<00:00,  2.80it/s]\n",
          "output_type": "stream"
        },
        {
          "name": "stdout",
          "text": "train_accuracy:80.5125,train_loss:4730.5691\nvalidation_accuracy:74.7374,validation_loss:1515.2837\n",
          "output_type": "stream"
        },
        {
          "name": "stderr",
          "text": "100%|██████████| 125/125 [00:45<00:00,  2.76it/s]\n",
          "output_type": "stream"
        },
        {
          "name": "stdout",
          "text": "train_accuracy:80.0750,train_loss:4790.3884\nvalidation_accuracy:74.1371,validation_loss:1573.8259\n",
          "output_type": "stream"
        },
        {
          "name": "stderr",
          "text": "100%|██████████| 125/125 [00:44<00:00,  2.82it/s]\n",
          "output_type": "stream"
        },
        {
          "name": "stdout",
          "text": "train_accuracy:82.3625,train_loss:4379.5558\nvalidation_accuracy:75.1376,validation_loss:1521.2738\n",
          "output_type": "stream"
        },
        {
          "name": "stderr",
          "text": "100%|██████████| 125/125 [00:44<00:00,  2.80it/s]\n",
          "output_type": "stream"
        },
        {
          "name": "stdout",
          "text": "train_accuracy:81.8625,train_loss:4420.8281\nvalidation_accuracy:74.3872,validation_loss:1543.4827\n",
          "output_type": "stream"
        },
        {
          "name": "stderr",
          "text": "100%|██████████| 125/125 [00:45<00:00,  2.75it/s]\n",
          "output_type": "stream"
        },
        {
          "name": "stdout",
          "text": "train_accuracy:81.8875,train_loss:4378.1513\nvalidation_accuracy:75.0875,validation_loss:1548.3122\n",
          "output_type": "stream"
        },
        {
          "output_type": "display_data",
          "data": {
            "text/plain": "VBox(children=(Label(value='0.001 MB of 0.001 MB uploaded\\r'), FloatProgress(value=1.0, max=1.0)))",
            "application/vnd.jupyter.widget-view+json": {
              "version_major": 2,
              "version_minor": 0,
              "model_id": ""
            }
          },
          "metadata": {}
        },
        {
          "output_type": "display_data",
          "data": {
            "text/plain": "<IPython.core.display.HTML object>",
            "text/html": "<style>\n    table.wandb td:nth-child(1) { padding: 0 10px; text-align: left ; width: auto;} td:nth-child(2) {text-align: left ; width: 100%}\n    .wandb-row { display: flex; flex-direction: row; flex-wrap: wrap; justify-content: flex-start; width: 100% }\n    .wandb-col { display: flex; flex-direction: column; flex-basis: 100%; flex: 1; padding: 10px; }\n    </style>\n<div class=\"wandb-row\"><div class=\"wandb-col\"><h3>Run history:</h3><br/><table class=\"wandb\"><tr><td>train_accuracy</td><td>▁▃▄▅▆▆▆███</td></tr><tr><td>train_loss</td><td>█▅▄▄▃▂▂▁▁▁</td></tr><tr><td>val_accuracy</td><td>▁▅▆▆▆▇▆█▆█</td></tr><tr><td>val_loss</td><td>█▃▂▃▂▁▃▁▂▂</td></tr></table><br/></div><div class=\"wandb-col\"><h3>Run summary:</h3><br/><table class=\"wandb\"><tr><td>train_accuracy</td><td>81.8875</td></tr><tr><td>train_loss</td><td>4378.15132</td></tr><tr><td>val_accuracy</td><td>75.08754</td></tr><tr><td>val_loss</td><td>1548.3122</td></tr></table><br/></div></div>"
          },
          "metadata": {}
        },
        {
          "output_type": "display_data",
          "data": {
            "text/plain": "<IPython.core.display.HTML object>",
            "text/html": " View run <strong style=\"color:#cdcd00\">strategy0batchSize64num_epochs10learning_rate0.001</strong> at: <a href='https://wandb.ai/dlassignment/DL_assignment_2_B/runs/ycmog8ja' target=\"_blank\">https://wandb.ai/dlassignment/DL_assignment_2_B/runs/ycmog8ja</a><br/>Synced 6 W&B file(s), 0 media file(s), 0 artifact file(s) and 0 other file(s)"
          },
          "metadata": {}
        },
        {
          "output_type": "display_data",
          "data": {
            "text/plain": "<IPython.core.display.HTML object>",
            "text/html": "Find logs at: <code>./wandb/run-20240406_120326-ycmog8ja/logs</code>"
          },
          "metadata": {}
        },
        {
          "name": "stderr",
          "text": "\u001b[34m\u001b[1mwandb\u001b[0m: Agent Starting Run: vnxp1jg8 with config:\n\u001b[34m\u001b[1mwandb\u001b[0m: \taug: no\n\u001b[34m\u001b[1mwandb\u001b[0m: \tbatchSize: 64\n\u001b[34m\u001b[1mwandb\u001b[0m: \tlearning_rate: 0.0001\n\u001b[34m\u001b[1mwandb\u001b[0m: \tnum_epochs: 10\n\u001b[34m\u001b[1mwandb\u001b[0m: \tstrategy: 0\n\u001b[34m\u001b[1mwandb\u001b[0m: \u001b[33mWARNING\u001b[0m Ignored wandb.init() arg project when running a sweep.\n",
          "output_type": "stream"
        },
        {
          "output_type": "display_data",
          "data": {
            "text/plain": "<IPython.core.display.HTML object>",
            "text/html": "wandb version 0.16.6 is available!  To upgrade, please run:\n $ pip install wandb --upgrade"
          },
          "metadata": {}
        },
        {
          "output_type": "display_data",
          "data": {
            "text/plain": "<IPython.core.display.HTML object>",
            "text/html": "Tracking run with wandb version 0.16.4"
          },
          "metadata": {}
        },
        {
          "output_type": "display_data",
          "data": {
            "text/plain": "<IPython.core.display.HTML object>",
            "text/html": "Run data is saved locally in <code>/kaggle/working/wandb/run-20240406_122201-vnxp1jg8</code>"
          },
          "metadata": {}
        },
        {
          "output_type": "display_data",
          "data": {
            "text/plain": "<IPython.core.display.HTML object>",
            "text/html": "Syncing run <strong><a href='https://wandb.ai/dlassignment/DL_assignment_2_B/runs/vnxp1jg8' target=\"_blank\">noble-sweep-2</a></strong> to <a href='https://wandb.ai/dlassignment/DL_assignment_2_B' target=\"_blank\">Weights & Biases</a> (<a href='https://wandb.me/run' target=\"_blank\">docs</a>)<br/>Sweep page: <a href='https://wandb.ai/dlassignment/DL_assignment_2_B/sweeps/1evbqxjz' target=\"_blank\">https://wandb.ai/dlassignment/DL_assignment_2_B/sweeps/1evbqxjz</a>"
          },
          "metadata": {}
        },
        {
          "output_type": "display_data",
          "data": {
            "text/plain": "<IPython.core.display.HTML object>",
            "text/html": " View project at <a href='https://wandb.ai/dlassignment/DL_assignment_2_B' target=\"_blank\">https://wandb.ai/dlassignment/DL_assignment_2_B</a>"
          },
          "metadata": {}
        },
        {
          "output_type": "display_data",
          "data": {
            "text/plain": "<IPython.core.display.HTML object>",
            "text/html": " View sweep at <a href='https://wandb.ai/dlassignment/DL_assignment_2_B/sweeps/1evbqxjz' target=\"_blank\">https://wandb.ai/dlassignment/DL_assignment_2_B/sweeps/1evbqxjz</a>"
          },
          "metadata": {}
        },
        {
          "output_type": "display_data",
          "data": {
            "text/plain": "<IPython.core.display.HTML object>",
            "text/html": " View run at <a href='https://wandb.ai/dlassignment/DL_assignment_2_B/runs/vnxp1jg8' target=\"_blank\">https://wandb.ai/dlassignment/DL_assignment_2_B/runs/vnxp1jg8</a>"
          },
          "metadata": {}
        },
        {
          "name": "stderr",
          "text": "\u001b[34m\u001b[1mwandb\u001b[0m: \u001b[33mWARNING\u001b[0m Ignored wandb.init() arg project when running a sweep.\n",
          "output_type": "stream"
        },
        {
          "output_type": "display_data",
          "data": {
            "text/plain": "<IPython.core.display.HTML object>",
            "text/html": "Finishing last run (ID:vnxp1jg8) before initializing another..."
          },
          "metadata": {}
        },
        {
          "output_type": "display_data",
          "data": {
            "text/plain": "VBox(children=(Label(value='0.000 MB of 0.000 MB uploaded\\r'), FloatProgress(value=1.0, max=1.0)))",
            "application/vnd.jupyter.widget-view+json": {
              "version_major": 2,
              "version_minor": 0,
              "model_id": ""
            }
          },
          "metadata": {}
        },
        {
          "output_type": "display_data",
          "data": {
            "text/plain": "<IPython.core.display.HTML object>",
            "text/html": " View run <strong style=\"color:#cdcd00\">noble-sweep-2</strong> at: <a href='https://wandb.ai/dlassignment/DL_assignment_2_B/runs/vnxp1jg8' target=\"_blank\">https://wandb.ai/dlassignment/DL_assignment_2_B/runs/vnxp1jg8</a><br/>Synced 6 W&B file(s), 0 media file(s), 0 artifact file(s) and 0 other file(s)"
          },
          "metadata": {}
        },
        {
          "output_type": "display_data",
          "data": {
            "text/plain": "<IPython.core.display.HTML object>",
            "text/html": "Find logs at: <code>./wandb/run-20240406_122201-vnxp1jg8/logs</code>"
          },
          "metadata": {}
        },
        {
          "output_type": "display_data",
          "data": {
            "text/plain": "<IPython.core.display.HTML object>",
            "text/html": "Successfully finished last run (ID:vnxp1jg8). Initializing new run:<br/>"
          },
          "metadata": {}
        },
        {
          "output_type": "display_data",
          "data": {
            "text/plain": "<IPython.core.display.HTML object>",
            "text/html": "wandb version 0.16.6 is available!  To upgrade, please run:\n $ pip install wandb --upgrade"
          },
          "metadata": {}
        },
        {
          "output_type": "display_data",
          "data": {
            "text/plain": "<IPython.core.display.HTML object>",
            "text/html": "Tracking run with wandb version 0.16.4"
          },
          "metadata": {}
        },
        {
          "output_type": "display_data",
          "data": {
            "text/plain": "<IPython.core.display.HTML object>",
            "text/html": "Run data is saved locally in <code>/kaggle/working/wandb/run-20240406_122233-vnxp1jg8</code>"
          },
          "metadata": {}
        },
        {
          "output_type": "display_data",
          "data": {
            "text/plain": "<IPython.core.display.HTML object>",
            "text/html": "Syncing run <strong><a href='https://wandb.ai/dlassignment/DL_assignment_2_B/runs/vnxp1jg8' target=\"_blank\">strategy0batchSize64num_epochs10learning_rate0.0001</a></strong> to <a href='https://wandb.ai/dlassignment/DL_assignment_2_B' target=\"_blank\">Weights & Biases</a> (<a href='https://wandb.me/run' target=\"_blank\">docs</a>)<br/>Sweep page: <a href='https://wandb.ai/dlassignment/DL_assignment_2_B/sweeps/1evbqxjz' target=\"_blank\">https://wandb.ai/dlassignment/DL_assignment_2_B/sweeps/1evbqxjz</a>"
          },
          "metadata": {}
        },
        {
          "output_type": "display_data",
          "data": {
            "text/plain": "<IPython.core.display.HTML object>",
            "text/html": " View project at <a href='https://wandb.ai/dlassignment/DL_assignment_2_B' target=\"_blank\">https://wandb.ai/dlassignment/DL_assignment_2_B</a>"
          },
          "metadata": {}
        },
        {
          "output_type": "display_data",
          "data": {
            "text/plain": "<IPython.core.display.HTML object>",
            "text/html": " View sweep at <a href='https://wandb.ai/dlassignment/DL_assignment_2_B/sweeps/1evbqxjz' target=\"_blank\">https://wandb.ai/dlassignment/DL_assignment_2_B/sweeps/1evbqxjz</a>"
          },
          "metadata": {}
        },
        {
          "output_type": "display_data",
          "data": {
            "text/plain": "<IPython.core.display.HTML object>",
            "text/html": " View run at <a href='https://wandb.ai/dlassignment/DL_assignment_2_B/runs/vnxp1jg8' target=\"_blank\">https://wandb.ai/dlassignment/DL_assignment_2_B/runs/vnxp1jg8</a>"
          },
          "metadata": {}
        },
        {
          "name": "stderr",
          "text": "100%|██████████| 125/125 [00:52<00:00,  2.39it/s]\n",
          "output_type": "stream"
        },
        {
          "name": "stdout",
          "text": "train_accuracy:63.4875,train_loss:12713.4075\nvalidation_accuracy:63.9820,validation_loss:3285.1038\n",
          "output_type": "stream"
        },
        {
          "name": "stderr",
          "text": "100%|██████████| 125/125 [00:46<00:00,  2.71it/s]\n",
          "output_type": "stream"
        },
        {
          "name": "stdout",
          "text": "train_accuracy:70.2875,train_loss:9916.6312\nvalidation_accuracy:69.8849,validation_loss:2578.1544\n",
          "output_type": "stream"
        },
        {
          "name": "stderr",
          "text": "100%|██████████| 125/125 [00:46<00:00,  2.70it/s]\n",
          "output_type": "stream"
        },
        {
          "name": "stdout",
          "text": "train_accuracy:72.2125,train_loss:8533.6561\nvalidation_accuracy:71.8859,validation_loss:2223.1588\n",
          "output_type": "stream"
        },
        {
          "name": "stderr",
          "text": "100%|██████████| 125/125 [00:45<00:00,  2.75it/s]\n",
          "output_type": "stream"
        },
        {
          "name": "stdout",
          "text": "train_accuracy:73.3500,train_loss:7775.5311\nvalidation_accuracy:72.3362,validation_loss:2059.1777\n",
          "output_type": "stream"
        },
        {
          "name": "stderr",
          "text": " 34%|███▎      | 42/125 [00:15<00:27,  2.99it/s]",
          "output_type": "stream"
        }
      ]
    }
  ]
}